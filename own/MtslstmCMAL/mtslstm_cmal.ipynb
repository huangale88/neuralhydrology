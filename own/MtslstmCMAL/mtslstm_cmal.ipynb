{
 "cells": [
  {
   "cell_type": "code",
   "execution_count": 1,
   "id": "99f6eb53",
   "metadata": {},
   "outputs": [],
   "source": [
    "from pathlib import Path\n",
    "import pickle\n",
    "\n",
    "import pandas as pd\n",
    "import numpy as np\n",
    "import inspect\n",
    "import xarray as xr\n",
    "\n",
    "import matplotlib.pyplot as plt\n",
    "import torch\n",
    "from neuralhydrology.evaluation import metrics, get_tester\n",
    "from neuralhydrology.utils.config import Config\n",
    "import neuralhydrology.modelzoo\n",
    "from neuralhydrology.nh_run import start_run, eval_run, finetune"
   ]
  },
  {
   "cell_type": "code",
   "execution_count": 6,
   "id": "68d30f25",
   "metadata": {},
   "outputs": [
    {
     "name": "stdout",
     "output_type": "stream",
     "text": [
      "2025-06-09 18:44:35,442: Logging to c:\\Project Files\\Alex\\neuralhydrology\\own\\MtslstmCMAL\\runs\\test_run_0906_184435\\output.log initialized.\n"
     ]
    },
    {
     "name": "stdout",
     "output_type": "stream",
     "text": [
      "2025-06-09 18:44:35,448: ### Folder structure created at c:\\Project Files\\Alex\\neuralhydrology\\own\\MtslstmCMAL\\runs\\test_run_0906_184435\n",
      "2025-06-09 18:44:35,450: ### Run configurations for test_run\n",
      "2025-06-09 18:44:35,453: experiment_name: test_run\n",
      "2025-06-09 18:44:35,455: use_frequencies: ['1h', '1D']\n",
      "2025-06-09 18:44:35,457: train_basin_file: 1_basin.txt\n",
      "2025-06-09 18:44:35,457: validation_basin_file: 1_basin.txt\n",
      "2025-06-09 18:44:35,457: test_basin_file: 1_basin.txt\n",
      "2025-06-09 18:44:35,457: train_start_date: 1999-10-01 00:00:00\n",
      "2025-06-09 18:44:35,457: train_end_date: 2008-09-30 00:00:00\n",
      "2025-06-09 18:44:35,457: validation_start_date: 1996-10-01 00:00:00\n",
      "2025-06-09 18:44:35,470: validation_end_date: 1999-09-30 00:00:00\n",
      "2025-06-09 18:44:35,471: test_start_date: 1989-10-01 00:00:00\n",
      "2025-06-09 18:44:35,473: test_end_date: 1996-09-30 00:00:00\n",
      "2025-06-09 18:44:35,477: device: cuda:0\n",
      "2025-06-09 18:44:35,480: validate_every: 5\n",
      "2025-06-09 18:44:35,483: validate_n_random_basins: 516\n",
      "2025-06-09 18:44:35,485: metrics: ['NSE']\n",
      "2025-06-09 18:44:35,487: model: mtslstmcmal\n",
      "2025-06-09 18:44:35,488: shared_mtslstm: False\n",
      "2025-06-09 18:44:35,491: transfer_mtslstm_states: {'h': 'linear', 'c': 'linear'}\n",
      "2025-06-09 18:44:35,494: head: cmal\n",
      "2025-06-09 18:44:35,495: n_distributions: 5\n",
      "2025-06-09 18:44:35,497: n_samples: 100\n",
      "2025-06-09 18:44:35,499: negative_sample_handling: clip\n",
      "2025-06-09 18:44:35,501: mc_dropout: False\n",
      "2025-06-09 18:44:35,503: output_activation: linear\n",
      "2025-06-09 18:44:35,506: hidden_size: 20\n",
      "2025-06-09 18:44:35,508: initial_forget_bias: 3\n",
      "2025-06-09 18:44:35,511: output_dropout: 0.4\n",
      "2025-06-09 18:44:35,512: optimizer: Adam\n",
      "2025-06-09 18:44:35,513: loss: CMALLoss\n",
      "2025-06-09 18:44:35,516: regularization: ['tie_frequencies_cmal']\n",
      "2025-06-09 18:44:35,518: learning_rate: {0: 5e-05}\n",
      "2025-06-09 18:44:35,520: batch_size: 256\n",
      "2025-06-09 18:44:35,521: epochs: 50\n",
      "2025-06-09 18:44:35,521: clip_gradient_norm: 1\n",
      "2025-06-09 18:44:35,521: predict_last_n: {'1D': 1, '1h': 24}\n",
      "2025-06-09 18:44:35,521: seq_length: {'1D': 365, '1h': 336}\n",
      "2025-06-09 18:44:35,521: num_workers: 8\n",
      "2025-06-09 18:44:35,521: log_interval: 5\n",
      "2025-06-09 18:44:35,531: log_tensorboard: False\n",
      "2025-06-09 18:44:35,534: log_n_figures: 0\n",
      "2025-06-09 18:44:35,535: save_weights_every: 1\n",
      "2025-06-09 18:44:35,537: save_validation_results: True\n",
      "2025-06-09 18:44:35,539: dataset: hourly_camels_us\n",
      "2025-06-09 18:44:35,539: data_dir: ..\\..\\data\\CAMELS_US\n",
      "2025-06-09 18:44:35,542: forcings: ['nldas_hourly', 'daymet']\n",
      "2025-06-09 18:44:35,544: dynamic_inputs: {'1D': ['prcp(mm/day)_daymet', 'srad(W/m2)_daymet', 'tmax(C)_daymet', 'tmin(C)_daymet', 'vp(Pa)_daymet'], '1h': ['convective_fraction_nldas_hourly', 'longwave_radiation_nldas_hourly', 'potential_energy_nldas_hourly', 'potential_evaporation_nldas_hourly', 'pressure_nldas_hourly', 'shortwave_radiation_nldas_hourly', 'specific_humidity_nldas_hourly', 'temperature_nldas_hourly', 'total_precipitation_nldas_hourly', 'wind_u_nldas_hourly', 'wind_v_nldas_hourly', 'prcp(mm/day)_daymet', 'srad(W/m2)_daymet', 'tmax(C)_daymet', 'tmin(C)_daymet', 'vp(Pa)_daymet']}\n",
      "2025-06-09 18:44:35,546: target_variables: ['QObs(mm/h)']\n",
      "2025-06-09 18:44:35,548: clip_targets_to_zero: ['QObs(mm/h)']\n",
      "2025-06-09 18:44:35,550: static_attributes: ['elev_mean', 'slope_mean', 'area_gages2', 'frac_forest', 'lai_max', 'lai_diff', 'gvf_max', 'gvf_diff', 'soil_depth_pelletier', 'soil_depth_statsgo', 'soil_porosity', 'soil_conductivity', 'max_water_content', 'sand_frac', 'silt_frac', 'clay_frac', 'carbonate_rocks_frac', 'geol_permeability', 'p_mean', 'pet_mean', 'aridity', 'frac_snow', 'high_prec_freq', 'high_prec_dur', 'low_prec_freq', 'low_prec_dur']\n",
      "2025-06-09 18:44:35,550: number_of_basins: 516\n",
      "2025-06-09 18:44:35,550: run_dir: c:\\Project Files\\Alex\\neuralhydrology\\own\\MtslstmCMAL\\runs\\test_run_0906_184435\n",
      "2025-06-09 18:44:35,550: train_dir: c:\\Project Files\\Alex\\neuralhydrology\\own\\MtslstmCMAL\\runs\\test_run_0906_184435\\train_data\n",
      "2025-06-09 18:44:35,550: img_log_dir: c:\\Project Files\\Alex\\neuralhydrology\\own\\MtslstmCMAL\\runs\\test_run_0906_184435\\img_log\n",
      "2025-06-09 18:44:35,559: ### Device cuda:0 will be used for training\n",
      "2025-06-09 18:44:35,701: Loading basin data into xarray data set.\n",
      "  0%|          | 0/516 [00:00<?, ?it/s]2025-06-09 18:44:35,708: ## Warning: Hourly nldas_hourly NetCDF file not found. Falling back to slower csv files.\n",
      " 49%|████▉     | 255/516 [11:27<12:18,  2.83s/it]"
     ]
    },
    {
     "name": "stderr",
     "output_type": "stream",
     "text": [
      "Exception ignored in: <function _MultiProcessingDataLoaderIter.__del__ at 0x00000168C4286C20>\n",
      "Traceback (most recent call last):\n",
      "  File \"c:\\Users\\alex.huang\\AppData\\Local\\anaconda3\\envs\\neuralhydrology\\lib\\site-packages\\torch\\utils\\data\\dataloader.py\", line 1604, in __del__\n",
      "    self._shutdown_workers()\n",
      "  File \"c:\\Users\\alex.huang\\AppData\\Local\\anaconda3\\envs\\neuralhydrology\\lib\\site-packages\\torch\\utils\\data\\dataloader.py\", line 1562, in _shutdown_workers\n",
      "    if self._persistent_workers or self._workers_status[worker_id]:\n",
      "AttributeError: '_MultiProcessingDataLoaderIter' object has no attribute '_workers_status'\n"
     ]
    },
    {
     "name": "stdout",
     "output_type": "stream",
     "text": [
      " 98%|█████████▊| 504/516 [21:43<00:29,  2.45s/it]"
     ]
    },
    {
     "name": "stderr",
     "output_type": "stream",
     "text": [
      "c:\\project files\\alex\\neuralhydrology\\neuralhydrology\\datasetzoo\\hourlycamelsus.py:231: DtypeWarning: Columns (3) have mixed types. Specify dtype option on import or set low_memory=False.\n",
      "  return pd.read_csv(file_path, index_col=['date'], parse_dates=['date'])\n"
     ]
    },
    {
     "name": "stdout",
     "output_type": "stream",
     "text": [
      "100%|██████████| 516/516 [22:14<00:00,  2.59s/it]\n",
      "2025-06-09 19:07:06,412: Create lookup table and convert to pytorch tensor\n",
      "100%|██████████| 516/516 [02:08<00:00,  4.01it/s]\n",
      "2025-06-09 19:09:16,461: No specific hidden size for frequencies are specified. Same hidden size is used for all.\n",
      "2025-06-09 19:09:16,461: --- Scheduler Initialized ---\n",
      "2025-06-09 19:09:16,461: Scheduler patience: 2\n",
      "2025-06-09 19:09:16,461: Scheduler mode: min\n",
      "2025-06-09 19:09:16,476: Scheduler factor: 0.5\n",
      "2025-06-09 19:09:16,477: Scheduler min_lr: [1e-07]\n",
      "2025-06-09 19:09:16,477: Scheduler threshold_mode: rel\n",
      "2025-06-09 19:09:16,477: Scheduler threshold: 0.0001\n",
      "2025-06-09 19:09:16,490: Scheduler cooldown: 0\n",
      "2025-06-09 19:09:16,492: -----------------------------\n",
      "# Epoch 1: 100%|██████████| 5863/5863 [06:40<00:00, 14.65it/s, Loss: -17.5215] \n",
      "2025-06-09 19:15:57,229: Epoch 1 average loss: avg_loss: -6.63317, avg_tie_frequencies_cmal: 0.04485, avg_total_loss: -6.58833\n",
      "# Epoch 2: 100%|██████████| 5863/5863 [06:23<00:00, 15.30it/s, Loss: -11.0468]  \n",
      "2025-06-09 19:22:20,332: Epoch 2 average loss: avg_loss: -15.29558, avg_tie_frequencies_cmal: 0.08520, avg_total_loss: -15.21038\n",
      "# Epoch 3: 100%|██████████| 5863/5863 [06:32<00:00, 14.93it/s, Loss: -18.2820]  \n",
      "2025-06-09 19:28:52,936: Epoch 3 average loss: avg_loss: -17.88151, avg_tie_frequencies_cmal: 0.08635, avg_total_loss: -17.79516\n",
      "# Epoch 4: 100%|██████████| 5863/5863 [06:31<00:00, 14.99it/s, Loss: -22.4914]  \n",
      "2025-06-09 19:35:24,107: Epoch 4 average loss: avg_loss: -19.74580, avg_tie_frequencies_cmal: 0.08374, avg_total_loss: -19.66206\n",
      "# Epoch 5: 100%|██████████| 5863/5863 [06:26<00:00, 15.17it/s, Loss: -22.0004]  \n",
      "2025-06-09 19:41:50,652: Epoch 5 average loss: avg_loss: -21.56014, avg_tie_frequencies_cmal: 0.08469, avg_total_loss: -21.47545\n",
      "# Validation:   0%|          | 0/516 [00:00<?, ?it/s]2025-06-09 19:41:50,789: ## Warning: Hourly nldas_hourly NetCDF file not found. Falling back to slower csv files.\n",
      "# Validation:   0%|          | 1/516 [00:08<1:10:39,  8.23s/it]2025-06-09 19:41:58,942: ## Warning: Hourly nldas_hourly NetCDF file not found. Falling back to slower csv files.\n",
      "# Validation:   0%|          | 2/516 [00:16<1:11:25,  8.34s/it]2025-06-09 19:42:07,356: ## Warning: Hourly nldas_hourly NetCDF file not found. Falling back to slower csv files.\n",
      "# Validation:   1%|          | 3/516 [00:25<1:11:58,  8.42s/it]2025-06-09 19:42:15,878: ## Warning: Hourly nldas_hourly NetCDF file not found. Falling back to slower csv files.\n",
      "# Validation:   1%|          | 4/516 [00:33<1:11:25,  8.37s/it]2025-06-09 19:42:24,165: ## Warning: Hourly nldas_hourly NetCDF file not found. Falling back to slower csv files.\n",
      "# Validation:   1%|          | 5/516 [00:41<1:10:18,  8.26s/it]2025-06-09 19:42:32,215: ## Warning: Hourly nldas_hourly NetCDF file not found. Falling back to slower csv files.\n",
      "# Validation:   1%|          | 6/516 [00:49<1:10:49,  8.33s/it]2025-06-09 19:42:40,697: ## Warning: Hourly nldas_hourly NetCDF file not found. Falling back to slower csv files.\n",
      "# Validation:   1%|▏         | 7/516 [00:58<1:10:24,  8.30s/it]2025-06-09 19:42:48,935: ## Warning: Hourly nldas_hourly NetCDF file not found. Falling back to slower csv files.\n",
      "# Validation:   2%|▏         | 8/516 [01:06<1:10:19,  8.31s/it]2025-06-09 19:42:57,259: ## Warning: Hourly nldas_hourly NetCDF file not found. Falling back to slower csv files.\n",
      "# Validation:   2%|▏         | 9/516 [01:15<1:10:42,  8.37s/it]2025-06-09 19:43:05,756: ## Warning: Hourly nldas_hourly NetCDF file not found. Falling back to slower csv files.\n",
      "# Validation:   2%|▏         | 10/516 [01:23<1:10:25,  8.35s/it]2025-06-09 19:43:14,065: ## Warning: Hourly nldas_hourly NetCDF file not found. Falling back to slower csv files.\n",
      "# Validation:   2%|▏         | 11/516 [01:32<1:11:07,  8.45s/it]2025-06-09 19:43:22,739: ## Warning: Hourly nldas_hourly NetCDF file not found. Falling back to slower csv files.\n",
      "# Validation:   2%|▏         | 12/516 [01:40<1:11:06,  8.46s/it]2025-06-09 19:43:31,236: ## Warning: Hourly nldas_hourly NetCDF file not found. Falling back to slower csv files.\n",
      "# Validation:   3%|▎         | 13/516 [01:48<1:09:59,  8.35s/it]2025-06-09 19:43:39,329: ## Warning: Hourly nldas_hourly NetCDF file not found. Falling back to slower csv files.\n",
      "# Validation:   3%|▎         | 14/516 [01:57<1:09:58,  8.36s/it]2025-06-09 19:43:47,720: ## Warning: Hourly nldas_hourly NetCDF file not found. Falling back to slower csv files.\n",
      "# Validation:   3%|▎         | 15/516 [02:05<1:09:42,  8.35s/it]2025-06-09 19:43:56,034: ## Warning: Hourly nldas_hourly NetCDF file not found. Falling back to slower csv files.\n",
      "# Validation:   3%|▎         | 16/516 [02:13<1:10:19,  8.44s/it]2025-06-09 19:44:04,690: ## Warning: Hourly nldas_hourly NetCDF file not found. Falling back to slower csv files.\n",
      "# Validation:   3%|▎         | 17/516 [02:23<1:13:10,  8.80s/it]2025-06-09 19:44:14,314: ## Warning: Hourly nldas_hourly NetCDF file not found. Falling back to slower csv files.\n",
      "# Validation:   3%|▎         | 18/516 [02:31<1:11:13,  8.58s/it]2025-06-09 19:44:22,399: ## Warning: Hourly nldas_hourly NetCDF file not found. Falling back to slower csv files.\n",
      "# Validation:   4%|▎         | 19/516 [02:41<1:13:58,  8.93s/it]2025-06-09 19:44:32,142: ## Warning: Hourly nldas_hourly NetCDF file not found. Falling back to slower csv files.\n",
      "# Validation:   4%|▍         | 20/516 [02:50<1:14:54,  9.06s/it]2025-06-09 19:44:41,504: ## Warning: Hourly nldas_hourly NetCDF file not found. Falling back to slower csv files.\n",
      "# Validation:   4%|▍         | 21/516 [02:59<1:15:02,  9.10s/it]2025-06-09 19:44:50,682: ## Warning: Hourly nldas_hourly NetCDF file not found. Falling back to slower csv files.\n",
      "# Validation:   4%|▍         | 22/516 [03:08<1:14:35,  9.06s/it]2025-06-09 19:44:59,655: ## Warning: Hourly nldas_hourly NetCDF file not found. Falling back to slower csv files.\n",
      "# Validation:   4%|▍         | 23/516 [03:18<1:15:25,  9.18s/it]2025-06-09 19:45:09,115: ## Warning: Hourly nldas_hourly NetCDF file not found. Falling back to slower csv files.\n",
      "# Validation:   5%|▍         | 24/516 [03:27<1:14:54,  9.13s/it]2025-06-09 19:45:18,143: ## Warning: Hourly nldas_hourly NetCDF file not found. Falling back to slower csv files.\n",
      "# Validation:   5%|▍         | 25/516 [03:36<1:13:36,  9.00s/it]2025-06-09 19:45:26,826: ## Warning: Hourly nldas_hourly NetCDF file not found. Falling back to slower csv files.\n",
      "# Validation:   5%|▌         | 26/516 [03:45<1:14:25,  9.11s/it]2025-06-09 19:45:36,205: ## Warning: Hourly nldas_hourly NetCDF file not found. Falling back to slower csv files.\n",
      "# Validation:   5%|▌         | 27/516 [03:55<1:15:57,  9.32s/it]2025-06-09 19:45:46,025: ## Warning: Hourly nldas_hourly NetCDF file not found. Falling back to slower csv files.\n",
      "# Validation:   5%|▌         | 28/516 [04:04<1:14:40,  9.18s/it]2025-06-09 19:45:54,873: ## Warning: Hourly nldas_hourly NetCDF file not found. Falling back to slower csv files.\n",
      "# Validation:   6%|▌         | 29/516 [04:13<1:15:15,  9.27s/it]2025-06-09 19:46:04,368: ## Warning: Hourly nldas_hourly NetCDF file not found. Falling back to slower csv files.\n",
      "# Validation:   6%|▌         | 30/516 [04:22<1:13:08,  9.03s/it]2025-06-09 19:46:12,821: ## Warning: Hourly nldas_hourly NetCDF file not found. Falling back to slower csv files.\n",
      "# Validation:   6%|▌         | 31/516 [04:31<1:13:06,  9.05s/it]2025-06-09 19:46:21,903: ## Warning: Hourly nldas_hourly NetCDF file not found. Falling back to slower csv files.\n",
      "# Validation:   6%|▌         | 32/516 [04:39<1:10:33,  8.75s/it]2025-06-09 19:46:29,947: ## Warning: Hourly nldas_hourly NetCDF file not found. Falling back to slower csv files.\n",
      "# Validation:   6%|▋         | 33/516 [04:47<1:09:32,  8.64s/it]2025-06-09 19:46:38,333: ## Warning: Hourly nldas_hourly NetCDF file not found. Falling back to slower csv files.\n",
      "# Validation:   7%|▋         | 34/516 [04:56<1:10:47,  8.81s/it]2025-06-09 19:46:47,554: ## Warning: Hourly nldas_hourly NetCDF file not found. Falling back to slower csv files.\n",
      "# Validation:   7%|▋         | 35/516 [05:05<1:09:19,  8.65s/it]2025-06-09 19:46:55,817: ## Warning: Hourly nldas_hourly NetCDF file not found. Falling back to slower csv files.\n",
      "# Validation:   7%|▋         | 36/516 [05:13<1:08:27,  8.56s/it]2025-06-09 19:47:04,160: ## Warning: Hourly nldas_hourly NetCDF file not found. Falling back to slower csv files.\n",
      "# Validation:   7%|▋         | 37/516 [05:23<1:10:59,  8.89s/it]2025-06-09 19:47:13,836: ## Warning: Hourly nldas_hourly NetCDF file not found. Falling back to slower csv files.\n",
      "# Validation:   7%|▋         | 38/516 [05:31<1:09:00,  8.66s/it]2025-06-09 19:47:21,960: ## Warning: Hourly nldas_hourly NetCDF file not found. Falling back to slower csv files.\n",
      "# Validation:   8%|▊         | 39/516 [05:40<1:09:42,  8.77s/it]2025-06-09 19:47:30,989: ## Warning: Hourly nldas_hourly NetCDF file not found. Falling back to slower csv files.\n",
      "# Validation:   8%|▊         | 40/516 [05:48<1:08:15,  8.60s/it]2025-06-09 19:47:39,222: ## Warning: Hourly nldas_hourly NetCDF file not found. Falling back to slower csv files.\n",
      "# Validation:   8%|▊         | 41/516 [05:57<1:10:07,  8.86s/it]2025-06-09 19:47:48,656: ## Warning: Hourly nldas_hourly NetCDF file not found. Falling back to slower csv files.\n",
      "# Validation:   8%|▊         | 42/516 [06:06<1:09:37,  8.81s/it]2025-06-09 19:47:57,363: ## Warning: Hourly nldas_hourly NetCDF file not found. Falling back to slower csv files.\n",
      "# Validation:   8%|▊         | 43/516 [06:15<1:10:42,  8.97s/it]2025-06-09 19:48:06,687: ## Warning: Hourly nldas_hourly NetCDF file not found. Falling back to slower csv files.\n",
      "# Validation:   9%|▊         | 44/516 [06:24<1:10:26,  8.95s/it]2025-06-09 19:48:15,615: ## Warning: Hourly nldas_hourly NetCDF file not found. Falling back to slower csv files.\n",
      "# Validation:   9%|▊         | 45/516 [06:33<1:10:33,  8.99s/it]2025-06-09 19:48:24,678: ## Warning: Hourly nldas_hourly NetCDF file not found. Falling back to slower csv files.\n",
      "# Validation:   9%|▉         | 46/516 [06:42<1:09:45,  8.91s/it]2025-06-09 19:48:33,395: ## Warning: Hourly nldas_hourly NetCDF file not found. Falling back to slower csv files.\n",
      "# Validation:   9%|▉         | 47/516 [06:52<1:10:44,  9.05s/it]2025-06-09 19:48:42,781: ## Warning: Hourly nldas_hourly NetCDF file not found. Falling back to slower csv files.\n",
      "# Validation:   9%|▉         | 48/516 [07:00<1:09:12,  8.87s/it]2025-06-09 19:48:51,235: ## Warning: Hourly nldas_hourly NetCDF file not found. Falling back to slower csv files.\n",
      "# Validation:   9%|▉         | 49/516 [07:09<1:09:38,  8.95s/it]2025-06-09 19:49:00,355: ## Warning: Hourly nldas_hourly NetCDF file not found. Falling back to slower csv files.\n",
      "# Validation:  10%|▉         | 50/516 [07:18<1:08:14,  8.79s/it]2025-06-09 19:49:08,775: ## Warning: Hourly nldas_hourly NetCDF file not found. Falling back to slower csv files.\n",
      "# Validation:  10%|▉         | 51/516 [07:27<1:08:45,  8.87s/it]2025-06-09 19:49:17,845: ## Warning: Hourly nldas_hourly NetCDF file not found. Falling back to slower csv files.\n",
      "# Validation:  10%|█         | 52/516 [07:36<1:09:03,  8.93s/it]2025-06-09 19:49:26,911: ## Warning: Hourly nldas_hourly NetCDF file not found. Falling back to slower csv files.\n",
      "# Validation:  10%|█         | 53/516 [07:45<1:09:40,  9.03s/it]2025-06-09 19:49:36,183: ## Warning: Hourly nldas_hourly NetCDF file not found. Falling back to slower csv files.\n",
      "# Validation:  10%|█         | 54/516 [07:53<1:07:44,  8.80s/it]2025-06-09 19:49:44,437: ## Warning: Hourly nldas_hourly NetCDF file not found. Falling back to slower csv files.\n",
      "# Validation:  11%|█         | 55/516 [08:02<1:08:37,  8.93s/it]2025-06-09 19:49:53,680: ## Warning: Hourly nldas_hourly NetCDF file not found. Falling back to slower csv files.\n",
      "# Validation:  11%|█         | 56/516 [08:11<1:07:42,  8.83s/it]2025-06-09 19:50:02,264: ## Warning: Hourly nldas_hourly NetCDF file not found. Falling back to slower csv files.\n",
      "# Validation:  11%|█         | 57/516 [08:24<1:15:52,  9.92s/it]2025-06-09 19:50:14,752: ## Warning: Hourly nldas_hourly NetCDF file not found. Falling back to slower csv files.\n",
      "# Validation:  11%|█         | 58/516 [08:37<1:22:56, 10.87s/it]2025-06-09 19:50:27,816: ## Warning: Hourly nldas_hourly NetCDF file not found. Falling back to slower csv files.\n",
      "# Validation:  11%|█▏        | 59/516 [08:45<1:17:59, 10.24s/it]2025-06-09 19:50:36,590: ## Warning: Hourly nldas_hourly NetCDF file not found. Falling back to slower csv files.\n",
      "# Validation:  12%|█▏        | 60/516 [08:57<1:21:30, 10.72s/it]2025-06-09 19:50:48,426: ## Warning: Hourly nldas_hourly NetCDF file not found. Falling back to slower csv files.\n",
      "# Validation:  12%|█▏        | 61/516 [09:06<1:16:24, 10.08s/it]2025-06-09 19:50:56,995: ## Warning: Hourly nldas_hourly NetCDF file not found. Falling back to slower csv files.\n",
      "# Validation:  12%|█▏        | 62/516 [09:14<1:12:13,  9.55s/it]2025-06-09 19:51:05,298: ## Warning: Hourly nldas_hourly NetCDF file not found. Falling back to slower csv files.\n",
      "# Validation:  12%|█▏        | 63/516 [09:24<1:12:57,  9.66s/it]2025-06-09 19:51:15,245: ## Warning: Hourly nldas_hourly NetCDF file not found. Falling back to slower csv files.\n",
      "# Validation:  12%|█▏        | 64/516 [09:32<1:09:51,  9.27s/it]2025-06-09 19:51:23,597: ## Warning: Hourly nldas_hourly NetCDF file not found. Falling back to slower csv files.\n",
      "# Validation:  13%|█▎        | 65/516 [09:40<1:06:01,  8.78s/it]2025-06-09 19:51:31,258: ## Warning: Hourly nldas_hourly NetCDF file not found. Falling back to slower csv files.\n",
      "# Validation:  13%|█▎        | 66/516 [09:48<1:04:54,  8.65s/it]2025-06-09 19:51:39,594: ## Warning: Hourly nldas_hourly NetCDF file not found. Falling back to slower csv files.\n",
      "# Validation:  13%|█▎        | 67/516 [09:57<1:04:49,  8.66s/it]2025-06-09 19:51:48,278: ## Warning: Hourly nldas_hourly NetCDF file not found. Falling back to slower csv files.\n",
      "# Validation:  13%|█▎        | 68/516 [10:06<1:05:32,  8.78s/it]2025-06-09 19:51:57,332: ## Warning: Hourly nldas_hourly NetCDF file not found. Falling back to slower csv files.\n",
      "# Validation:  13%|█▎        | 69/516 [10:15<1:04:44,  8.69s/it]2025-06-09 19:52:05,810: ## Warning: Hourly nldas_hourly NetCDF file not found. Falling back to slower csv files.\n",
      "# Validation:  14%|█▎        | 70/516 [10:28<1:14:41, 10.05s/it]2025-06-09 19:52:19,030: ## Warning: Hourly nldas_hourly NetCDF file not found. Falling back to slower csv files.\n",
      "# Validation:  14%|█▍        | 71/516 [10:37<1:12:09,  9.73s/it]2025-06-09 19:52:28,020: ## Warning: Hourly nldas_hourly NetCDF file not found. Falling back to slower csv files.\n",
      "# Validation:  14%|█▍        | 72/516 [10:47<1:12:05,  9.74s/it]2025-06-09 19:52:37,787: ## Warning: Hourly nldas_hourly NetCDF file not found. Falling back to slower csv files.\n",
      "# Validation:  14%|█▍        | 73/516 [10:55<1:09:10,  9.37s/it]2025-06-09 19:52:46,287: ## Warning: Hourly nldas_hourly NetCDF file not found. Falling back to slower csv files.\n",
      "# Validation:  14%|█▍        | 74/516 [11:05<1:10:18,  9.54s/it]2025-06-09 19:52:56,241: ## Warning: Hourly nldas_hourly NetCDF file not found. Falling back to slower csv files.\n",
      "# Validation:  15%|█▍        | 75/516 [11:14<1:08:50,  9.37s/it]2025-06-09 19:53:05,180: ## Warning: Hourly nldas_hourly NetCDF file not found. Falling back to slower csv files.\n",
      "# Validation:  15%|█▍        | 76/516 [11:22<1:06:38,  9.09s/it]2025-06-09 19:53:13,627: ## Warning: Hourly nldas_hourly NetCDF file not found. Falling back to slower csv files.\n",
      "# Validation:  15%|█▍        | 77/516 [11:32<1:06:54,  9.15s/it]2025-06-09 19:53:22,986: ## Warning: Hourly nldas_hourly NetCDF file not found. Falling back to slower csv files.\n",
      "# Validation:  15%|█▌        | 78/516 [11:40<1:05:00,  8.91s/it]2025-06-09 19:53:31,258: ## Warning: Hourly nldas_hourly NetCDF file not found. Falling back to slower csv files.\n",
      "# Validation:  15%|█▌        | 79/516 [11:49<1:04:17,  8.83s/it]2025-06-09 19:53:39,900: ## Warning: Hourly nldas_hourly NetCDF file not found. Falling back to slower csv files.\n",
      "# Validation:  16%|█▌        | 80/516 [11:58<1:04:55,  8.94s/it]2025-06-09 19:53:49,080: ## Warning: Hourly nldas_hourly NetCDF file not found. Falling back to slower csv files.\n",
      "# Validation:  16%|█▌        | 81/516 [12:06<1:03:38,  8.78s/it]2025-06-09 19:53:57,498: ## Warning: Hourly nldas_hourly NetCDF file not found. Falling back to slower csv files.\n",
      "# Validation:  16%|█▌        | 82/516 [12:15<1:03:35,  8.79s/it]2025-06-09 19:54:06,318: ## Warning: Hourly nldas_hourly NetCDF file not found. Falling back to slower csv files.\n",
      "# Validation:  16%|█▌        | 83/516 [12:25<1:04:54,  8.99s/it]2025-06-09 19:54:15,786: ## Warning: Hourly nldas_hourly NetCDF file not found. Falling back to slower csv files.\n",
      "# Validation:  16%|█▋        | 84/516 [12:37<1:13:13, 10.17s/it]2025-06-09 19:54:28,705: ## Warning: Hourly nldas_hourly NetCDF file not found. Falling back to slower csv files.\n",
      "# Validation:  16%|█▋        | 85/516 [12:46<1:09:01,  9.61s/it]2025-06-09 19:54:37,003: ## Warning: Hourly nldas_hourly NetCDF file not found. Falling back to slower csv files.\n",
      "# Validation:  17%|█▋        | 86/516 [12:56<1:09:29,  9.70s/it]2025-06-09 19:54:46,902: ## Warning: Hourly nldas_hourly NetCDF file not found. Falling back to slower csv files.\n",
      "# Validation:  17%|█▋        | 87/516 [13:04<1:07:22,  9.42s/it]2025-06-09 19:54:55,698: ## Warning: Hourly nldas_hourly NetCDF file not found. Falling back to slower csv files.\n",
      "# Validation:  17%|█▋        | 88/516 [13:18<1:16:44, 10.76s/it]2025-06-09 19:55:09,560: ## Warning: Hourly nldas_hourly NetCDF file not found. Falling back to slower csv files.\n",
      "# Validation:  17%|█▋        | 89/516 [13:27<1:12:15, 10.15s/it]2025-06-09 19:55:18,309: ## Warning: Hourly nldas_hourly NetCDF file not found. Falling back to slower csv files.\n",
      "# Validation:  17%|█▋        | 90/516 [13:40<1:17:31, 10.92s/it]2025-06-09 19:55:31,022: ## Warning: Hourly nldas_hourly NetCDF file not found. Falling back to slower csv files.\n",
      "# Validation:  18%|█▊        | 91/516 [13:48<1:12:19, 10.21s/it]2025-06-09 19:55:39,566: ## Warning: Hourly nldas_hourly NetCDF file not found. Falling back to slower csv files.\n",
      "# Validation:  18%|█▊        | 92/516 [13:57<1:08:50,  9.74s/it]2025-06-09 19:55:48,213: ## Warning: Hourly nldas_hourly NetCDF file not found. Falling back to slower csv files.\n",
      "# Validation:  18%|█▊        | 93/516 [14:06<1:07:36,  9.59s/it]2025-06-09 19:55:57,457: ## Warning: Hourly nldas_hourly NetCDF file not found. Falling back to slower csv files.\n",
      "# Validation:  18%|█▊        | 94/516 [14:15<1:05:48,  9.36s/it]2025-06-09 19:56:06,262: ## Warning: Hourly nldas_hourly NetCDF file not found. Falling back to slower csv files.\n",
      "# Validation:  18%|█▊        | 95/516 [14:24<1:04:05,  9.13s/it]2025-06-09 19:56:14,872: ## Warning: Hourly nldas_hourly NetCDF file not found. Falling back to slower csv files.\n",
      "# Validation:  19%|█▊        | 96/516 [14:32<1:02:14,  8.89s/it]2025-06-09 19:56:23,203: ## Warning: Hourly nldas_hourly NetCDF file not found. Falling back to slower csv files.\n",
      "# Validation:  19%|█▉        | 97/516 [14:41<1:02:51,  9.00s/it]2025-06-09 19:56:32,460: ## Warning: Hourly nldas_hourly NetCDF file not found. Falling back to slower csv files.\n",
      "# Validation:  19%|█▉        | 98/516 [14:50<1:02:01,  8.90s/it]2025-06-09 19:56:41,132: ## Warning: Hourly nldas_hourly NetCDF file not found. Falling back to slower csv files.\n",
      "# Validation:  19%|█▉        | 99/516 [14:58<1:00:42,  8.73s/it]2025-06-09 19:56:49,497: ## Warning: Hourly nldas_hourly NetCDF file not found. Falling back to slower csv files.\n",
      "# Validation:  19%|█▉        | 100/516 [15:07<1:00:07,  8.67s/it]2025-06-09 19:56:58,003: ## Warning: Hourly nldas_hourly NetCDF file not found. Falling back to slower csv files.\n",
      "# Validation:  20%|█▉        | 101/516 [15:15<59:34,  8.61s/it]  2025-06-09 19:57:06,482: ## Warning: Hourly nldas_hourly NetCDF file not found. Falling back to slower csv files.\n",
      "# Validation:  20%|█▉        | 102/516 [15:24<59:37,  8.64s/it]2025-06-09 19:57:15,187: ## Warning: Hourly nldas_hourly NetCDF file not found. Falling back to slower csv files.\n",
      "# Validation:  20%|█▉        | 103/516 [15:33<59:29,  8.64s/it]2025-06-09 19:57:23,829: ## Warning: Hourly nldas_hourly NetCDF file not found. Falling back to slower csv files.\n",
      "# Validation:  20%|██        | 104/516 [15:42<1:00:28,  8.81s/it]2025-06-09 19:57:33,020: ## Warning: Hourly nldas_hourly NetCDF file not found. Falling back to slower csv files.\n",
      "# Validation:  20%|██        | 105/516 [15:50<1:00:03,  8.77s/it]2025-06-09 19:57:41,699: ## Warning: Hourly nldas_hourly NetCDF file not found. Falling back to slower csv files.\n",
      "# Validation:  21%|██        | 106/516 [16:00<1:00:49,  8.90s/it]2025-06-09 19:57:50,912: ## Warning: Hourly nldas_hourly NetCDF file not found. Falling back to slower csv files.\n",
      "# Validation:  21%|██        | 107/516 [16:08<1:00:08,  8.82s/it]2025-06-09 19:57:59,548: ## Warning: Hourly nldas_hourly NetCDF file not found. Falling back to slower csv files.\n",
      "# Validation:  21%|██        | 108/516 [16:16<58:31,  8.61s/it]  2025-06-09 19:58:07,653: ## Warning: Hourly nldas_hourly NetCDF file not found. Falling back to slower csv files.\n",
      "# Validation:  21%|██        | 109/516 [16:25<58:34,  8.63s/it]2025-06-09 19:58:16,353: ## Warning: Hourly nldas_hourly NetCDF file not found. Falling back to slower csv files.\n",
      "# Validation:  21%|██▏       | 110/516 [16:34<58:14,  8.61s/it]2025-06-09 19:58:24,897: ## Warning: Hourly nldas_hourly NetCDF file not found. Falling back to slower csv files.\n",
      "# Validation:  22%|██▏       | 111/516 [16:43<59:43,  8.85s/it]2025-06-09 19:58:34,306: ## Warning: Hourly nldas_hourly NetCDF file not found. Falling back to slower csv files.\n",
      "# Validation:  22%|██▏       | 112/516 [16:53<1:02:40,  9.31s/it]2025-06-09 19:58:44,686: ## Warning: Hourly nldas_hourly NetCDF file not found. Falling back to slower csv files.\n",
      "# Validation:  22%|██▏       | 113/516 [17:02<1:01:09,  9.10s/it]2025-06-09 19:58:53,318: ## Warning: Hourly nldas_hourly NetCDF file not found. Falling back to slower csv files.\n",
      "# Validation:  22%|██▏       | 114/516 [17:12<1:02:00,  9.25s/it]2025-06-09 19:59:02,936: ## Warning: Hourly nldas_hourly NetCDF file not found. Falling back to slower csv files.\n",
      "# Validation:  22%|██▏       | 115/516 [17:20<1:00:53,  9.11s/it]2025-06-09 19:59:11,696: ## Warning: Hourly nldas_hourly NetCDF file not found. Falling back to slower csv files.\n",
      "# Validation:  22%|██▏       | 116/516 [17:30<1:00:58,  9.15s/it]2025-06-09 19:59:20,924: ## Warning: Hourly nldas_hourly NetCDF file not found. Falling back to slower csv files.\n",
      "# Validation:  23%|██▎       | 117/516 [17:40<1:02:47,  9.44s/it]2025-06-09 19:59:31,057: ## Warning: Hourly nldas_hourly NetCDF file not found. Falling back to slower csv files.\n",
      "# Validation:  23%|██▎       | 118/516 [17:49<1:02:32,  9.43s/it]2025-06-09 19:59:40,455: ## Warning: Hourly nldas_hourly NetCDF file not found. Falling back to slower csv files.\n",
      "# Validation:  23%|██▎       | 119/516 [17:58<1:01:54,  9.36s/it]2025-06-09 19:59:49,643: ## Warning: Hourly nldas_hourly NetCDF file not found. Falling back to slower csv files.\n",
      "# Validation:  23%|██▎       | 120/516 [18:08<1:01:38,  9.34s/it]2025-06-09 19:59:58,949: ## Warning: Hourly nldas_hourly NetCDF file not found. Falling back to slower csv files.\n",
      "# Validation:  23%|██▎       | 121/516 [18:17<1:00:52,  9.25s/it]2025-06-09 20:00:07,993: ## Warning: Hourly nldas_hourly NetCDF file not found. Falling back to slower csv files.\n",
      "# Validation:  24%|██▎       | 122/516 [18:25<59:41,  9.09s/it]  2025-06-09 20:00:16,703: ## Warning: Hourly nldas_hourly NetCDF file not found. Falling back to slower csv files.\n",
      "# Validation:  24%|██▍       | 123/516 [18:35<1:00:37,  9.26s/it]2025-06-09 20:00:26,345: ## Warning: Hourly nldas_hourly NetCDF file not found. Falling back to slower csv files.\n",
      "# Validation:  24%|██▍       | 124/516 [18:45<1:00:55,  9.33s/it]2025-06-09 20:00:35,831: ## Warning: Hourly nldas_hourly NetCDF file not found. Falling back to slower csv files.\n",
      "# Validation:  24%|██▍       | 125/516 [18:55<1:02:58,  9.66s/it]2025-06-09 20:00:46,279: ## Warning: Hourly nldas_hourly NetCDF file not found. Falling back to slower csv files.\n",
      "# Validation:  24%|██▍       | 126/516 [19:04<1:00:33,  9.32s/it]2025-06-09 20:00:54,790: ## Warning: Hourly nldas_hourly NetCDF file not found. Falling back to slower csv files.\n",
      "# Validation:  25%|██▍       | 127/516 [19:13<1:00:32,  9.34s/it]2025-06-09 20:01:04,171: ## Warning: Hourly nldas_hourly NetCDF file not found. Falling back to slower csv files.\n",
      "# Validation:  25%|██▍       | 128/516 [19:22<59:21,  9.18s/it]  2025-06-09 20:01:12,987: ## Warning: Hourly nldas_hourly NetCDF file not found. Falling back to slower csv files.\n",
      "# Validation:  25%|██▌       | 129/516 [19:31<59:34,  9.24s/it]2025-06-09 20:01:22,354: ## Warning: Hourly nldas_hourly NetCDF file not found. Falling back to slower csv files.\n",
      "# Validation:  25%|██▌       | 130/516 [19:40<58:56,  9.16s/it]2025-06-09 20:01:31,370: ## Warning: Hourly nldas_hourly NetCDF file not found. Falling back to slower csv files.\n",
      "# Validation:  25%|██▌       | 131/516 [19:49<58:20,  9.09s/it]2025-06-09 20:01:40,280: ## Warning: Hourly nldas_hourly NetCDF file not found. Falling back to slower csv files.\n",
      "# Validation:  26%|██▌       | 132/516 [19:58<58:05,  9.08s/it]2025-06-09 20:01:49,321: ## Warning: Hourly nldas_hourly NetCDF file not found. Falling back to slower csv files.\n",
      "# Validation:  26%|██▌       | 133/516 [20:07<57:55,  9.08s/it]2025-06-09 20:01:58,407: ## Warning: Hourly nldas_hourly NetCDF file not found. Falling back to slower csv files.\n",
      "# Validation:  26%|██▌       | 134/516 [20:16<57:27,  9.03s/it]2025-06-09 20:02:07,314: ## Warning: Hourly nldas_hourly NetCDF file not found. Falling back to slower csv files.\n",
      "# Validation:  26%|██▌       | 135/516 [20:25<56:55,  8.97s/it]2025-06-09 20:02:16,125: ## Warning: Hourly nldas_hourly NetCDF file not found. Falling back to slower csv files.\n",
      "# Validation:  26%|██▋       | 136/516 [20:35<58:03,  9.17s/it]2025-06-09 20:02:25,776: ## Warning: Hourly nldas_hourly NetCDF file not found. Falling back to slower csv files.\n",
      "# Validation:  27%|██▋       | 137/516 [20:43<56:48,  8.99s/it]2025-06-09 20:02:34,347: ## Warning: Hourly nldas_hourly NetCDF file not found. Falling back to slower csv files.\n",
      "# Validation:  27%|██▋       | 138/516 [20:52<56:14,  8.93s/it]2025-06-09 20:02:43,116: ## Warning: Hourly nldas_hourly NetCDF file not found. Falling back to slower csv files.\n",
      "# Validation:  27%|██▋       | 139/516 [21:01<56:09,  8.94s/it]2025-06-09 20:02:52,077: ## Warning: Hourly nldas_hourly NetCDF file not found. Falling back to slower csv files.\n",
      "# Validation:  27%|██▋       | 140/516 [21:10<55:28,  8.85s/it]2025-06-09 20:03:00,742: ## Warning: Hourly nldas_hourly NetCDF file not found. Falling back to slower csv files.\n",
      "# Validation:  27%|██▋       | 141/516 [21:18<54:58,  8.80s/it]2025-06-09 20:03:09,396: ## Warning: Hourly nldas_hourly NetCDF file not found. Falling back to slower csv files.\n",
      "# Validation:  28%|██▊       | 142/516 [21:28<56:53,  9.13s/it]2025-06-09 20:03:19,300: ## Warning: Hourly nldas_hourly NetCDF file not found. Falling back to slower csv files.\n",
      "# Validation:  28%|██▊       | 143/516 [21:37<55:25,  8.91s/it]2025-06-09 20:03:27,725: ## Warning: Hourly nldas_hourly NetCDF file not found. Falling back to slower csv files.\n",
      "# Validation:  28%|██▊       | 144/516 [21:46<55:53,  9.02s/it]2025-06-09 20:03:36,970: ## Warning: Hourly nldas_hourly NetCDF file not found. Falling back to slower csv files.\n",
      "# Validation:  28%|██▊       | 145/516 [21:54<55:00,  8.90s/it]2025-06-09 20:03:45,584: ## Warning: Hourly nldas_hourly NetCDF file not found. Falling back to slower csv files.\n",
      "# Validation:  28%|██▊       | 146/516 [22:03<54:30,  8.84s/it]2025-06-09 20:03:54,292: ## Warning: Hourly nldas_hourly NetCDF file not found. Falling back to slower csv files.\n",
      "# Validation:  28%|██▊       | 147/516 [22:12<54:55,  8.93s/it]2025-06-09 20:04:03,457: ## Warning: Hourly nldas_hourly NetCDF file not found. Falling back to slower csv files.\n",
      "# Validation:  29%|██▊       | 148/516 [22:22<55:24,  9.04s/it]2025-06-09 20:04:12,717: ## Warning: Hourly nldas_hourly NetCDF file not found. Falling back to slower csv files.\n",
      "# Validation:  29%|██▉       | 149/516 [22:31<56:10,  9.18s/it]2025-06-09 20:04:22,247: ## Warning: Hourly nldas_hourly NetCDF file not found. Falling back to slower csv files.\n",
      "# Validation:  29%|██▉       | 150/516 [22:40<55:31,  9.10s/it]2025-06-09 20:04:31,162: ## Warning: Hourly nldas_hourly NetCDF file not found. Falling back to slower csv files.\n",
      "# Validation:  29%|██▉       | 151/516 [22:48<54:11,  8.91s/it]2025-06-09 20:04:39,623: ## Warning: Hourly nldas_hourly NetCDF file not found. Falling back to slower csv files.\n",
      "# Validation:  29%|██▉       | 152/516 [22:57<52:57,  8.73s/it]2025-06-09 20:04:47,934: ## Warning: Hourly nldas_hourly NetCDF file not found. Falling back to slower csv files.\n",
      "# Validation:  30%|██▉       | 153/516 [23:05<52:48,  8.73s/it]2025-06-09 20:04:56,664: ## Warning: Hourly nldas_hourly NetCDF file not found. Falling back to slower csv files.\n",
      "# Validation:  30%|██▉       | 154/516 [23:14<53:06,  8.80s/it]2025-06-09 20:05:05,634: ## Warning: Hourly nldas_hourly NetCDF file not found. Falling back to slower csv files.\n",
      "# Validation:  30%|███       | 155/516 [23:24<53:47,  8.94s/it]2025-06-09 20:05:14,904: ## Warning: Hourly nldas_hourly NetCDF file not found. Falling back to slower csv files.\n",
      "# Validation:  30%|███       | 156/516 [23:32<53:06,  8.85s/it]2025-06-09 20:05:23,541: ## Warning: Hourly nldas_hourly NetCDF file not found. Falling back to slower csv files.\n",
      "# Validation:  30%|███       | 157/516 [23:41<52:15,  8.73s/it]2025-06-09 20:05:32,002: ## Warning: Hourly nldas_hourly NetCDF file not found. Falling back to slower csv files.\n",
      "# Validation:  31%|███       | 158/516 [23:50<52:13,  8.75s/it]2025-06-09 20:05:40,812: ## Warning: Hourly nldas_hourly NetCDF file not found. Falling back to slower csv files.\n",
      "# Validation:  31%|███       | 159/516 [23:58<52:04,  8.75s/it]2025-06-09 20:05:49,570: ## Warning: Hourly nldas_hourly NetCDF file not found. Falling back to slower csv files.\n",
      "# Validation:  31%|███       | 160/516 [24:08<52:52,  8.91s/it]2025-06-09 20:05:58,840: ## Warning: Hourly nldas_hourly NetCDF file not found. Falling back to slower csv files.\n",
      "# Validation:  31%|███       | 161/516 [24:16<52:27,  8.87s/it]2025-06-09 20:06:07,597: ## Warning: Hourly nldas_hourly NetCDF file not found. Falling back to slower csv files.\n",
      "# Validation:  31%|███▏      | 162/516 [24:26<53:36,  9.09s/it]2025-06-09 20:06:17,190: ## Warning: Hourly nldas_hourly NetCDF file not found. Falling back to slower csv files.\n",
      "# Validation:  32%|███▏      | 163/516 [24:34<52:12,  8.87s/it]2025-06-09 20:06:25,568: ## Warning: Hourly nldas_hourly NetCDF file not found. Falling back to slower csv files.\n",
      "# Validation:  32%|███▏      | 164/516 [24:43<51:57,  8.86s/it]2025-06-09 20:06:34,389: ## Warning: Hourly nldas_hourly NetCDF file not found. Falling back to slower csv files.\n",
      "# Validation:  32%|███▏      | 165/516 [24:53<52:41,  9.01s/it]2025-06-09 20:06:43,748: ## Warning: Hourly nldas_hourly NetCDF file not found. Falling back to slower csv files.\n",
      "# Validation:  32%|███▏      | 166/516 [25:01<51:32,  8.84s/it]2025-06-09 20:06:52,183: ## Warning: Hourly nldas_hourly NetCDF file not found. Falling back to slower csv files.\n",
      "# Validation:  32%|███▏      | 167/516 [25:09<50:40,  8.71s/it]2025-06-09 20:07:00,617: ## Warning: Hourly nldas_hourly NetCDF file not found. Falling back to slower csv files.\n",
      "# Validation:  33%|███▎      | 168/516 [25:19<52:05,  8.98s/it]2025-06-09 20:07:10,214: ## Warning: Hourly nldas_hourly NetCDF file not found. Falling back to slower csv files.\n",
      "# Validation:  33%|███▎      | 169/516 [25:28<51:13,  8.86s/it]2025-06-09 20:07:18,781: ## Warning: Hourly nldas_hourly NetCDF file not found. Falling back to slower csv files.\n",
      "# Validation:  33%|███▎      | 170/516 [25:35<48:58,  8.49s/it]2025-06-09 20:07:26,423: ## Warning: Hourly nldas_hourly NetCDF file not found. Falling back to slower csv files.\n",
      "# Validation:  33%|███▎      | 171/516 [25:44<49:47,  8.66s/it]2025-06-09 20:07:35,479: ## Warning: Hourly nldas_hourly NetCDF file not found. Falling back to slower csv files.\n",
      "# Validation:  33%|███▎      | 172/516 [25:53<50:11,  8.76s/it]2025-06-09 20:07:44,465: ## Warning: Hourly nldas_hourly NetCDF file not found. Falling back to slower csv files.\n",
      "# Validation:  34%|███▎      | 173/516 [26:02<49:27,  8.65s/it]2025-06-09 20:07:52,860: ## Warning: Hourly nldas_hourly NetCDF file not found. Falling back to slower csv files.\n",
      "# Validation:  34%|███▎      | 174/516 [26:10<49:28,  8.68s/it]2025-06-09 20:08:01,609: ## Warning: Hourly nldas_hourly NetCDF file not found. Falling back to slower csv files.\n",
      "# Validation:  34%|███▍      | 175/516 [26:20<51:40,  9.09s/it]2025-06-09 20:08:11,691: ## Warning: Hourly nldas_hourly NetCDF file not found. Falling back to slower csv files.\n",
      "# Validation:  34%|███▍      | 176/516 [26:29<50:25,  8.90s/it]2025-06-09 20:08:20,138: ## Warning: Hourly nldas_hourly NetCDF file not found. Falling back to slower csv files.\n",
      "# Validation:  34%|███▍      | 177/516 [26:38<49:55,  8.84s/it]2025-06-09 20:08:28,858: ## Warning: Hourly nldas_hourly NetCDF file not found. Falling back to slower csv files.\n",
      "# Validation:  34%|███▍      | 178/516 [26:46<49:49,  8.84s/it]2025-06-09 20:08:37,674: ## Warning: Hourly nldas_hourly NetCDF file not found. Falling back to slower csv files.\n",
      "# Validation:  35%|███▍      | 179/516 [26:55<49:12,  8.76s/it]2025-06-09 20:08:46,251: ## Warning: Hourly nldas_hourly NetCDF file not found. Falling back to slower csv files.\n",
      "# Validation:  35%|███▍      | 180/516 [27:04<50:15,  8.98s/it]2025-06-09 20:08:55,707: ## Warning: Hourly nldas_hourly NetCDF file not found. Falling back to slower csv files.\n",
      "# Validation:  35%|███▌      | 181/516 [27:13<49:41,  8.90s/it]2025-06-09 20:09:04,439: ## Warning: Hourly nldas_hourly NetCDF file not found. Falling back to slower csv files.\n",
      "# Validation:  35%|███▌      | 182/516 [27:23<51:03,  9.17s/it]2025-06-09 20:09:14,233: ## Warning: Hourly nldas_hourly NetCDF file not found. Falling back to slower csv files.\n",
      "# Validation:  35%|███▌      | 183/516 [27:35<55:06,  9.93s/it]2025-06-09 20:09:25,945: ## Warning: Hourly nldas_hourly NetCDF file not found. Falling back to slower csv files.\n",
      "# Validation:  36%|███▌      | 184/516 [27:44<53:23,  9.65s/it]2025-06-09 20:09:34,930: ## Warning: Hourly nldas_hourly NetCDF file not found. Falling back to slower csv files.\n",
      "# Validation:  36%|███▌      | 185/516 [27:55<56:11, 10.19s/it]2025-06-09 20:09:46,374: ## Warning: Hourly nldas_hourly NetCDF file not found. Falling back to slower csv files.\n",
      "# Validation:  36%|███▌      | 186/516 [28:05<55:16, 10.05s/it]2025-06-09 20:09:56,111: ## Warning: Hourly nldas_hourly NetCDF file not found. Falling back to slower csv files.\n",
      "# Validation:  36%|███▌      | 187/516 [28:14<53:08,  9.69s/it]2025-06-09 20:10:04,955: ## Warning: Hourly nldas_hourly NetCDF file not found. Falling back to slower csv files.\n",
      "# Validation:  36%|███▋      | 188/516 [28:23<52:47,  9.66s/it]2025-06-09 20:10:14,550: ## Warning: Hourly nldas_hourly NetCDF file not found. Falling back to slower csv files.\n",
      "# Validation:  37%|███▋      | 189/516 [28:32<50:46,  9.32s/it]2025-06-09 20:10:23,079: ## Warning: Hourly nldas_hourly NetCDF file not found. Falling back to slower csv files.\n",
      "# Validation:  37%|███▋      | 190/516 [28:45<56:13, 10.35s/it]2025-06-09 20:10:35,824: ## Warning: Hourly nldas_hourly NetCDF file not found. Falling back to slower csv files.\n",
      "# Validation:  37%|███▋      | 191/516 [28:54<53:44,  9.92s/it]2025-06-09 20:10:44,740: ## Warning: Hourly nldas_hourly NetCDF file not found. Falling back to slower csv files.\n",
      "# Validation:  37%|███▋      | 192/516 [29:02<51:42,  9.57s/it]2025-06-09 20:10:53,506: ## Warning: Hourly nldas_hourly NetCDF file not found. Falling back to slower csv files.\n",
      "# Validation:  37%|███▋      | 193/516 [29:11<50:12,  9.33s/it]2025-06-09 20:11:02,260: ## Warning: Hourly nldas_hourly NetCDF file not found. Falling back to slower csv files.\n",
      "# Validation:  38%|███▊      | 194/516 [29:20<48:42,  9.08s/it]2025-06-09 20:11:10,762: ## Warning: Hourly nldas_hourly NetCDF file not found. Falling back to slower csv files.\n",
      "# Validation:  38%|███▊      | 195/516 [29:27<46:27,  8.69s/it]2025-06-09 20:11:18,520: ## Warning: Hourly nldas_hourly NetCDF file not found. Falling back to slower csv files.\n",
      "# Validation:  38%|███▊      | 196/516 [29:36<46:28,  8.71s/it]2025-06-09 20:11:27,322: ## Warning: Hourly nldas_hourly NetCDF file not found. Falling back to slower csv files.\n",
      "# Validation:  38%|███▊      | 197/516 [29:45<46:20,  8.72s/it]2025-06-09 20:11:36,038: ## Warning: Hourly nldas_hourly NetCDF file not found. Falling back to slower csv files.\n",
      "# Validation:  38%|███▊      | 198/516 [29:54<47:08,  8.89s/it]2025-06-09 20:11:45,342: ## Warning: Hourly nldas_hourly NetCDF file not found. Falling back to slower csv files.\n",
      "# Validation:  39%|███▊      | 199/516 [30:03<46:46,  8.85s/it]2025-06-09 20:11:54,094: ## Warning: Hourly nldas_hourly NetCDF file not found. Falling back to slower csv files.\n",
      "# Validation:  39%|███▉      | 200/516 [30:11<45:09,  8.57s/it]2025-06-09 20:12:02,010: ## Warning: Hourly nldas_hourly NetCDF file not found. Falling back to slower csv files.\n",
      "# Validation:  39%|███▉      | 201/516 [30:20<46:30,  8.86s/it]2025-06-09 20:12:11,532: ## Warning: Hourly nldas_hourly NetCDF file not found. Falling back to slower csv files.\n",
      "# Validation:  39%|███▉      | 202/516 [30:29<46:50,  8.95s/it]2025-06-09 20:12:20,696: ## Warning: Hourly nldas_hourly NetCDF file not found. Falling back to slower csv files.\n",
      "# Validation:  39%|███▉      | 203/516 [30:38<46:30,  8.91s/it]2025-06-09 20:12:29,526: ## Warning: Hourly nldas_hourly NetCDF file not found. Falling back to slower csv files.\n",
      "# Validation:  40%|███▉      | 204/516 [30:47<46:19,  8.91s/it]2025-06-09 20:12:38,426: ## Warning: Hourly nldas_hourly NetCDF file not found. Falling back to slower csv files.\n",
      "# Validation:  40%|███▉      | 205/516 [30:56<45:31,  8.78s/it]2025-06-09 20:12:46,913: ## Warning: Hourly nldas_hourly NetCDF file not found. Falling back to slower csv files.\n",
      "# Validation:  40%|███▉      | 206/516 [31:04<45:22,  8.78s/it]2025-06-09 20:12:55,692: ## Warning: Hourly nldas_hourly NetCDF file not found. Falling back to slower csv files.\n",
      "# Validation:  40%|████      | 207/516 [31:15<47:18,  9.19s/it]2025-06-09 20:13:05,823: ## Warning: Hourly nldas_hourly NetCDF file not found. Falling back to slower csv files.\n",
      "# Validation:  40%|████      | 208/516 [31:23<46:25,  9.04s/it]2025-06-09 20:13:14,534: ## Warning: Hourly nldas_hourly NetCDF file not found. Falling back to slower csv files.\n",
      "# Validation:  41%|████      | 209/516 [31:32<46:15,  9.04s/it]2025-06-09 20:13:23,577: ## Warning: Hourly nldas_hourly NetCDF file not found. Falling back to slower csv files.\n",
      "# Validation:  41%|████      | 210/516 [31:42<46:46,  9.17s/it]2025-06-09 20:13:33,050: ## Warning: Hourly nldas_hourly NetCDF file not found. Falling back to slower csv files.\n",
      "# Validation:  41%|████      | 211/516 [31:51<46:32,  9.16s/it]2025-06-09 20:13:42,171: ## Warning: Hourly nldas_hourly NetCDF file not found. Falling back to slower csv files.\n",
      "# Validation:  41%|████      | 212/516 [32:01<47:11,  9.31s/it]2025-06-09 20:13:51,842: ## Warning: Hourly nldas_hourly NetCDF file not found. Falling back to slower csv files.\n",
      "# Validation:  41%|████▏     | 213/516 [32:10<46:33,  9.22s/it]2025-06-09 20:14:00,844: ## Warning: Hourly nldas_hourly NetCDF file not found. Falling back to slower csv files.\n",
      "# Validation:  41%|████▏     | 214/516 [32:19<46:13,  9.18s/it]2025-06-09 20:14:09,948: ## Warning: Hourly nldas_hourly NetCDF file not found. Falling back to slower csv files.\n",
      "# Validation:  42%|████▏     | 215/516 [32:30<48:59,  9.77s/it]2025-06-09 20:14:21,078: ## Warning: Hourly nldas_hourly NetCDF file not found. Falling back to slower csv files.\n",
      "# Validation:  42%|████▏     | 216/516 [32:39<47:37,  9.53s/it]2025-06-09 20:14:30,037: ## Warning: Hourly nldas_hourly NetCDF file not found. Falling back to slower csv files.\n",
      "# Validation:  42%|████▏     | 217/516 [32:49<47:55,  9.62s/it]2025-06-09 20:14:39,863: ## Warning: Hourly nldas_hourly NetCDF file not found. Falling back to slower csv files.\n",
      "# Validation:  42%|████▏     | 218/516 [32:58<46:50,  9.43s/it]2025-06-09 20:14:48,865: ## Warning: Hourly nldas_hourly NetCDF file not found. Falling back to slower csv files.\n",
      "# Validation:  42%|████▏     | 219/516 [33:06<45:34,  9.21s/it]2025-06-09 20:14:57,552: ## Warning: Hourly nldas_hourly NetCDF file not found. Falling back to slower csv files.\n",
      "# Validation:  43%|████▎     | 220/516 [33:16<45:25,  9.21s/it]2025-06-09 20:15:06,755: ## Warning: Hourly nldas_hourly NetCDF file not found. Falling back to slower csv files.\n",
      "# Validation:  43%|████▎     | 221/516 [33:24<44:51,  9.12s/it]2025-06-09 20:15:15,681: ## Warning: Hourly nldas_hourly NetCDF file not found. Falling back to slower csv files.\n",
      "# Validation:  43%|████▎     | 222/516 [33:33<44:23,  9.06s/it]2025-06-09 20:15:24,593: ## Warning: Hourly nldas_hourly NetCDF file not found. Falling back to slower csv files.\n",
      "# Validation:  43%|████▎     | 223/516 [33:43<45:01,  9.22s/it]2025-06-09 20:15:34,193: ## Warning: Hourly nldas_hourly NetCDF file not found. Falling back to slower csv files.\n",
      "# Validation:  43%|████▎     | 224/516 [33:53<46:41,  9.59s/it]2025-06-09 20:15:44,661: ## Warning: Hourly nldas_hourly NetCDF file not found. Falling back to slower csv files.\n",
      "# Validation:  44%|████▎     | 225/516 [34:02<45:18,  9.34s/it]2025-06-09 20:15:53,419: ## Warning: Hourly nldas_hourly NetCDF file not found. Falling back to slower csv files.\n",
      "# Validation:  44%|████▍     | 226/516 [34:11<44:54,  9.29s/it]2025-06-09 20:16:02,578: ## Warning: Hourly nldas_hourly NetCDF file not found. Falling back to slower csv files.\n",
      "# Validation:  44%|████▍     | 227/516 [34:20<44:18,  9.20s/it]2025-06-09 20:16:11,573: ## Warning: Hourly nldas_hourly NetCDF file not found. Falling back to slower csv files.\n",
      "# Validation:  44%|████▍     | 228/516 [34:30<44:13,  9.21s/it]2025-06-09 20:16:20,817: ## Warning: Hourly nldas_hourly NetCDF file not found. Falling back to slower csv files.\n",
      "# Validation:  44%|████▍     | 229/516 [34:39<43:37,  9.12s/it]2025-06-09 20:16:29,715: ## Warning: Hourly nldas_hourly NetCDF file not found. Falling back to slower csv files.\n",
      "# Validation:  45%|████▍     | 230/516 [34:47<43:02,  9.03s/it]2025-06-09 20:16:38,533: ## Warning: Hourly nldas_hourly NetCDF file not found. Falling back to slower csv files.\n",
      "# Validation:  45%|████▍     | 231/516 [34:57<43:48,  9.22s/it]2025-06-09 20:16:48,205: ## Warning: Hourly nldas_hourly NetCDF file not found. Falling back to slower csv files.\n",
      "# Validation:  45%|████▍     | 232/516 [35:06<43:14,  9.14s/it]2025-06-09 20:16:57,141: ## Warning: Hourly nldas_hourly NetCDF file not found. Falling back to slower csv files.\n",
      "# Validation:  45%|████▌     | 233/516 [35:16<43:54,  9.31s/it]2025-06-09 20:17:06,870: ## Warning: Hourly nldas_hourly NetCDF file not found. Falling back to slower csv files.\n",
      "# Validation:  45%|████▌     | 234/516 [35:24<43:06,  9.17s/it]2025-06-09 20:17:15,708: ## Warning: Hourly nldas_hourly NetCDF file not found. Falling back to slower csv files.\n",
      "# Validation:  46%|████▌     | 235/516 [35:32<41:04,  8.77s/it]2025-06-09 20:17:23,546: ## Warning: Hourly nldas_hourly NetCDF file not found. Falling back to slower csv files.\n",
      "# Validation:  46%|████▌     | 236/516 [35:41<41:11,  8.83s/it]2025-06-09 20:17:32,496: ## Warning: Hourly nldas_hourly NetCDF file not found. Falling back to slower csv files.\n",
      "# Validation:  46%|████▌     | 237/516 [35:50<41:29,  8.92s/it]2025-06-09 20:17:41,641: ## Warning: Hourly nldas_hourly NetCDF file not found. Falling back to slower csv files.\n",
      "# Validation:  46%|████▌     | 238/516 [35:59<41:16,  8.91s/it]2025-06-09 20:17:50,520: ## Warning: Hourly nldas_hourly NetCDF file not found. Falling back to slower csv files.\n",
      "# Validation:  46%|████▋     | 239/516 [36:09<42:25,  9.19s/it]2025-06-09 20:18:00,389: ## Warning: Hourly nldas_hourly NetCDF file not found. Falling back to slower csv files.\n",
      "# Validation:  47%|████▋     | 240/516 [36:18<42:14,  9.18s/it]2025-06-09 20:18:09,530: ## Warning: Hourly nldas_hourly NetCDF file not found. Falling back to slower csv files.\n",
      "# Validation:  47%|████▋     | 241/516 [36:28<42:11,  9.20s/it]2025-06-09 20:18:18,789: ## Warning: Hourly nldas_hourly NetCDF file not found. Falling back to slower csv files.\n",
      "# Validation:  47%|████▋     | 242/516 [36:35<40:16,  8.82s/it]2025-06-09 20:18:26,704: ## Warning: Hourly nldas_hourly NetCDF file not found. Falling back to slower csv files.\n",
      "# Validation:  47%|████▋     | 243/516 [36:44<40:01,  8.80s/it]2025-06-09 20:18:35,465: ## Warning: Hourly nldas_hourly NetCDF file not found. Falling back to slower csv files.\n",
      "# Validation:  47%|████▋     | 244/516 [36:54<40:53,  9.02s/it]2025-06-09 20:18:44,983: ## Warning: Hourly nldas_hourly NetCDF file not found. Falling back to slower csv files.\n",
      "# Validation:  47%|████▋     | 245/516 [37:03<40:31,  8.97s/it]2025-06-09 20:18:53,875: ## Warning: Hourly nldas_hourly NetCDF file not found. Falling back to slower csv files.\n",
      "# Validation:  48%|████▊     | 246/516 [37:12<40:35,  9.02s/it]2025-06-09 20:19:02,991: ## Warning: Hourly nldas_hourly NetCDF file not found. Falling back to slower csv files.\n",
      "# Validation:  48%|████▊     | 247/516 [37:22<42:16,  9.43s/it]2025-06-09 20:19:13,365: ## Warning: Hourly nldas_hourly NetCDF file not found. Falling back to slower csv files.\n",
      "# Validation:  48%|████▊     | 248/516 [37:31<41:27,  9.28s/it]2025-06-09 20:19:22,310: ## Warning: Hourly nldas_hourly NetCDF file not found. Falling back to slower csv files.\n",
      "# Validation:  48%|████▊     | 249/516 [37:40<40:39,  9.14s/it]2025-06-09 20:19:31,103: ## Warning: Hourly nldas_hourly NetCDF file not found. Falling back to slower csv files.\n",
      "# Validation:  48%|████▊     | 250/516 [37:49<40:13,  9.07s/it]2025-06-09 20:19:40,039: ## Warning: Hourly nldas_hourly NetCDF file not found. Falling back to slower csv files.\n",
      "# Validation:  49%|████▊     | 251/516 [37:58<40:21,  9.14s/it]2025-06-09 20:19:49,335: ## Warning: Hourly nldas_hourly NetCDF file not found. Falling back to slower csv files.\n",
      "# Validation:  49%|████▉     | 252/516 [38:07<40:02,  9.10s/it]2025-06-09 20:19:58,345: ## Warning: Hourly nldas_hourly NetCDF file not found. Falling back to slower csv files.\n",
      "# Validation:  49%|████▉     | 253/516 [38:16<40:04,  9.14s/it]2025-06-09 20:20:07,595: ## Warning: Hourly nldas_hourly NetCDF file not found. Falling back to slower csv files.\n",
      "# Validation:  49%|████▉     | 254/516 [38:26<40:26,  9.26s/it]2025-06-09 20:20:17,116: ## Warning: Hourly nldas_hourly NetCDF file not found. Falling back to slower csv files.\n",
      "# Validation:  49%|████▉     | 255/516 [38:36<41:54,  9.63s/it]2025-06-09 20:20:27,624: ## Warning: Hourly nldas_hourly NetCDF file not found. Falling back to slower csv files.\n",
      "# Validation:  50%|████▉     | 256/516 [38:45<40:46,  9.41s/it]2025-06-09 20:20:36,510: ## Warning: Hourly nldas_hourly NetCDF file not found. Falling back to slower csv files.\n",
      "# Validation:  50%|████▉     | 257/516 [38:54<40:18,  9.34s/it]2025-06-09 20:20:45,679: ## Warning: Hourly nldas_hourly NetCDF file not found. Falling back to slower csv files.\n",
      "# Validation:  50%|█████     | 258/516 [39:03<39:26,  9.17s/it]2025-06-09 20:20:54,456: ## Warning: Hourly nldas_hourly NetCDF file not found. Falling back to slower csv files.\n",
      "# Validation:  50%|█████     | 259/516 [39:12<39:16,  9.17s/it]2025-06-09 20:21:03,621: ## Warning: Hourly nldas_hourly NetCDF file not found. Falling back to slower csv files.\n",
      "# Validation:  50%|█████     | 260/516 [39:21<38:51,  9.11s/it]2025-06-09 20:21:12,589: ## Warning: Hourly nldas_hourly NetCDF file not found. Falling back to slower csv files.\n",
      "# Validation:  51%|█████     | 261/516 [39:31<39:39,  9.33s/it]2025-06-09 20:21:22,449: ## Warning: Hourly nldas_hourly NetCDF file not found. Falling back to slower csv files.\n",
      "# Validation:  51%|█████     | 262/516 [39:40<38:44,  9.15s/it]2025-06-09 20:21:31,176: ## Warning: Hourly nldas_hourly NetCDF file not found. Falling back to slower csv files.\n",
      "# Validation:  51%|█████     | 263/516 [39:49<39:05,  9.27s/it]2025-06-09 20:21:40,719: ## Warning: Hourly nldas_hourly NetCDF file not found. Falling back to slower csv files.\n",
      "# Validation:  51%|█████     | 264/516 [39:59<38:51,  9.25s/it]2025-06-09 20:21:49,925: ## Warning: Hourly nldas_hourly NetCDF file not found. Falling back to slower csv files.\n",
      "# Validation:  51%|█████▏    | 265/516 [40:08<38:48,  9.28s/it]2025-06-09 20:21:59,285: ## Warning: Hourly nldas_hourly NetCDF file not found. Falling back to slower csv files.\n",
      "# Validation:  52%|█████▏    | 266/516 [40:17<38:21,  9.21s/it]2025-06-09 20:22:08,309: ## Warning: Hourly nldas_hourly NetCDF file not found. Falling back to slower csv files.\n",
      "# Validation:  52%|█████▏    | 267/516 [40:27<39:00,  9.40s/it]2025-06-09 20:22:18,159: ## Warning: Hourly nldas_hourly NetCDF file not found. Falling back to slower csv files.\n",
      "# Validation:  52%|█████▏    | 268/516 [40:37<39:26,  9.54s/it]2025-06-09 20:22:28,034: ## Warning: Hourly nldas_hourly NetCDF file not found. Falling back to slower csv files.\n",
      "# Validation:  52%|█████▏    | 269/516 [40:46<39:21,  9.56s/it]2025-06-09 20:22:37,640: ## Warning: Hourly nldas_hourly NetCDF file not found. Falling back to slower csv files.\n",
      "# Validation:  52%|█████▏    | 270/516 [40:56<39:23,  9.61s/it]2025-06-09 20:22:47,351: ## Warning: Hourly nldas_hourly NetCDF file not found. Falling back to slower csv files.\n",
      "# Validation:  53%|█████▎    | 271/516 [41:05<38:29,  9.43s/it]2025-06-09 20:22:56,352: ## Warning: Hourly nldas_hourly NetCDF file not found. Falling back to slower csv files.\n",
      "# Validation:  53%|█████▎    | 272/516 [41:15<38:39,  9.51s/it]2025-06-09 20:23:06,045: ## Warning: Hourly nldas_hourly NetCDF file not found. Falling back to slower csv files.\n",
      "# Validation:  53%|█████▎    | 273/516 [41:24<38:03,  9.40s/it]2025-06-09 20:23:15,181: ## Warning: Hourly nldas_hourly NetCDF file not found. Falling back to slower csv files.\n",
      "# Validation:  53%|█████▎    | 274/516 [41:33<37:14,  9.24s/it]2025-06-09 20:23:24,044: ## Warning: Hourly nldas_hourly NetCDF file not found. Falling back to slower csv files.\n",
      "# Validation:  53%|█████▎    | 275/516 [41:43<38:01,  9.47s/it]2025-06-09 20:23:34,139: ## Warning: Hourly nldas_hourly NetCDF file not found. Falling back to slower csv files.\n",
      "# Validation:  53%|█████▎    | 276/516 [41:52<37:36,  9.40s/it]2025-06-09 20:23:43,311: ## Warning: Hourly nldas_hourly NetCDF file not found. Falling back to slower csv files.\n",
      "# Validation:  54%|█████▎    | 277/516 [42:01<36:52,  9.26s/it]2025-06-09 20:23:52,252: ## Warning: Hourly nldas_hourly NetCDF file not found. Falling back to slower csv files.\n",
      "# Validation:  54%|█████▍    | 278/516 [42:10<36:30,  9.20s/it]2025-06-09 20:24:01,302: ## Warning: Hourly nldas_hourly NetCDF file not found. Falling back to slower csv files.\n",
      "# Validation:  54%|█████▍    | 279/516 [42:20<36:50,  9.33s/it]2025-06-09 20:24:10,959: ## Warning: Hourly nldas_hourly NetCDF file not found. Falling back to slower csv files.\n",
      "# Validation:  54%|█████▍    | 280/516 [42:29<36:49,  9.36s/it]2025-06-09 20:24:20,361: ## Warning: Hourly nldas_hourly NetCDF file not found. Falling back to slower csv files.\n",
      "# Validation:  54%|█████▍    | 281/516 [42:42<40:50, 10.43s/it]2025-06-09 20:24:33,306: ## Warning: Hourly nldas_hourly NetCDF file not found. Falling back to slower csv files.\n",
      "# Validation:  55%|█████▍    | 282/516 [42:56<44:47, 11.49s/it]2025-06-09 20:24:47,239: ## Warning: Hourly nldas_hourly NetCDF file not found. Falling back to slower csv files.\n",
      "# Validation:  55%|█████▍    | 283/516 [43:09<45:51, 11.81s/it]2025-06-09 20:24:59,798: ## Warning: Hourly nldas_hourly NetCDF file not found. Falling back to slower csv files.\n",
      "# Validation:  55%|█████▌    | 284/516 [43:17<41:26, 10.72s/it]2025-06-09 20:25:07,975: ## Warning: Hourly nldas_hourly NetCDF file not found. Falling back to slower csv files.\n",
      "# Validation:  55%|█████▌    | 285/516 [43:26<39:58, 10.38s/it]2025-06-09 20:25:17,568: ## Warning: Hourly nldas_hourly NetCDF file not found. Falling back to slower csv files.\n",
      "# Validation:  55%|█████▌    | 286/516 [43:36<39:05, 10.20s/it]2025-06-09 20:25:27,344: ## Warning: Hourly nldas_hourly NetCDF file not found. Falling back to slower csv files.\n",
      "# Validation:  56%|█████▌    | 287/516 [43:44<36:39,  9.60s/it]2025-06-09 20:25:35,554: ## Warning: Hourly nldas_hourly NetCDF file not found. Falling back to slower csv files.\n",
      "# Validation:  56%|█████▌    | 288/516 [43:53<35:49,  9.43s/it]2025-06-09 20:25:44,574: ## Warning: Hourly nldas_hourly NetCDF file not found. Falling back to slower csv files.\n",
      "# Validation:  56%|█████▌    | 289/516 [44:03<36:01,  9.52s/it]2025-06-09 20:25:54,325: ## Warning: Hourly nldas_hourly NetCDF file not found. Falling back to slower csv files.\n",
      "# Validation:  56%|█████▌    | 290/516 [44:16<39:30, 10.49s/it]2025-06-09 20:26:07,084: ## Warning: Hourly nldas_hourly NetCDF file not found. Falling back to slower csv files.\n",
      "# Validation:  56%|█████▋    | 291/516 [44:25<37:55, 10.11s/it]2025-06-09 20:26:16,316: ## Warning: Hourly nldas_hourly NetCDF file not found. Falling back to slower csv files.\n",
      "# Validation:  57%|█████▋    | 292/516 [44:35<37:07,  9.94s/it]2025-06-09 20:26:25,850: ## Warning: Hourly nldas_hourly NetCDF file not found. Falling back to slower csv files.\n",
      "# Validation:  57%|█████▋    | 293/516 [44:44<36:13,  9.75s/it]2025-06-09 20:26:35,135: ## Warning: Hourly nldas_hourly NetCDF file not found. Falling back to slower csv files.\n",
      "# Validation:  57%|█████▋    | 294/516 [44:53<35:24,  9.57s/it]2025-06-09 20:26:44,301: ## Warning: Hourly nldas_hourly NetCDF file not found. Falling back to slower csv files.\n",
      "# Validation:  57%|█████▋    | 295/516 [45:02<34:49,  9.45s/it]2025-06-09 20:26:53,491: ## Warning: Hourly nldas_hourly NetCDF file not found. Falling back to slower csv files.\n",
      "# Validation:  57%|█████▋    | 296/516 [45:12<35:16,  9.62s/it]2025-06-09 20:27:03,501: ## Warning: Hourly nldas_hourly NetCDF file not found. Falling back to slower csv files.\n",
      "# Validation:  58%|█████▊    | 297/516 [45:22<35:07,  9.62s/it]2025-06-09 20:27:13,112: ## Warning: Hourly nldas_hourly NetCDF file not found. Falling back to slower csv files.\n",
      "# Validation:  58%|█████▊    | 298/516 [45:31<34:27,  9.48s/it]2025-06-09 20:27:22,268: ## Warning: Hourly nldas_hourly NetCDF file not found. Falling back to slower csv files.\n",
      "# Validation:  58%|█████▊    | 299/516 [45:40<34:01,  9.41s/it]2025-06-09 20:27:31,517: ## Warning: Hourly nldas_hourly NetCDF file not found. Falling back to slower csv files.\n",
      "# Validation:  58%|█████▊    | 300/516 [45:50<33:43,  9.37s/it]2025-06-09 20:27:40,785: ## Warning: Hourly nldas_hourly NetCDF file not found. Falling back to slower csv files.\n",
      "# Validation:  58%|█████▊    | 301/516 [46:00<35:05,  9.79s/it]2025-06-09 20:27:51,561: ## Warning: Hourly nldas_hourly NetCDF file not found. Falling back to slower csv files.\n",
      "# Validation:  59%|█████▊    | 302/516 [46:09<34:01,  9.54s/it]2025-06-09 20:28:00,513: ## Warning: Hourly nldas_hourly NetCDF file not found. Falling back to slower csv files.\n",
      "# Validation:  59%|█████▊    | 303/516 [46:19<34:15,  9.65s/it]2025-06-09 20:28:10,412: ## Warning: Hourly nldas_hourly NetCDF file not found. Falling back to slower csv files.\n",
      "# Validation:  59%|█████▉    | 304/516 [46:29<33:49,  9.57s/it]2025-06-09 20:28:19,817: ## Warning: Hourly nldas_hourly NetCDF file not found. Falling back to slower csv files.\n",
      "# Validation:  59%|█████▉    | 305/516 [46:39<34:54,  9.93s/it]2025-06-09 20:28:30,566: ## Warning: Hourly nldas_hourly NetCDF file not found. Falling back to slower csv files.\n",
      "# Validation:  59%|█████▉    | 306/516 [46:48<33:09,  9.47s/it]2025-06-09 20:28:38,973: ## Warning: Hourly nldas_hourly NetCDF file not found. Falling back to slower csv files.\n",
      "# Validation:  59%|█████▉    | 307/516 [46:57<32:48,  9.42s/it]2025-06-09 20:28:48,283: ## Warning: Hourly nldas_hourly NetCDF file not found. Falling back to slower csv files.\n",
      "# Validation:  60%|█████▉    | 308/516 [47:07<32:41,  9.43s/it]2025-06-09 20:28:57,732: ## Warning: Hourly nldas_hourly NetCDF file not found. Falling back to slower csv files.\n",
      "# Validation:  60%|█████▉    | 309/516 [47:16<32:20,  9.37s/it]2025-06-09 20:29:06,969: ## Warning: Hourly nldas_hourly NetCDF file not found. Falling back to slower csv files.\n",
      "# Validation:  60%|██████    | 310/516 [47:27<33:40,  9.81s/it]2025-06-09 20:29:17,805: ## Warning: Hourly nldas_hourly NetCDF file not found. Falling back to slower csv files.\n",
      "# Validation:  60%|██████    | 311/516 [47:36<32:56,  9.64s/it]2025-06-09 20:29:27,045: ## Warning: Hourly nldas_hourly NetCDF file not found. Falling back to slower csv files.\n",
      "# Validation:  60%|██████    | 312/516 [47:46<33:17,  9.79s/it]2025-06-09 20:29:37,187: ## Warning: Hourly nldas_hourly NetCDF file not found. Falling back to slower csv files.\n",
      "# Validation:  61%|██████    | 313/516 [47:55<32:16,  9.54s/it]2025-06-09 20:29:46,137: ## Warning: Hourly nldas_hourly NetCDF file not found. Falling back to slower csv files.\n",
      "# Validation:  61%|██████    | 314/516 [48:04<31:57,  9.49s/it]2025-06-09 20:29:55,535: ## Warning: Hourly nldas_hourly NetCDF file not found. Falling back to slower csv files.\n",
      "# Validation:  61%|██████    | 315/516 [48:14<32:08,  9.59s/it]2025-06-09 20:30:05,351: ## Warning: Hourly nldas_hourly NetCDF file not found. Falling back to slower csv files.\n",
      "# Validation:  61%|██████    | 316/516 [48:23<31:23,  9.42s/it]2025-06-09 20:30:14,368: ## Warning: Hourly nldas_hourly NetCDF file not found. Falling back to slower csv files.\n",
      "# Validation:  61%|██████▏   | 317/516 [48:32<30:45,  9.27s/it]2025-06-09 20:30:23,296: ## Warning: Hourly nldas_hourly NetCDF file not found. Falling back to slower csv files.\n",
      "# Validation:  62%|██████▏   | 318/516 [48:41<30:20,  9.19s/it]2025-06-09 20:30:32,307: ## Warning: Hourly nldas_hourly NetCDF file not found. Falling back to slower csv files.\n",
      "# Validation:  62%|██████▏   | 319/516 [48:52<31:25,  9.57s/it]2025-06-09 20:30:42,754: ## Warning: Hourly nldas_hourly NetCDF file not found. Falling back to slower csv files.\n",
      "# Validation:  62%|██████▏   | 320/516 [49:01<30:47,  9.43s/it]2025-06-09 20:30:51,864: ## Warning: Hourly nldas_hourly NetCDF file not found. Falling back to slower csv files.\n",
      "# Validation:  62%|██████▏   | 321/516 [49:10<30:22,  9.35s/it]2025-06-09 20:31:01,009: ## Warning: Hourly nldas_hourly NetCDF file not found. Falling back to slower csv files.\n",
      "# Validation:  62%|██████▏   | 322/516 [49:19<29:59,  9.28s/it]2025-06-09 20:31:10,122: ## Warning: Hourly nldas_hourly NetCDF file not found. Falling back to slower csv files.\n",
      "# Validation:  63%|██████▎   | 323/516 [49:28<29:30,  9.17s/it]2025-06-09 20:31:19,063: ## Warning: Hourly nldas_hourly NetCDF file not found. Falling back to slower csv files.\n",
      "# Validation:  63%|██████▎   | 324/516 [49:38<29:59,  9.37s/it]2025-06-09 20:31:28,893: ## Warning: Hourly nldas_hourly NetCDF file not found. Falling back to slower csv files.\n",
      "# Validation:  63%|██████▎   | 325/516 [49:47<30:13,  9.50s/it]2025-06-09 20:31:38,672: ## Warning: Hourly nldas_hourly NetCDF file not found. Falling back to slower csv files.\n",
      "# Validation:  63%|██████▎   | 326/516 [49:56<29:34,  9.34s/it]2025-06-09 20:31:47,652: ## Warning: Hourly nldas_hourly NetCDF file not found. Falling back to slower csv files.\n",
      "# Validation:  63%|██████▎   | 327/516 [50:06<29:26,  9.35s/it]2025-06-09 20:31:57,042: ## Warning: Hourly nldas_hourly NetCDF file not found. Falling back to slower csv files.\n",
      "# Validation:  64%|██████▎   | 328/516 [50:14<28:26,  9.08s/it]2025-06-09 20:32:05,461: ## Warning: Hourly nldas_hourly NetCDF file not found. Falling back to slower csv files.\n",
      "# Validation:  64%|██████▍   | 329/516 [50:24<28:34,  9.17s/it]2025-06-09 20:32:14,862: ## Warning: Hourly nldas_hourly NetCDF file not found. Falling back to slower csv files.\n",
      "# Validation:  64%|██████▍   | 330/516 [50:34<29:13,  9.43s/it]2025-06-09 20:32:24,892: ## Warning: Hourly nldas_hourly NetCDF file not found. Falling back to slower csv files.\n",
      "# Validation:  64%|██████▍   | 331/516 [50:42<28:06,  9.12s/it]2025-06-09 20:32:33,270: ## Warning: Hourly nldas_hourly NetCDF file not found. Falling back to slower csv files.\n",
      "# Validation:  64%|██████▍   | 332/516 [50:51<28:07,  9.17s/it]2025-06-09 20:32:42,557: ## Warning: Hourly nldas_hourly NetCDF file not found. Falling back to slower csv files.\n",
      "# Validation:  65%|██████▍   | 333/516 [51:01<28:11,  9.24s/it]2025-06-09 20:32:51,972: ## Warning: Hourly nldas_hourly NetCDF file not found. Falling back to slower csv files.\n",
      "# Validation:  65%|██████▍   | 334/516 [51:10<28:01,  9.24s/it]2025-06-09 20:33:01,203: ## Warning: Hourly nldas_hourly NetCDF file not found. Falling back to slower csv files.\n",
      "# Validation:  65%|██████▍   | 335/516 [51:18<26:52,  8.91s/it]2025-06-09 20:33:09,354: ## Warning: Hourly nldas_hourly NetCDF file not found. Falling back to slower csv files.\n",
      "# Validation:  65%|██████▌   | 336/516 [51:27<26:44,  8.92s/it]2025-06-09 20:33:18,284: ## Warning: Hourly nldas_hourly NetCDF file not found. Falling back to slower csv files.\n",
      "# Validation:  65%|██████▌   | 337/516 [51:37<27:05,  9.08s/it]2025-06-09 20:33:27,743: ## Warning: Hourly nldas_hourly NetCDF file not found. Falling back to slower csv files.\n",
      "# Validation:  66%|██████▌   | 338/516 [51:50<30:48, 10.39s/it]2025-06-09 20:33:41,177: ## Warning: Hourly nldas_hourly NetCDF file not found. Falling back to slower csv files.\n",
      "# Validation:  66%|██████▌   | 339/516 [51:59<29:32, 10.01s/it]2025-06-09 20:33:50,316: ## Warning: Hourly nldas_hourly NetCDF file not found. Falling back to slower csv files.\n",
      "# Validation:  66%|██████▌   | 340/516 [52:12<32:13, 10.98s/it]2025-06-09 20:34:03,599: ## Warning: Hourly nldas_hourly NetCDF file not found. Falling back to slower csv files.\n",
      "# Validation:  66%|██████▌   | 341/516 [52:22<30:39, 10.51s/it]2025-06-09 20:34:12,973: ## Warning: Hourly nldas_hourly NetCDF file not found. Falling back to slower csv files.\n",
      "# Validation:  66%|██████▋   | 342/516 [52:31<29:14, 10.08s/it]2025-06-09 20:34:22,072: ## Warning: Hourly nldas_hourly NetCDF file not found. Falling back to slower csv files.\n",
      "# Validation:  66%|██████▋   | 343/516 [52:44<32:06, 11.13s/it]2025-06-09 20:34:35,664: ## Warning: Hourly nldas_hourly NetCDF file not found. Falling back to slower csv files.\n",
      "# Validation:  67%|██████▋   | 344/516 [52:54<30:22, 10.60s/it]2025-06-09 20:34:44,986: ## Warning: Hourly nldas_hourly NetCDF file not found. Falling back to slower csv files.\n",
      "# Validation:  67%|██████▋   | 345/516 [53:03<29:08, 10.23s/it]2025-06-09 20:34:54,370: ## Warning: Hourly nldas_hourly NetCDF file not found. Falling back to slower csv files.\n",
      "# Validation:  67%|██████▋   | 346/516 [53:12<28:09,  9.94s/it]2025-06-09 20:35:03,619: ## Warning: Hourly nldas_hourly NetCDF file not found. Falling back to slower csv files.\n",
      "# Validation:  67%|██████▋   | 347/516 [53:25<30:06, 10.69s/it]2025-06-09 20:35:16,102: ## Warning: Hourly nldas_hourly NetCDF file not found. Falling back to slower csv files.\n",
      "# Validation:  67%|██████▋   | 348/516 [53:35<29:07, 10.40s/it]2025-06-09 20:35:25,795: ## Warning: Hourly nldas_hourly NetCDF file not found. Falling back to slower csv files.\n",
      "# Validation:  68%|██████▊   | 349/516 [53:44<28:03, 10.08s/it]2025-06-09 20:35:35,126: ## Warning: Hourly nldas_hourly NetCDF file not found. Falling back to slower csv files.\n",
      "# Validation:  68%|██████▊   | 350/516 [53:53<27:12,  9.83s/it]2025-06-09 20:35:44,396: ## Warning: Hourly nldas_hourly NetCDF file not found. Falling back to slower csv files.\n",
      "# Validation:  68%|██████▊   | 351/516 [54:06<29:29, 10.72s/it]2025-06-09 20:35:57,199: ## Warning: Hourly nldas_hourly NetCDF file not found. Falling back to slower csv files.\n",
      "# Validation:  68%|██████▊   | 352/516 [54:16<28:41, 10.50s/it]2025-06-09 20:36:07,147: ## Warning: Hourly nldas_hourly NetCDF file not found. Falling back to slower csv files.\n",
      "# Validation:  68%|██████▊   | 353/516 [54:25<27:39, 10.18s/it]2025-06-09 20:36:16,612: ## Warning: Hourly nldas_hourly NetCDF file not found. Falling back to slower csv files.\n",
      "# Validation:  69%|██████▊   | 354/516 [54:35<26:38,  9.87s/it]2025-06-09 20:36:25,728: ## Warning: Hourly nldas_hourly NetCDF file not found. Falling back to slower csv files.\n",
      "# Validation:  69%|██████▉   | 355/516 [54:44<26:04,  9.72s/it]2025-06-09 20:36:35,102: ## Warning: Hourly nldas_hourly NetCDF file not found. Falling back to slower csv files.\n",
      "# Validation:  69%|██████▉   | 356/516 [54:53<25:14,  9.47s/it]2025-06-09 20:36:43,979: ## Warning: Hourly nldas_hourly NetCDF file not found. Falling back to slower csv files.\n",
      "# Validation:  69%|██████▉   | 357/516 [55:02<25:03,  9.46s/it]2025-06-09 20:36:53,416: ## Warning: Hourly nldas_hourly NetCDF file not found. Falling back to slower csv files.\n",
      "# Validation:  69%|██████▉   | 358/516 [55:12<25:05,  9.53s/it]2025-06-09 20:37:03,116: ## Warning: Hourly nldas_hourly NetCDF file not found. Falling back to slower csv files.\n",
      "# Validation:  70%|██████▉   | 359/516 [55:25<27:49, 10.63s/it]2025-06-09 20:37:16,328: ## Warning: Hourly nldas_hourly NetCDF file not found. Falling back to slower csv files.\n",
      "# Validation:  70%|██████▉   | 360/516 [55:34<26:39, 10.25s/it]2025-06-09 20:37:25,682: ## Warning: Hourly nldas_hourly NetCDF file not found. Falling back to slower csv files.\n",
      "# Validation:  70%|██████▉   | 361/516 [55:47<28:35, 11.06s/it]2025-06-09 20:37:38,666: ## Warning: Hourly nldas_hourly NetCDF file not found. Falling back to slower csv files.\n",
      "# Validation:  70%|███████   | 362/516 [56:01<29:59, 11.69s/it]2025-06-09 20:37:51,788: ## Warning: Hourly nldas_hourly NetCDF file not found. Falling back to slower csv files.\n",
      "# Validation:  70%|███████   | 363/516 [56:11<28:41, 11.25s/it]2025-06-09 20:38:02,035: ## Warning: Hourly nldas_hourly NetCDF file not found. Falling back to slower csv files.\n",
      "# Validation:  71%|███████   | 364/516 [56:21<27:19, 10.79s/it]2025-06-09 20:38:11,725: ## Warning: Hourly nldas_hourly NetCDF file not found. Falling back to slower csv files.\n",
      "# Validation:  71%|███████   | 365/516 [56:34<29:11, 11.60s/it]2025-06-09 20:38:25,232: ## Warning: Hourly nldas_hourly NetCDF file not found. Falling back to slower csv files.\n",
      "# Validation:  71%|███████   | 366/516 [56:44<27:44, 11.10s/it]2025-06-09 20:38:35,216: ## Warning: Hourly nldas_hourly NetCDF file not found. Falling back to slower csv files.\n",
      "# Validation:  71%|███████   | 367/516 [56:54<26:36, 10.72s/it]2025-06-09 20:38:44,971: ## Warning: Hourly nldas_hourly NetCDF file not found. Falling back to slower csv files.\n",
      "# Validation:  71%|███████▏  | 368/516 [57:04<25:47, 10.46s/it]2025-06-09 20:38:54,827: ## Warning: Hourly nldas_hourly NetCDF file not found. Falling back to slower csv files.\n",
      "# Validation:  72%|███████▏  | 369/516 [57:13<25:05, 10.24s/it]2025-06-09 20:39:04,562: ## Warning: Hourly nldas_hourly NetCDF file not found. Falling back to slower csv files.\n",
      "# Validation:  72%|███████▏  | 370/516 [57:22<24:03,  9.89s/it]2025-06-09 20:39:13,635: ## Warning: Hourly nldas_hourly NetCDF file not found. Falling back to slower csv files.\n",
      "# Validation:  72%|███████▏  | 371/516 [57:32<23:52,  9.88s/it]2025-06-09 20:39:23,490: ## Warning: Hourly nldas_hourly NetCDF file not found. Falling back to slower csv files.\n",
      "# Validation:  72%|███████▏  | 372/516 [57:42<23:17,  9.71s/it]2025-06-09 20:39:32,793: ## Warning: Hourly nldas_hourly NetCDF file not found. Falling back to slower csv files.\n",
      "# Validation:  72%|███████▏  | 373/516 [57:51<22:58,  9.64s/it]2025-06-09 20:39:42,280: ## Warning: Hourly nldas_hourly NetCDF file not found. Falling back to slower csv files.\n",
      "# Validation:  72%|███████▏  | 374/516 [58:00<22:30,  9.51s/it]2025-06-09 20:39:51,497: ## Warning: Hourly nldas_hourly NetCDF file not found. Falling back to slower csv files.\n",
      "# Validation:  73%|███████▎  | 375/516 [58:10<22:16,  9.48s/it]2025-06-09 20:40:00,890: ## Warning: Hourly nldas_hourly NetCDF file not found. Falling back to slower csv files.\n",
      "# Validation:  73%|███████▎  | 376/516 [58:19<22:14,  9.54s/it]2025-06-09 20:40:10,556: ## Warning: Hourly nldas_hourly NetCDF file not found. Falling back to slower csv files.\n",
      "# Validation:  73%|███████▎  | 377/516 [58:28<21:48,  9.41s/it]2025-06-09 20:40:19,680: ## Warning: Hourly nldas_hourly NetCDF file not found. Falling back to slower csv files.\n",
      "# Validation:  73%|███████▎  | 378/516 [58:37<20:55,  9.10s/it]2025-06-09 20:40:28,053: ## Warning: Hourly nldas_hourly NetCDF file not found. Falling back to slower csv files.\n",
      "# Validation:  73%|███████▎  | 379/516 [58:46<21:00,  9.20s/it]2025-06-09 20:40:37,509: ## Warning: Hourly nldas_hourly NetCDF file not found. Falling back to slower csv files.\n",
      "# Validation:  74%|███████▎  | 380/516 [58:56<21:30,  9.49s/it]2025-06-09 20:40:47,669: ## Warning: Hourly nldas_hourly NetCDF file not found. Falling back to slower csv files.\n",
      "# Validation:  74%|███████▍  | 381/516 [59:06<21:20,  9.48s/it]2025-06-09 20:40:57,128: ## Warning: Hourly nldas_hourly NetCDF file not found. Falling back to slower csv files.\n",
      "# Validation:  74%|███████▍  | 382/516 [59:15<21:14,  9.51s/it]2025-06-09 20:41:06,698: ## Warning: Hourly nldas_hourly NetCDF file not found. Falling back to slower csv files.\n",
      "# Validation:  74%|███████▍  | 383/516 [59:24<20:07,  9.08s/it]2025-06-09 20:41:14,768: ## Warning: Hourly nldas_hourly NetCDF file not found. Falling back to slower csv files.\n",
      "# Validation:  74%|███████▍  | 384/516 [59:32<19:50,  9.02s/it]2025-06-09 20:41:23,634: ## Warning: Hourly nldas_hourly NetCDF file not found. Falling back to slower csv files.\n",
      "# Validation:  75%|███████▍  | 385/516 [59:42<19:51,  9.10s/it]2025-06-09 20:41:32,945: ## Warning: Hourly nldas_hourly NetCDF file not found. Falling back to slower csv files.\n",
      "# Validation:  75%|███████▍  | 386/516 [59:50<19:07,  8.83s/it]2025-06-09 20:41:41,124: ## Warning: Hourly nldas_hourly NetCDF file not found. Falling back to slower csv files.\n",
      "# Validation:  75%|███████▌  | 387/516 [59:59<19:05,  8.88s/it]2025-06-09 20:41:50,123: ## Warning: Hourly nldas_hourly NetCDF file not found. Falling back to slower csv files.\n",
      "# Validation:  75%|███████▌  | 388/516 [1:00:08<19:11,  8.99s/it]2025-06-09 20:41:59,386: ## Warning: Hourly nldas_hourly NetCDF file not found. Falling back to slower csv files.\n",
      "# Validation:  75%|███████▌  | 389/516 [1:00:17<19:10,  9.06s/it]2025-06-09 20:42:08,603: ## Warning: Hourly nldas_hourly NetCDF file not found. Falling back to slower csv files.\n",
      "# Validation:  76%|███████▌  | 390/516 [1:00:27<19:08,  9.11s/it]2025-06-09 20:42:17,848: ## Warning: Hourly nldas_hourly NetCDF file not found. Falling back to slower csv files.\n",
      "# Validation:  76%|███████▌  | 391/516 [1:00:36<19:06,  9.17s/it]2025-06-09 20:42:27,172: ## Warning: Hourly nldas_hourly NetCDF file not found. Falling back to slower csv files.\n",
      "# Validation:  76%|███████▌  | 392/516 [1:00:46<19:23,  9.39s/it]2025-06-09 20:42:37,039: ## Warning: Hourly nldas_hourly NetCDF file not found. Falling back to slower csv files.\n",
      "# Validation:  76%|███████▌  | 393/516 [1:00:55<18:54,  9.23s/it]2025-06-09 20:42:45,896: ## Warning: Hourly nldas_hourly NetCDF file not found. Falling back to slower csv files.\n",
      "# Validation:  76%|███████▋  | 394/516 [1:01:04<18:41,  9.19s/it]2025-06-09 20:42:55,002: ## Warning: Hourly nldas_hourly NetCDF file not found. Falling back to slower csv files.\n",
      "# Validation:  77%|███████▋  | 395/516 [1:01:13<18:25,  9.14s/it]2025-06-09 20:43:04,025: ## Warning: Hourly nldas_hourly NetCDF file not found. Falling back to slower csv files.\n",
      "# Validation:  77%|███████▋  | 396/516 [1:01:22<18:12,  9.10s/it]2025-06-09 20:43:13,029: ## Warning: Hourly nldas_hourly NetCDF file not found. Falling back to slower csv files.\n",
      "# Validation:  77%|███████▋  | 397/516 [1:01:31<18:14,  9.20s/it]2025-06-09 20:43:22,454: ## Warning: Hourly nldas_hourly NetCDF file not found. Falling back to slower csv files.\n",
      "# Validation:  77%|███████▋  | 398/516 [1:01:41<18:29,  9.40s/it]2025-06-09 20:43:32,327: ## Warning: Hourly nldas_hourly NetCDF file not found. Falling back to slower csv files.\n",
      "# Validation:  77%|███████▋  | 399/516 [1:01:51<18:30,  9.49s/it]2025-06-09 20:43:42,033: ## Warning: Hourly nldas_hourly NetCDF file not found. Falling back to slower csv files.\n",
      "# Validation:  78%|███████▊  | 400/516 [1:02:00<18:17,  9.46s/it]2025-06-09 20:43:51,427: ## Warning: Hourly nldas_hourly NetCDF file not found. Falling back to slower csv files.\n",
      "# Validation:  78%|███████▊  | 401/516 [1:02:09<18:00,  9.39s/it]2025-06-09 20:44:00,652: ## Warning: Hourly nldas_hourly NetCDF file not found. Falling back to slower csv files.\n",
      "# Validation:  78%|███████▊  | 402/516 [1:02:19<17:46,  9.36s/it]2025-06-09 20:44:09,941: ## Warning: Hourly nldas_hourly NetCDF file not found. Falling back to slower csv files.\n",
      "# Validation:  78%|███████▊  | 403/516 [1:02:29<17:56,  9.52s/it]2025-06-09 20:44:19,846: ## Warning: Hourly nldas_hourly NetCDF file not found. Falling back to slower csv files.\n",
      "# Validation:  78%|███████▊  | 404/516 [1:02:39<18:10,  9.74s/it]2025-06-09 20:44:30,093: ## Warning: Hourly nldas_hourly NetCDF file not found. Falling back to slower csv files.\n",
      "# Validation:  78%|███████▊  | 405/516 [1:02:49<18:09,  9.82s/it]2025-06-09 20:44:40,081: ## Warning: Hourly nldas_hourly NetCDF file not found. Falling back to slower csv files.\n",
      "# Validation:  79%|███████▊  | 406/516 [1:02:59<18:01,  9.83s/it]2025-06-09 20:44:49,957: ## Warning: Hourly nldas_hourly NetCDF file not found. Falling back to slower csv files.\n",
      "# Validation:  79%|███████▉  | 407/516 [1:03:08<17:32,  9.66s/it]2025-06-09 20:44:59,227: ## Warning: Hourly nldas_hourly NetCDF file not found. Falling back to slower csv files.\n",
      "# Validation:  79%|███████▉  | 408/516 [1:03:17<17:14,  9.58s/it]2025-06-09 20:45:08,596: ## Warning: Hourly nldas_hourly NetCDF file not found. Falling back to slower csv files.\n",
      "# Validation:  79%|███████▉  | 409/516 [1:03:27<17:19,  9.72s/it]2025-06-09 20:45:18,638: ## Warning: Hourly nldas_hourly NetCDF file not found. Falling back to slower csv files.\n",
      "# Validation:  79%|███████▉  | 410/516 [1:03:37<16:58,  9.61s/it]2025-06-09 20:45:27,999: ## Warning: Hourly nldas_hourly NetCDF file not found. Falling back to slower csv files.\n",
      "# Validation:  80%|███████▉  | 411/516 [1:03:47<16:52,  9.65s/it]2025-06-09 20:45:37,724: ## Warning: Hourly nldas_hourly NetCDF file not found. Falling back to slower csv files.\n",
      "# Validation:  80%|███████▉  | 412/516 [1:03:57<17:12,  9.92s/it]2025-06-09 20:45:48,301: ## Warning: Hourly nldas_hourly NetCDF file not found. Falling back to slower csv files.\n",
      "# Validation:  80%|████████  | 413/516 [1:04:07<16:51,  9.82s/it]2025-06-09 20:45:57,878: ## Warning: Hourly nldas_hourly NetCDF file not found. Falling back to slower csv files.\n",
      "# Validation:  80%|████████  | 414/516 [1:04:17<16:42,  9.83s/it]2025-06-09 20:46:07,731: ## Warning: Hourly nldas_hourly NetCDF file not found. Falling back to slower csv files.\n",
      "# Validation:  80%|████████  | 415/516 [1:04:26<16:14,  9.65s/it]2025-06-09 20:46:16,973: ## Warning: Hourly nldas_hourly NetCDF file not found. Falling back to slower csv files.\n",
      "# Validation:  81%|████████  | 416/516 [1:04:35<15:45,  9.45s/it]2025-06-09 20:46:25,955: ## Warning: Hourly nldas_hourly NetCDF file not found. Falling back to slower csv files.\n",
      "# Validation:  81%|████████  | 417/516 [1:04:45<15:52,  9.62s/it]2025-06-09 20:46:35,958: ## Warning: Hourly nldas_hourly NetCDF file not found. Falling back to slower csv files.\n",
      "# Validation:  81%|████████  | 418/516 [1:04:54<15:42,  9.62s/it]2025-06-09 20:46:45,588: ## Warning: Hourly nldas_hourly NetCDF file not found. Falling back to slower csv files.\n",
      "# Validation:  81%|████████  | 419/516 [1:05:04<15:41,  9.71s/it]2025-06-09 20:46:55,519: ## Warning: Hourly nldas_hourly NetCDF file not found. Falling back to slower csv files.\n",
      "# Validation:  81%|████████▏ | 420/516 [1:05:14<15:18,  9.57s/it]2025-06-09 20:47:04,763: ## Warning: Hourly nldas_hourly NetCDF file not found. Falling back to slower csv files.\n",
      "# Validation:  82%|████████▏ | 421/516 [1:05:22<14:25,  9.11s/it]2025-06-09 20:47:12,771: ## Warning: Hourly nldas_hourly NetCDF file not found. Falling back to slower csv files.\n",
      "# Validation:  82%|████████▏ | 422/516 [1:05:31<14:29,  9.25s/it]2025-06-09 20:47:22,371: ## Warning: Hourly nldas_hourly NetCDF file not found. Falling back to slower csv files.\n",
      "# Validation:  82%|████████▏ | 423/516 [1:05:40<14:15,  9.20s/it]2025-06-09 20:47:31,451: ## Warning: Hourly nldas_hourly NetCDF file not found. Falling back to slower csv files.\n",
      "# Validation:  82%|████████▏ | 424/516 [1:05:49<13:41,  8.93s/it]2025-06-09 20:47:39,744: ## Warning: Hourly nldas_hourly NetCDF file not found. Falling back to slower csv files.\n",
      "# Validation:  82%|████████▏ | 425/516 [1:05:58<13:53,  9.16s/it]2025-06-09 20:47:49,436: ## Warning: Hourly nldas_hourly NetCDF file not found. Falling back to slower csv files.\n",
      "# Validation:  83%|████████▎ | 426/516 [1:06:07<13:30,  9.01s/it]2025-06-09 20:47:58,093: ## Warning: Hourly nldas_hourly NetCDF file not found. Falling back to slower csv files.\n",
      "# Validation:  83%|████████▎ | 427/516 [1:06:16<13:32,  9.12s/it]2025-06-09 20:48:07,481: ## Warning: Hourly nldas_hourly NetCDF file not found. Falling back to slower csv files.\n",
      "# Validation:  83%|████████▎ | 428/516 [1:06:26<13:29,  9.19s/it]2025-06-09 20:48:16,848: ## Warning: Hourly nldas_hourly NetCDF file not found. Falling back to slower csv files.\n",
      "# Validation:  83%|████████▎ | 429/516 [1:06:35<13:23,  9.23s/it]2025-06-09 20:48:26,158: ## Warning: Hourly nldas_hourly NetCDF file not found. Falling back to slower csv files.\n",
      "# Validation:  83%|████████▎ | 430/516 [1:06:44<13:05,  9.14s/it]2025-06-09 20:48:35,065: ## Warning: Hourly nldas_hourly NetCDF file not found. Falling back to slower csv files.\n",
      "# Validation:  84%|████████▎ | 431/516 [1:06:53<13:07,  9.27s/it]2025-06-09 20:48:44,651: ## Warning: Hourly nldas_hourly NetCDF file not found. Falling back to slower csv files.\n",
      "# Validation:  84%|████████▎ | 432/516 [1:07:03<12:56,  9.24s/it]2025-06-09 20:48:53,828: ## Warning: Hourly nldas_hourly NetCDF file not found. Falling back to slower csv files.\n",
      "# Validation:  84%|████████▍ | 433/516 [1:07:12<12:57,  9.36s/it]2025-06-09 20:49:03,474: ## Warning: Hourly nldas_hourly NetCDF file not found. Falling back to slower csv files.\n",
      "# Validation:  84%|████████▍ | 434/516 [1:07:21<12:32,  9.18s/it]2025-06-09 20:49:12,234: ## Warning: Hourly nldas_hourly NetCDF file not found. Falling back to slower csv files.\n",
      "# Validation:  84%|████████▍ | 435/516 [1:07:31<12:41,  9.40s/it]2025-06-09 20:49:22,126: ## Warning: Hourly nldas_hourly NetCDF file not found. Falling back to slower csv files.\n",
      "# Validation:  84%|████████▍ | 436/516 [1:07:41<12:46,  9.58s/it]2025-06-09 20:49:32,142: ## Warning: Hourly nldas_hourly NetCDF file not found. Falling back to slower csv files.\n",
      "# Validation:  85%|████████▍ | 437/516 [1:07:50<12:14,  9.30s/it]2025-06-09 20:49:40,791: ## Warning: Hourly nldas_hourly NetCDF file not found. Falling back to slower csv files.\n",
      "# Validation:  85%|████████▍ | 438/516 [1:07:59<12:12,  9.40s/it]2025-06-09 20:49:50,409: ## Warning: Hourly nldas_hourly NetCDF file not found. Falling back to slower csv files.\n",
      "# Validation:  85%|████████▌ | 439/516 [1:08:08<11:53,  9.27s/it]2025-06-09 20:49:59,379: ## Warning: Hourly nldas_hourly NetCDF file not found. Falling back to slower csv files.\n",
      "# Validation:  85%|████████▌ | 440/516 [1:08:16<11:15,  8.89s/it]2025-06-09 20:50:07,376: ## Warning: Hourly nldas_hourly NetCDF file not found. Falling back to slower csv files.\n",
      "# Validation:  85%|████████▌ | 441/516 [1:08:26<11:31,  9.22s/it]2025-06-09 20:50:17,364: ## Warning: Hourly nldas_hourly NetCDF file not found. Falling back to slower csv files.\n",
      "# Validation:  86%|████████▌ | 442/516 [1:08:35<11:19,  9.18s/it]2025-06-09 20:50:26,446: ## Warning: Hourly nldas_hourly NetCDF file not found. Falling back to slower csv files.\n",
      "# Validation:  86%|████████▌ | 443/516 [1:08:43<10:45,  8.84s/it]2025-06-09 20:50:34,507: ## Warning: Hourly nldas_hourly NetCDF file not found. Falling back to slower csv files.\n",
      "# Validation:  86%|████████▌ | 444/516 [1:08:53<10:55,  9.10s/it]2025-06-09 20:50:44,219: ## Warning: Hourly nldas_hourly NetCDF file not found. Falling back to slower csv files.\n",
      "# Validation:  86%|████████▌ | 445/516 [1:09:02<10:48,  9.14s/it]2025-06-09 20:50:53,425: ## Warning: Hourly nldas_hourly NetCDF file not found. Falling back to slower csv files.\n",
      "# Validation:  86%|████████▋ | 446/516 [1:09:12<10:43,  9.19s/it]2025-06-09 20:51:02,744: ## Warning: Hourly nldas_hourly NetCDF file not found. Falling back to slower csv files.\n",
      "# Validation:  87%|████████▋ | 447/516 [1:09:21<10:48,  9.39s/it]2025-06-09 20:51:12,609: ## Warning: Hourly nldas_hourly NetCDF file not found. Falling back to slower csv files.\n",
      "# Validation:  87%|████████▋ | 448/516 [1:09:31<10:37,  9.37s/it]2025-06-09 20:51:21,944: ## Warning: Hourly nldas_hourly NetCDF file not found. Falling back to slower csv files.\n",
      "# Validation:  87%|████████▋ | 449/516 [1:09:40<10:29,  9.40s/it]2025-06-09 20:51:31,406: ## Warning: Hourly nldas_hourly NetCDF file not found. Falling back to slower csv files.\n",
      "# Validation:  87%|████████▋ | 450/516 [1:09:50<10:28,  9.53s/it]2025-06-09 20:51:41,233: ## Warning: Hourly nldas_hourly NetCDF file not found. Falling back to slower csv files.\n",
      "# Validation:  87%|████████▋ | 451/516 [1:10:00<10:24,  9.61s/it]2025-06-09 20:51:51,026: ## Warning: Hourly nldas_hourly NetCDF file not found. Falling back to slower csv files.\n",
      "# Validation:  88%|████████▊ | 452/516 [1:10:10<10:19,  9.68s/it]2025-06-09 20:52:00,868: ## Warning: Hourly nldas_hourly NetCDF file not found. Falling back to slower csv files.\n",
      "# Validation:  88%|████████▊ | 453/516 [1:10:19<10:09,  9.68s/it]2025-06-09 20:52:10,545: ## Warning: Hourly nldas_hourly NetCDF file not found. Falling back to slower csv files.\n",
      "# Validation:  88%|████████▊ | 454/516 [1:10:29<09:59,  9.66s/it]2025-06-09 20:52:20,171: ## Warning: Hourly nldas_hourly NetCDF file not found. Falling back to slower csv files.\n",
      "# Validation:  88%|████████▊ | 455/516 [1:10:39<10:00,  9.85s/it]2025-06-09 20:52:30,465: ## Warning: Hourly nldas_hourly NetCDF file not found. Falling back to slower csv files.\n",
      "# Validation:  88%|████████▊ | 456/516 [1:10:48<09:39,  9.66s/it]2025-06-09 20:52:39,690: ## Warning: Hourly nldas_hourly NetCDF file not found. Falling back to slower csv files.\n",
      "# Validation:  89%|████████▊ | 457/516 [1:10:58<09:30,  9.67s/it]2025-06-09 20:52:49,350: ## Warning: Hourly nldas_hourly NetCDF file not found. Falling back to slower csv files.\n",
      "# Validation:  89%|████████▉ | 458/516 [1:11:08<09:17,  9.61s/it]2025-06-09 20:52:58,832: ## Warning: Hourly nldas_hourly NetCDF file not found. Falling back to slower csv files.\n",
      "# Validation:  89%|████████▉ | 459/516 [1:11:17<09:10,  9.66s/it]2025-06-09 20:53:08,614: ## Warning: Hourly nldas_hourly NetCDF file not found. Falling back to slower csv files.\n",
      "# Validation:  89%|████████▉ | 460/516 [1:11:27<08:56,  9.58s/it]2025-06-09 20:53:18,008: ## Warning: Hourly nldas_hourly NetCDF file not found. Falling back to slower csv files.\n",
      "# Validation:  89%|████████▉ | 461/516 [1:11:36<08:46,  9.57s/it]2025-06-09 20:53:27,566: ## Warning: Hourly nldas_hourly NetCDF file not found. Falling back to slower csv files.\n",
      "# Validation:  90%|████████▉ | 462/516 [1:11:46<08:41,  9.65s/it]2025-06-09 20:53:37,488: ## Warning: Hourly nldas_hourly NetCDF file not found. Falling back to slower csv files.\n",
      "# Validation:  90%|████████▉ | 463/516 [1:11:56<08:34,  9.71s/it]2025-06-09 20:53:47,256: ## Warning: Hourly nldas_hourly NetCDF file not found. Falling back to slower csv files.\n",
      "# Validation:  90%|████████▉ | 464/516 [1:12:05<08:19,  9.61s/it]2025-06-09 20:53:56,635: ## Warning: Hourly nldas_hourly NetCDF file not found. Falling back to slower csv files.\n",
      "# Validation:  90%|█████████ | 465/516 [1:12:15<08:11,  9.65s/it]2025-06-09 20:54:06,368: ## Warning: Hourly nldas_hourly NetCDF file not found. Falling back to slower csv files.\n",
      "# Validation:  90%|█████████ | 466/516 [1:12:25<08:04,  9.68s/it]2025-06-09 20:54:16,132: ## Warning: Hourly nldas_hourly NetCDF file not found. Falling back to slower csv files.\n",
      "# Validation:  91%|█████████ | 467/516 [1:12:33<07:36,  9.31s/it]2025-06-09 20:54:24,577: ## Warning: Hourly nldas_hourly NetCDF file not found. Falling back to slower csv files.\n",
      "# Validation:  91%|█████████ | 468/516 [1:12:43<07:34,  9.47s/it]2025-06-09 20:54:34,406: ## Warning: Hourly nldas_hourly NetCDF file not found. Falling back to slower csv files.\n",
      "# Validation:  91%|█████████ | 469/516 [1:12:53<07:30,  9.59s/it]2025-06-09 20:54:44,296: ## Warning: Hourly nldas_hourly NetCDF file not found. Falling back to slower csv files.\n",
      "# Validation:  91%|█████████ | 470/516 [1:13:03<07:25,  9.68s/it]2025-06-09 20:54:54,189: ## Warning: Hourly nldas_hourly NetCDF file not found. Falling back to slower csv files.\n",
      "# Validation:  91%|█████████▏| 471/516 [1:13:12<07:12,  9.61s/it]2025-06-09 20:55:03,647: ## Warning: Hourly nldas_hourly NetCDF file not found. Falling back to slower csv files.\n",
      "# Validation:  91%|█████████▏| 472/516 [1:13:21<06:47,  9.26s/it]2025-06-09 20:55:12,055: ## Warning: Hourly nldas_hourly NetCDF file not found. Falling back to slower csv files.\n",
      "# Validation:  92%|█████████▏| 473/516 [1:13:30<06:43,  9.38s/it]2025-06-09 20:55:21,711: ## Warning: Hourly nldas_hourly NetCDF file not found. Falling back to slower csv files.\n",
      "# Validation:  92%|█████████▏| 474/516 [1:13:40<06:34,  9.38s/it]2025-06-09 20:55:31,108: ## Warning: Hourly nldas_hourly NetCDF file not found. Falling back to slower csv files.\n",
      "# Validation:  92%|█████████▏| 475/516 [1:13:49<06:19,  9.26s/it]2025-06-09 20:55:40,079: ## Warning: Hourly nldas_hourly NetCDF file not found. Falling back to slower csv files.\n",
      "# Validation:  92%|█████████▏| 476/516 [1:13:58<06:11,  9.29s/it]2025-06-09 20:55:49,468: ## Warning: Hourly nldas_hourly NetCDF file not found. Falling back to slower csv files.\n",
      "# Validation:  92%|█████████▏| 477/516 [1:14:08<06:08,  9.45s/it]2025-06-09 20:55:59,265: ## Warning: Hourly nldas_hourly NetCDF file not found. Falling back to slower csv files.\n",
      "# Validation:  93%|█████████▎| 478/516 [1:14:16<05:46,  9.13s/it]2025-06-09 20:56:07,639: ## Warning: Hourly nldas_hourly NetCDF file not found. Falling back to slower csv files.\n",
      "# Validation:  93%|█████████▎| 479/516 [1:14:26<05:45,  9.34s/it]2025-06-09 20:56:17,458: ## Warning: Hourly nldas_hourly NetCDF file not found. Falling back to slower csv files.\n",
      "# Validation:  93%|█████████▎| 480/516 [1:14:35<05:33,  9.26s/it]2025-06-09 20:56:26,535: ## Warning: Hourly nldas_hourly NetCDF file not found. Falling back to slower csv files.\n",
      "# Validation:  93%|█████████▎| 481/516 [1:14:45<05:31,  9.47s/it]2025-06-09 20:56:36,501: ## Warning: Hourly nldas_hourly NetCDF file not found. Falling back to slower csv files.\n",
      "# Validation:  93%|█████████▎| 482/516 [1:14:55<05:28,  9.66s/it]2025-06-09 20:56:46,625: ## Warning: Hourly nldas_hourly NetCDF file not found. Falling back to slower csv files.\n",
      "# Validation:  94%|█████████▎| 483/516 [1:15:06<05:23,  9.82s/it]2025-06-09 20:56:56,795: ## Warning: Hourly nldas_hourly NetCDF file not found. Falling back to slower csv files.\n",
      "# Validation:  94%|█████████▍| 484/516 [1:15:15<05:13,  9.80s/it]2025-06-09 20:57:06,537: ## Warning: Hourly nldas_hourly NetCDF file not found. Falling back to slower csv files.\n",
      "# Validation:  94%|█████████▍| 485/516 [1:15:25<05:02,  9.76s/it]2025-06-09 20:57:16,220: ## Warning: Hourly nldas_hourly NetCDF file not found. Falling back to slower csv files.\n",
      "# Validation:  94%|█████████▍| 486/516 [1:15:34<04:42,  9.42s/it]2025-06-09 20:57:24,828: ## Warning: Hourly nldas_hourly NetCDF file not found. Falling back to slower csv files.\n",
      "# Validation:  94%|█████████▍| 487/516 [1:15:43<04:35,  9.49s/it]2025-06-09 20:57:34,505: ## Warning: Hourly nldas_hourly NetCDF file not found. Falling back to slower csv files.\n",
      "# Validation:  95%|█████████▍| 488/516 [1:15:53<04:26,  9.50s/it]2025-06-09 20:57:44,024: ## Warning: Hourly nldas_hourly NetCDF file not found. Falling back to slower csv files.\n",
      "# Validation:  95%|█████████▍| 489/516 [1:16:03<04:19,  9.60s/it]2025-06-09 20:57:53,863: ## Warning: Hourly nldas_hourly NetCDF file not found. Falling back to slower csv files.\n",
      "# Validation:  95%|█████████▍| 490/516 [1:16:12<04:11,  9.66s/it]2025-06-09 20:58:03,652: ## Warning: Hourly nldas_hourly NetCDF file not found. Falling back to slower csv files.\n",
      "# Validation:  95%|█████████▌| 491/516 [1:16:22<04:01,  9.66s/it]2025-06-09 20:58:13,312: ## Warning: Hourly nldas_hourly NetCDF file not found. Falling back to slower csv files.\n",
      "# Validation:  95%|█████████▌| 492/516 [1:16:32<03:52,  9.71s/it]2025-06-09 20:58:23,133: ## Warning: Hourly nldas_hourly NetCDF file not found. Falling back to slower csv files.\n",
      "# Validation:  96%|█████████▌| 493/516 [1:16:41<03:42,  9.66s/it]2025-06-09 20:58:32,698: ## Warning: Hourly nldas_hourly NetCDF file not found. Falling back to slower csv files.\n",
      "# Validation:  96%|█████████▌| 494/516 [1:16:51<03:31,  9.60s/it]2025-06-09 20:58:42,152: ## Warning: Hourly nldas_hourly NetCDF file not found. Falling back to slower csv files.\n",
      "# Validation:  96%|█████████▌| 495/516 [1:17:01<03:23,  9.70s/it]2025-06-09 20:58:52,100: ## Warning: Hourly nldas_hourly NetCDF file not found. Falling back to slower csv files.\n",
      "# Validation:  96%|█████████▌| 496/516 [1:17:11<03:14,  9.71s/it]2025-06-09 20:59:01,820: ## Warning: Hourly nldas_hourly NetCDF file not found. Falling back to slower csv files.\n",
      "# Validation:  96%|█████████▋| 497/516 [1:17:21<03:06,  9.83s/it]2025-06-09 20:59:11,930: ## Warning: Hourly nldas_hourly NetCDF file not found. Falling back to slower csv files.\n",
      "# Validation:  97%|█████████▋| 498/516 [1:17:30<02:56,  9.80s/it]2025-06-09 20:59:21,675: ## Warning: Hourly nldas_hourly NetCDF file not found. Falling back to slower csv files.\n",
      "# Validation:  97%|█████████▋| 499/516 [1:17:40<02:45,  9.74s/it]2025-06-09 20:59:31,263: ## Warning: Hourly nldas_hourly NetCDF file not found. Falling back to slower csv files.\n",
      "# Validation:  97%|█████████▋| 500/516 [1:17:50<02:36,  9.81s/it]2025-06-09 20:59:41,255: ## Warning: Hourly nldas_hourly NetCDF file not found. Falling back to slower csv files.\n",
      "# Validation:  97%|█████████▋| 501/516 [1:18:00<02:28,  9.92s/it]2025-06-09 20:59:51,424: ## Warning: Hourly nldas_hourly NetCDF file not found. Falling back to slower csv files.\n",
      "# Validation:  97%|█████████▋| 502/516 [1:18:10<02:19,  9.94s/it]2025-06-09 21:00:01,418: ## Warning: Hourly nldas_hourly NetCDF file not found. Falling back to slower csv files.\n",
      "# Validation:  97%|█████████▋| 503/516 [1:18:25<02:29, 11.49s/it]2025-06-09 21:00:16,525: ## Warning: Hourly nldas_hourly NetCDF file not found. Falling back to slower csv files.\n",
      "# Validation:  98%|█████████▊| 504/516 [1:18:34<02:07, 10.65s/it]2025-06-09 21:00:25,195: ## Warning: Hourly nldas_hourly NetCDF file not found. Falling back to slower csv files.\n"
     ]
    },
    {
     "name": "stderr",
     "output_type": "stream",
     "text": [
      "c:\\project files\\alex\\neuralhydrology\\neuralhydrology\\datasetzoo\\hourlycamelsus.py:231: DtypeWarning: Columns (3) have mixed types. Specify dtype option on import or set low_memory=False.\n",
      "  return pd.read_csv(file_path, index_col=['date'], parse_dates=['date'])\n"
     ]
    },
    {
     "name": "stdout",
     "output_type": "stream",
     "text": [
      "# Validation:  98%|█████████▊| 505/516 [1:18:44<01:55, 10.49s/it]2025-06-09 21:00:35,328: ## Warning: Hourly nldas_hourly NetCDF file not found. Falling back to slower csv files.\n",
      "# Validation:  98%|█████████▊| 506/516 [1:18:55<01:46, 10.65s/it]2025-06-09 21:00:46,324: ## Warning: Hourly nldas_hourly NetCDF file not found. Falling back to slower csv files.\n",
      "# Validation:  98%|█████████▊| 507/516 [1:19:03<01:29,  9.96s/it]2025-06-09 21:00:54,709: ## Warning: Hourly nldas_hourly NetCDF file not found. Falling back to slower csv files.\n",
      "# Validation:  98%|█████████▊| 508/516 [1:19:13<01:18,  9.87s/it]2025-06-09 21:01:04,348: ## Warning: Hourly nldas_hourly NetCDF file not found. Falling back to slower csv files.\n",
      "# Validation:  99%|█████████▊| 509/516 [1:19:22<01:07,  9.58s/it]2025-06-09 21:01:13,249: ## Warning: Hourly nldas_hourly NetCDF file not found. Falling back to slower csv files.\n",
      "# Validation:  99%|█████████▉| 510/516 [1:19:32<00:57,  9.65s/it]2025-06-09 21:01:23,070: ## Warning: Hourly nldas_hourly NetCDF file not found. Falling back to slower csv files.\n",
      "# Validation:  99%|█████████▉| 511/516 [1:19:40<00:46,  9.32s/it]2025-06-09 21:01:31,636: ## Warning: Hourly nldas_hourly NetCDF file not found. Falling back to slower csv files.\n",
      "# Validation:  99%|█████████▉| 512/516 [1:19:50<00:37,  9.44s/it]2025-06-09 21:01:41,335: ## Warning: Hourly nldas_hourly NetCDF file not found. Falling back to slower csv files.\n",
      "# Validation:  99%|█████████▉| 513/516 [1:20:00<00:28,  9.54s/it]2025-06-09 21:01:51,124: ## Warning: Hourly nldas_hourly NetCDF file not found. Falling back to slower csv files.\n",
      "# Validation: 100%|█████████▉| 514/516 [1:20:10<00:19,  9.63s/it]2025-06-09 21:02:00,973: ## Warning: Hourly nldas_hourly NetCDF file not found. Falling back to slower csv files.\n",
      "# Validation: 100%|█████████▉| 515/516 [1:20:19<00:09,  9.66s/it]2025-06-09 21:02:10,685: ## Warning: Hourly nldas_hourly NetCDF file not found. Falling back to slower csv files.\n",
      "# Validation: 100%|██████████| 516/516 [1:20:29<00:00,  9.36s/it]\n",
      "2025-06-09 21:02:20,423: Stored metrics at c:\\Project Files\\Alex\\neuralhydrology\\own\\MtslstmCMAL\\runs\\test_run_0906_184435\\validation\\model_epoch005\\validation_metrics.csv\n",
      "2025-06-09 21:02:28,146: Stored results at c:\\Project Files\\Alex\\neuralhydrology\\own\\MtslstmCMAL\\runs\\test_run_0906_184435\\validation\\model_epoch005\\validation_results.p\n",
      "2025-06-09 21:02:28,590: Current Learning Rate: 5e-05\n",
      "2025-06-09 21:02:28,591: Scheduler state after step - best: -20.776051\n",
      "2025-06-09 21:02:28,593: Scheduler state after step - num_bad_epochs: 0\n",
      "2025-06-09 21:02:28,596: Scheduler state after step - last_epoch: 1\n",
      "2025-06-09 21:02:28,599: \n",
      "2025-06-09 21:02:28,601: Epoch 5 average validation loss: -20.77605 -- Median validation metrics: avg_loss: -20.83649, avg_tie_frequencies_cmal: 0.05939, NSE_1h: 0.33162, NSE_1D: 0.24955\n",
      "# Epoch 6: 100%|██████████| 5863/5863 [06:38<00:00, 14.70it/s, Loss: -29.0552]  \n",
      "2025-06-09 21:09:07,446: Epoch 6 average loss: avg_loss: -23.33698, avg_tie_frequencies_cmal: 0.08404, avg_total_loss: -23.25294\n",
      "# Epoch 7: 100%|██████████| 5863/5863 [06:24<00:00, 15.23it/s, Loss: -22.4280]  \n",
      "2025-06-09 21:15:32,337: Epoch 7 average loss: avg_loss: -24.87234, avg_tie_frequencies_cmal: 0.08445, avg_total_loss: -24.78789\n",
      "# Epoch 8: 100%|██████████| 5863/5863 [06:42<00:00, 14.58it/s, Loss: -25.5138]  \n",
      "2025-06-09 21:22:14,462: Epoch 8 average loss: avg_loss: -25.99226, avg_tie_frequencies_cmal: 0.08331, avg_total_loss: -25.90895\n",
      "# Epoch 9: 100%|██████████| 5863/5863 [06:35<00:00, 14.82it/s, Loss: -26.3689]  \n",
      "2025-06-09 21:28:50,073: Epoch 9 average loss: avg_loss: -27.02885, avg_tie_frequencies_cmal: 0.08336, avg_total_loss: -26.94549\n",
      "# Epoch 10: 100%|██████████| 5863/5863 [06:25<00:00, 15.19it/s, Loss: -27.0966]  \n",
      "2025-06-09 21:35:16,060: Epoch 10 average loss: avg_loss: -27.96267, avg_tie_frequencies_cmal: 0.08422, avg_total_loss: -27.87845\n",
      "# Validation: 100%|██████████| 516/516 [58:04<00:00,  6.75s/it] \n",
      "2025-06-09 22:33:20,308: Stored metrics at c:\\Project Files\\Alex\\neuralhydrology\\own\\MtslstmCMAL\\runs\\test_run_0906_184435\\validation\\model_epoch010\\validation_metrics.csv\n",
      "2025-06-09 22:33:26,654: Stored results at c:\\Project Files\\Alex\\neuralhydrology\\own\\MtslstmCMAL\\runs\\test_run_0906_184435\\validation\\model_epoch010\\validation_results.p\n",
      "2025-06-09 22:33:27,014: Current Learning Rate: 5e-05\n",
      "2025-06-09 22:33:27,014: Scheduler state after step - best: -22.390225\n",
      "2025-06-09 22:33:27,017: Scheduler state after step - num_bad_epochs: 0\n",
      "2025-06-09 22:33:27,019: Scheduler state after step - last_epoch: 2\n",
      "2025-06-09 22:33:27,020: \n",
      "2025-06-09 22:33:27,020: Epoch 10 average validation loss: -22.39023 -- Median validation metrics: avg_loss: -22.44622, avg_tie_frequencies_cmal: 0.05494, NSE_1h: 0.38252, NSE_1D: 0.29013\n",
      "# Epoch 11: 100%|██████████| 5863/5863 [06:18<00:00, 15.49it/s, Loss: -30.7376]  \n",
      "2025-06-09 22:39:45,651: Epoch 11 average loss: avg_loss: -28.76486, avg_tie_frequencies_cmal: 0.08428, avg_total_loss: -28.68059\n",
      "# Epoch 12: 100%|██████████| 5863/5863 [06:43<00:00, 14.53it/s, Loss: -26.8925]  \n",
      "2025-06-09 22:46:29,180: Epoch 12 average loss: avg_loss: -29.64017, avg_tie_frequencies_cmal: 0.08452, avg_total_loss: -29.55565\n",
      "# Epoch 13: 100%|██████████| 5863/5863 [06:15<00:00, 15.63it/s, Loss: -33.1542]  \n",
      "2025-06-09 22:52:44,385: Epoch 13 average loss: avg_loss: -30.39948, avg_tie_frequencies_cmal: 0.08450, avg_total_loss: -30.31498\n",
      "# Epoch 14: 100%|██████████| 5863/5863 [06:09<00:00, 15.85it/s, Loss: -31.3580]  \n",
      "2025-06-09 22:58:54,228: Epoch 14 average loss: avg_loss: -31.05993, avg_tie_frequencies_cmal: 0.08482, avg_total_loss: -30.97511\n",
      "# Epoch 15: 100%|██████████| 5863/5863 [06:07<00:00, 15.94it/s, Loss: -34.2329]  \n",
      "2025-06-09 23:05:01,988: Epoch 15 average loss: avg_loss: -31.80622, avg_tie_frequencies_cmal: 0.08620, avg_total_loss: -31.72002\n",
      "# Validation: 100%|██████████| 516/516 [57:31<00:00,  6.69s/it] \n",
      "2025-06-10 00:02:33,048: Stored metrics at c:\\Project Files\\Alex\\neuralhydrology\\own\\MtslstmCMAL\\runs\\test_run_0906_184435\\validation\\model_epoch015\\validation_metrics.csv\n",
      "2025-06-10 00:02:38,419: Stored results at c:\\Project Files\\Alex\\neuralhydrology\\own\\MtslstmCMAL\\runs\\test_run_0906_184435\\validation\\model_epoch015\\validation_results.p\n",
      "2025-06-10 00:02:38,837: Current Learning Rate: 5e-05\n",
      "2025-06-10 00:02:38,838: Scheduler state after step - best: -22.728726\n",
      "2025-06-10 00:02:38,839: Scheduler state after step - num_bad_epochs: 0\n",
      "2025-06-10 00:02:38,840: Scheduler state after step - last_epoch: 3\n",
      "2025-06-10 00:02:38,841: \n",
      "2025-06-10 00:02:38,844: Epoch 15 average validation loss: -22.72873 -- Median validation metrics: avg_loss: -22.78656, avg_tie_frequencies_cmal: 0.05683, NSE_1h: 0.37371, NSE_1D: 0.26860\n",
      "# Epoch 16: 100%|██████████| 5863/5863 [06:31<00:00, 14.99it/s, Loss: -33.9376]  \n",
      "2025-06-10 00:09:09,945: Epoch 16 average loss: avg_loss: -32.26069, avg_tie_frequencies_cmal: 0.08638, avg_total_loss: -32.17430\n",
      "# Epoch 17: 100%|██████████| 5863/5863 [06:21<00:00, 15.37it/s, Loss: -31.5241]  \n",
      "2025-06-10 00:15:31,408: Epoch 17 average loss: avg_loss: -32.91508, avg_tie_frequencies_cmal: 0.08752, avg_total_loss: -32.82756\n",
      "# Epoch 18: 100%|██████████| 5863/5863 [06:35<00:00, 14.82it/s, Loss: -32.0479]  \n",
      "2025-06-10 00:22:07,146: Epoch 18 average loss: avg_loss: -33.42138, avg_tie_frequencies_cmal: 0.08877, avg_total_loss: -33.33262\n",
      "# Epoch 19: 100%|██████████| 5863/5863 [06:19<00:00, 15.43it/s, Loss: -34.8337]  \n",
      "2025-06-10 00:28:27,109: Epoch 19 average loss: avg_loss: -33.84691, avg_tie_frequencies_cmal: 0.08944, avg_total_loss: -33.75747\n",
      "# Epoch 20: 100%|██████████| 5863/5863 [06:32<00:00, 14.94it/s, Loss: -39.5835]  \n",
      "2025-06-10 00:34:59,461: Epoch 20 average loss: avg_loss: -34.34217, avg_tie_frequencies_cmal: 0.09047, avg_total_loss: -34.25170\n",
      "# Validation: 100%|██████████| 516/516 [57:31<00:00,  6.69s/it] \n",
      "2025-06-10 01:32:30,962: Stored metrics at c:\\Project Files\\Alex\\neuralhydrology\\own\\MtslstmCMAL\\runs\\test_run_0906_184435\\validation\\model_epoch020\\validation_metrics.csv\n",
      "2025-06-10 01:32:36,596: Stored results at c:\\Project Files\\Alex\\neuralhydrology\\own\\MtslstmCMAL\\runs\\test_run_0906_184435\\validation\\model_epoch020\\validation_results.p\n",
      "2025-06-10 01:32:36,963: Current Learning Rate: 5e-05\n",
      "2025-06-10 01:32:36,964: Scheduler state after step - best: -22.728726\n",
      "2025-06-10 01:32:36,968: Scheduler state after step - num_bad_epochs: 1\n",
      "2025-06-10 01:32:36,969: Scheduler state after step - last_epoch: 4\n",
      "2025-06-10 01:32:36,971: \n",
      "2025-06-10 01:32:36,972: Epoch 20 average validation loss: -21.43330 -- Median validation metrics: avg_loss: -21.50069, avg_tie_frequencies_cmal: 0.06629, NSE_1h: 0.37633, NSE_1D: 0.27562\n",
      "# Epoch 21: 100%|██████████| 5863/5863 [06:28<00:00, 15.10it/s, Loss: -30.2838]  \n",
      "2025-06-10 01:39:05,187: Epoch 21 average loss: avg_loss: -34.90402, avg_tie_frequencies_cmal: 0.09083, avg_total_loss: -34.81319\n",
      "# Epoch 22: 100%|██████████| 5863/5863 [06:23<00:00, 15.30it/s, Loss: -40.4681]  \n",
      "2025-06-10 01:45:28,340: Epoch 22 average loss: avg_loss: -35.26817, avg_tie_frequencies_cmal: 0.09276, avg_total_loss: -35.17541\n",
      "# Epoch 23: 100%|██████████| 5863/5863 [06:26<00:00, 15.16it/s, Loss: -36.4325]  \n",
      "2025-06-10 01:51:55,048: Epoch 23 average loss: avg_loss: -35.69848, avg_tie_frequencies_cmal: 0.09386, avg_total_loss: -35.60462\n",
      "# Epoch 24: 100%|██████████| 5863/5863 [06:24<00:00, 15.23it/s, Loss: -31.0603]  \n",
      "2025-06-10 01:58:19,987: Epoch 24 average loss: avg_loss: -35.97094, avg_tie_frequencies_cmal: 0.09555, avg_total_loss: -35.87538\n",
      "# Epoch 25: 100%|██████████| 5863/5863 [06:24<00:00, 15.27it/s, Loss: -33.3944]  \n",
      "2025-06-10 02:04:44,078: Epoch 25 average loss: avg_loss: -36.38657, avg_tie_frequencies_cmal: 0.09611, avg_total_loss: -36.29046\n",
      "# Validation: 100%|██████████| 516/516 [57:35<00:00,  6.70s/it] \n",
      "2025-06-10 03:02:19,115: Stored metrics at c:\\Project Files\\Alex\\neuralhydrology\\own\\MtslstmCMAL\\runs\\test_run_0906_184435\\validation\\model_epoch025\\validation_metrics.csv\n",
      "2025-06-10 03:02:25,285: Stored results at c:\\Project Files\\Alex\\neuralhydrology\\own\\MtslstmCMAL\\runs\\test_run_0906_184435\\validation\\model_epoch025\\validation_results.p\n",
      "2025-06-10 03:02:25,729: Current Learning Rate: 5e-05\n",
      "2025-06-10 03:02:25,731: Scheduler state after step - best: -22.728726\n",
      "2025-06-10 03:02:25,734: Scheduler state after step - num_bad_epochs: 2\n",
      "2025-06-10 03:02:25,736: Scheduler state after step - last_epoch: 5\n",
      "2025-06-10 03:02:25,738: \n",
      "2025-06-10 03:02:25,741: Epoch 25 average validation loss: -19.32511 -- Median validation metrics: avg_loss: -19.39397, avg_tie_frequencies_cmal: 0.06782, NSE_1h: 0.36341, NSE_1D: 0.26612\n",
      "# Epoch 26: 100%|██████████| 5863/5863 [06:26<00:00, 15.16it/s, Loss: -39.5189]  \n",
      "2025-06-10 03:08:52,425: Epoch 26 average loss: avg_loss: -36.73550, avg_tie_frequencies_cmal: 0.09683, avg_total_loss: -36.63867\n",
      "# Epoch 27: 100%|██████████| 5863/5863 [06:30<00:00, 15.02it/s, Loss: -35.2863]  \n",
      "2025-06-10 03:15:22,831: Epoch 27 average loss: avg_loss: -37.03828, avg_tie_frequencies_cmal: 0.09813, avg_total_loss: -36.94016\n",
      "# Epoch 28: 100%|██████████| 5863/5863 [06:39<00:00, 14.66it/s, Loss: -31.1781]  \n",
      "2025-06-10 03:22:02,770: Epoch 28 average loss: avg_loss: -37.29367, avg_tie_frequencies_cmal: 0.09941, avg_total_loss: -37.19426\n",
      "# Epoch 29: 100%|██████████| 5863/5863 [06:26<00:00, 15.16it/s, Loss: -38.7953]  \n",
      "2025-06-10 03:28:29,459: Epoch 29 average loss: avg_loss: -37.57657, avg_tie_frequencies_cmal: 0.09945, avg_total_loss: -37.47712\n",
      "# Epoch 30: 100%|██████████| 5863/5863 [06:34<00:00, 14.84it/s, Loss: -43.2655]  \n",
      "2025-06-10 03:35:04,469: Epoch 30 average loss: avg_loss: -37.74305, avg_tie_frequencies_cmal: 0.10002, avg_total_loss: -37.64302\n",
      "# Validation: 100%|██████████| 516/516 [57:27<00:00,  6.68s/it] \n",
      "2025-06-10 04:32:31,912: Stored metrics at c:\\Project Files\\Alex\\neuralhydrology\\own\\MtslstmCMAL\\runs\\test_run_0906_184435\\validation\\model_epoch030\\validation_metrics.csv\n",
      "2025-06-10 04:32:37,580: Stored results at c:\\Project Files\\Alex\\neuralhydrology\\own\\MtslstmCMAL\\runs\\test_run_0906_184435\\validation\\model_epoch030\\validation_results.p\n",
      "2025-06-10 04:32:38,019: Current Learning Rate: 2.5e-05\n",
      "2025-06-10 04:32:38,021: Scheduler state after step - best: -22.728726\n",
      "2025-06-10 04:32:38,022: Scheduler state after step - num_bad_epochs: 0\n",
      "2025-06-10 04:32:38,024: Scheduler state after step - last_epoch: 6\n",
      "2025-06-10 04:32:38,028: \n",
      "2025-06-10 04:32:38,029: Epoch 30 average validation loss: -17.06972 -- Median validation metrics: avg_loss: -17.13511, avg_tie_frequencies_cmal: 0.06447, NSE_1h: 0.35282, NSE_1D: 0.25223\n",
      "# Epoch 31: 100%|██████████| 5863/5863 [06:28<00:00, 15.10it/s, Loss: -34.2033]  \n",
      "2025-06-10 04:39:06,308: Epoch 31 average loss: avg_loss: -38.47882, avg_tie_frequencies_cmal: 0.10050, avg_total_loss: -38.37832\n",
      "# Epoch 32: 100%|██████████| 5863/5863 [06:18<00:00, 15.49it/s, Loss: -33.9262]  \n",
      "2025-06-10 04:45:24,733: Epoch 32 average loss: avg_loss: -38.52988, avg_tie_frequencies_cmal: 0.10009, avg_total_loss: -38.42979\n",
      "# Epoch 33: 100%|██████████| 5863/5863 [06:30<00:00, 15.02it/s, Loss: -36.3186]  \n",
      "2025-06-10 04:51:55,007: Epoch 33 average loss: avg_loss: -38.70848, avg_tie_frequencies_cmal: 0.10044, avg_total_loss: -38.60804\n",
      "# Epoch 34: 100%|██████████| 5863/5863 [06:19<00:00, 15.45it/s, Loss: -39.1779]  \n",
      "2025-06-10 04:58:14,532: Epoch 34 average loss: avg_loss: -38.79186, avg_tie_frequencies_cmal: 0.10099, avg_total_loss: -38.69087\n",
      "# Epoch 35: 100%|██████████| 5863/5863 [06:29<00:00, 15.06it/s, Loss: -40.7190]  \n",
      "2025-06-10 05:04:43,979: Epoch 35 average loss: avg_loss: -38.99356, avg_tie_frequencies_cmal: 0.10093, avg_total_loss: -38.89263\n",
      "# Validation: 100%|██████████| 516/516 [58:19<00:00,  6.78s/it] \n",
      "2025-06-10 06:03:04,001: Stored metrics at c:\\Project Files\\Alex\\neuralhydrology\\own\\MtslstmCMAL\\runs\\test_run_0906_184435\\validation\\model_epoch035\\validation_metrics.csv\n",
      "2025-06-10 06:03:10,107: Stored results at c:\\Project Files\\Alex\\neuralhydrology\\own\\MtslstmCMAL\\runs\\test_run_0906_184435\\validation\\model_epoch035\\validation_results.p\n",
      "2025-06-10 06:03:10,481: Current Learning Rate: 2.5e-05\n",
      "2025-06-10 06:03:10,483: Scheduler state after step - best: -22.728726\n",
      "2025-06-10 06:03:10,485: Scheduler state after step - num_bad_epochs: 1\n",
      "2025-06-10 06:03:10,488: Scheduler state after step - last_epoch: 7\n",
      "2025-06-10 06:03:10,491: \n",
      "2025-06-10 06:03:10,493: Epoch 35 average validation loss: -16.70944 -- Median validation metrics: avg_loss: -16.77470, avg_tie_frequencies_cmal: 0.06440, NSE_1h: 0.35565, NSE_1D: 0.24686\n",
      "# Epoch 36: 100%|██████████| 5863/5863 [06:32<00:00, 14.92it/s, Loss: -44.4806]  \n",
      "2025-06-10 06:09:43,486: Epoch 36 average loss: avg_loss: -39.01934, avg_tie_frequencies_cmal: 0.10127, avg_total_loss: -38.91807\n",
      "# Epoch 37: 100%|██████████| 5863/5863 [06:24<00:00, 15.25it/s, Loss: -41.0006]  \n",
      "2025-06-10 06:16:07,998: Epoch 37 average loss: avg_loss: -39.14936, avg_tie_frequencies_cmal: 0.10209, avg_total_loss: -39.04728\n",
      "# Epoch 38: 100%|██████████| 5863/5863 [06:24<00:00, 15.25it/s, Loss: -45.0423]  \n",
      "2025-06-10 06:22:32,360: Epoch 38 average loss: avg_loss: -39.17745, avg_tie_frequencies_cmal: 0.10143, avg_total_loss: -39.07602\n",
      "# Epoch 39: 100%|██████████| 5863/5863 [06:24<00:00, 15.24it/s, Loss: -39.9919]  \n",
      "2025-06-10 06:28:57,001: Epoch 39 average loss: avg_loss: -39.44957, avg_tie_frequencies_cmal: 0.10163, avg_total_loss: -39.34794\n",
      "# Epoch 40: 100%|██████████| 5863/5863 [06:33<00:00, 14.90it/s, Loss: -46.6524]  \n",
      "2025-06-10 06:35:30,500: Epoch 40 average loss: avg_loss: -39.44233, avg_tie_frequencies_cmal: 0.10246, avg_total_loss: -39.33986\n",
      "# Validation: 100%|██████████| 516/516 [57:29<00:00,  6.68s/it] \n",
      "2025-06-10 07:32:59,988: Stored metrics at c:\\Project Files\\Alex\\neuralhydrology\\own\\MtslstmCMAL\\runs\\test_run_0906_184435\\validation\\model_epoch040\\validation_metrics.csv\n",
      "2025-06-10 07:33:06,188: Stored results at c:\\Project Files\\Alex\\neuralhydrology\\own\\MtslstmCMAL\\runs\\test_run_0906_184435\\validation\\model_epoch040\\validation_results.p\n",
      "2025-06-10 07:33:06,635: Current Learning Rate: 2.5e-05\n",
      "2025-06-10 07:33:06,636: Scheduler state after step - best: -22.728726\n",
      "2025-06-10 07:33:06,636: Scheduler state after step - num_bad_epochs: 2\n",
      "2025-06-10 07:33:06,640: Scheduler state after step - last_epoch: 8\n",
      "2025-06-10 07:33:06,644: \n",
      "2025-06-10 07:33:06,646: Epoch 40 average validation loss: -14.72292 -- Median validation metrics: avg_loss: -14.78423, avg_tie_frequencies_cmal: 0.06050, NSE_1h: 0.35356, NSE_1D: 0.23482\n",
      "# Epoch 41: 100%|██████████| 5863/5863 [06:27<00:00, 15.12it/s, Loss: -33.9577]  \n",
      "2025-06-10 07:39:34,328: Epoch 41 average loss: avg_loss: -39.55897, avg_tie_frequencies_cmal: 0.10223, avg_total_loss: -39.45674\n",
      "# Epoch 42: 100%|██████████| 5863/5863 [06:23<00:00, 15.28it/s, Loss: -39.9969]  \n",
      "2025-06-10 07:45:57,938: Epoch 42 average loss: avg_loss: -39.67160, avg_tie_frequencies_cmal: 0.10226, avg_total_loss: -39.56934\n",
      "# Epoch 43: 100%|██████████| 5863/5863 [06:30<00:00, 15.00it/s, Loss: -45.0356]  \n",
      "2025-06-10 07:52:28,945: Epoch 43 average loss: avg_loss: -39.76662, avg_tie_frequencies_cmal: 0.10268, avg_total_loss: -39.66395\n",
      "# Epoch 44: 100%|██████████| 5863/5863 [06:24<00:00, 15.24it/s, Loss: -38.1258]  \n",
      "2025-06-10 07:58:53,755: Epoch 44 average loss: avg_loss: -39.92493, avg_tie_frequencies_cmal: 0.10263, avg_total_loss: -39.82230\n",
      "# Epoch 45: 100%|██████████| 5863/5863 [06:34<00:00, 14.88it/s, Loss: -37.6265]  \n",
      "2025-06-10 08:05:27,791: Epoch 45 average loss: avg_loss: -39.98949, avg_tie_frequencies_cmal: 0.10221, avg_total_loss: -39.88728\n",
      "# Validation: 100%|██████████| 516/516 [57:53<00:00,  6.73s/it] \n",
      "2025-06-10 09:03:21,061: Stored metrics at c:\\Project Files\\Alex\\neuralhydrology\\own\\MtslstmCMAL\\runs\\test_run_0906_184435\\validation\\model_epoch045\\validation_metrics.csv\n",
      "2025-06-10 09:03:26,725: Stored results at c:\\Project Files\\Alex\\neuralhydrology\\own\\MtslstmCMAL\\runs\\test_run_0906_184435\\validation\\model_epoch045\\validation_results.p\n",
      "2025-06-10 09:03:27,142: Current Learning Rate: 1.25e-05\n",
      "2025-06-10 09:03:27,143: Scheduler state after step - best: -22.728726\n",
      "2025-06-10 09:03:27,144: Scheduler state after step - num_bad_epochs: 0\n",
      "2025-06-10 09:03:27,147: Scheduler state after step - last_epoch: 9\n",
      "2025-06-10 09:03:27,149: \n",
      "2025-06-10 09:03:27,151: Epoch 45 average validation loss: -14.25153 -- Median validation metrics: avg_loss: -14.30990, avg_tie_frequencies_cmal: 0.05761, NSE_1h: 0.34317, NSE_1D: 0.22181\n",
      "# Epoch 46: 100%|██████████| 5863/5863 [06:23<00:00, 15.29it/s, Loss: -40.2304]  \n",
      "2025-06-10 09:09:50,653: Epoch 46 average loss: avg_loss: -40.37788, avg_tie_frequencies_cmal: 0.10233, avg_total_loss: -40.27555\n",
      "# Epoch 47: 100%|██████████| 5863/5863 [06:20<00:00, 15.39it/s, Loss: -43.5902]  \n",
      "2025-06-10 09:16:11,569: Epoch 47 average loss: avg_loss: -40.41140, avg_tie_frequencies_cmal: 0.10252, avg_total_loss: -40.30888\n",
      "# Epoch 48: 100%|██████████| 5863/5863 [06:25<00:00, 15.20it/s, Loss: -40.6298]  \n",
      "2025-06-10 09:22:37,188: Epoch 48 average loss: avg_loss: -40.47340, avg_tie_frequencies_cmal: 0.10320, avg_total_loss: -40.37020\n",
      "# Epoch 49: 100%|██████████| 5863/5863 [06:19<00:00, 15.44it/s, Loss: -41.0667]  \n",
      "2025-06-10 09:28:56,938: Epoch 49 average loss: avg_loss: -40.54772, avg_tie_frequencies_cmal: 0.10262, avg_total_loss: -40.44510\n",
      "# Epoch 50: 100%|██████████| 5863/5863 [06:28<00:00, 15.11it/s, Loss: -41.3855]  \n",
      "2025-06-10 09:35:25,003: Epoch 50 average loss: avg_loss: -40.55575, avg_tie_frequencies_cmal: 0.10272, avg_total_loss: -40.45304\n",
      "# Validation: 100%|██████████| 516/516 [57:26<00:00,  6.68s/it] \n",
      "2025-06-10 10:32:51,876: Stored metrics at c:\\Project Files\\Alex\\neuralhydrology\\own\\MtslstmCMAL\\runs\\test_run_0906_184435\\validation\\model_epoch050\\validation_metrics.csv\n",
      "2025-06-10 10:32:57,232: Stored results at c:\\Project Files\\Alex\\neuralhydrology\\own\\MtslstmCMAL\\runs\\test_run_0906_184435\\validation\\model_epoch050\\validation_results.p\n",
      "2025-06-10 10:32:57,664: Current Learning Rate: 1.25e-05\n",
      "2025-06-10 10:32:57,665: Scheduler state after step - best: -22.728726\n",
      "2025-06-10 10:32:57,666: Scheduler state after step - num_bad_epochs: 1\n",
      "2025-06-10 10:32:57,669: Scheduler state after step - last_epoch: 10\n",
      "2025-06-10 10:32:57,670: \n",
      "2025-06-10 10:32:57,672: Epoch 50 average validation loss: -14.25908 -- Median validation metrics: avg_loss: -14.31744, avg_tie_frequencies_cmal: 0.05764, NSE_1h: 0.34746, NSE_1D: 0.21806\n"
     ]
    }
   ],
   "source": [
    "# by default we assume that you have at least one CUDA-capable NVIDIA GPU or MacOS with Metal support\n",
    "if torch.cuda.is_available() or torch.backends.mps.is_available():\n",
    "    start_run(config_file=Path(\"1_basin.yml\"))\n",
    "\n",
    "# fall back to CPU-only mode\n",
    "else:\n",
    "    start_run(config_file=Path(\"1_basin.yml\"), gpu=-1)"
   ]
  },
  {
   "cell_type": "code",
   "execution_count": 2,
   "id": "97f9b66d",
   "metadata": {},
   "outputs": [
    {
     "name": "stderr",
     "output_type": "stream",
     "text": [
      "c:\\project files\\alex\\neuralhydrology\\neuralhydrology\\evaluation\\tester.py:143: FutureWarning: You are using `torch.load` with `weights_only=False` (the current default value), which uses the default pickle module implicitly. It is possible to construct malicious pickle data which will execute arbitrary code during unpickling (See https://github.com/pytorch/pytorch/blob/main/SECURITY.md#untrusted-models for more details). In a future release, the default value for `weights_only` will be flipped to `True`. This limits the functions that could be executed during unpickling. Arbitrary objects will no longer be allowed to be loaded via this mode unless they are explicitly allowlisted by the user via `torch.serialization.add_safe_globals`. We recommend you start setting `weights_only=True` for any use case where you don't have full control of the loaded file. Please open an issue on GitHub for any issues related to this experimental feature.\n",
      "  self.model.load_state_dict(torch.load(weight_file, map_location=self.device))\n"
     ]
    },
    {
     "name": "stdout",
     "output_type": "stream",
     "text": [
      "# Evaluation:   0%|          | 0/516 [00:00<?, ?it/s]"
     ]
    },
    {
     "name": "stderr",
     "output_type": "stream",
     "text": [
      "## Warning: Hourly nldas_hourly NetCDF file not found. Falling back to slower csv files.\n"
     ]
    },
    {
     "name": "stdout",
     "output_type": "stream",
     "text": [
      "# Evaluation:   0%|          | 1/516 [00:19<2:47:31, 19.52s/it]"
     ]
    },
    {
     "name": "stderr",
     "output_type": "stream",
     "text": [
      "## Warning: Hourly nldas_hourly NetCDF file not found. Falling back to slower csv files.\n"
     ]
    },
    {
     "name": "stdout",
     "output_type": "stream",
     "text": [
      "# Evaluation:   0%|          | 2/516 [00:37<2:38:45, 18.53s/it]"
     ]
    },
    {
     "name": "stderr",
     "output_type": "stream",
     "text": [
      "## Warning: Hourly nldas_hourly NetCDF file not found. Falling back to slower csv files.\n"
     ]
    },
    {
     "name": "stdout",
     "output_type": "stream",
     "text": [
      "# Evaluation:   1%|          | 3/516 [00:55<2:36:16, 18.28s/it]"
     ]
    },
    {
     "name": "stderr",
     "output_type": "stream",
     "text": [
      "## Warning: Hourly nldas_hourly NetCDF file not found. Falling back to slower csv files.\n"
     ]
    },
    {
     "name": "stdout",
     "output_type": "stream",
     "text": [
      "# Evaluation:   1%|          | 4/516 [01:15<2:42:01, 18.99s/it]"
     ]
    },
    {
     "name": "stderr",
     "output_type": "stream",
     "text": [
      "## Warning: Hourly nldas_hourly NetCDF file not found. Falling back to slower csv files.\n"
     ]
    },
    {
     "name": "stdout",
     "output_type": "stream",
     "text": [
      "# Evaluation:   1%|          | 5/516 [01:35<2:46:29, 19.55s/it]"
     ]
    },
    {
     "name": "stderr",
     "output_type": "stream",
     "text": [
      "## Warning: Hourly nldas_hourly NetCDF file not found. Falling back to slower csv files.\n"
     ]
    },
    {
     "name": "stdout",
     "output_type": "stream",
     "text": [
      "# Evaluation:   1%|          | 6/516 [02:11<3:32:43, 25.03s/it]"
     ]
    },
    {
     "name": "stderr",
     "output_type": "stream",
     "text": [
      "## Warning: Hourly nldas_hourly NetCDF file not found. Falling back to slower csv files.\n"
     ]
    },
    {
     "name": "stdout",
     "output_type": "stream",
     "text": [
      "# Evaluation:   1%|▏         | 7/516 [02:43<3:52:16, 27.38s/it]"
     ]
    },
    {
     "name": "stderr",
     "output_type": "stream",
     "text": [
      "## Warning: Hourly nldas_hourly NetCDF file not found. Falling back to slower csv files.\n"
     ]
    },
    {
     "name": "stdout",
     "output_type": "stream",
     "text": [
      "# Evaluation:   2%|▏         | 8/516 [03:21<4:18:34, 30.54s/it]"
     ]
    },
    {
     "name": "stderr",
     "output_type": "stream",
     "text": [
      "## Warning: Hourly nldas_hourly NetCDF file not found. Falling back to slower csv files.\n"
     ]
    },
    {
     "name": "stdout",
     "output_type": "stream",
     "text": [
      "# Evaluation:   2%|▏         | 9/516 [03:59<4:37:46, 32.87s/it]"
     ]
    },
    {
     "name": "stderr",
     "output_type": "stream",
     "text": [
      "## Warning: Hourly nldas_hourly NetCDF file not found. Falling back to slower csv files.\n"
     ]
    },
    {
     "name": "stdout",
     "output_type": "stream",
     "text": [
      "# Evaluation:   2%|▏         | 10/516 [04:38<4:55:07, 35.00s/it]"
     ]
    },
    {
     "name": "stderr",
     "output_type": "stream",
     "text": [
      "## Warning: Hourly nldas_hourly NetCDF file not found. Falling back to slower csv files.\n"
     ]
    },
    {
     "name": "stdout",
     "output_type": "stream",
     "text": [
      "# Evaluation:   2%|▏         | 11/516 [05:21<5:14:02, 37.31s/it]"
     ]
    },
    {
     "name": "stderr",
     "output_type": "stream",
     "text": [
      "## Warning: Hourly nldas_hourly NetCDF file not found. Falling back to slower csv files.\n"
     ]
    },
    {
     "name": "stdout",
     "output_type": "stream",
     "text": [
      "# Evaluation:   2%|▏         | 12/516 [06:01<5:21:25, 38.26s/it]"
     ]
    },
    {
     "name": "stderr",
     "output_type": "stream",
     "text": [
      "## Warning: Hourly nldas_hourly NetCDF file not found. Falling back to slower csv files.\n"
     ]
    },
    {
     "name": "stdout",
     "output_type": "stream",
     "text": [
      "# Evaluation:   3%|▎         | 13/516 [06:33<5:02:57, 36.14s/it]"
     ]
    },
    {
     "name": "stderr",
     "output_type": "stream",
     "text": [
      "## Warning: Hourly nldas_hourly NetCDF file not found. Falling back to slower csv files.\n"
     ]
    },
    {
     "name": "stdout",
     "output_type": "stream",
     "text": [
      "# Evaluation:   3%|▎         | 14/516 [07:09<5:02:00, 36.10s/it]"
     ]
    },
    {
     "name": "stderr",
     "output_type": "stream",
     "text": [
      "## Warning: Hourly nldas_hourly NetCDF file not found. Falling back to slower csv files.\n"
     ]
    },
    {
     "name": "stdout",
     "output_type": "stream",
     "text": [
      "# Evaluation:   3%|▎         | 15/516 [07:45<5:03:07, 36.30s/it]"
     ]
    },
    {
     "name": "stderr",
     "output_type": "stream",
     "text": [
      "## Warning: Hourly nldas_hourly NetCDF file not found. Falling back to slower csv files.\n"
     ]
    },
    {
     "name": "stdout",
     "output_type": "stream",
     "text": [
      "# Evaluation:   3%|▎         | 16/516 [08:25<5:10:06, 37.21s/it]"
     ]
    },
    {
     "name": "stderr",
     "output_type": "stream",
     "text": [
      "## Warning: Hourly nldas_hourly NetCDF file not found. Falling back to slower csv files.\n"
     ]
    },
    {
     "name": "stdout",
     "output_type": "stream",
     "text": [
      "# Evaluation:   3%|▎         | 17/516 [08:51<4:42:05, 33.92s/it]"
     ]
    },
    {
     "name": "stderr",
     "output_type": "stream",
     "text": [
      "## Warning: Hourly nldas_hourly NetCDF file not found. Falling back to slower csv files.\n"
     ]
    },
    {
     "name": "stdout",
     "output_type": "stream",
     "text": [
      "# Evaluation:   3%|▎         | 18/516 [09:12<4:09:51, 30.10s/it]"
     ]
    },
    {
     "name": "stderr",
     "output_type": "stream",
     "text": [
      "## Warning: Hourly nldas_hourly NetCDF file not found. Falling back to slower csv files.\n"
     ]
    },
    {
     "name": "stdout",
     "output_type": "stream",
     "text": [
      "# Evaluation:   4%|▎         | 19/516 [09:32<3:43:20, 26.96s/it]"
     ]
    },
    {
     "name": "stderr",
     "output_type": "stream",
     "text": [
      "## Warning: Hourly nldas_hourly NetCDF file not found. Falling back to slower csv files.\n"
     ]
    },
    {
     "name": "stdout",
     "output_type": "stream",
     "text": [
      "# Evaluation:   4%|▍         | 20/516 [09:52<3:25:50, 24.90s/it]"
     ]
    },
    {
     "name": "stderr",
     "output_type": "stream",
     "text": [
      "## Warning: Hourly nldas_hourly NetCDF file not found. Falling back to slower csv files.\n"
     ]
    },
    {
     "name": "stdout",
     "output_type": "stream",
     "text": [
      "# Evaluation:   4%|▍         | 21/516 [10:11<3:11:38, 23.23s/it]"
     ]
    },
    {
     "name": "stderr",
     "output_type": "stream",
     "text": [
      "## Warning: Hourly nldas_hourly NetCDF file not found. Falling back to slower csv files.\n"
     ]
    },
    {
     "name": "stdout",
     "output_type": "stream",
     "text": [
      "# Evaluation:   4%|▍         | 22/516 [10:31<3:02:43, 22.19s/it]"
     ]
    },
    {
     "name": "stderr",
     "output_type": "stream",
     "text": [
      "## Warning: Hourly nldas_hourly NetCDF file not found. Falling back to slower csv files.\n"
     ]
    },
    {
     "name": "stdout",
     "output_type": "stream",
     "text": [
      "# Evaluation:   4%|▍         | 23/516 [10:51<2:56:06, 21.43s/it]"
     ]
    },
    {
     "name": "stderr",
     "output_type": "stream",
     "text": [
      "## Warning: Hourly nldas_hourly NetCDF file not found. Falling back to slower csv files.\n"
     ]
    },
    {
     "name": "stdout",
     "output_type": "stream",
     "text": [
      "# Evaluation:   5%|▍         | 24/516 [11:10<2:50:03, 20.74s/it]"
     ]
    },
    {
     "name": "stderr",
     "output_type": "stream",
     "text": [
      "## Warning: Hourly nldas_hourly NetCDF file not found. Falling back to slower csv files.\n"
     ]
    },
    {
     "name": "stdout",
     "output_type": "stream",
     "text": [
      "# Evaluation:   5%|▍         | 25/516 [11:30<2:47:08, 20.42s/it]"
     ]
    },
    {
     "name": "stderr",
     "output_type": "stream",
     "text": [
      "## Warning: Hourly nldas_hourly NetCDF file not found. Falling back to slower csv files.\n"
     ]
    },
    {
     "name": "stdout",
     "output_type": "stream",
     "text": [
      "# Evaluation:   5%|▌         | 26/516 [11:49<2:44:54, 20.19s/it]"
     ]
    },
    {
     "name": "stderr",
     "output_type": "stream",
     "text": [
      "## Warning: Hourly nldas_hourly NetCDF file not found. Falling back to slower csv files.\n"
     ]
    },
    {
     "name": "stdout",
     "output_type": "stream",
     "text": [
      "# Evaluation:   5%|▌         | 27/516 [12:09<2:43:39, 20.08s/it]"
     ]
    },
    {
     "name": "stderr",
     "output_type": "stream",
     "text": [
      "## Warning: Hourly nldas_hourly NetCDF file not found. Falling back to slower csv files.\n"
     ]
    },
    {
     "name": "stdout",
     "output_type": "stream",
     "text": [
      "# Evaluation:   5%|▌         | 28/516 [12:26<2:36:19, 19.22s/it]"
     ]
    },
    {
     "name": "stderr",
     "output_type": "stream",
     "text": [
      "## Warning: Hourly nldas_hourly NetCDF file not found. Falling back to slower csv files.\n"
     ]
    },
    {
     "name": "stdout",
     "output_type": "stream",
     "text": [
      "# Evaluation:   6%|▌         | 29/516 [12:43<2:29:52, 18.47s/it]"
     ]
    },
    {
     "name": "stderr",
     "output_type": "stream",
     "text": [
      "## Warning: Hourly nldas_hourly NetCDF file not found. Falling back to slower csv files.\n"
     ]
    },
    {
     "name": "stdout",
     "output_type": "stream",
     "text": [
      "# Evaluation:   6%|▌         | 30/516 [13:02<2:30:26, 18.57s/it]"
     ]
    },
    {
     "name": "stderr",
     "output_type": "stream",
     "text": [
      "## Warning: Hourly nldas_hourly NetCDF file not found. Falling back to slower csv files.\n"
     ]
    },
    {
     "name": "stdout",
     "output_type": "stream",
     "text": [
      "# Evaluation:   6%|▌         | 31/516 [13:22<2:33:08, 18.95s/it]"
     ]
    },
    {
     "name": "stderr",
     "output_type": "stream",
     "text": [
      "## Warning: Hourly nldas_hourly NetCDF file not found. Falling back to slower csv files.\n"
     ]
    },
    {
     "name": "stdout",
     "output_type": "stream",
     "text": [
      "# Evaluation:   6%|▌         | 32/516 [13:41<2:34:38, 19.17s/it]"
     ]
    },
    {
     "name": "stderr",
     "output_type": "stream",
     "text": [
      "## Warning: Hourly nldas_hourly NetCDF file not found. Falling back to slower csv files.\n"
     ]
    },
    {
     "name": "stdout",
     "output_type": "stream",
     "text": [
      "# Evaluation:   6%|▋         | 33/516 [13:59<2:30:33, 18.70s/it]"
     ]
    },
    {
     "name": "stderr",
     "output_type": "stream",
     "text": [
      "## Warning: Hourly nldas_hourly NetCDF file not found. Falling back to slower csv files.\n"
     ]
    },
    {
     "name": "stdout",
     "output_type": "stream",
     "text": [
      "# Evaluation:   7%|▋         | 34/516 [14:16<2:25:38, 18.13s/it]"
     ]
    },
    {
     "name": "stderr",
     "output_type": "stream",
     "text": [
      "## Warning: Hourly nldas_hourly NetCDF file not found. Falling back to slower csv files.\n"
     ]
    },
    {
     "name": "stdout",
     "output_type": "stream",
     "text": [
      "# Evaluation:   7%|▋         | 35/516 [14:35<2:29:17, 18.62s/it]"
     ]
    },
    {
     "name": "stderr",
     "output_type": "stream",
     "text": [
      "## Warning: Hourly nldas_hourly NetCDF file not found. Falling back to slower csv files.\n"
     ]
    },
    {
     "name": "stdout",
     "output_type": "stream",
     "text": [
      "# Evaluation:   7%|▋         | 36/516 [14:54<2:28:44, 18.59s/it]"
     ]
    },
    {
     "name": "stderr",
     "output_type": "stream",
     "text": [
      "## Warning: Hourly nldas_hourly NetCDF file not found. Falling back to slower csv files.\n"
     ]
    },
    {
     "name": "stdout",
     "output_type": "stream",
     "text": [
      "# Evaluation:   7%|▋         | 37/516 [15:22<2:51:32, 21.49s/it]"
     ]
    },
    {
     "name": "stderr",
     "output_type": "stream",
     "text": [
      "## Warning: Hourly nldas_hourly NetCDF file not found. Falling back to slower csv files.\n"
     ]
    },
    {
     "name": "stdout",
     "output_type": "stream",
     "text": [
      "# Evaluation:   7%|▋         | 38/516 [16:02<3:34:15, 26.89s/it]"
     ]
    },
    {
     "name": "stderr",
     "output_type": "stream",
     "text": [
      "## Warning: Hourly nldas_hourly NetCDF file not found. Falling back to slower csv files.\n"
     ]
    },
    {
     "name": "stdout",
     "output_type": "stream",
     "text": [
      "# Evaluation:   8%|▊         | 39/516 [16:26<3:26:31, 25.98s/it]"
     ]
    },
    {
     "name": "stderr",
     "output_type": "stream",
     "text": [
      "## Warning: Hourly nldas_hourly NetCDF file not found. Falling back to slower csv files.\n"
     ]
    },
    {
     "name": "stdout",
     "output_type": "stream",
     "text": [
      "# Evaluation:   8%|▊         | 40/516 [16:56<3:36:06, 27.24s/it]"
     ]
    },
    {
     "name": "stderr",
     "output_type": "stream",
     "text": [
      "## Warning: Hourly nldas_hourly NetCDF file not found. Falling back to slower csv files.\n"
     ]
    },
    {
     "name": "stdout",
     "output_type": "stream",
     "text": [
      "# Evaluation:   8%|▊         | 41/516 [17:35<4:03:46, 30.79s/it]"
     ]
    },
    {
     "name": "stderr",
     "output_type": "stream",
     "text": [
      "## Warning: Hourly nldas_hourly NetCDF file not found. Falling back to slower csv files.\n"
     ]
    },
    {
     "name": "stdout",
     "output_type": "stream",
     "text": [
      "# Evaluation:   8%|▊         | 42/516 [18:14<4:23:07, 33.31s/it]"
     ]
    },
    {
     "name": "stderr",
     "output_type": "stream",
     "text": [
      "## Warning: Hourly nldas_hourly NetCDF file not found. Falling back to slower csv files.\n"
     ]
    },
    {
     "name": "stdout",
     "output_type": "stream",
     "text": [
      "# Evaluation:   8%|▊         | 43/516 [18:52<4:34:44, 34.85s/it]"
     ]
    },
    {
     "name": "stderr",
     "output_type": "stream",
     "text": [
      "## Warning: Hourly nldas_hourly NetCDF file not found. Falling back to slower csv files.\n"
     ]
    },
    {
     "name": "stdout",
     "output_type": "stream",
     "text": [
      "# Evaluation:   9%|▊         | 44/516 [19:34<4:49:44, 36.83s/it]"
     ]
    },
    {
     "name": "stderr",
     "output_type": "stream",
     "text": [
      "## Warning: Hourly nldas_hourly NetCDF file not found. Falling back to slower csv files.\n"
     ]
    },
    {
     "name": "stdout",
     "output_type": "stream",
     "text": [
      "# Evaluation:   9%|▊         | 45/516 [20:13<4:54:22, 37.50s/it]"
     ]
    },
    {
     "name": "stderr",
     "output_type": "stream",
     "text": [
      "## Warning: Hourly nldas_hourly NetCDF file not found. Falling back to slower csv files.\n"
     ]
    },
    {
     "name": "stdout",
     "output_type": "stream",
     "text": [
      "# Evaluation:   9%|▉         | 46/516 [20:48<4:48:38, 36.85s/it]"
     ]
    },
    {
     "name": "stderr",
     "output_type": "stream",
     "text": [
      "## Warning: Hourly nldas_hourly NetCDF file not found. Falling back to slower csv files.\n"
     ]
    },
    {
     "name": "stdout",
     "output_type": "stream",
     "text": [
      "# Evaluation:   9%|▉         | 47/516 [21:25<4:46:53, 36.70s/it]"
     ]
    },
    {
     "name": "stderr",
     "output_type": "stream",
     "text": [
      "## Warning: Hourly nldas_hourly NetCDF file not found. Falling back to slower csv files.\n"
     ]
    },
    {
     "name": "stdout",
     "output_type": "stream",
     "text": [
      "# Evaluation:   9%|▉         | 48/516 [22:06<4:56:08, 37.97s/it]"
     ]
    },
    {
     "name": "stderr",
     "output_type": "stream",
     "text": [
      "## Warning: Hourly nldas_hourly NetCDF file not found. Falling back to slower csv files.\n"
     ]
    },
    {
     "name": "stdout",
     "output_type": "stream",
     "text": [
      "# Evaluation:   9%|▉         | 49/516 [22:42<4:52:47, 37.62s/it]"
     ]
    },
    {
     "name": "stderr",
     "output_type": "stream",
     "text": [
      "## Warning: Hourly nldas_hourly NetCDF file not found. Falling back to slower csv files.\n"
     ]
    },
    {
     "name": "stdout",
     "output_type": "stream",
     "text": [
      "# Evaluation:  10%|▉         | 50/516 [23:16<4:42:03, 36.32s/it]"
     ]
    },
    {
     "name": "stderr",
     "output_type": "stream",
     "text": [
      "## Warning: Hourly nldas_hourly NetCDF file not found. Falling back to slower csv files.\n"
     ]
    },
    {
     "name": "stdout",
     "output_type": "stream",
     "text": [
      "# Evaluation:  10%|▉         | 51/516 [23:56<4:51:04, 37.56s/it]"
     ]
    },
    {
     "name": "stderr",
     "output_type": "stream",
     "text": [
      "## Warning: Hourly nldas_hourly NetCDF file not found. Falling back to slower csv files.\n"
     ]
    },
    {
     "name": "stdout",
     "output_type": "stream",
     "text": [
      "# Evaluation:  10%|█         | 52/516 [24:35<4:53:23, 37.94s/it]"
     ]
    },
    {
     "name": "stderr",
     "output_type": "stream",
     "text": [
      "## Warning: Hourly nldas_hourly NetCDF file not found. Falling back to slower csv files.\n"
     ]
    },
    {
     "name": "stdout",
     "output_type": "stream",
     "text": [
      "# Evaluation:  10%|█         | 53/516 [25:15<4:58:20, 38.66s/it]"
     ]
    },
    {
     "name": "stderr",
     "output_type": "stream",
     "text": [
      "## Warning: Hourly nldas_hourly NetCDF file not found. Falling back to slower csv files.\n"
     ]
    },
    {
     "name": "stdout",
     "output_type": "stream",
     "text": [
      "# Evaluation:  10%|█         | 54/516 [25:51<4:51:38, 37.87s/it]"
     ]
    },
    {
     "name": "stderr",
     "output_type": "stream",
     "text": [
      "## Warning: Hourly nldas_hourly NetCDF file not found. Falling back to slower csv files.\n"
     ]
    },
    {
     "name": "stdout",
     "output_type": "stream",
     "text": [
      "# Evaluation:  11%|█         | 55/516 [26:29<4:51:38, 37.96s/it]"
     ]
    },
    {
     "name": "stderr",
     "output_type": "stream",
     "text": [
      "## Warning: Hourly nldas_hourly NetCDF file not found. Falling back to slower csv files.\n"
     ]
    },
    {
     "name": "stdout",
     "output_type": "stream",
     "text": [
      "# Evaluation:  11%|█         | 56/516 [26:55<4:22:37, 34.26s/it]"
     ]
    },
    {
     "name": "stderr",
     "output_type": "stream",
     "text": [
      "## Warning: Hourly nldas_hourly NetCDF file not found. Falling back to slower csv files.\n"
     ]
    },
    {
     "name": "stdout",
     "output_type": "stream",
     "text": [
      "# Evaluation:  11%|█         | 57/516 [27:21<4:02:59, 31.76s/it]"
     ]
    },
    {
     "name": "stderr",
     "output_type": "stream",
     "text": [
      "## Warning: Hourly nldas_hourly NetCDF file not found. Falling back to slower csv files.\n"
     ]
    },
    {
     "name": "stdout",
     "output_type": "stream",
     "text": [
      "# Evaluation:  11%|█         | 58/516 [27:47<3:49:37, 30.08s/it]"
     ]
    },
    {
     "name": "stderr",
     "output_type": "stream",
     "text": [
      "## Warning: Hourly nldas_hourly NetCDF file not found. Falling back to slower csv files.\n"
     ]
    },
    {
     "name": "stdout",
     "output_type": "stream",
     "text": [
      "# Evaluation:  11%|█▏        | 59/516 [28:07<3:26:36, 27.13s/it]"
     ]
    },
    {
     "name": "stderr",
     "output_type": "stream",
     "text": [
      "## Warning: Hourly nldas_hourly NetCDF file not found. Falling back to slower csv files.\n"
     ]
    },
    {
     "name": "stdout",
     "output_type": "stream",
     "text": [
      "# Evaluation:  12%|█▏        | 60/516 [28:32<3:20:46, 26.42s/it]"
     ]
    },
    {
     "name": "stderr",
     "output_type": "stream",
     "text": [
      "## Warning: Hourly nldas_hourly NetCDF file not found. Falling back to slower csv files.\n"
     ]
    },
    {
     "name": "stdout",
     "output_type": "stream",
     "text": [
      "# Evaluation:  12%|█▏        | 61/516 [28:50<2:59:53, 23.72s/it]"
     ]
    },
    {
     "name": "stderr",
     "output_type": "stream",
     "text": [
      "## Warning: Hourly nldas_hourly NetCDF file not found. Falling back to slower csv files.\n"
     ]
    },
    {
     "name": "stdout",
     "output_type": "stream",
     "text": [
      "# Evaluation:  12%|█▏        | 62/516 [29:10<2:50:51, 22.58s/it]"
     ]
    },
    {
     "name": "stderr",
     "output_type": "stream",
     "text": [
      "## Warning: Hourly nldas_hourly NetCDF file not found. Falling back to slower csv files.\n"
     ]
    },
    {
     "name": "stdout",
     "output_type": "stream",
     "text": [
      "# Evaluation:  12%|█▏        | 63/516 [29:27<2:39:34, 21.14s/it]"
     ]
    },
    {
     "name": "stderr",
     "output_type": "stream",
     "text": [
      "## Warning: Hourly nldas_hourly NetCDF file not found. Falling back to slower csv files.\n"
     ]
    },
    {
     "name": "stdout",
     "output_type": "stream",
     "text": [
      "# Evaluation:  12%|█▏        | 64/516 [29:45<2:31:44, 20.14s/it]"
     ]
    },
    {
     "name": "stderr",
     "output_type": "stream",
     "text": [
      "## Warning: Hourly nldas_hourly NetCDF file not found. Falling back to slower csv files.\n"
     ]
    },
    {
     "name": "stdout",
     "output_type": "stream",
     "text": [
      "# Evaluation:  13%|█▎        | 65/516 [30:06<2:32:31, 20.29s/it]"
     ]
    },
    {
     "name": "stderr",
     "output_type": "stream",
     "text": [
      "## Warning: Hourly nldas_hourly NetCDF file not found. Falling back to slower csv files.\n"
     ]
    },
    {
     "name": "stdout",
     "output_type": "stream",
     "text": [
      "# Evaluation:  13%|█▎        | 66/516 [30:26<2:31:20, 20.18s/it]"
     ]
    },
    {
     "name": "stderr",
     "output_type": "stream",
     "text": [
      "## Warning: Hourly nldas_hourly NetCDF file not found. Falling back to slower csv files.\n"
     ]
    },
    {
     "name": "stdout",
     "output_type": "stream",
     "text": [
      "# Evaluation:  13%|█▎        | 67/516 [30:46<2:32:12, 20.34s/it]"
     ]
    },
    {
     "name": "stderr",
     "output_type": "stream",
     "text": [
      "## Warning: Hourly nldas_hourly NetCDF file not found. Falling back to slower csv files.\n"
     ]
    },
    {
     "name": "stdout",
     "output_type": "stream",
     "text": [
      "# Evaluation:  13%|█▎        | 68/516 [31:16<2:52:43, 23.13s/it]"
     ]
    },
    {
     "name": "stderr",
     "output_type": "stream",
     "text": [
      "## Warning: Hourly nldas_hourly NetCDF file not found. Falling back to slower csv files.\n"
     ]
    },
    {
     "name": "stdout",
     "output_type": "stream",
     "text": [
      "# Evaluation:  13%|█▎        | 69/516 [31:48<3:11:11, 25.66s/it]"
     ]
    },
    {
     "name": "stderr",
     "output_type": "stream",
     "text": [
      "## Warning: Hourly nldas_hourly NetCDF file not found. Falling back to slower csv files.\n"
     ]
    },
    {
     "name": "stdout",
     "output_type": "stream",
     "text": [
      "# Evaluation:  14%|█▎        | 70/516 [32:15<3:13:52, 26.08s/it]"
     ]
    },
    {
     "name": "stderr",
     "output_type": "stream",
     "text": [
      "## Warning: Hourly nldas_hourly NetCDF file not found. Falling back to slower csv files.\n"
     ]
    },
    {
     "name": "stdout",
     "output_type": "stream",
     "text": [
      "# Evaluation:  14%|█▍        | 71/516 [32:35<3:00:15, 24.31s/it]"
     ]
    },
    {
     "name": "stderr",
     "output_type": "stream",
     "text": [
      "## Warning: Hourly nldas_hourly NetCDF file not found. Falling back to slower csv files.\n"
     ]
    },
    {
     "name": "stdout",
     "output_type": "stream",
     "text": [
      "# Evaluation:  14%|█▍        | 72/516 [32:55<2:49:58, 22.97s/it]"
     ]
    },
    {
     "name": "stderr",
     "output_type": "stream",
     "text": [
      "## Warning: Hourly nldas_hourly NetCDF file not found. Falling back to slower csv files.\n"
     ]
    },
    {
     "name": "stdout",
     "output_type": "stream",
     "text": [
      "# Evaluation:  14%|█▍        | 73/516 [33:15<2:44:17, 22.25s/it]"
     ]
    },
    {
     "name": "stderr",
     "output_type": "stream",
     "text": [
      "## Warning: Hourly nldas_hourly NetCDF file not found. Falling back to slower csv files.\n"
     ]
    },
    {
     "name": "stdout",
     "output_type": "stream",
     "text": [
      "# Evaluation:  14%|█▍        | 74/516 [33:36<2:39:38, 21.67s/it]"
     ]
    },
    {
     "name": "stderr",
     "output_type": "stream",
     "text": [
      "## Warning: Hourly nldas_hourly NetCDF file not found. Falling back to slower csv files.\n"
     ]
    },
    {
     "name": "stdout",
     "output_type": "stream",
     "text": [
      "# Evaluation:  15%|█▍        | 75/516 [33:56<2:37:03, 21.37s/it]"
     ]
    },
    {
     "name": "stderr",
     "output_type": "stream",
     "text": [
      "## Warning: Hourly nldas_hourly NetCDF file not found. Falling back to slower csv files.\n"
     ]
    },
    {
     "name": "stdout",
     "output_type": "stream",
     "text": [
      "# Evaluation:  15%|█▍        | 76/516 [34:17<2:34:43, 21.10s/it]"
     ]
    },
    {
     "name": "stderr",
     "output_type": "stream",
     "text": [
      "## Warning: Hourly nldas_hourly NetCDF file not found. Falling back to slower csv files.\n"
     ]
    },
    {
     "name": "stdout",
     "output_type": "stream",
     "text": [
      "# Evaluation:  15%|█▍        | 77/516 [34:37<2:31:56, 20.77s/it]"
     ]
    },
    {
     "name": "stderr",
     "output_type": "stream",
     "text": [
      "## Warning: Hourly nldas_hourly NetCDF file not found. Falling back to slower csv files.\n"
     ]
    },
    {
     "name": "stdout",
     "output_type": "stream",
     "text": [
      "# Evaluation:  15%|█▌        | 78/516 [34:57<2:30:19, 20.59s/it]"
     ]
    },
    {
     "name": "stderr",
     "output_type": "stream",
     "text": [
      "## Warning: Hourly nldas_hourly NetCDF file not found. Falling back to slower csv files.\n"
     ]
    },
    {
     "name": "stdout",
     "output_type": "stream",
     "text": [
      "# Evaluation:  15%|█▌        | 79/516 [35:17<2:28:19, 20.37s/it]"
     ]
    },
    {
     "name": "stderr",
     "output_type": "stream",
     "text": [
      "## Warning: Hourly nldas_hourly NetCDF file not found. Falling back to slower csv files.\n"
     ]
    },
    {
     "name": "stdout",
     "output_type": "stream",
     "text": [
      "# Evaluation:  16%|█▌        | 80/516 [35:37<2:28:06, 20.38s/it]"
     ]
    },
    {
     "name": "stderr",
     "output_type": "stream",
     "text": [
      "## Warning: Hourly nldas_hourly NetCDF file not found. Falling back to slower csv files.\n"
     ]
    },
    {
     "name": "stdout",
     "output_type": "stream",
     "text": [
      "# Evaluation:  16%|█▌        | 81/516 [35:58<2:27:54, 20.40s/it]"
     ]
    },
    {
     "name": "stderr",
     "output_type": "stream",
     "text": [
      "## Warning: Hourly nldas_hourly NetCDF file not found. Falling back to slower csv files.\n"
     ]
    },
    {
     "name": "stdout",
     "output_type": "stream",
     "text": [
      "# Evaluation:  16%|█▌        | 82/516 [36:18<2:28:05, 20.47s/it]"
     ]
    },
    {
     "name": "stderr",
     "output_type": "stream",
     "text": [
      "## Warning: Hourly nldas_hourly NetCDF file not found. Falling back to slower csv files.\n"
     ]
    },
    {
     "name": "stdout",
     "output_type": "stream",
     "text": [
      "# Evaluation:  16%|█▌        | 83/516 [36:39<2:28:24, 20.56s/it]"
     ]
    },
    {
     "name": "stderr",
     "output_type": "stream",
     "text": [
      "## Warning: Hourly nldas_hourly NetCDF file not found. Falling back to slower csv files.\n"
     ]
    },
    {
     "name": "stdout",
     "output_type": "stream",
     "text": [
      "# Evaluation:  16%|█▋        | 84/516 [37:06<2:41:20, 22.41s/it]"
     ]
    },
    {
     "name": "stderr",
     "output_type": "stream",
     "text": [
      "## Warning: Hourly nldas_hourly NetCDF file not found. Falling back to slower csv files.\n"
     ]
    },
    {
     "name": "stdout",
     "output_type": "stream",
     "text": [
      "# Evaluation:  16%|█▋        | 85/516 [37:26<2:36:48, 21.83s/it]"
     ]
    },
    {
     "name": "stderr",
     "output_type": "stream",
     "text": [
      "## Warning: Hourly nldas_hourly NetCDF file not found. Falling back to slower csv files.\n"
     ]
    },
    {
     "name": "stdout",
     "output_type": "stream",
     "text": [
      "# Evaluation:  17%|█▋        | 86/516 [37:48<2:35:34, 21.71s/it]"
     ]
    },
    {
     "name": "stderr",
     "output_type": "stream",
     "text": [
      "## Warning: Hourly nldas_hourly NetCDF file not found. Falling back to slower csv files.\n"
     ]
    },
    {
     "name": "stdout",
     "output_type": "stream",
     "text": [
      "# Evaluation:  17%|█▋        | 87/516 [38:09<2:33:59, 21.54s/it]"
     ]
    },
    {
     "name": "stderr",
     "output_type": "stream",
     "text": [
      "## Warning: Hourly nldas_hourly NetCDF file not found. Falling back to slower csv files.\n"
     ]
    },
    {
     "name": "stdout",
     "output_type": "stream",
     "text": [
      "# Evaluation:  17%|█▋        | 88/516 [38:36<2:46:44, 23.38s/it]"
     ]
    },
    {
     "name": "stderr",
     "output_type": "stream",
     "text": [
      "## Warning: Hourly nldas_hourly NetCDF file not found. Falling back to slower csv files.\n"
     ]
    },
    {
     "name": "stdout",
     "output_type": "stream",
     "text": [
      "# Evaluation:  17%|█▋        | 89/516 [38:56<2:39:03, 22.35s/it]"
     ]
    },
    {
     "name": "stderr",
     "output_type": "stream",
     "text": [
      "## Warning: Hourly nldas_hourly NetCDF file not found. Falling back to slower csv files.\n"
     ]
    },
    {
     "name": "stdout",
     "output_type": "stream",
     "text": [
      "# Evaluation:  17%|█▋        | 90/516 [39:23<2:47:35, 23.60s/it]"
     ]
    },
    {
     "name": "stderr",
     "output_type": "stream",
     "text": [
      "## Warning: Hourly nldas_hourly NetCDF file not found. Falling back to slower csv files.\n"
     ]
    },
    {
     "name": "stdout",
     "output_type": "stream",
     "text": [
      "# Evaluation:  18%|█▊        | 91/516 [39:43<2:40:37, 22.68s/it]"
     ]
    },
    {
     "name": "stderr",
     "output_type": "stream",
     "text": [
      "## Warning: Hourly nldas_hourly NetCDF file not found. Falling back to slower csv files.\n"
     ]
    },
    {
     "name": "stdout",
     "output_type": "stream",
     "text": [
      "# Evaluation:  18%|█▊        | 92/516 [40:03<2:34:23, 21.85s/it]"
     ]
    },
    {
     "name": "stderr",
     "output_type": "stream",
     "text": [
      "## Warning: Hourly nldas_hourly NetCDF file not found. Falling back to slower csv files.\n"
     ]
    },
    {
     "name": "stdout",
     "output_type": "stream",
     "text": [
      "# Evaluation:  18%|█▊        | 93/516 [40:23<2:30:15, 21.31s/it]"
     ]
    },
    {
     "name": "stderr",
     "output_type": "stream",
     "text": [
      "## Warning: Hourly nldas_hourly NetCDF file not found. Falling back to slower csv files.\n"
     ]
    },
    {
     "name": "stdout",
     "output_type": "stream",
     "text": [
      "# Evaluation:  18%|█▊        | 94/516 [40:41<2:22:38, 20.28s/it]"
     ]
    },
    {
     "name": "stderr",
     "output_type": "stream",
     "text": [
      "## Warning: Hourly nldas_hourly NetCDF file not found. Falling back to slower csv files.\n"
     ]
    },
    {
     "name": "stdout",
     "output_type": "stream",
     "text": [
      "# Evaluation:  18%|█▊        | 95/516 [41:01<2:20:35, 20.04s/it]"
     ]
    },
    {
     "name": "stderr",
     "output_type": "stream",
     "text": [
      "## Warning: Hourly nldas_hourly NetCDF file not found. Falling back to slower csv files.\n"
     ]
    },
    {
     "name": "stdout",
     "output_type": "stream",
     "text": [
      "# Evaluation:  19%|█▊        | 96/516 [41:21<2:20:21, 20.05s/it]"
     ]
    },
    {
     "name": "stderr",
     "output_type": "stream",
     "text": [
      "## Warning: Hourly nldas_hourly NetCDF file not found. Falling back to slower csv files.\n"
     ]
    },
    {
     "name": "stdout",
     "output_type": "stream",
     "text": [
      "# Evaluation:  19%|█▉        | 97/516 [41:42<2:21:20, 20.24s/it]"
     ]
    },
    {
     "name": "stderr",
     "output_type": "stream",
     "text": [
      "## Warning: Hourly nldas_hourly NetCDF file not found. Falling back to slower csv files.\n"
     ]
    },
    {
     "name": "stdout",
     "output_type": "stream",
     "text": [
      "# Evaluation:  19%|█▉        | 98/516 [42:02<2:21:12, 20.27s/it]"
     ]
    },
    {
     "name": "stderr",
     "output_type": "stream",
     "text": [
      "## Warning: Hourly nldas_hourly NetCDF file not found. Falling back to slower csv files.\n"
     ]
    },
    {
     "name": "stdout",
     "output_type": "stream",
     "text": [
      "# Evaluation:  19%|█▉        | 99/516 [42:22<2:20:46, 20.26s/it]"
     ]
    },
    {
     "name": "stderr",
     "output_type": "stream",
     "text": [
      "## Warning: Hourly nldas_hourly NetCDF file not found. Falling back to slower csv files.\n"
     ]
    },
    {
     "name": "stdout",
     "output_type": "stream",
     "text": [
      "# Evaluation:  19%|█▉        | 100/516 [42:42<2:20:23, 20.25s/it]"
     ]
    },
    {
     "name": "stderr",
     "output_type": "stream",
     "text": [
      "## Warning: Hourly nldas_hourly NetCDF file not found. Falling back to slower csv files.\n"
     ]
    },
    {
     "name": "stdout",
     "output_type": "stream",
     "text": [
      "# Evaluation:  20%|█▉        | 101/516 [43:02<2:19:32, 20.17s/it]"
     ]
    },
    {
     "name": "stderr",
     "output_type": "stream",
     "text": [
      "## Warning: Hourly nldas_hourly NetCDF file not found. Falling back to slower csv files.\n"
     ]
    },
    {
     "name": "stdout",
     "output_type": "stream",
     "text": [
      "# Evaluation:  20%|█▉        | 102/516 [43:23<2:19:29, 20.22s/it]"
     ]
    },
    {
     "name": "stderr",
     "output_type": "stream",
     "text": [
      "## Warning: Hourly nldas_hourly NetCDF file not found. Falling back to slower csv files.\n"
     ]
    },
    {
     "name": "stdout",
     "output_type": "stream",
     "text": [
      "# Evaluation:  20%|█▉        | 103/516 [43:43<2:18:49, 20.17s/it]"
     ]
    },
    {
     "name": "stderr",
     "output_type": "stream",
     "text": [
      "## Warning: Hourly nldas_hourly NetCDF file not found. Falling back to slower csv files.\n"
     ]
    },
    {
     "name": "stdout",
     "output_type": "stream",
     "text": [
      "# Evaluation:  20%|██        | 104/516 [44:01<2:13:44, 19.48s/it]"
     ]
    },
    {
     "name": "stderr",
     "output_type": "stream",
     "text": [
      "## Warning: Hourly nldas_hourly NetCDF file not found. Falling back to slower csv files.\n"
     ]
    },
    {
     "name": "stdout",
     "output_type": "stream",
     "text": [
      "# Evaluation:  20%|██        | 105/516 [44:19<2:11:01, 19.13s/it]"
     ]
    },
    {
     "name": "stderr",
     "output_type": "stream",
     "text": [
      "## Warning: Hourly nldas_hourly NetCDF file not found. Falling back to slower csv files.\n"
     ]
    },
    {
     "name": "stdout",
     "output_type": "stream",
     "text": [
      "# Evaluation:  21%|██        | 106/516 [44:37<2:07:56, 18.72s/it]"
     ]
    },
    {
     "name": "stderr",
     "output_type": "stream",
     "text": [
      "## Warning: Hourly nldas_hourly NetCDF file not found. Falling back to slower csv files.\n"
     ]
    },
    {
     "name": "stdout",
     "output_type": "stream",
     "text": [
      "# Evaluation:  21%|██        | 107/516 [44:54<2:04:49, 18.31s/it]"
     ]
    },
    {
     "name": "stderr",
     "output_type": "stream",
     "text": [
      "## Warning: Hourly nldas_hourly NetCDF file not found. Falling back to slower csv files.\n"
     ]
    },
    {
     "name": "stdout",
     "output_type": "stream",
     "text": [
      "# Evaluation:  21%|██        | 108/516 [45:12<2:03:56, 18.23s/it]"
     ]
    },
    {
     "name": "stderr",
     "output_type": "stream",
     "text": [
      "## Warning: Hourly nldas_hourly NetCDF file not found. Falling back to slower csv files.\n"
     ]
    },
    {
     "name": "stdout",
     "output_type": "stream",
     "text": [
      "# Evaluation:  21%|██        | 109/516 [45:30<2:03:01, 18.14s/it]"
     ]
    },
    {
     "name": "stderr",
     "output_type": "stream",
     "text": [
      "## Warning: Hourly nldas_hourly NetCDF file not found. Falling back to slower csv files.\n"
     ]
    },
    {
     "name": "stdout",
     "output_type": "stream",
     "text": [
      "# Evaluation:  21%|██▏       | 110/516 [45:47<2:01:07, 17.90s/it]"
     ]
    },
    {
     "name": "stderr",
     "output_type": "stream",
     "text": [
      "## Warning: Hourly nldas_hourly NetCDF file not found. Falling back to slower csv files.\n"
     ]
    },
    {
     "name": "stdout",
     "output_type": "stream",
     "text": [
      "# Evaluation:  22%|██▏       | 111/516 [46:05<2:00:41, 17.88s/it]"
     ]
    },
    {
     "name": "stderr",
     "output_type": "stream",
     "text": [
      "## Warning: Hourly nldas_hourly NetCDF file not found. Falling back to slower csv files.\n"
     ]
    },
    {
     "name": "stdout",
     "output_type": "stream",
     "text": [
      "# Evaluation:  22%|██▏       | 112/516 [46:24<2:02:56, 18.26s/it]"
     ]
    },
    {
     "name": "stderr",
     "output_type": "stream",
     "text": [
      "## Warning: Hourly nldas_hourly NetCDF file not found. Falling back to slower csv files.\n"
     ]
    },
    {
     "name": "stdout",
     "output_type": "stream",
     "text": [
      "# Evaluation:  22%|██▏       | 113/516 [46:42<2:01:27, 18.08s/it]"
     ]
    },
    {
     "name": "stderr",
     "output_type": "stream",
     "text": [
      "## Warning: Hourly nldas_hourly NetCDF file not found. Falling back to slower csv files.\n"
     ]
    },
    {
     "name": "stdout",
     "output_type": "stream",
     "text": [
      "# Evaluation:  22%|██▏       | 114/516 [47:00<2:00:24, 17.97s/it]"
     ]
    },
    {
     "name": "stderr",
     "output_type": "stream",
     "text": [
      "## Warning: Hourly nldas_hourly NetCDF file not found. Falling back to slower csv files.\n"
     ]
    },
    {
     "name": "stdout",
     "output_type": "stream",
     "text": [
      "# Evaluation:  22%|██▏       | 115/516 [47:18<1:59:50, 17.93s/it]"
     ]
    },
    {
     "name": "stderr",
     "output_type": "stream",
     "text": [
      "## Warning: Hourly nldas_hourly NetCDF file not found. Falling back to slower csv files.\n"
     ]
    },
    {
     "name": "stdout",
     "output_type": "stream",
     "text": [
      "# Evaluation:  22%|██▏       | 116/516 [47:35<1:59:02, 17.86s/it]"
     ]
    },
    {
     "name": "stderr",
     "output_type": "stream",
     "text": [
      "## Warning: Hourly nldas_hourly NetCDF file not found. Falling back to slower csv files.\n"
     ]
    },
    {
     "name": "stdout",
     "output_type": "stream",
     "text": [
      "# Evaluation:  23%|██▎       | 117/516 [47:52<1:56:51, 17.57s/it]"
     ]
    },
    {
     "name": "stderr",
     "output_type": "stream",
     "text": [
      "## Warning: Hourly nldas_hourly NetCDF file not found. Falling back to slower csv files.\n"
     ]
    },
    {
     "name": "stdout",
     "output_type": "stream",
     "text": [
      "# Evaluation:  23%|██▎       | 118/516 [48:10<1:57:12, 17.67s/it]"
     ]
    },
    {
     "name": "stderr",
     "output_type": "stream",
     "text": [
      "## Warning: Hourly nldas_hourly NetCDF file not found. Falling back to slower csv files.\n"
     ]
    },
    {
     "name": "stdout",
     "output_type": "stream",
     "text": [
      "# Evaluation:  23%|██▎       | 119/516 [48:28<1:56:41, 17.64s/it]"
     ]
    },
    {
     "name": "stderr",
     "output_type": "stream",
     "text": [
      "## Warning: Hourly nldas_hourly NetCDF file not found. Falling back to slower csv files.\n"
     ]
    },
    {
     "name": "stdout",
     "output_type": "stream",
     "text": [
      "# Evaluation:  23%|██▎       | 120/516 [48:45<1:56:17, 17.62s/it]"
     ]
    },
    {
     "name": "stderr",
     "output_type": "stream",
     "text": [
      "## Warning: Hourly nldas_hourly NetCDF file not found. Falling back to slower csv files.\n"
     ]
    },
    {
     "name": "stdout",
     "output_type": "stream",
     "text": [
      "# Evaluation:  23%|██▎       | 121/516 [49:03<1:56:07, 17.64s/it]"
     ]
    },
    {
     "name": "stderr",
     "output_type": "stream",
     "text": [
      "## Warning: Hourly nldas_hourly NetCDF file not found. Falling back to slower csv files.\n"
     ]
    },
    {
     "name": "stdout",
     "output_type": "stream",
     "text": [
      "# Evaluation:  24%|██▎       | 122/516 [49:20<1:55:53, 17.65s/it]"
     ]
    },
    {
     "name": "stderr",
     "output_type": "stream",
     "text": [
      "## Warning: Hourly nldas_hourly NetCDF file not found. Falling back to slower csv files.\n"
     ]
    },
    {
     "name": "stdout",
     "output_type": "stream",
     "text": [
      "# Evaluation:  24%|██▍       | 123/516 [49:39<1:56:55, 17.85s/it]"
     ]
    },
    {
     "name": "stderr",
     "output_type": "stream",
     "text": [
      "## Warning: Hourly nldas_hourly NetCDF file not found. Falling back to slower csv files.\n"
     ]
    },
    {
     "name": "stdout",
     "output_type": "stream",
     "text": [
      "# Evaluation:  24%|██▍       | 124/516 [49:57<1:56:44, 17.87s/it]"
     ]
    },
    {
     "name": "stderr",
     "output_type": "stream",
     "text": [
      "## Warning: Hourly nldas_hourly NetCDF file not found. Falling back to slower csv files.\n"
     ]
    },
    {
     "name": "stdout",
     "output_type": "stream",
     "text": [
      "# Evaluation:  24%|██▍       | 125/516 [50:15<1:56:52, 17.93s/it]"
     ]
    },
    {
     "name": "stderr",
     "output_type": "stream",
     "text": [
      "## Warning: Hourly nldas_hourly NetCDF file not found. Falling back to slower csv files.\n"
     ]
    },
    {
     "name": "stdout",
     "output_type": "stream",
     "text": [
      "# Evaluation:  24%|██▍       | 126/516 [50:33<1:57:02, 18.01s/it]"
     ]
    },
    {
     "name": "stderr",
     "output_type": "stream",
     "text": [
      "## Warning: Hourly nldas_hourly NetCDF file not found. Falling back to slower csv files.\n"
     ]
    },
    {
     "name": "stdout",
     "output_type": "stream",
     "text": [
      "# Evaluation:  25%|██▍       | 127/516 [51:00<2:14:55, 20.81s/it]"
     ]
    },
    {
     "name": "stderr",
     "output_type": "stream",
     "text": [
      "## Warning: Hourly nldas_hourly NetCDF file not found. Falling back to slower csv files.\n"
     ]
    },
    {
     "name": "stdout",
     "output_type": "stream",
     "text": [
      "# Evaluation:  25%|██▍       | 128/516 [51:18<2:08:07, 19.81s/it]"
     ]
    },
    {
     "name": "stderr",
     "output_type": "stream",
     "text": [
      "## Warning: Hourly nldas_hourly NetCDF file not found. Falling back to slower csv files.\n"
     ]
    },
    {
     "name": "stdout",
     "output_type": "stream",
     "text": [
      "# Evaluation:  25%|██▌       | 129/516 [51:36<2:04:25, 19.29s/it]"
     ]
    },
    {
     "name": "stderr",
     "output_type": "stream",
     "text": [
      "## Warning: Hourly nldas_hourly NetCDF file not found. Falling back to slower csv files.\n"
     ]
    },
    {
     "name": "stdout",
     "output_type": "stream",
     "text": [
      "# Evaluation:  25%|██▌       | 130/516 [51:54<2:01:50, 18.94s/it]"
     ]
    },
    {
     "name": "stderr",
     "output_type": "stream",
     "text": [
      "## Warning: Hourly nldas_hourly NetCDF file not found. Falling back to slower csv files.\n"
     ]
    },
    {
     "name": "stdout",
     "output_type": "stream",
     "text": [
      "# Evaluation:  25%|██▌       | 131/516 [52:25<2:25:28, 22.67s/it]"
     ]
    },
    {
     "name": "stderr",
     "output_type": "stream",
     "text": [
      "## Warning: Hourly nldas_hourly NetCDF file not found. Falling back to slower csv files.\n"
     ]
    },
    {
     "name": "stdout",
     "output_type": "stream",
     "text": [
      "# Evaluation:  26%|██▌       | 132/516 [52:51<2:30:10, 23.46s/it]"
     ]
    },
    {
     "name": "stderr",
     "output_type": "stream",
     "text": [
      "## Warning: Hourly nldas_hourly NetCDF file not found. Falling back to slower csv files.\n"
     ]
    },
    {
     "name": "stdout",
     "output_type": "stream",
     "text": [
      "# Evaluation:  26%|██▌       | 133/516 [53:09<2:19:21, 21.83s/it]"
     ]
    },
    {
     "name": "stderr",
     "output_type": "stream",
     "text": [
      "## Warning: Hourly nldas_hourly NetCDF file not found. Falling back to slower csv files.\n"
     ]
    },
    {
     "name": "stdout",
     "output_type": "stream",
     "text": [
      "# Evaluation:  26%|██▌       | 134/516 [53:33<2:24:31, 22.70s/it]"
     ]
    },
    {
     "name": "stderr",
     "output_type": "stream",
     "text": [
      "## Warning: Hourly nldas_hourly NetCDF file not found. Falling back to slower csv files.\n"
     ]
    },
    {
     "name": "stdout",
     "output_type": "stream",
     "text": [
      "# Evaluation:  26%|██▌       | 135/516 [53:51<2:13:53, 21.09s/it]"
     ]
    },
    {
     "name": "stderr",
     "output_type": "stream",
     "text": [
      "## Warning: Hourly nldas_hourly NetCDF file not found. Falling back to slower csv files.\n"
     ]
    },
    {
     "name": "stdout",
     "output_type": "stream",
     "text": [
      "# Evaluation:  26%|██▋       | 136/516 [54:14<2:17:45, 21.75s/it]"
     ]
    },
    {
     "name": "stderr",
     "output_type": "stream",
     "text": [
      "## Warning: Hourly nldas_hourly NetCDF file not found. Falling back to slower csv files.\n"
     ]
    },
    {
     "name": "stdout",
     "output_type": "stream",
     "text": [
      "# Evaluation:  27%|██▋       | 137/516 [54:39<2:24:15, 22.84s/it]"
     ]
    },
    {
     "name": "stderr",
     "output_type": "stream",
     "text": [
      "## Warning: Hourly nldas_hourly NetCDF file not found. Falling back to slower csv files.\n"
     ]
    },
    {
     "name": "stdout",
     "output_type": "stream",
     "text": [
      "# Evaluation:  27%|██▋       | 138/516 [54:58<2:14:59, 21.43s/it]"
     ]
    },
    {
     "name": "stderr",
     "output_type": "stream",
     "text": [
      "## Warning: Hourly nldas_hourly NetCDF file not found. Falling back to slower csv files.\n"
     ]
    },
    {
     "name": "stdout",
     "output_type": "stream",
     "text": [
      "# Evaluation:  27%|██▋       | 139/516 [55:23<2:21:44, 22.56s/it]"
     ]
    },
    {
     "name": "stderr",
     "output_type": "stream",
     "text": [
      "## Warning: Hourly nldas_hourly NetCDF file not found. Falling back to slower csv files.\n"
     ]
    },
    {
     "name": "stdout",
     "output_type": "stream",
     "text": [
      "# Evaluation:  27%|██▋       | 140/516 [55:48<2:26:03, 23.31s/it]"
     ]
    },
    {
     "name": "stderr",
     "output_type": "stream",
     "text": [
      "## Warning: Hourly nldas_hourly NetCDF file not found. Falling back to slower csv files.\n"
     ]
    },
    {
     "name": "stdout",
     "output_type": "stream",
     "text": [
      "# Evaluation:  27%|██▋       | 141/516 [56:05<2:14:05, 21.45s/it]"
     ]
    },
    {
     "name": "stderr",
     "output_type": "stream",
     "text": [
      "## Warning: Hourly nldas_hourly NetCDF file not found. Falling back to slower csv files.\n"
     ]
    },
    {
     "name": "stdout",
     "output_type": "stream",
     "text": [
      "# Evaluation:  28%|██▊       | 142/516 [56:23<2:07:23, 20.44s/it]"
     ]
    },
    {
     "name": "stderr",
     "output_type": "stream",
     "text": [
      "## Warning: Hourly nldas_hourly NetCDF file not found. Falling back to slower csv files.\n"
     ]
    },
    {
     "name": "stdout",
     "output_type": "stream",
     "text": [
      "# Evaluation:  28%|██▊       | 143/516 [56:55<2:27:47, 23.77s/it]"
     ]
    },
    {
     "name": "stderr",
     "output_type": "stream",
     "text": [
      "## Warning: Hourly nldas_hourly NetCDF file not found. Falling back to slower csv files.\n"
     ]
    },
    {
     "name": "stdout",
     "output_type": "stream",
     "text": [
      "# Evaluation:  28%|██▊       | 144/516 [57:26<2:41:23, 26.03s/it]"
     ]
    },
    {
     "name": "stderr",
     "output_type": "stream",
     "text": [
      "## Warning: Hourly nldas_hourly NetCDF file not found. Falling back to slower csv files.\n"
     ]
    },
    {
     "name": "stdout",
     "output_type": "stream",
     "text": [
      "# Evaluation:  28%|██▊       | 145/516 [57:56<2:48:36, 27.27s/it]"
     ]
    },
    {
     "name": "stderr",
     "output_type": "stream",
     "text": [
      "## Warning: Hourly nldas_hourly NetCDF file not found. Falling back to slower csv files.\n"
     ]
    },
    {
     "name": "stdout",
     "output_type": "stream",
     "text": [
      "# Evaluation:  28%|██▊       | 146/516 [58:27<2:55:19, 28.43s/it]"
     ]
    },
    {
     "name": "stderr",
     "output_type": "stream",
     "text": [
      "## Warning: Hourly nldas_hourly NetCDF file not found. Falling back to slower csv files.\n"
     ]
    },
    {
     "name": "stdout",
     "output_type": "stream",
     "text": [
      "# Evaluation:  28%|██▊       | 147/516 [58:59<3:01:31, 29.52s/it]"
     ]
    },
    {
     "name": "stderr",
     "output_type": "stream",
     "text": [
      "## Warning: Hourly nldas_hourly NetCDF file not found. Falling back to slower csv files.\n"
     ]
    },
    {
     "name": "stdout",
     "output_type": "stream",
     "text": [
      "# Evaluation:  29%|██▊       | 148/516 [59:29<3:01:48, 29.64s/it]"
     ]
    },
    {
     "name": "stderr",
     "output_type": "stream",
     "text": [
      "## Warning: Hourly nldas_hourly NetCDF file not found. Falling back to slower csv files.\n"
     ]
    },
    {
     "name": "stdout",
     "output_type": "stream",
     "text": [
      "# Evaluation:  29%|██▉       | 149/516 [59:47<2:40:17, 26.21s/it]"
     ]
    },
    {
     "name": "stderr",
     "output_type": "stream",
     "text": [
      "## Warning: Hourly nldas_hourly NetCDF file not found. Falling back to slower csv files.\n"
     ]
    },
    {
     "name": "stdout",
     "output_type": "stream",
     "text": [
      "# Evaluation:  29%|██▉       | 150/516 [1:00:05<2:24:34, 23.70s/it]"
     ]
    },
    {
     "name": "stderr",
     "output_type": "stream",
     "text": [
      "## Warning: Hourly nldas_hourly NetCDF file not found. Falling back to slower csv files.\n"
     ]
    },
    {
     "name": "stdout",
     "output_type": "stream",
     "text": [
      "# Evaluation:  29%|██▉       | 151/516 [1:00:23<2:13:59, 22.03s/it]"
     ]
    },
    {
     "name": "stderr",
     "output_type": "stream",
     "text": [
      "## Warning: Hourly nldas_hourly NetCDF file not found. Falling back to slower csv files.\n"
     ]
    },
    {
     "name": "stdout",
     "output_type": "stream",
     "text": [
      "# Evaluation:  29%|██▉       | 152/516 [1:00:54<2:28:27, 24.47s/it]"
     ]
    },
    {
     "name": "stderr",
     "output_type": "stream",
     "text": [
      "## Warning: Hourly nldas_hourly NetCDF file not found. Falling back to slower csv files.\n"
     ]
    },
    {
     "name": "stdout",
     "output_type": "stream",
     "text": [
      "# Evaluation:  30%|██▉       | 153/516 [1:01:24<2:38:33, 26.21s/it]"
     ]
    },
    {
     "name": "stderr",
     "output_type": "stream",
     "text": [
      "## Warning: Hourly nldas_hourly NetCDF file not found. Falling back to slower csv files.\n"
     ]
    },
    {
     "name": "stdout",
     "output_type": "stream",
     "text": [
      "# Evaluation:  30%|██▉       | 154/516 [1:01:42<2:23:16, 23.75s/it]"
     ]
    },
    {
     "name": "stderr",
     "output_type": "stream",
     "text": [
      "## Warning: Hourly nldas_hourly NetCDF file not found. Falling back to slower csv files.\n"
     ]
    },
    {
     "name": "stdout",
     "output_type": "stream",
     "text": [
      "# Evaluation:  30%|███       | 155/516 [1:02:12<2:34:21, 25.65s/it]"
     ]
    },
    {
     "name": "stderr",
     "output_type": "stream",
     "text": [
      "## Warning: Hourly nldas_hourly NetCDF file not found. Falling back to slower csv files.\n"
     ]
    },
    {
     "name": "stdout",
     "output_type": "stream",
     "text": [
      "# Evaluation:  30%|███       | 156/516 [1:02:41<2:40:11, 26.70s/it]"
     ]
    },
    {
     "name": "stderr",
     "output_type": "stream",
     "text": [
      "## Warning: Hourly nldas_hourly NetCDF file not found. Falling back to slower csv files.\n"
     ]
    },
    {
     "name": "stdout",
     "output_type": "stream",
     "text": [
      "# Evaluation:  30%|███       | 157/516 [1:03:11<2:45:09, 27.60s/it]"
     ]
    },
    {
     "name": "stderr",
     "output_type": "stream",
     "text": [
      "## Warning: Hourly nldas_hourly NetCDF file not found. Falling back to slower csv files.\n"
     ]
    },
    {
     "name": "stdout",
     "output_type": "stream",
     "text": [
      "# Evaluation:  31%|███       | 158/516 [1:03:41<2:50:12, 28.53s/it]"
     ]
    },
    {
     "name": "stderr",
     "output_type": "stream",
     "text": [
      "## Warning: Hourly nldas_hourly NetCDF file not found. Falling back to slower csv files.\n"
     ]
    },
    {
     "name": "stdout",
     "output_type": "stream",
     "text": [
      "# Evaluation:  31%|███       | 159/516 [1:03:59<2:30:25, 25.28s/it]"
     ]
    },
    {
     "name": "stderr",
     "output_type": "stream",
     "text": [
      "## Warning: Hourly nldas_hourly NetCDF file not found. Falling back to slower csv files.\n"
     ]
    },
    {
     "name": "stdout",
     "output_type": "stream",
     "text": [
      "# Evaluation:  31%|███       | 160/516 [1:04:17<2:16:15, 22.97s/it]"
     ]
    },
    {
     "name": "stderr",
     "output_type": "stream",
     "text": [
      "## Warning: Hourly nldas_hourly NetCDF file not found. Falling back to slower csv files.\n"
     ]
    },
    {
     "name": "stdout",
     "output_type": "stream",
     "text": [
      "# Evaluation:  31%|███       | 161/516 [1:04:34<2:05:49, 21.27s/it]"
     ]
    },
    {
     "name": "stderr",
     "output_type": "stream",
     "text": [
      "## Warning: Hourly nldas_hourly NetCDF file not found. Falling back to slower csv files.\n"
     ]
    },
    {
     "name": "stdout",
     "output_type": "stream",
     "text": [
      "# Evaluation:  31%|███▏      | 162/516 [1:04:52<1:59:16, 20.22s/it]"
     ]
    },
    {
     "name": "stderr",
     "output_type": "stream",
     "text": [
      "## Warning: Hourly nldas_hourly NetCDF file not found. Falling back to slower csv files.\n"
     ]
    },
    {
     "name": "stdout",
     "output_type": "stream",
     "text": [
      "# Evaluation:  32%|███▏      | 163/516 [1:05:22<2:16:38, 23.22s/it]"
     ]
    },
    {
     "name": "stderr",
     "output_type": "stream",
     "text": [
      "## Warning: Hourly nldas_hourly NetCDF file not found. Falling back to slower csv files.\n"
     ]
    },
    {
     "name": "stdout",
     "output_type": "stream",
     "text": [
      "# Evaluation:  32%|███▏      | 164/516 [1:05:40<2:07:11, 21.68s/it]"
     ]
    },
    {
     "name": "stderr",
     "output_type": "stream",
     "text": [
      "## Warning: Hourly nldas_hourly NetCDF file not found. Falling back to slower csv files.\n"
     ]
    },
    {
     "name": "stdout",
     "output_type": "stream",
     "text": [
      "# Evaluation:  32%|███▏      | 165/516 [1:05:58<2:00:35, 20.61s/it]"
     ]
    },
    {
     "name": "stderr",
     "output_type": "stream",
     "text": [
      "## Warning: Hourly nldas_hourly NetCDF file not found. Falling back to slower csv files.\n"
     ]
    },
    {
     "name": "stdout",
     "output_type": "stream",
     "text": [
      "# Evaluation:  32%|███▏      | 166/516 [1:06:20<2:02:07, 20.94s/it]"
     ]
    },
    {
     "name": "stderr",
     "output_type": "stream",
     "text": [
      "## Warning: Hourly nldas_hourly NetCDF file not found. Falling back to slower csv files.\n"
     ]
    },
    {
     "name": "stdout",
     "output_type": "stream",
     "text": [
      "# Evaluation:  32%|███▏      | 167/516 [1:06:43<2:04:47, 21.45s/it]"
     ]
    },
    {
     "name": "stderr",
     "output_type": "stream",
     "text": [
      "## Warning: Hourly nldas_hourly NetCDF file not found. Falling back to slower csv files.\n"
     ]
    },
    {
     "name": "stdout",
     "output_type": "stream",
     "text": [
      "# Evaluation:  33%|███▎      | 168/516 [1:07:06<2:07:48, 22.04s/it]"
     ]
    },
    {
     "name": "stderr",
     "output_type": "stream",
     "text": [
      "## Warning: Hourly nldas_hourly NetCDF file not found. Falling back to slower csv files.\n"
     ]
    },
    {
     "name": "stdout",
     "output_type": "stream",
     "text": [
      "# Evaluation:  33%|███▎      | 169/516 [1:07:29<2:08:37, 22.24s/it]"
     ]
    },
    {
     "name": "stderr",
     "output_type": "stream",
     "text": [
      "## Warning: Hourly nldas_hourly NetCDF file not found. Falling back to slower csv files.\n"
     ]
    },
    {
     "name": "stdout",
     "output_type": "stream",
     "text": [
      "# Evaluation:  33%|███▎      | 170/516 [1:07:52<2:09:40, 22.49s/it]"
     ]
    },
    {
     "name": "stderr",
     "output_type": "stream",
     "text": [
      "## Warning: Hourly nldas_hourly NetCDF file not found. Falling back to slower csv files.\n"
     ]
    },
    {
     "name": "stdout",
     "output_type": "stream",
     "text": [
      "# Evaluation:  33%|███▎      | 171/516 [1:08:14<2:08:29, 22.35s/it]"
     ]
    },
    {
     "name": "stderr",
     "output_type": "stream",
     "text": [
      "## Warning: Hourly nldas_hourly NetCDF file not found. Falling back to slower csv files.\n"
     ]
    },
    {
     "name": "stdout",
     "output_type": "stream",
     "text": [
      "# Evaluation:  33%|███▎      | 172/516 [1:08:35<2:07:00, 22.15s/it]"
     ]
    },
    {
     "name": "stderr",
     "output_type": "stream",
     "text": [
      "## Warning: Hourly nldas_hourly NetCDF file not found. Falling back to slower csv files.\n"
     ]
    },
    {
     "name": "stdout",
     "output_type": "stream",
     "text": [
      "# Evaluation:  34%|███▎      | 173/516 [1:08:58<2:06:59, 22.21s/it]"
     ]
    },
    {
     "name": "stderr",
     "output_type": "stream",
     "text": [
      "## Warning: Hourly nldas_hourly NetCDF file not found. Falling back to slower csv files.\n"
     ]
    },
    {
     "name": "stdout",
     "output_type": "stream",
     "text": [
      "# Evaluation:  34%|███▎      | 174/516 [1:09:24<2:13:33, 23.43s/it]"
     ]
    },
    {
     "name": "stderr",
     "output_type": "stream",
     "text": [
      "## Warning: Hourly nldas_hourly NetCDF file not found. Falling back to slower csv files.\n"
     ]
    },
    {
     "name": "stdout",
     "output_type": "stream",
     "text": [
      "# Evaluation:  34%|███▍      | 175/516 [1:09:51<2:18:27, 24.36s/it]"
     ]
    },
    {
     "name": "stderr",
     "output_type": "stream",
     "text": [
      "## Warning: Hourly nldas_hourly NetCDF file not found. Falling back to slower csv files.\n"
     ]
    },
    {
     "name": "stdout",
     "output_type": "stream",
     "text": [
      "# Evaluation:  34%|███▍      | 176/516 [1:10:17<2:20:54, 24.87s/it]"
     ]
    },
    {
     "name": "stderr",
     "output_type": "stream",
     "text": [
      "## Warning: Hourly nldas_hourly NetCDF file not found. Falling back to slower csv files.\n"
     ]
    },
    {
     "name": "stdout",
     "output_type": "stream",
     "text": [
      "# Evaluation:  34%|███▍      | 177/516 [1:10:39<2:16:29, 24.16s/it]"
     ]
    },
    {
     "name": "stderr",
     "output_type": "stream",
     "text": [
      "## Warning: Hourly nldas_hourly NetCDF file not found. Falling back to slower csv files.\n"
     ]
    },
    {
     "name": "stdout",
     "output_type": "stream",
     "text": [
      "# Evaluation:  34%|███▍      | 178/516 [1:11:02<2:14:07, 23.81s/it]"
     ]
    },
    {
     "name": "stderr",
     "output_type": "stream",
     "text": [
      "## Warning: Hourly nldas_hourly NetCDF file not found. Falling back to slower csv files.\n"
     ]
    },
    {
     "name": "stdout",
     "output_type": "stream",
     "text": [
      "# Evaluation:  35%|███▍      | 179/516 [1:11:22<2:07:37, 22.72s/it]"
     ]
    },
    {
     "name": "stderr",
     "output_type": "stream",
     "text": [
      "## Warning: Hourly nldas_hourly NetCDF file not found. Falling back to slower csv files.\n"
     ]
    },
    {
     "name": "stdout",
     "output_type": "stream",
     "text": [
      "# Evaluation:  35%|███▍      | 180/516 [1:11:44<2:06:10, 22.53s/it]"
     ]
    },
    {
     "name": "stderr",
     "output_type": "stream",
     "text": [
      "## Warning: Hourly nldas_hourly NetCDF file not found. Falling back to slower csv files.\n"
     ]
    },
    {
     "name": "stdout",
     "output_type": "stream",
     "text": [
      "# Evaluation:  35%|███▌      | 181/516 [1:12:05<2:01:50, 21.82s/it]"
     ]
    },
    {
     "name": "stderr",
     "output_type": "stream",
     "text": [
      "## Warning: Hourly nldas_hourly NetCDF file not found. Falling back to slower csv files.\n"
     ]
    },
    {
     "name": "stdout",
     "output_type": "stream",
     "text": [
      "# Evaluation:  35%|███▌      | 182/516 [1:12:25<1:58:36, 21.31s/it]"
     ]
    },
    {
     "name": "stderr",
     "output_type": "stream",
     "text": [
      "## Warning: Hourly nldas_hourly NetCDF file not found. Falling back to slower csv files.\n"
     ]
    },
    {
     "name": "stdout",
     "output_type": "stream",
     "text": [
      "# Evaluation:  35%|███▌      | 183/516 [1:12:51<2:05:48, 22.67s/it]"
     ]
    },
    {
     "name": "stderr",
     "output_type": "stream",
     "text": [
      "## Warning: Hourly nldas_hourly NetCDF file not found. Falling back to slower csv files.\n"
     ]
    },
    {
     "name": "stdout",
     "output_type": "stream",
     "text": [
      "# Evaluation:  36%|███▌      | 184/516 [1:13:17<2:11:22, 23.74s/it]"
     ]
    },
    {
     "name": "stderr",
     "output_type": "stream",
     "text": [
      "## Warning: Hourly nldas_hourly NetCDF file not found. Falling back to slower csv files.\n"
     ]
    },
    {
     "name": "stdout",
     "output_type": "stream",
     "text": [
      "# Evaluation:  36%|███▌      | 185/516 [1:13:44<2:16:04, 24.67s/it]"
     ]
    },
    {
     "name": "stderr",
     "output_type": "stream",
     "text": [
      "## Warning: Hourly nldas_hourly NetCDF file not found. Falling back to slower csv files.\n"
     ]
    },
    {
     "name": "stdout",
     "output_type": "stream",
     "text": [
      "# Evaluation:  36%|███▌      | 186/516 [1:14:04<2:08:36, 23.38s/it]"
     ]
    },
    {
     "name": "stderr",
     "output_type": "stream",
     "text": [
      "## Warning: Hourly nldas_hourly NetCDF file not found. Falling back to slower csv files.\n"
     ]
    },
    {
     "name": "stdout",
     "output_type": "stream",
     "text": [
      "# Evaluation:  36%|███▌      | 187/516 [1:14:24<2:02:13, 22.29s/it]"
     ]
    },
    {
     "name": "stderr",
     "output_type": "stream",
     "text": [
      "## Warning: Hourly nldas_hourly NetCDF file not found. Falling back to slower csv files.\n"
     ]
    },
    {
     "name": "stdout",
     "output_type": "stream",
     "text": [
      "# Evaluation:  36%|███▋      | 188/516 [1:14:47<2:03:23, 22.57s/it]"
     ]
    },
    {
     "name": "stderr",
     "output_type": "stream",
     "text": [
      "## Warning: Hourly nldas_hourly NetCDF file not found. Falling back to slower csv files.\n"
     ]
    },
    {
     "name": "stdout",
     "output_type": "stream",
     "text": [
      "# Evaluation:  37%|███▋      | 189/516 [1:15:05<1:55:31, 21.20s/it]"
     ]
    },
    {
     "name": "stderr",
     "output_type": "stream",
     "text": [
      "## Warning: Hourly nldas_hourly NetCDF file not found. Falling back to slower csv files.\n"
     ]
    },
    {
     "name": "stdout",
     "output_type": "stream",
     "text": [
      "# Evaluation:  37%|███▋      | 190/516 [1:15:23<1:49:49, 20.21s/it]"
     ]
    },
    {
     "name": "stderr",
     "output_type": "stream",
     "text": [
      "## Warning: Hourly nldas_hourly NetCDF file not found. Falling back to slower csv files.\n"
     ]
    },
    {
     "name": "stdout",
     "output_type": "stream",
     "text": [
      "# Evaluation:  37%|███▋      | 191/516 [1:15:40<1:45:05, 19.40s/it]"
     ]
    },
    {
     "name": "stderr",
     "output_type": "stream",
     "text": [
      "## Warning: Hourly nldas_hourly NetCDF file not found. Falling back to slower csv files.\n"
     ]
    },
    {
     "name": "stdout",
     "output_type": "stream",
     "text": [
      "# Evaluation:  37%|███▋      | 192/516 [1:15:58<1:42:10, 18.92s/it]"
     ]
    },
    {
     "name": "stderr",
     "output_type": "stream",
     "text": [
      "## Warning: Hourly nldas_hourly NetCDF file not found. Falling back to slower csv files.\n"
     ]
    },
    {
     "name": "stdout",
     "output_type": "stream",
     "text": [
      "# Evaluation:  37%|███▋      | 193/516 [1:16:16<1:39:43, 18.53s/it]"
     ]
    },
    {
     "name": "stderr",
     "output_type": "stream",
     "text": [
      "## Warning: Hourly nldas_hourly NetCDF file not found. Falling back to slower csv files.\n"
     ]
    },
    {
     "name": "stdout",
     "output_type": "stream",
     "text": [
      "# Evaluation:  38%|███▊      | 194/516 [1:16:35<1:40:21, 18.70s/it]"
     ]
    },
    {
     "name": "stderr",
     "output_type": "stream",
     "text": [
      "## Warning: Hourly nldas_hourly NetCDF file not found. Falling back to slower csv files.\n"
     ]
    },
    {
     "name": "stdout",
     "output_type": "stream",
     "text": [
      "# Evaluation:  38%|███▊      | 195/516 [1:16:55<1:42:27, 19.15s/it]"
     ]
    },
    {
     "name": "stderr",
     "output_type": "stream",
     "text": [
      "## Warning: Hourly nldas_hourly NetCDF file not found. Falling back to slower csv files.\n"
     ]
    },
    {
     "name": "stdout",
     "output_type": "stream",
     "text": [
      "# Evaluation:  38%|███▊      | 196/516 [1:17:13<1:40:12, 18.79s/it]"
     ]
    },
    {
     "name": "stderr",
     "output_type": "stream",
     "text": [
      "## Warning: Hourly nldas_hourly NetCDF file not found. Falling back to slower csv files.\n"
     ]
    },
    {
     "name": "stdout",
     "output_type": "stream",
     "text": [
      "# Evaluation:  38%|███▊      | 197/516 [1:17:31<1:38:40, 18.56s/it]"
     ]
    },
    {
     "name": "stderr",
     "output_type": "stream",
     "text": [
      "## Warning: Hourly nldas_hourly NetCDF file not found. Falling back to slower csv files.\n"
     ]
    },
    {
     "name": "stdout",
     "output_type": "stream",
     "text": [
      "# Evaluation:  38%|███▊      | 198/516 [1:17:49<1:36:58, 18.30s/it]"
     ]
    },
    {
     "name": "stderr",
     "output_type": "stream",
     "text": [
      "## Warning: Hourly nldas_hourly NetCDF file not found. Falling back to slower csv files.\n"
     ]
    },
    {
     "name": "stdout",
     "output_type": "stream",
     "text": [
      "# Evaluation:  39%|███▊      | 199/516 [1:18:08<1:37:39, 18.48s/it]"
     ]
    },
    {
     "name": "stderr",
     "output_type": "stream",
     "text": [
      "## Warning: Hourly nldas_hourly NetCDF file not found. Falling back to slower csv files.\n"
     ]
    },
    {
     "name": "stdout",
     "output_type": "stream",
     "text": [
      "# Evaluation:  39%|███▉      | 200/516 [1:18:25<1:35:41, 18.17s/it]"
     ]
    },
    {
     "name": "stderr",
     "output_type": "stream",
     "text": [
      "## Warning: Hourly nldas_hourly NetCDF file not found. Falling back to slower csv files.\n"
     ]
    },
    {
     "name": "stdout",
     "output_type": "stream",
     "text": [
      "# Evaluation:  39%|███▉      | 201/516 [1:18:43<1:35:36, 18.21s/it]"
     ]
    },
    {
     "name": "stderr",
     "output_type": "stream",
     "text": [
      "## Warning: Hourly nldas_hourly NetCDF file not found. Falling back to slower csv files.\n"
     ]
    },
    {
     "name": "stdout",
     "output_type": "stream",
     "text": [
      "# Evaluation:  39%|███▉      | 202/516 [1:19:01<1:34:15, 18.01s/it]"
     ]
    },
    {
     "name": "stderr",
     "output_type": "stream",
     "text": [
      "## Warning: Hourly nldas_hourly NetCDF file not found. Falling back to slower csv files.\n"
     ]
    },
    {
     "name": "stdout",
     "output_type": "stream",
     "text": [
      "# Evaluation:  39%|███▉      | 203/516 [1:19:19<1:33:45, 17.97s/it]"
     ]
    },
    {
     "name": "stderr",
     "output_type": "stream",
     "text": [
      "## Warning: Hourly nldas_hourly NetCDF file not found. Falling back to slower csv files.\n"
     ]
    },
    {
     "name": "stdout",
     "output_type": "stream",
     "text": [
      "# Evaluation:  40%|███▉      | 204/516 [1:19:36<1:32:50, 17.85s/it]"
     ]
    },
    {
     "name": "stderr",
     "output_type": "stream",
     "text": [
      "## Warning: Hourly nldas_hourly NetCDF file not found. Falling back to slower csv files.\n"
     ]
    },
    {
     "name": "stdout",
     "output_type": "stream",
     "text": [
      "# Evaluation:  40%|███▉      | 205/516 [1:19:57<1:36:53, 18.69s/it]"
     ]
    },
    {
     "name": "stderr",
     "output_type": "stream",
     "text": [
      "## Warning: Hourly nldas_hourly NetCDF file not found. Falling back to slower csv files.\n"
     ]
    },
    {
     "name": "stdout",
     "output_type": "stream",
     "text": [
      "# Evaluation:  40%|███▉      | 206/516 [1:20:17<1:38:48, 19.12s/it]"
     ]
    },
    {
     "name": "stderr",
     "output_type": "stream",
     "text": [
      "## Warning: Hourly nldas_hourly NetCDF file not found. Falling back to slower csv files.\n"
     ]
    },
    {
     "name": "stdout",
     "output_type": "stream",
     "text": [
      "# Evaluation:  40%|████      | 207/516 [1:20:35<1:36:04, 18.66s/it]"
     ]
    },
    {
     "name": "stderr",
     "output_type": "stream",
     "text": [
      "## Warning: Hourly nldas_hourly NetCDF file not found. Falling back to slower csv files.\n"
     ]
    },
    {
     "name": "stdout",
     "output_type": "stream",
     "text": [
      "# Evaluation:  40%|████      | 208/516 [1:20:56<1:39:36, 19.40s/it]"
     ]
    },
    {
     "name": "stderr",
     "output_type": "stream",
     "text": [
      "## Warning: Hourly nldas_hourly NetCDF file not found. Falling back to slower csv files.\n"
     ]
    },
    {
     "name": "stdout",
     "output_type": "stream",
     "text": [
      "# Evaluation:  41%|████      | 209/516 [1:21:13<1:36:13, 18.81s/it]"
     ]
    },
    {
     "name": "stderr",
     "output_type": "stream",
     "text": [
      "## Warning: Hourly nldas_hourly NetCDF file not found. Falling back to slower csv files.\n"
     ]
    },
    {
     "name": "stdout",
     "output_type": "stream",
     "text": [
      "# Evaluation:  41%|████      | 210/516 [1:21:32<1:35:08, 18.66s/it]"
     ]
    },
    {
     "name": "stderr",
     "output_type": "stream",
     "text": [
      "## Warning: Hourly nldas_hourly NetCDF file not found. Falling back to slower csv files.\n"
     ]
    },
    {
     "name": "stdout",
     "output_type": "stream",
     "text": [
      "# Evaluation:  41%|████      | 211/516 [1:21:49<1:33:20, 18.36s/it]"
     ]
    },
    {
     "name": "stderr",
     "output_type": "stream",
     "text": [
      "## Warning: Hourly nldas_hourly NetCDF file not found. Falling back to slower csv files.\n"
     ]
    },
    {
     "name": "stdout",
     "output_type": "stream",
     "text": [
      "# Evaluation:  41%|████      | 212/516 [1:22:19<1:49:33, 21.62s/it]"
     ]
    },
    {
     "name": "stderr",
     "output_type": "stream",
     "text": [
      "## Warning: Hourly nldas_hourly NetCDF file not found. Falling back to slower csv files.\n"
     ]
    },
    {
     "name": "stdout",
     "output_type": "stream",
     "text": [
      "# Evaluation:  41%|████▏     | 213/516 [1:22:36<1:43:10, 20.43s/it]"
     ]
    },
    {
     "name": "stderr",
     "output_type": "stream",
     "text": [
      "## Warning: Hourly nldas_hourly NetCDF file not found. Falling back to slower csv files.\n"
     ]
    },
    {
     "name": "stdout",
     "output_type": "stream",
     "text": [
      "# Evaluation:  41%|████▏     | 214/516 [1:22:54<1:39:27, 19.76s/it]"
     ]
    },
    {
     "name": "stderr",
     "output_type": "stream",
     "text": [
      "## Warning: Hourly nldas_hourly NetCDF file not found. Falling back to slower csv files.\n"
     ]
    },
    {
     "name": "stdout",
     "output_type": "stream",
     "text": [
      "# Evaluation:  42%|████▏     | 215/516 [1:23:21<1:49:51, 21.90s/it]"
     ]
    },
    {
     "name": "stderr",
     "output_type": "stream",
     "text": [
      "## Warning: Hourly nldas_hourly NetCDF file not found. Falling back to slower csv files.\n"
     ]
    },
    {
     "name": "stdout",
     "output_type": "stream",
     "text": [
      "# Evaluation:  42%|████▏     | 216/516 [1:23:39<1:43:07, 20.62s/it]"
     ]
    },
    {
     "name": "stderr",
     "output_type": "stream",
     "text": [
      "## Warning: Hourly nldas_hourly NetCDF file not found. Falling back to slower csv files.\n"
     ]
    },
    {
     "name": "stdout",
     "output_type": "stream",
     "text": [
      "# Evaluation:  42%|████▏     | 217/516 [1:23:56<1:37:17, 19.52s/it]"
     ]
    },
    {
     "name": "stderr",
     "output_type": "stream",
     "text": [
      "## Warning: Hourly nldas_hourly NetCDF file not found. Falling back to slower csv files.\n"
     ]
    },
    {
     "name": "stdout",
     "output_type": "stream",
     "text": [
      "# Evaluation:  42%|████▏     | 218/516 [1:24:14<1:34:44, 19.08s/it]"
     ]
    },
    {
     "name": "stderr",
     "output_type": "stream",
     "text": [
      "## Warning: Hourly nldas_hourly NetCDF file not found. Falling back to slower csv files.\n"
     ]
    },
    {
     "name": "stdout",
     "output_type": "stream",
     "text": [
      "# Evaluation:  42%|████▏     | 219/516 [1:24:31<1:31:47, 18.55s/it]"
     ]
    },
    {
     "name": "stderr",
     "output_type": "stream",
     "text": [
      "## Warning: Hourly nldas_hourly NetCDF file not found. Falling back to slower csv files.\n"
     ]
    },
    {
     "name": "stdout",
     "output_type": "stream",
     "text": [
      "# Evaluation:  43%|████▎     | 220/516 [1:24:49<1:30:34, 18.36s/it]"
     ]
    },
    {
     "name": "stderr",
     "output_type": "stream",
     "text": [
      "## Warning: Hourly nldas_hourly NetCDF file not found. Falling back to slower csv files.\n"
     ]
    },
    {
     "name": "stdout",
     "output_type": "stream",
     "text": [
      "# Evaluation:  43%|████▎     | 221/516 [1:25:07<1:29:17, 18.16s/it]"
     ]
    },
    {
     "name": "stderr",
     "output_type": "stream",
     "text": [
      "## Warning: Hourly nldas_hourly NetCDF file not found. Falling back to slower csv files.\n"
     ]
    },
    {
     "name": "stdout",
     "output_type": "stream",
     "text": [
      "# Evaluation:  43%|████▎     | 222/516 [1:25:25<1:28:29, 18.06s/it]"
     ]
    },
    {
     "name": "stderr",
     "output_type": "stream",
     "text": [
      "## Warning: Hourly nldas_hourly NetCDF file not found. Falling back to slower csv files.\n"
     ]
    },
    {
     "name": "stdout",
     "output_type": "stream",
     "text": [
      "# Evaluation:  43%|████▎     | 223/516 [1:25:43<1:28:08, 18.05s/it]"
     ]
    },
    {
     "name": "stderr",
     "output_type": "stream",
     "text": [
      "## Warning: Hourly nldas_hourly NetCDF file not found. Falling back to slower csv files.\n"
     ]
    },
    {
     "name": "stdout",
     "output_type": "stream",
     "text": [
      "# Evaluation:  43%|████▎     | 224/516 [1:26:01<1:27:55, 18.07s/it]"
     ]
    },
    {
     "name": "stderr",
     "output_type": "stream",
     "text": [
      "## Warning: Hourly nldas_hourly NetCDF file not found. Falling back to slower csv files.\n"
     ]
    },
    {
     "name": "stdout",
     "output_type": "stream",
     "text": [
      "# Evaluation:  44%|████▎     | 225/516 [1:26:18<1:26:49, 17.90s/it]"
     ]
    },
    {
     "name": "stderr",
     "output_type": "stream",
     "text": [
      "## Warning: Hourly nldas_hourly NetCDF file not found. Falling back to slower csv files.\n"
     ]
    },
    {
     "name": "stdout",
     "output_type": "stream",
     "text": [
      "# Evaluation:  44%|████▍     | 226/516 [1:26:36<1:26:49, 17.96s/it]"
     ]
    },
    {
     "name": "stderr",
     "output_type": "stream",
     "text": [
      "## Warning: Hourly nldas_hourly NetCDF file not found. Falling back to slower csv files.\n"
     ]
    },
    {
     "name": "stdout",
     "output_type": "stream",
     "text": [
      "# Evaluation:  44%|████▍     | 227/516 [1:26:54<1:26:14, 17.90s/it]"
     ]
    },
    {
     "name": "stderr",
     "output_type": "stream",
     "text": [
      "## Warning: Hourly nldas_hourly NetCDF file not found. Falling back to slower csv files.\n"
     ]
    },
    {
     "name": "stdout",
     "output_type": "stream",
     "text": [
      "# Evaluation:  44%|████▍     | 228/516 [1:27:13<1:26:33, 18.03s/it]"
     ]
    },
    {
     "name": "stderr",
     "output_type": "stream",
     "text": [
      "## Warning: Hourly nldas_hourly NetCDF file not found. Falling back to slower csv files.\n"
     ]
    },
    {
     "name": "stdout",
     "output_type": "stream",
     "text": [
      "# Evaluation:  44%|████▍     | 229/516 [1:27:31<1:26:54, 18.17s/it]"
     ]
    },
    {
     "name": "stderr",
     "output_type": "stream",
     "text": [
      "## Warning: Hourly nldas_hourly NetCDF file not found. Falling back to slower csv files.\n"
     ]
    },
    {
     "name": "stdout",
     "output_type": "stream",
     "text": [
      "# Evaluation:  45%|████▍     | 230/516 [1:27:59<1:40:00, 20.98s/it]"
     ]
    },
    {
     "name": "stderr",
     "output_type": "stream",
     "text": [
      "## Warning: Hourly nldas_hourly NetCDF file not found. Falling back to slower csv files.\n"
     ]
    },
    {
     "name": "stdout",
     "output_type": "stream",
     "text": [
      "# Evaluation:  45%|████▍     | 231/516 [1:28:19<1:38:52, 20.81s/it]"
     ]
    },
    {
     "name": "stderr",
     "output_type": "stream",
     "text": [
      "## Warning: Hourly nldas_hourly NetCDF file not found. Falling back to slower csv files.\n"
     ]
    },
    {
     "name": "stdout",
     "output_type": "stream",
     "text": [
      "# Evaluation:  45%|████▍     | 232/516 [1:28:39<1:37:27, 20.59s/it]"
     ]
    },
    {
     "name": "stderr",
     "output_type": "stream",
     "text": [
      "## Warning: Hourly nldas_hourly NetCDF file not found. Falling back to slower csv files.\n"
     ]
    },
    {
     "name": "stdout",
     "output_type": "stream",
     "text": [
      "# Evaluation:  45%|████▌     | 233/516 [1:28:57<1:33:31, 19.83s/it]"
     ]
    },
    {
     "name": "stderr",
     "output_type": "stream",
     "text": [
      "## Warning: Hourly nldas_hourly NetCDF file not found. Falling back to slower csv files.\n"
     ]
    },
    {
     "name": "stdout",
     "output_type": "stream",
     "text": [
      "# Evaluation:  45%|████▌     | 234/516 [1:29:18<1:34:35, 20.13s/it]"
     ]
    },
    {
     "name": "stderr",
     "output_type": "stream",
     "text": [
      "## Warning: Hourly nldas_hourly NetCDF file not found. Falling back to slower csv files.\n"
     ]
    },
    {
     "name": "stdout",
     "output_type": "stream",
     "text": [
      "# Evaluation:  46%|████▌     | 235/516 [1:29:39<1:36:14, 20.55s/it]"
     ]
    },
    {
     "name": "stderr",
     "output_type": "stream",
     "text": [
      "## Warning: Hourly nldas_hourly NetCDF file not found. Falling back to slower csv files.\n"
     ]
    },
    {
     "name": "stdout",
     "output_type": "stream",
     "text": [
      "# Evaluation:  46%|████▌     | 236/516 [1:30:00<1:35:33, 20.48s/it]"
     ]
    },
    {
     "name": "stderr",
     "output_type": "stream",
     "text": [
      "## Warning: Hourly nldas_hourly NetCDF file not found. Falling back to slower csv files.\n"
     ]
    },
    {
     "name": "stdout",
     "output_type": "stream",
     "text": [
      "# Evaluation:  46%|████▌     | 237/516 [1:30:20<1:34:36, 20.35s/it]"
     ]
    },
    {
     "name": "stderr",
     "output_type": "stream",
     "text": [
      "## Warning: Hourly nldas_hourly NetCDF file not found. Falling back to slower csv files.\n"
     ]
    },
    {
     "name": "stdout",
     "output_type": "stream",
     "text": [
      "# Evaluation:  46%|████▌     | 238/516 [1:30:38<1:31:14, 19.69s/it]"
     ]
    },
    {
     "name": "stderr",
     "output_type": "stream",
     "text": [
      "## Warning: Hourly nldas_hourly NetCDF file not found. Falling back to slower csv files.\n"
     ]
    },
    {
     "name": "stdout",
     "output_type": "stream",
     "text": [
      "# Evaluation:  46%|████▋     | 239/516 [1:30:58<1:31:45, 19.88s/it]"
     ]
    },
    {
     "name": "stderr",
     "output_type": "stream",
     "text": [
      "## Warning: Hourly nldas_hourly NetCDF file not found. Falling back to slower csv files.\n"
     ]
    },
    {
     "name": "stdout",
     "output_type": "stream",
     "text": [
      "# Evaluation:  47%|████▋     | 240/516 [1:31:21<1:35:49, 20.83s/it]"
     ]
    },
    {
     "name": "stderr",
     "output_type": "stream",
     "text": [
      "## Warning: Hourly nldas_hourly NetCDF file not found. Falling back to slower csv files.\n"
     ]
    },
    {
     "name": "stdout",
     "output_type": "stream",
     "text": [
      "# Evaluation:  47%|████▋     | 241/516 [1:31:42<1:34:36, 20.64s/it]"
     ]
    },
    {
     "name": "stderr",
     "output_type": "stream",
     "text": [
      "## Warning: Hourly nldas_hourly NetCDF file not found. Falling back to slower csv files.\n"
     ]
    },
    {
     "name": "stdout",
     "output_type": "stream",
     "text": [
      "# Evaluation:  47%|████▋     | 242/516 [1:32:12<1:47:02, 23.44s/it]"
     ]
    },
    {
     "name": "stderr",
     "output_type": "stream",
     "text": [
      "## Warning: Hourly nldas_hourly NetCDF file not found. Falling back to slower csv files.\n"
     ]
    },
    {
     "name": "stdout",
     "output_type": "stream",
     "text": [
      "# Evaluation:  47%|████▋     | 243/516 [1:32:45<2:00:43, 26.53s/it]"
     ]
    },
    {
     "name": "stderr",
     "output_type": "stream",
     "text": [
      "## Warning: Hourly nldas_hourly NetCDF file not found. Falling back to slower csv files.\n"
     ]
    },
    {
     "name": "stdout",
     "output_type": "stream",
     "text": [
      "# Evaluation:  47%|████▋     | 244/516 [1:33:08<1:54:44, 25.31s/it]"
     ]
    },
    {
     "name": "stderr",
     "output_type": "stream",
     "text": [
      "## Warning: Hourly nldas_hourly NetCDF file not found. Falling back to slower csv files.\n"
     ]
    },
    {
     "name": "stdout",
     "output_type": "stream",
     "text": [
      "# Evaluation:  47%|████▋     | 245/516 [1:33:26<1:44:34, 23.15s/it]"
     ]
    },
    {
     "name": "stderr",
     "output_type": "stream",
     "text": [
      "## Warning: Hourly nldas_hourly NetCDF file not found. Falling back to slower csv files.\n"
     ]
    },
    {
     "name": "stdout",
     "output_type": "stream",
     "text": [
      "# Evaluation:  48%|████▊     | 246/516 [1:33:44<1:36:52, 21.53s/it]"
     ]
    },
    {
     "name": "stderr",
     "output_type": "stream",
     "text": [
      "## Warning: Hourly nldas_hourly NetCDF file not found. Falling back to slower csv files.\n"
     ]
    },
    {
     "name": "stdout",
     "output_type": "stream",
     "text": [
      "# Evaluation:  48%|████▊     | 247/516 [1:34:01<1:31:31, 20.41s/it]"
     ]
    },
    {
     "name": "stderr",
     "output_type": "stream",
     "text": [
      "## Warning: Hourly nldas_hourly NetCDF file not found. Falling back to slower csv files.\n"
     ]
    },
    {
     "name": "stdout",
     "output_type": "stream",
     "text": [
      "# Evaluation:  48%|████▊     | 248/516 [1:34:19<1:27:28, 19.58s/it]"
     ]
    },
    {
     "name": "stderr",
     "output_type": "stream",
     "text": [
      "## Warning: Hourly nldas_hourly NetCDF file not found. Falling back to slower csv files.\n"
     ]
    },
    {
     "name": "stdout",
     "output_type": "stream",
     "text": [
      "# Evaluation:  48%|████▊     | 249/516 [1:34:37<1:24:22, 18.96s/it]"
     ]
    },
    {
     "name": "stderr",
     "output_type": "stream",
     "text": [
      "## Warning: Hourly nldas_hourly NetCDF file not found. Falling back to slower csv files.\n"
     ]
    },
    {
     "name": "stdout",
     "output_type": "stream",
     "text": [
      "# Evaluation:  48%|████▊     | 250/516 [1:34:55<1:23:40, 18.87s/it]"
     ]
    },
    {
     "name": "stderr",
     "output_type": "stream",
     "text": [
      "## Warning: Hourly nldas_hourly NetCDF file not found. Falling back to slower csv files.\n"
     ]
    },
    {
     "name": "stdout",
     "output_type": "stream",
     "text": [
      "# Evaluation:  49%|████▊     | 251/516 [1:35:14<1:22:37, 18.71s/it]"
     ]
    },
    {
     "name": "stderr",
     "output_type": "stream",
     "text": [
      "## Warning: Hourly nldas_hourly NetCDF file not found. Falling back to slower csv files.\n"
     ]
    },
    {
     "name": "stdout",
     "output_type": "stream",
     "text": [
      "# Evaluation:  49%|████▉     | 252/516 [1:35:31<1:21:00, 18.41s/it]"
     ]
    },
    {
     "name": "stderr",
     "output_type": "stream",
     "text": [
      "## Warning: Hourly nldas_hourly NetCDF file not found. Falling back to slower csv files.\n"
     ]
    },
    {
     "name": "stdout",
     "output_type": "stream",
     "text": [
      "# Evaluation:  49%|████▉     | 253/516 [1:35:52<1:24:21, 19.25s/it]"
     ]
    },
    {
     "name": "stderr",
     "output_type": "stream",
     "text": [
      "## Warning: Hourly nldas_hourly NetCDF file not found. Falling back to slower csv files.\n"
     ]
    },
    {
     "name": "stdout",
     "output_type": "stream",
     "text": [
      "# Evaluation:  49%|████▉     | 254/516 [1:36:11<1:23:06, 19.03s/it]"
     ]
    },
    {
     "name": "stderr",
     "output_type": "stream",
     "text": [
      "## Warning: Hourly nldas_hourly NetCDF file not found. Falling back to slower csv files.\n"
     ]
    },
    {
     "name": "stdout",
     "output_type": "stream",
     "text": [
      "# Evaluation:  49%|████▉     | 255/516 [1:36:31<1:24:28, 19.42s/it]"
     ]
    },
    {
     "name": "stderr",
     "output_type": "stream",
     "text": [
      "## Warning: Hourly nldas_hourly NetCDF file not found. Falling back to slower csv files.\n"
     ]
    },
    {
     "name": "stdout",
     "output_type": "stream",
     "text": [
      "# Evaluation:  50%|████▉     | 256/516 [1:36:52<1:25:57, 19.84s/it]"
     ]
    },
    {
     "name": "stderr",
     "output_type": "stream",
     "text": [
      "## Warning: Hourly nldas_hourly NetCDF file not found. Falling back to slower csv files.\n"
     ]
    },
    {
     "name": "stdout",
     "output_type": "stream",
     "text": [
      "# Evaluation:  50%|████▉     | 257/516 [1:37:13<1:27:03, 20.17s/it]"
     ]
    },
    {
     "name": "stderr",
     "output_type": "stream",
     "text": [
      "## Warning: Hourly nldas_hourly NetCDF file not found. Falling back to slower csv files.\n"
     ]
    },
    {
     "name": "stdout",
     "output_type": "stream",
     "text": [
      "# Evaluation:  50%|█████     | 258/516 [1:37:39<1:34:40, 22.02s/it]"
     ]
    },
    {
     "name": "stderr",
     "output_type": "stream",
     "text": [
      "## Warning: Hourly nldas_hourly NetCDF file not found. Falling back to slower csv files.\n"
     ]
    },
    {
     "name": "stdout",
     "output_type": "stream",
     "text": [
      "# Evaluation:  50%|█████     | 259/516 [1:37:59<1:30:51, 21.21s/it]"
     ]
    },
    {
     "name": "stderr",
     "output_type": "stream",
     "text": [
      "## Warning: Hourly nldas_hourly NetCDF file not found. Falling back to slower csv files.\n"
     ]
    },
    {
     "name": "stdout",
     "output_type": "stream",
     "text": [
      "# Evaluation:  50%|█████     | 260/516 [1:38:25<1:36:58, 22.73s/it]"
     ]
    },
    {
     "name": "stderr",
     "output_type": "stream",
     "text": [
      "## Warning: Hourly nldas_hourly NetCDF file not found. Falling back to slower csv files.\n"
     ]
    },
    {
     "name": "stdout",
     "output_type": "stream",
     "text": [
      "# Evaluation:  51%|█████     | 261/516 [1:38:54<1:44:54, 24.69s/it]"
     ]
    },
    {
     "name": "stderr",
     "output_type": "stream",
     "text": [
      "## Warning: Hourly nldas_hourly NetCDF file not found. Falling back to slower csv files.\n"
     ]
    },
    {
     "name": "stdout",
     "output_type": "stream",
     "text": [
      "# Evaluation:  51%|█████     | 262/516 [1:39:26<1:53:53, 26.90s/it]"
     ]
    },
    {
     "name": "stderr",
     "output_type": "stream",
     "text": [
      "## Warning: Hourly nldas_hourly NetCDF file not found. Falling back to slower csv files.\n"
     ]
    },
    {
     "name": "stdout",
     "output_type": "stream",
     "text": [
      "# Evaluation:  51%|█████     | 263/516 [1:39:57<1:58:38, 28.14s/it]"
     ]
    },
    {
     "name": "stderr",
     "output_type": "stream",
     "text": [
      "## Warning: Hourly nldas_hourly NetCDF file not found. Falling back to slower csv files.\n"
     ]
    },
    {
     "name": "stdout",
     "output_type": "stream",
     "text": [
      "# Evaluation:  51%|█████     | 264/516 [1:40:15<1:45:13, 25.06s/it]"
     ]
    },
    {
     "name": "stderr",
     "output_type": "stream",
     "text": [
      "## Warning: Hourly nldas_hourly NetCDF file not found. Falling back to slower csv files.\n"
     ]
    },
    {
     "name": "stdout",
     "output_type": "stream",
     "text": [
      "# Evaluation:  51%|█████▏    | 265/516 [1:40:34<1:37:23, 23.28s/it]"
     ]
    },
    {
     "name": "stderr",
     "output_type": "stream",
     "text": [
      "## Warning: Hourly nldas_hourly NetCDF file not found. Falling back to slower csv files.\n"
     ]
    },
    {
     "name": "stdout",
     "output_type": "stream",
     "text": [
      "# Evaluation:  52%|█████▏    | 266/516 [1:40:52<1:30:10, 21.64s/it]"
     ]
    },
    {
     "name": "stderr",
     "output_type": "stream",
     "text": [
      "## Warning: Hourly nldas_hourly NetCDF file not found. Falling back to slower csv files.\n"
     ]
    },
    {
     "name": "stdout",
     "output_type": "stream",
     "text": [
      "# Evaluation:  52%|█████▏    | 267/516 [1:41:10<1:25:07, 20.51s/it]"
     ]
    },
    {
     "name": "stderr",
     "output_type": "stream",
     "text": [
      "## Warning: Hourly nldas_hourly NetCDF file not found. Falling back to slower csv files.\n"
     ]
    },
    {
     "name": "stdout",
     "output_type": "stream",
     "text": [
      "# Evaluation:  52%|█████▏    | 268/516 [1:41:28<1:22:04, 19.86s/it]"
     ]
    },
    {
     "name": "stderr",
     "output_type": "stream",
     "text": [
      "## Warning: Hourly nldas_hourly NetCDF file not found. Falling back to slower csv files.\n"
     ]
    },
    {
     "name": "stdout",
     "output_type": "stream",
     "text": [
      "# Evaluation:  52%|█████▏    | 269/516 [1:41:47<1:20:25, 19.54s/it]"
     ]
    },
    {
     "name": "stderr",
     "output_type": "stream",
     "text": [
      "## Warning: Hourly nldas_hourly NetCDF file not found. Falling back to slower csv files.\n"
     ]
    },
    {
     "name": "stdout",
     "output_type": "stream",
     "text": [
      "# Evaluation:  52%|█████▏    | 270/516 [1:42:05<1:17:41, 18.95s/it]"
     ]
    },
    {
     "name": "stderr",
     "output_type": "stream",
     "text": [
      "## Warning: Hourly nldas_hourly NetCDF file not found. Falling back to slower csv files.\n"
     ]
    },
    {
     "name": "stdout",
     "output_type": "stream",
     "text": [
      "# Evaluation:  53%|█████▎    | 271/516 [1:42:23<1:17:04, 18.88s/it]"
     ]
    },
    {
     "name": "stderr",
     "output_type": "stream",
     "text": [
      "## Warning: Hourly nldas_hourly NetCDF file not found. Falling back to slower csv files.\n"
     ]
    },
    {
     "name": "stdout",
     "output_type": "stream",
     "text": [
      "# Evaluation:  53%|█████▎    | 272/516 [1:42:42<1:16:32, 18.82s/it]"
     ]
    },
    {
     "name": "stderr",
     "output_type": "stream",
     "text": [
      "## Warning: Hourly nldas_hourly NetCDF file not found. Falling back to slower csv files.\n"
     ]
    },
    {
     "name": "stdout",
     "output_type": "stream",
     "text": [
      "# Evaluation:  53%|█████▎    | 273/516 [1:43:03<1:18:45, 19.45s/it]"
     ]
    },
    {
     "name": "stderr",
     "output_type": "stream",
     "text": [
      "## Warning: Hourly nldas_hourly NetCDF file not found. Falling back to slower csv files.\n"
     ]
    },
    {
     "name": "stdout",
     "output_type": "stream",
     "text": [
      "# Evaluation:  53%|█████▎    | 274/516 [1:43:23<1:19:34, 19.73s/it]"
     ]
    },
    {
     "name": "stderr",
     "output_type": "stream",
     "text": [
      "## Warning: Hourly nldas_hourly NetCDF file not found. Falling back to slower csv files.\n"
     ]
    },
    {
     "name": "stdout",
     "output_type": "stream",
     "text": [
      "# Evaluation:  53%|█████▎    | 275/516 [1:43:46<1:23:10, 20.71s/it]"
     ]
    },
    {
     "name": "stderr",
     "output_type": "stream",
     "text": [
      "## Warning: Hourly nldas_hourly NetCDF file not found. Falling back to slower csv files.\n"
     ]
    },
    {
     "name": "stdout",
     "output_type": "stream",
     "text": [
      "# Evaluation:  53%|█████▎    | 276/516 [1:44:11<1:27:11, 21.80s/it]"
     ]
    },
    {
     "name": "stderr",
     "output_type": "stream",
     "text": [
      "## Warning: Hourly nldas_hourly NetCDF file not found. Falling back to slower csv files.\n"
     ]
    },
    {
     "name": "stdout",
     "output_type": "stream",
     "text": [
      "# Evaluation:  54%|█████▎    | 277/516 [1:44:44<1:40:17, 25.18s/it]"
     ]
    },
    {
     "name": "stderr",
     "output_type": "stream",
     "text": [
      "## Warning: Hourly nldas_hourly NetCDF file not found. Falling back to slower csv files.\n"
     ]
    },
    {
     "name": "stdout",
     "output_type": "stream",
     "text": [
      "# Evaluation:  54%|█████▍    | 278/516 [1:45:05<1:34:35, 23.85s/it]"
     ]
    },
    {
     "name": "stderr",
     "output_type": "stream",
     "text": [
      "## Warning: Hourly nldas_hourly NetCDF file not found. Falling back to slower csv files.\n"
     ]
    },
    {
     "name": "stdout",
     "output_type": "stream",
     "text": [
      "# Evaluation:  54%|█████▍    | 279/516 [1:45:38<1:45:43, 26.76s/it]"
     ]
    },
    {
     "name": "stderr",
     "output_type": "stream",
     "text": [
      "## Warning: Hourly nldas_hourly NetCDF file not found. Falling back to slower csv files.\n"
     ]
    },
    {
     "name": "stdout",
     "output_type": "stream",
     "text": [
      "# Evaluation:  54%|█████▍    | 280/516 [1:46:08<1:48:25, 27.57s/it]"
     ]
    },
    {
     "name": "stderr",
     "output_type": "stream",
     "text": [
      "## Warning: Hourly nldas_hourly NetCDF file not found. Falling back to slower csv files.\n"
     ]
    },
    {
     "name": "stdout",
     "output_type": "stream",
     "text": [
      "# Evaluation:  54%|█████▍    | 281/516 [1:46:38<1:51:03, 28.36s/it]"
     ]
    },
    {
     "name": "stderr",
     "output_type": "stream",
     "text": [
      "## Warning: Hourly nldas_hourly NetCDF file not found. Falling back to slower csv files.\n"
     ]
    },
    {
     "name": "stdout",
     "output_type": "stream",
     "text": [
      "# Evaluation:  55%|█████▍    | 282/516 [1:47:04<1:48:06, 27.72s/it]"
     ]
    },
    {
     "name": "stderr",
     "output_type": "stream",
     "text": [
      "## Warning: Hourly nldas_hourly NetCDF file not found. Falling back to slower csv files.\n"
     ]
    },
    {
     "name": "stdout",
     "output_type": "stream",
     "text": [
      "# Evaluation:  55%|█████▍    | 283/516 [1:47:30<1:45:47, 27.24s/it]"
     ]
    },
    {
     "name": "stderr",
     "output_type": "stream",
     "text": [
      "## Warning: Hourly nldas_hourly NetCDF file not found. Falling back to slower csv files.\n"
     ]
    },
    {
     "name": "stdout",
     "output_type": "stream",
     "text": [
      "# Evaluation:  55%|█████▌    | 284/516 [1:47:51<1:38:18, 25.43s/it]"
     ]
    },
    {
     "name": "stderr",
     "output_type": "stream",
     "text": [
      "## Warning: Hourly nldas_hourly NetCDF file not found. Falling back to slower csv files.\n"
     ]
    },
    {
     "name": "stdout",
     "output_type": "stream",
     "text": [
      "# Evaluation:  55%|█████▌    | 285/516 [1:48:12<1:32:33, 24.04s/it]"
     ]
    },
    {
     "name": "stderr",
     "output_type": "stream",
     "text": [
      "## Warning: Hourly nldas_hourly NetCDF file not found. Falling back to slower csv files.\n"
     ]
    },
    {
     "name": "stdout",
     "output_type": "stream",
     "text": [
      "# Evaluation:  55%|█████▌    | 286/516 [1:48:33<1:28:10, 23.00s/it]"
     ]
    },
    {
     "name": "stderr",
     "output_type": "stream",
     "text": [
      "## Warning: Hourly nldas_hourly NetCDF file not found. Falling back to slower csv files.\n"
     ]
    },
    {
     "name": "stdout",
     "output_type": "stream",
     "text": [
      "# Evaluation:  56%|█████▌    | 287/516 [1:48:53<1:24:43, 22.20s/it]"
     ]
    },
    {
     "name": "stderr",
     "output_type": "stream",
     "text": [
      "## Warning: Hourly nldas_hourly NetCDF file not found. Falling back to slower csv files.\n"
     ]
    },
    {
     "name": "stdout",
     "output_type": "stream",
     "text": [
      "# Evaluation:  56%|█████▌    | 288/516 [1:49:14<1:23:05, 21.87s/it]"
     ]
    },
    {
     "name": "stderr",
     "output_type": "stream",
     "text": [
      "## Warning: Hourly nldas_hourly NetCDF file not found. Falling back to slower csv files.\n"
     ]
    },
    {
     "name": "stdout",
     "output_type": "stream",
     "text": [
      "# Evaluation:  56%|█████▌    | 289/516 [1:49:35<1:21:45, 21.61s/it]"
     ]
    },
    {
     "name": "stderr",
     "output_type": "stream",
     "text": [
      "## Warning: Hourly nldas_hourly NetCDF file not found. Falling back to slower csv files.\n"
     ]
    },
    {
     "name": "stdout",
     "output_type": "stream",
     "text": [
      "# Evaluation:  56%|█████▌    | 290/516 [1:50:02<1:27:13, 23.16s/it]"
     ]
    },
    {
     "name": "stderr",
     "output_type": "stream",
     "text": [
      "## Warning: Hourly nldas_hourly NetCDF file not found. Falling back to slower csv files.\n"
     ]
    },
    {
     "name": "stdout",
     "output_type": "stream",
     "text": [
      "# Evaluation:  56%|█████▋    | 291/516 [1:50:22<1:23:49, 22.36s/it]"
     ]
    },
    {
     "name": "stderr",
     "output_type": "stream",
     "text": [
      "## Warning: Hourly nldas_hourly NetCDF file not found. Falling back to slower csv files.\n"
     ]
    },
    {
     "name": "stdout",
     "output_type": "stream",
     "text": [
      "# Evaluation:  57%|█████▋    | 292/516 [1:50:44<1:22:55, 22.21s/it]"
     ]
    },
    {
     "name": "stderr",
     "output_type": "stream",
     "text": [
      "## Warning: Hourly nldas_hourly NetCDF file not found. Falling back to slower csv files.\n"
     ]
    },
    {
     "name": "stdout",
     "output_type": "stream",
     "text": [
      "# Evaluation:  57%|█████▋    | 293/516 [1:51:05<1:20:31, 21.67s/it]"
     ]
    },
    {
     "name": "stderr",
     "output_type": "stream",
     "text": [
      "## Warning: Hourly nldas_hourly NetCDF file not found. Falling back to slower csv files.\n"
     ]
    },
    {
     "name": "stdout",
     "output_type": "stream",
     "text": [
      "# Evaluation:  57%|█████▋    | 294/516 [1:51:23<1:16:00, 20.54s/it]"
     ]
    },
    {
     "name": "stderr",
     "output_type": "stream",
     "text": [
      "## Warning: Hourly nldas_hourly NetCDF file not found. Falling back to slower csv files.\n"
     ]
    },
    {
     "name": "stdout",
     "output_type": "stream",
     "text": [
      "# Evaluation:  57%|█████▋    | 295/516 [1:51:43<1:15:26, 20.48s/it]"
     ]
    },
    {
     "name": "stderr",
     "output_type": "stream",
     "text": [
      "## Warning: Hourly nldas_hourly NetCDF file not found. Falling back to slower csv files.\n"
     ]
    },
    {
     "name": "stdout",
     "output_type": "stream",
     "text": [
      "# Evaluation:  57%|█████▋    | 296/516 [1:52:03<1:15:03, 20.47s/it]"
     ]
    },
    {
     "name": "stderr",
     "output_type": "stream",
     "text": [
      "## Warning: Hourly nldas_hourly NetCDF file not found. Falling back to slower csv files.\n"
     ]
    },
    {
     "name": "stdout",
     "output_type": "stream",
     "text": [
      "# Evaluation:  58%|█████▊    | 297/516 [1:52:26<1:16:50, 21.05s/it]"
     ]
    },
    {
     "name": "stderr",
     "output_type": "stream",
     "text": [
      "## Warning: Hourly nldas_hourly NetCDF file not found. Falling back to slower csv files.\n"
     ]
    },
    {
     "name": "stdout",
     "output_type": "stream",
     "text": [
      "# Evaluation:  58%|█████▊    | 298/516 [1:52:47<1:16:09, 20.96s/it]"
     ]
    },
    {
     "name": "stderr",
     "output_type": "stream",
     "text": [
      "## Warning: Hourly nldas_hourly NetCDF file not found. Falling back to slower csv files.\n"
     ]
    },
    {
     "name": "stdout",
     "output_type": "stream",
     "text": [
      "# Evaluation:  58%|█████▊    | 299/516 [1:53:08<1:15:56, 21.00s/it]"
     ]
    },
    {
     "name": "stderr",
     "output_type": "stream",
     "text": [
      "## Warning: Hourly nldas_hourly NetCDF file not found. Falling back to slower csv files.\n"
     ]
    },
    {
     "name": "stdout",
     "output_type": "stream",
     "text": [
      "# Evaluation:  58%|█████▊    | 300/516 [1:53:28<1:14:44, 20.76s/it]"
     ]
    },
    {
     "name": "stderr",
     "output_type": "stream",
     "text": [
      "## Warning: Hourly nldas_hourly NetCDF file not found. Falling back to slower csv files.\n"
     ]
    },
    {
     "name": "stdout",
     "output_type": "stream",
     "text": [
      "# Evaluation:  58%|█████▊    | 301/516 [1:53:49<1:14:20, 20.75s/it]"
     ]
    },
    {
     "name": "stderr",
     "output_type": "stream",
     "text": [
      "## Warning: Hourly nldas_hourly NetCDF file not found. Falling back to slower csv files.\n"
     ]
    },
    {
     "name": "stdout",
     "output_type": "stream",
     "text": [
      "# Evaluation:  59%|█████▊    | 302/516 [1:54:10<1:15:10, 21.08s/it]"
     ]
    },
    {
     "name": "stderr",
     "output_type": "stream",
     "text": [
      "## Warning: Hourly nldas_hourly NetCDF file not found. Falling back to slower csv files.\n"
     ]
    },
    {
     "name": "stdout",
     "output_type": "stream",
     "text": [
      "# Evaluation:  59%|█████▊    | 303/516 [1:54:33<1:16:19, 21.50s/it]"
     ]
    },
    {
     "name": "stderr",
     "output_type": "stream",
     "text": [
      "## Warning: Hourly nldas_hourly NetCDF file not found. Falling back to slower csv files.\n"
     ]
    },
    {
     "name": "stdout",
     "output_type": "stream",
     "text": [
      "# Evaluation:  59%|█████▉    | 304/516 [1:54:53<1:14:57, 21.21s/it]"
     ]
    },
    {
     "name": "stderr",
     "output_type": "stream",
     "text": [
      "## Warning: Hourly nldas_hourly NetCDF file not found. Falling back to slower csv files.\n"
     ]
    },
    {
     "name": "stdout",
     "output_type": "stream",
     "text": [
      "# Evaluation:  59%|█████▉    | 305/516 [1:55:14<1:14:24, 21.16s/it]"
     ]
    },
    {
     "name": "stderr",
     "output_type": "stream",
     "text": [
      "## Warning: Hourly nldas_hourly NetCDF file not found. Falling back to slower csv files.\n"
     ]
    },
    {
     "name": "stdout",
     "output_type": "stream",
     "text": [
      "# Evaluation:  59%|█████▉    | 306/516 [1:55:33<1:11:15, 20.36s/it]"
     ]
    },
    {
     "name": "stderr",
     "output_type": "stream",
     "text": [
      "## Warning: Hourly nldas_hourly NetCDF file not found. Falling back to slower csv files.\n"
     ]
    },
    {
     "name": "stdout",
     "output_type": "stream",
     "text": [
      "# Evaluation:  59%|█████▉    | 307/516 [1:55:54<1:11:15, 20.46s/it]"
     ]
    },
    {
     "name": "stderr",
     "output_type": "stream",
     "text": [
      "## Warning: Hourly nldas_hourly NetCDF file not found. Falling back to slower csv files.\n"
     ]
    },
    {
     "name": "stdout",
     "output_type": "stream",
     "text": [
      "# Evaluation:  60%|█████▉    | 308/516 [1:56:14<1:10:54, 20.45s/it]"
     ]
    },
    {
     "name": "stderr",
     "output_type": "stream",
     "text": [
      "## Warning: Hourly nldas_hourly NetCDF file not found. Falling back to slower csv files.\n"
     ]
    },
    {
     "name": "stdout",
     "output_type": "stream",
     "text": [
      "# Evaluation:  60%|█████▉    | 309/516 [1:56:35<1:10:58, 20.57s/it]"
     ]
    },
    {
     "name": "stderr",
     "output_type": "stream",
     "text": [
      "## Warning: Hourly nldas_hourly NetCDF file not found. Falling back to slower csv files.\n"
     ]
    },
    {
     "name": "stdout",
     "output_type": "stream",
     "text": [
      "# Evaluation:  60%|██████    | 310/516 [1:56:55<1:10:37, 20.57s/it]"
     ]
    },
    {
     "name": "stderr",
     "output_type": "stream",
     "text": [
      "## Warning: Hourly nldas_hourly NetCDF file not found. Falling back to slower csv files.\n"
     ]
    },
    {
     "name": "stdout",
     "output_type": "stream",
     "text": [
      "# Evaluation:  60%|██████    | 311/516 [1:57:17<1:10:51, 20.74s/it]"
     ]
    },
    {
     "name": "stderr",
     "output_type": "stream",
     "text": [
      "## Warning: Hourly nldas_hourly NetCDF file not found. Falling back to slower csv files.\n"
     ]
    },
    {
     "name": "stdout",
     "output_type": "stream",
     "text": [
      "# Evaluation:  60%|██████    | 312/516 [1:57:37<1:10:25, 20.71s/it]"
     ]
    },
    {
     "name": "stderr",
     "output_type": "stream",
     "text": [
      "## Warning: Hourly nldas_hourly NetCDF file not found. Falling back to slower csv files.\n"
     ]
    },
    {
     "name": "stdout",
     "output_type": "stream",
     "text": [
      "# Evaluation:  61%|██████    | 313/516 [1:58:04<1:16:30, 22.61s/it]"
     ]
    },
    {
     "name": "stderr",
     "output_type": "stream",
     "text": [
      "## Warning: Hourly nldas_hourly NetCDF file not found. Falling back to slower csv files.\n"
     ]
    },
    {
     "name": "stdout",
     "output_type": "stream",
     "text": [
      "# Evaluation:  61%|██████    | 314/516 [1:58:25<1:14:14, 22.05s/it]"
     ]
    },
    {
     "name": "stderr",
     "output_type": "stream",
     "text": [
      "## Warning: Hourly nldas_hourly NetCDF file not found. Falling back to slower csv files.\n"
     ]
    },
    {
     "name": "stdout",
     "output_type": "stream",
     "text": [
      "# Evaluation:  61%|██████    | 315/516 [1:58:46<1:12:33, 21.66s/it]"
     ]
    },
    {
     "name": "stderr",
     "output_type": "stream",
     "text": [
      "## Warning: Hourly nldas_hourly NetCDF file not found. Falling back to slower csv files.\n"
     ]
    },
    {
     "name": "stdout",
     "output_type": "stream",
     "text": [
      "# Evaluation:  61%|██████    | 316/516 [1:59:07<1:11:28, 21.44s/it]"
     ]
    },
    {
     "name": "stderr",
     "output_type": "stream",
     "text": [
      "## Warning: Hourly nldas_hourly NetCDF file not found. Falling back to slower csv files.\n"
     ]
    },
    {
     "name": "stdout",
     "output_type": "stream",
     "text": [
      "# Evaluation:  61%|██████▏   | 317/516 [1:59:37<1:19:44, 24.04s/it]"
     ]
    },
    {
     "name": "stderr",
     "output_type": "stream",
     "text": [
      "## Warning: Hourly nldas_hourly NetCDF file not found. Falling back to slower csv files.\n"
     ]
    },
    {
     "name": "stdout",
     "output_type": "stream",
     "text": [
      "# Evaluation:  62%|██████▏   | 318/516 [2:00:07<1:25:06, 25.79s/it]"
     ]
    },
    {
     "name": "stderr",
     "output_type": "stream",
     "text": [
      "## Warning: Hourly nldas_hourly NetCDF file not found. Falling back to slower csv files.\n"
     ]
    },
    {
     "name": "stdout",
     "output_type": "stream",
     "text": [
      "# Evaluation:  62%|██████▏   | 319/516 [2:00:40<1:31:48, 27.96s/it]"
     ]
    },
    {
     "name": "stderr",
     "output_type": "stream",
     "text": [
      "## Warning: Hourly nldas_hourly NetCDF file not found. Falling back to slower csv files.\n"
     ]
    },
    {
     "name": "stdout",
     "output_type": "stream",
     "text": [
      "# Evaluation:  62%|██████▏   | 320/516 [2:01:14<1:37:13, 29.76s/it]"
     ]
    },
    {
     "name": "stderr",
     "output_type": "stream",
     "text": [
      "## Warning: Hourly nldas_hourly NetCDF file not found. Falling back to slower csv files.\n"
     ]
    },
    {
     "name": "stdout",
     "output_type": "stream",
     "text": [
      "# Evaluation:  62%|██████▏   | 321/516 [2:01:46<1:39:15, 30.54s/it]"
     ]
    },
    {
     "name": "stderr",
     "output_type": "stream",
     "text": [
      "## Warning: Hourly nldas_hourly NetCDF file not found. Falling back to slower csv files.\n"
     ]
    },
    {
     "name": "stdout",
     "output_type": "stream",
     "text": [
      "# Evaluation:  62%|██████▏   | 322/516 [2:02:15<1:37:38, 30.20s/it]"
     ]
    },
    {
     "name": "stderr",
     "output_type": "stream",
     "text": [
      "## Warning: Hourly nldas_hourly NetCDF file not found. Falling back to slower csv files.\n"
     ]
    },
    {
     "name": "stdout",
     "output_type": "stream",
     "text": [
      "# Evaluation:  63%|██████▎   | 323/516 [2:02:50<1:41:17, 31.49s/it]"
     ]
    },
    {
     "name": "stderr",
     "output_type": "stream",
     "text": [
      "## Warning: Hourly nldas_hourly NetCDF file not found. Falling back to slower csv files.\n"
     ]
    },
    {
     "name": "stdout",
     "output_type": "stream",
     "text": [
      "# Evaluation:  63%|██████▎   | 324/516 [2:03:08<1:27:57, 27.49s/it]"
     ]
    },
    {
     "name": "stderr",
     "output_type": "stream",
     "text": [
      "## Warning: Hourly nldas_hourly NetCDF file not found. Falling back to slower csv files.\n"
     ]
    },
    {
     "name": "stdout",
     "output_type": "stream",
     "text": [
      "# Evaluation:  63%|██████▎   | 325/516 [2:03:29<1:20:57, 25.43s/it]"
     ]
    },
    {
     "name": "stderr",
     "output_type": "stream",
     "text": [
      "## Warning: Hourly nldas_hourly NetCDF file not found. Falling back to slower csv files.\n"
     ]
    },
    {
     "name": "stdout",
     "output_type": "stream",
     "text": [
      "# Evaluation:  63%|██████▎   | 326/516 [2:03:49<1:15:56, 23.98s/it]"
     ]
    },
    {
     "name": "stderr",
     "output_type": "stream",
     "text": [
      "## Warning: Hourly nldas_hourly NetCDF file not found. Falling back to slower csv files.\n"
     ]
    },
    {
     "name": "stdout",
     "output_type": "stream",
     "text": [
      "# Evaluation:  63%|██████▎   | 327/516 [2:04:10<1:12:30, 23.02s/it]"
     ]
    },
    {
     "name": "stderr",
     "output_type": "stream",
     "text": [
      "## Warning: Hourly nldas_hourly NetCDF file not found. Falling back to slower csv files.\n"
     ]
    },
    {
     "name": "stdout",
     "output_type": "stream",
     "text": [
      "# Evaluation:  64%|██████▎   | 328/516 [2:04:31<1:09:42, 22.25s/it]"
     ]
    },
    {
     "name": "stderr",
     "output_type": "stream",
     "text": [
      "## Warning: Hourly nldas_hourly NetCDF file not found. Falling back to slower csv files.\n"
     ]
    },
    {
     "name": "stdout",
     "output_type": "stream",
     "text": [
      "# Evaluation:  64%|██████▍   | 329/516 [2:04:51<1:07:49, 21.76s/it]"
     ]
    },
    {
     "name": "stderr",
     "output_type": "stream",
     "text": [
      "## Warning: Hourly nldas_hourly NetCDF file not found. Falling back to slower csv files.\n"
     ]
    },
    {
     "name": "stdout",
     "output_type": "stream",
     "text": [
      "# Evaluation:  64%|██████▍   | 330/516 [2:05:11<1:05:47, 21.22s/it]"
     ]
    },
    {
     "name": "stderr",
     "output_type": "stream",
     "text": [
      "## Warning: Hourly nldas_hourly NetCDF file not found. Falling back to slower csv files.\n"
     ]
    },
    {
     "name": "stdout",
     "output_type": "stream",
     "text": [
      "# Evaluation:  64%|██████▍   | 331/516 [2:05:31<1:04:16, 20.85s/it]"
     ]
    },
    {
     "name": "stderr",
     "output_type": "stream",
     "text": [
      "## Warning: Hourly nldas_hourly NetCDF file not found. Falling back to slower csv files.\n"
     ]
    },
    {
     "name": "stdout",
     "output_type": "stream",
     "text": [
      "# Evaluation:  64%|██████▍   | 332/516 [2:05:51<1:03:29, 20.70s/it]"
     ]
    },
    {
     "name": "stderr",
     "output_type": "stream",
     "text": [
      "## Warning: Hourly nldas_hourly NetCDF file not found. Falling back to slower csv files.\n"
     ]
    },
    {
     "name": "stdout",
     "output_type": "stream",
     "text": [
      "# Evaluation:  65%|██████▍   | 333/516 [2:06:12<1:02:48, 20.59s/it]"
     ]
    },
    {
     "name": "stderr",
     "output_type": "stream",
     "text": [
      "## Warning: Hourly nldas_hourly NetCDF file not found. Falling back to slower csv files.\n"
     ]
    },
    {
     "name": "stdout",
     "output_type": "stream",
     "text": [
      "# Evaluation:  65%|██████▍   | 334/516 [2:06:30<1:00:26, 19.92s/it]"
     ]
    },
    {
     "name": "stderr",
     "output_type": "stream",
     "text": [
      "## Warning: Hourly nldas_hourly NetCDF file not found. Falling back to slower csv files.\n"
     ]
    },
    {
     "name": "stdout",
     "output_type": "stream",
     "text": [
      "# Evaluation:  65%|██████▍   | 335/516 [2:06:48<58:15, 19.31s/it]  "
     ]
    },
    {
     "name": "stderr",
     "output_type": "stream",
     "text": [
      "## Warning: Hourly nldas_hourly NetCDF file not found. Falling back to slower csv files.\n"
     ]
    },
    {
     "name": "stdout",
     "output_type": "stream",
     "text": [
      "# Evaluation:  65%|██████▌   | 336/516 [2:07:07<57:43, 19.24s/it]"
     ]
    },
    {
     "name": "stderr",
     "output_type": "stream",
     "text": [
      "## Warning: Hourly nldas_hourly NetCDF file not found. Falling back to slower csv files.\n"
     ]
    },
    {
     "name": "stdout",
     "output_type": "stream",
     "text": [
      "# Evaluation:  65%|██████▌   | 337/516 [2:07:38<1:07:59, 22.79s/it]"
     ]
    },
    {
     "name": "stderr",
     "output_type": "stream",
     "text": [
      "## Warning: Hourly nldas_hourly NetCDF file not found. Falling back to slower csv files.\n"
     ]
    },
    {
     "name": "stdout",
     "output_type": "stream",
     "text": [
      "# Evaluation:  66%|██████▌   | 338/516 [2:08:05<1:11:07, 23.97s/it]"
     ]
    },
    {
     "name": "stderr",
     "output_type": "stream",
     "text": [
      "## Warning: Hourly nldas_hourly NetCDF file not found. Falling back to slower csv files.\n"
     ]
    },
    {
     "name": "stdout",
     "output_type": "stream",
     "text": [
      "# Evaluation:  66%|██████▌   | 339/516 [2:08:36<1:17:07, 26.15s/it]"
     ]
    },
    {
     "name": "stderr",
     "output_type": "stream",
     "text": [
      "## Warning: Hourly nldas_hourly NetCDF file not found. Falling back to slower csv files.\n"
     ]
    },
    {
     "name": "stdout",
     "output_type": "stream",
     "text": [
      "# Evaluation:  66%|██████▌   | 340/516 [2:09:04<1:18:33, 26.78s/it]"
     ]
    },
    {
     "name": "stderr",
     "output_type": "stream",
     "text": [
      "## Warning: Hourly nldas_hourly NetCDF file not found. Falling back to slower csv files.\n"
     ]
    },
    {
     "name": "stdout",
     "output_type": "stream",
     "text": [
      "# Evaluation:  66%|██████▌   | 341/516 [2:09:26<1:13:41, 25.27s/it]"
     ]
    },
    {
     "name": "stderr",
     "output_type": "stream",
     "text": [
      "## Warning: Hourly nldas_hourly NetCDF file not found. Falling back to slower csv files.\n"
     ]
    },
    {
     "name": "stdout",
     "output_type": "stream",
     "text": [
      "# Evaluation:  66%|██████▋   | 342/516 [2:09:45<1:07:39, 23.33s/it]"
     ]
    },
    {
     "name": "stderr",
     "output_type": "stream",
     "text": [
      "## Warning: Hourly nldas_hourly NetCDF file not found. Falling back to slower csv files.\n"
     ]
    },
    {
     "name": "stdout",
     "output_type": "stream",
     "text": [
      "# Evaluation:  66%|██████▋   | 343/516 [2:10:12<1:10:03, 24.30s/it]"
     ]
    },
    {
     "name": "stderr",
     "output_type": "stream",
     "text": [
      "## Warning: Hourly nldas_hourly NetCDF file not found. Falling back to slower csv files.\n"
     ]
    },
    {
     "name": "stdout",
     "output_type": "stream",
     "text": [
      "# Evaluation:  67%|██████▋   | 344/516 [2:10:32<1:06:15, 23.11s/it]"
     ]
    },
    {
     "name": "stderr",
     "output_type": "stream",
     "text": [
      "## Warning: Hourly nldas_hourly NetCDF file not found. Falling back to slower csv files.\n"
     ]
    },
    {
     "name": "stdout",
     "output_type": "stream",
     "text": [
      "# Evaluation:  67%|██████▋   | 345/516 [2:10:55<1:05:44, 23.07s/it]"
     ]
    },
    {
     "name": "stderr",
     "output_type": "stream",
     "text": [
      "## Warning: Hourly nldas_hourly NetCDF file not found. Falling back to slower csv files.\n"
     ]
    },
    {
     "name": "stdout",
     "output_type": "stream",
     "text": [
      "# Evaluation:  67%|██████▋   | 346/516 [2:11:15<1:03:03, 22.25s/it]"
     ]
    },
    {
     "name": "stderr",
     "output_type": "stream",
     "text": [
      "## Warning: Hourly nldas_hourly NetCDF file not found. Falling back to slower csv files.\n"
     ]
    },
    {
     "name": "stdout",
     "output_type": "stream",
     "text": [
      "# Evaluation:  67%|██████▋   | 347/516 [2:11:42<1:06:47, 23.71s/it]"
     ]
    },
    {
     "name": "stderr",
     "output_type": "stream",
     "text": [
      "## Warning: Hourly nldas_hourly NetCDF file not found. Falling back to slower csv files.\n"
     ]
    },
    {
     "name": "stdout",
     "output_type": "stream",
     "text": [
      "# Evaluation:  67%|██████▋   | 348/516 [2:12:18<1:16:20, 27.27s/it]"
     ]
    },
    {
     "name": "stderr",
     "output_type": "stream",
     "text": [
      "## Warning: Hourly nldas_hourly NetCDF file not found. Falling back to slower csv files.\n"
     ]
    },
    {
     "name": "stdout",
     "output_type": "stream",
     "text": [
      "# Evaluation:  68%|██████▊   | 349/516 [2:12:51<1:21:03, 29.12s/it]"
     ]
    },
    {
     "name": "stderr",
     "output_type": "stream",
     "text": [
      "## Warning: Hourly nldas_hourly NetCDF file not found. Falling back to slower csv files.\n"
     ]
    },
    {
     "name": "stdout",
     "output_type": "stream",
     "text": [
      "# Evaluation:  68%|██████▊   | 350/516 [2:13:27<1:25:53, 31.05s/it]"
     ]
    },
    {
     "name": "stderr",
     "output_type": "stream",
     "text": [
      "## Warning: Hourly nldas_hourly NetCDF file not found. Falling back to slower csv files.\n"
     ]
    },
    {
     "name": "stdout",
     "output_type": "stream",
     "text": [
      "# Evaluation:  68%|██████▊   | 351/516 [2:13:56<1:23:24, 30.33s/it]"
     ]
    },
    {
     "name": "stderr",
     "output_type": "stream",
     "text": [
      "## Warning: Hourly nldas_hourly NetCDF file not found. Falling back to slower csv files.\n"
     ]
    },
    {
     "name": "stdout",
     "output_type": "stream",
     "text": [
      "# Evaluation:  68%|██████▊   | 352/516 [2:14:16<1:15:01, 27.45s/it]"
     ]
    },
    {
     "name": "stderr",
     "output_type": "stream",
     "text": [
      "## Warning: Hourly nldas_hourly NetCDF file not found. Falling back to slower csv files.\n"
     ]
    },
    {
     "name": "stdout",
     "output_type": "stream",
     "text": [
      "# Evaluation:  68%|██████▊   | 353/516 [2:14:43<1:14:13, 27.32s/it]"
     ]
    },
    {
     "name": "stderr",
     "output_type": "stream",
     "text": [
      "## Warning: Hourly nldas_hourly NetCDF file not found. Falling back to slower csv files.\n"
     ]
    },
    {
     "name": "stdout",
     "output_type": "stream",
     "text": [
      "# Evaluation:  69%|██████▊   | 354/516 [2:15:05<1:09:28, 25.73s/it]"
     ]
    },
    {
     "name": "stderr",
     "output_type": "stream",
     "text": [
      "## Warning: Hourly nldas_hourly NetCDF file not found. Falling back to slower csv files.\n"
     ]
    },
    {
     "name": "stdout",
     "output_type": "stream",
     "text": [
      "# Evaluation:  69%|██████▉   | 355/516 [2:15:26<1:05:01, 24.23s/it]"
     ]
    },
    {
     "name": "stderr",
     "output_type": "stream",
     "text": [
      "## Warning: Hourly nldas_hourly NetCDF file not found. Falling back to slower csv files.\n"
     ]
    },
    {
     "name": "stdout",
     "output_type": "stream",
     "text": [
      "# Evaluation:  69%|██████▉   | 356/516 [2:15:49<1:03:50, 23.94s/it]"
     ]
    },
    {
     "name": "stderr",
     "output_type": "stream",
     "text": [
      "## Warning: Hourly nldas_hourly NetCDF file not found. Falling back to slower csv files.\n"
     ]
    },
    {
     "name": "stdout",
     "output_type": "stream",
     "text": [
      "# Evaluation:  69%|██████▉   | 357/516 [2:16:16<1:05:26, 24.70s/it]"
     ]
    },
    {
     "name": "stderr",
     "output_type": "stream",
     "text": [
      "## Warning: Hourly nldas_hourly NetCDF file not found. Falling back to slower csv files.\n"
     ]
    },
    {
     "name": "stdout",
     "output_type": "stream",
     "text": [
      "# Evaluation:  69%|██████▉   | 358/516 [2:16:46<1:09:28, 26.38s/it]"
     ]
    },
    {
     "name": "stderr",
     "output_type": "stream",
     "text": [
      "## Warning: Hourly nldas_hourly NetCDF file not found. Falling back to slower csv files.\n"
     ]
    },
    {
     "name": "stdout",
     "output_type": "stream",
     "text": [
      "# Evaluation:  70%|██████▉   | 359/516 [2:17:14<1:10:17, 26.86s/it]"
     ]
    },
    {
     "name": "stderr",
     "output_type": "stream",
     "text": [
      "## Warning: Hourly nldas_hourly NetCDF file not found. Falling back to slower csv files.\n"
     ]
    },
    {
     "name": "stdout",
     "output_type": "stream",
     "text": [
      "# Evaluation:  70%|██████▉   | 360/516 [2:17:42<1:11:04, 27.34s/it]"
     ]
    },
    {
     "name": "stderr",
     "output_type": "stream",
     "text": [
      "## Warning: Hourly nldas_hourly NetCDF file not found. Falling back to slower csv files.\n"
     ]
    },
    {
     "name": "stdout",
     "output_type": "stream",
     "text": [
      "# Evaluation:  70%|██████▉   | 361/516 [2:18:09<1:10:00, 27.10s/it]"
     ]
    },
    {
     "name": "stderr",
     "output_type": "stream",
     "text": [
      "## Warning: Hourly nldas_hourly NetCDF file not found. Falling back to slower csv files.\n"
     ]
    },
    {
     "name": "stdout",
     "output_type": "stream",
     "text": [
      "# Evaluation:  70%|███████   | 362/516 [2:18:36<1:09:22, 27.03s/it]"
     ]
    },
    {
     "name": "stderr",
     "output_type": "stream",
     "text": [
      "## Warning: Hourly nldas_hourly NetCDF file not found. Falling back to slower csv files.\n"
     ]
    },
    {
     "name": "stdout",
     "output_type": "stream",
     "text": [
      "# Evaluation:  70%|███████   | 363/516 [2:19:02<1:08:32, 26.88s/it]"
     ]
    },
    {
     "name": "stderr",
     "output_type": "stream",
     "text": [
      "## Warning: Hourly nldas_hourly NetCDF file not found. Falling back to slower csv files.\n"
     ]
    },
    {
     "name": "stdout",
     "output_type": "stream",
     "text": [
      "# Evaluation:  71%|███████   | 364/516 [2:19:27<1:06:06, 26.10s/it]"
     ]
    },
    {
     "name": "stderr",
     "output_type": "stream",
     "text": [
      "## Warning: Hourly nldas_hourly NetCDF file not found. Falling back to slower csv files.\n"
     ]
    },
    {
     "name": "stdout",
     "output_type": "stream",
     "text": [
      "# Evaluation:  71%|███████   | 365/516 [2:19:53<1:05:51, 26.17s/it]"
     ]
    },
    {
     "name": "stderr",
     "output_type": "stream",
     "text": [
      "## Warning: Hourly nldas_hourly NetCDF file not found. Falling back to slower csv files.\n"
     ]
    },
    {
     "name": "stdout",
     "output_type": "stream",
     "text": [
      "# Evaluation:  71%|███████   | 366/516 [2:20:17<1:03:47, 25.52s/it]"
     ]
    },
    {
     "name": "stderr",
     "output_type": "stream",
     "text": [
      "## Warning: Hourly nldas_hourly NetCDF file not found. Falling back to slower csv files.\n"
     ]
    },
    {
     "name": "stdout",
     "output_type": "stream",
     "text": [
      "# Evaluation:  71%|███████   | 367/516 [2:20:45<1:05:18, 26.30s/it]"
     ]
    },
    {
     "name": "stderr",
     "output_type": "stream",
     "text": [
      "## Warning: Hourly nldas_hourly NetCDF file not found. Falling back to slower csv files.\n"
     ]
    },
    {
     "name": "stdout",
     "output_type": "stream",
     "text": [
      "# Evaluation:  71%|███████▏  | 368/516 [2:21:19<1:10:40, 28.66s/it]"
     ]
    },
    {
     "name": "stderr",
     "output_type": "stream",
     "text": [
      "## Warning: Hourly nldas_hourly NetCDF file not found. Falling back to slower csv files.\n"
     ]
    },
    {
     "name": "stdout",
     "output_type": "stream",
     "text": [
      "# Evaluation:  72%|███████▏  | 369/516 [2:21:45<1:07:52, 27.70s/it]"
     ]
    },
    {
     "name": "stderr",
     "output_type": "stream",
     "text": [
      "## Warning: Hourly nldas_hourly NetCDF file not found. Falling back to slower csv files.\n"
     ]
    },
    {
     "name": "stdout",
     "output_type": "stream",
     "text": [
      "# Evaluation:  72%|███████▏  | 370/516 [2:22:08<1:03:53, 26.26s/it]"
     ]
    },
    {
     "name": "stderr",
     "output_type": "stream",
     "text": [
      "## Warning: Hourly nldas_hourly NetCDF file not found. Falling back to slower csv files.\n"
     ]
    },
    {
     "name": "stdout",
     "output_type": "stream",
     "text": [
      "# Evaluation:  72%|███████▏  | 371/516 [2:22:30<1:00:41, 25.12s/it]"
     ]
    },
    {
     "name": "stderr",
     "output_type": "stream",
     "text": [
      "## Warning: Hourly nldas_hourly NetCDF file not found. Falling back to slower csv files.\n"
     ]
    },
    {
     "name": "stdout",
     "output_type": "stream",
     "text": [
      "# Evaluation:  72%|███████▏  | 372/516 [2:22:53<58:52, 24.53s/it]  "
     ]
    },
    {
     "name": "stderr",
     "output_type": "stream",
     "text": [
      "## Warning: Hourly nldas_hourly NetCDF file not found. Falling back to slower csv files.\n"
     ]
    },
    {
     "name": "stdout",
     "output_type": "stream",
     "text": [
      "# Evaluation:  72%|███████▏  | 373/516 [2:23:16<57:12, 24.01s/it]"
     ]
    },
    {
     "name": "stderr",
     "output_type": "stream",
     "text": [
      "## Warning: Hourly nldas_hourly NetCDF file not found. Falling back to slower csv files.\n"
     ]
    },
    {
     "name": "stdout",
     "output_type": "stream",
     "text": [
      "# Evaluation:  72%|███████▏  | 374/516 [2:23:40<56:27, 23.86s/it]"
     ]
    },
    {
     "name": "stderr",
     "output_type": "stream",
     "text": [
      "## Warning: Hourly nldas_hourly NetCDF file not found. Falling back to slower csv files.\n"
     ]
    },
    {
     "name": "stdout",
     "output_type": "stream",
     "text": [
      "# Evaluation:  73%|███████▎  | 375/516 [2:24:06<58:11, 24.76s/it]"
     ]
    },
    {
     "name": "stderr",
     "output_type": "stream",
     "text": [
      "## Warning: Hourly nldas_hourly NetCDF file not found. Falling back to slower csv files.\n"
     ]
    },
    {
     "name": "stdout",
     "output_type": "stream",
     "text": [
      "# Evaluation:  73%|███████▎  | 376/516 [2:24:32<58:08, 24.92s/it]"
     ]
    },
    {
     "name": "stderr",
     "output_type": "stream",
     "text": [
      "## Warning: Hourly nldas_hourly NetCDF file not found. Falling back to slower csv files.\n"
     ]
    },
    {
     "name": "stdout",
     "output_type": "stream",
     "text": [
      "# Evaluation:  73%|███████▎  | 377/516 [2:24:59<59:39, 25.76s/it]"
     ]
    },
    {
     "name": "stderr",
     "output_type": "stream",
     "text": [
      "## Warning: Hourly nldas_hourly NetCDF file not found. Falling back to slower csv files.\n"
     ]
    },
    {
     "name": "stdout",
     "output_type": "stream",
     "text": [
      "# Evaluation:  73%|███████▎  | 378/516 [2:25:23<57:25, 24.96s/it]"
     ]
    },
    {
     "name": "stderr",
     "output_type": "stream",
     "text": [
      "## Warning: Hourly nldas_hourly NetCDF file not found. Falling back to slower csv files.\n"
     ]
    },
    {
     "name": "stdout",
     "output_type": "stream",
     "text": [
      "# Evaluation:  73%|███████▎  | 379/516 [2:25:50<58:31, 25.63s/it]"
     ]
    },
    {
     "name": "stderr",
     "output_type": "stream",
     "text": [
      "## Warning: Hourly nldas_hourly NetCDF file not found. Falling back to slower csv files.\n"
     ]
    },
    {
     "name": "stdout",
     "output_type": "stream",
     "text": [
      "# Evaluation:  74%|███████▎  | 380/516 [2:26:17<59:05, 26.07s/it]"
     ]
    },
    {
     "name": "stderr",
     "output_type": "stream",
     "text": [
      "## Warning: Hourly nldas_hourly NetCDF file not found. Falling back to slower csv files.\n"
     ]
    },
    {
     "name": "stdout",
     "output_type": "stream",
     "text": [
      "# Evaluation:  74%|███████▍  | 381/516 [2:26:40<56:41, 25.20s/it]"
     ]
    },
    {
     "name": "stderr",
     "output_type": "stream",
     "text": [
      "## Warning: Hourly nldas_hourly NetCDF file not found. Falling back to slower csv files.\n"
     ]
    },
    {
     "name": "stdout",
     "output_type": "stream",
     "text": [
      "# Evaluation:  74%|███████▍  | 382/516 [2:27:00<52:58, 23.72s/it]"
     ]
    },
    {
     "name": "stderr",
     "output_type": "stream",
     "text": [
      "## Warning: Hourly nldas_hourly NetCDF file not found. Falling back to slower csv files.\n"
     ]
    },
    {
     "name": "stdout",
     "output_type": "stream",
     "text": [
      "# Evaluation:  74%|███████▍  | 383/516 [2:27:19<49:19, 22.26s/it]"
     ]
    },
    {
     "name": "stderr",
     "output_type": "stream",
     "text": [
      "## Warning: Hourly nldas_hourly NetCDF file not found. Falling back to slower csv files.\n"
     ]
    },
    {
     "name": "stdout",
     "output_type": "stream",
     "text": [
      "# Evaluation:  74%|███████▍  | 384/516 [2:27:41<48:41, 22.13s/it]"
     ]
    },
    {
     "name": "stderr",
     "output_type": "stream",
     "text": [
      "## Warning: Hourly nldas_hourly NetCDF file not found. Falling back to slower csv files.\n"
     ]
    },
    {
     "name": "stdout",
     "output_type": "stream",
     "text": [
      "# Evaluation:  75%|███████▍  | 385/516 [2:28:03<48:05, 22.02s/it]"
     ]
    },
    {
     "name": "stderr",
     "output_type": "stream",
     "text": [
      "## Warning: Hourly nldas_hourly NetCDF file not found. Falling back to slower csv files.\n"
     ]
    },
    {
     "name": "stdout",
     "output_type": "stream",
     "text": [
      "# Evaluation:  75%|███████▍  | 386/516 [2:28:24<47:08, 21.76s/it]"
     ]
    },
    {
     "name": "stderr",
     "output_type": "stream",
     "text": [
      "## Warning: Hourly nldas_hourly NetCDF file not found. Falling back to slower csv files.\n"
     ]
    },
    {
     "name": "stdout",
     "output_type": "stream",
     "text": [
      "# Evaluation:  75%|███████▌  | 387/516 [2:28:49<49:15, 22.91s/it]"
     ]
    },
    {
     "name": "stderr",
     "output_type": "stream",
     "text": [
      "## Warning: Hourly nldas_hourly NetCDF file not found. Falling back to slower csv files.\n"
     ]
    },
    {
     "name": "stdout",
     "output_type": "stream",
     "text": [
      "# Evaluation:  75%|███████▌  | 388/516 [2:29:12<48:28, 22.73s/it]"
     ]
    },
    {
     "name": "stderr",
     "output_type": "stream",
     "text": [
      "## Warning: Hourly nldas_hourly NetCDF file not found. Falling back to slower csv files.\n"
     ]
    },
    {
     "name": "stdout",
     "output_type": "stream",
     "text": [
      "# Evaluation:  75%|███████▌  | 389/516 [2:29:31<46:04, 21.77s/it]"
     ]
    },
    {
     "name": "stderr",
     "output_type": "stream",
     "text": [
      "## Warning: Hourly nldas_hourly NetCDF file not found. Falling back to slower csv files.\n"
     ]
    },
    {
     "name": "stdout",
     "output_type": "stream",
     "text": [
      "# Evaluation:  76%|███████▌  | 390/516 [2:29:49<43:11, 20.57s/it]"
     ]
    },
    {
     "name": "stderr",
     "output_type": "stream",
     "text": [
      "## Warning: Hourly nldas_hourly NetCDF file not found. Falling back to slower csv files.\n"
     ]
    },
    {
     "name": "stdout",
     "output_type": "stream",
     "text": [
      "# Evaluation:  76%|███████▌  | 391/516 [2:30:07<41:06, 19.73s/it]"
     ]
    },
    {
     "name": "stderr",
     "output_type": "stream",
     "text": [
      "## Warning: Hourly nldas_hourly NetCDF file not found. Falling back to slower csv files.\n"
     ]
    },
    {
     "name": "stdout",
     "output_type": "stream",
     "text": [
      "# Evaluation:  76%|███████▌  | 392/516 [2:30:24<39:26, 19.08s/it]"
     ]
    },
    {
     "name": "stderr",
     "output_type": "stream",
     "text": [
      "## Warning: Hourly nldas_hourly NetCDF file not found. Falling back to slower csv files.\n"
     ]
    },
    {
     "name": "stdout",
     "output_type": "stream",
     "text": [
      "# Evaluation:  76%|███████▌  | 393/516 [2:30:42<38:16, 18.67s/it]"
     ]
    },
    {
     "name": "stderr",
     "output_type": "stream",
     "text": [
      "## Warning: Hourly nldas_hourly NetCDF file not found. Falling back to slower csv files.\n"
     ]
    },
    {
     "name": "stdout",
     "output_type": "stream",
     "text": [
      "# Evaluation:  76%|███████▋  | 394/516 [2:31:00<37:29, 18.44s/it]"
     ]
    },
    {
     "name": "stderr",
     "output_type": "stream",
     "text": [
      "## Warning: Hourly nldas_hourly NetCDF file not found. Falling back to slower csv files.\n"
     ]
    },
    {
     "name": "stdout",
     "output_type": "stream",
     "text": [
      "# Evaluation:  77%|███████▋  | 395/516 [2:31:20<38:03, 18.87s/it]"
     ]
    },
    {
     "name": "stderr",
     "output_type": "stream",
     "text": [
      "## Warning: Hourly nldas_hourly NetCDF file not found. Falling back to slower csv files.\n"
     ]
    },
    {
     "name": "stdout",
     "output_type": "stream",
     "text": [
      "# Evaluation:  77%|███████▋  | 396/516 [2:31:39<37:49, 18.91s/it]"
     ]
    },
    {
     "name": "stderr",
     "output_type": "stream",
     "text": [
      "## Warning: Hourly nldas_hourly NetCDF file not found. Falling back to slower csv files.\n"
     ]
    },
    {
     "name": "stdout",
     "output_type": "stream",
     "text": [
      "# Evaluation:  77%|███████▋  | 397/516 [2:32:00<38:43, 19.52s/it]"
     ]
    },
    {
     "name": "stderr",
     "output_type": "stream",
     "text": [
      "## Warning: Hourly nldas_hourly NetCDF file not found. Falling back to slower csv files.\n"
     ]
    },
    {
     "name": "stdout",
     "output_type": "stream",
     "text": [
      "# Evaluation:  77%|███████▋  | 398/516 [2:32:20<39:02, 19.85s/it]"
     ]
    },
    {
     "name": "stderr",
     "output_type": "stream",
     "text": [
      "## Warning: Hourly nldas_hourly NetCDF file not found. Falling back to slower csv files.\n"
     ]
    },
    {
     "name": "stdout",
     "output_type": "stream",
     "text": [
      "# Evaluation:  77%|███████▋  | 399/516 [2:32:39<37:55, 19.45s/it]"
     ]
    },
    {
     "name": "stderr",
     "output_type": "stream",
     "text": [
      "## Warning: Hourly nldas_hourly NetCDF file not found. Falling back to slower csv files.\n"
     ]
    },
    {
     "name": "stdout",
     "output_type": "stream",
     "text": [
      "# Evaluation:  78%|███████▊  | 400/516 [2:32:57<36:58, 19.12s/it]"
     ]
    },
    {
     "name": "stderr",
     "output_type": "stream",
     "text": [
      "## Warning: Hourly nldas_hourly NetCDF file not found. Falling back to slower csv files.\n"
     ]
    },
    {
     "name": "stdout",
     "output_type": "stream",
     "text": [
      "# Evaluation:  78%|███████▊  | 401/516 [2:33:29<43:54, 22.91s/it]"
     ]
    },
    {
     "name": "stderr",
     "output_type": "stream",
     "text": [
      "## Warning: Hourly nldas_hourly NetCDF file not found. Falling back to slower csv files.\n"
     ]
    },
    {
     "name": "stdout",
     "output_type": "stream",
     "text": [
      "# Evaluation:  78%|███████▊  | 402/516 [2:33:50<42:21, 22.29s/it]"
     ]
    },
    {
     "name": "stderr",
     "output_type": "stream",
     "text": [
      "## Warning: Hourly nldas_hourly NetCDF file not found. Falling back to slower csv files.\n"
     ]
    },
    {
     "name": "stdout",
     "output_type": "stream",
     "text": [
      "# Evaluation:  78%|███████▊  | 403/516 [2:34:11<41:08, 21.85s/it]"
     ]
    },
    {
     "name": "stderr",
     "output_type": "stream",
     "text": [
      "## Warning: Hourly nldas_hourly NetCDF file not found. Falling back to slower csv files.\n"
     ]
    },
    {
     "name": "stdout",
     "output_type": "stream",
     "text": [
      "# Evaluation:  78%|███████▊  | 404/516 [2:34:29<38:45, 20.77s/it]"
     ]
    },
    {
     "name": "stderr",
     "output_type": "stream",
     "text": [
      "## Warning: Hourly nldas_hourly NetCDF file not found. Falling back to slower csv files.\n"
     ]
    },
    {
     "name": "stdout",
     "output_type": "stream",
     "text": [
      "# Evaluation:  78%|███████▊  | 405/516 [2:34:50<38:19, 20.72s/it]"
     ]
    },
    {
     "name": "stderr",
     "output_type": "stream",
     "text": [
      "## Warning: Hourly nldas_hourly NetCDF file not found. Falling back to slower csv files.\n"
     ]
    },
    {
     "name": "stdout",
     "output_type": "stream",
     "text": [
      "# Evaluation:  79%|███████▊  | 406/516 [2:35:10<37:34, 20.50s/it]"
     ]
    },
    {
     "name": "stderr",
     "output_type": "stream",
     "text": [
      "## Warning: Hourly nldas_hourly NetCDF file not found. Falling back to slower csv files.\n"
     ]
    },
    {
     "name": "stdout",
     "output_type": "stream",
     "text": [
      "# Evaluation:  79%|███████▉  | 407/516 [2:35:29<36:42, 20.21s/it]"
     ]
    },
    {
     "name": "stderr",
     "output_type": "stream",
     "text": [
      "## Warning: Hourly nldas_hourly NetCDF file not found. Falling back to slower csv files.\n"
     ]
    },
    {
     "name": "stdout",
     "output_type": "stream",
     "text": [
      "# Evaluation:  79%|███████▉  | 408/516 [2:35:47<35:21, 19.64s/it]"
     ]
    },
    {
     "name": "stderr",
     "output_type": "stream",
     "text": [
      "## Warning: Hourly nldas_hourly NetCDF file not found. Falling back to slower csv files.\n"
     ]
    },
    {
     "name": "stdout",
     "output_type": "stream",
     "text": [
      "# Evaluation:  79%|███████▉  | 409/516 [2:36:06<34:18, 19.24s/it]"
     ]
    },
    {
     "name": "stderr",
     "output_type": "stream",
     "text": [
      "## Warning: Hourly nldas_hourly NetCDF file not found. Falling back to slower csv files.\n"
     ]
    },
    {
     "name": "stdout",
     "output_type": "stream",
     "text": [
      "# Evaluation:  79%|███████▉  | 410/516 [2:36:23<33:11, 18.79s/it]"
     ]
    },
    {
     "name": "stderr",
     "output_type": "stream",
     "text": [
      "## Warning: Hourly nldas_hourly NetCDF file not found. Falling back to slower csv files.\n"
     ]
    },
    {
     "name": "stdout",
     "output_type": "stream",
     "text": [
      "# Evaluation:  80%|███████▉  | 411/516 [2:36:41<32:16, 18.44s/it]"
     ]
    },
    {
     "name": "stderr",
     "output_type": "stream",
     "text": [
      "## Warning: Hourly nldas_hourly NetCDF file not found. Falling back to slower csv files.\n"
     ]
    },
    {
     "name": "stdout",
     "output_type": "stream",
     "text": [
      "# Evaluation:  80%|███████▉  | 412/516 [2:37:02<33:01, 19.05s/it]"
     ]
    },
    {
     "name": "stderr",
     "output_type": "stream",
     "text": [
      "## Warning: Hourly nldas_hourly NetCDF file not found. Falling back to slower csv files.\n"
     ]
    },
    {
     "name": "stdout",
     "output_type": "stream",
     "text": [
      "# Evaluation:  80%|████████  | 413/516 [2:37:20<32:11, 18.75s/it]"
     ]
    },
    {
     "name": "stderr",
     "output_type": "stream",
     "text": [
      "## Warning: Hourly nldas_hourly NetCDF file not found. Falling back to slower csv files.\n"
     ]
    },
    {
     "name": "stdout",
     "output_type": "stream",
     "text": [
      "# Evaluation:  80%|████████  | 414/516 [2:37:37<31:17, 18.41s/it]"
     ]
    },
    {
     "name": "stderr",
     "output_type": "stream",
     "text": [
      "## Warning: Hourly nldas_hourly NetCDF file not found. Falling back to slower csv files.\n"
     ]
    },
    {
     "name": "stdout",
     "output_type": "stream",
     "text": [
      "# Evaluation:  80%|████████  | 415/516 [2:37:56<30:58, 18.40s/it]"
     ]
    },
    {
     "name": "stderr",
     "output_type": "stream",
     "text": [
      "## Warning: Hourly nldas_hourly NetCDF file not found. Falling back to slower csv files.\n"
     ]
    },
    {
     "name": "stdout",
     "output_type": "stream",
     "text": [
      "# Evaluation:  81%|████████  | 416/516 [2:38:13<30:16, 18.16s/it]"
     ]
    },
    {
     "name": "stderr",
     "output_type": "stream",
     "text": [
      "## Warning: Hourly nldas_hourly NetCDF file not found. Falling back to slower csv files.\n"
     ]
    },
    {
     "name": "stdout",
     "output_type": "stream",
     "text": [
      "# Evaluation:  81%|████████  | 417/516 [2:38:34<31:18, 18.98s/it]"
     ]
    },
    {
     "name": "stderr",
     "output_type": "stream",
     "text": [
      "## Warning: Hourly nldas_hourly NetCDF file not found. Falling back to slower csv files.\n"
     ]
    },
    {
     "name": "stdout",
     "output_type": "stream",
     "text": [
      "# Evaluation:  81%|████████  | 418/516 [2:39:00<34:15, 20.97s/it]"
     ]
    },
    {
     "name": "stderr",
     "output_type": "stream",
     "text": [
      "## Warning: Hourly nldas_hourly NetCDF file not found. Falling back to slower csv files.\n"
     ]
    },
    {
     "name": "stdout",
     "output_type": "stream",
     "text": [
      "# Evaluation:  81%|████████  | 419/516 [2:39:23<35:02, 21.67s/it]"
     ]
    },
    {
     "name": "stderr",
     "output_type": "stream",
     "text": [
      "## Warning: Hourly nldas_hourly NetCDF file not found. Falling back to slower csv files.\n"
     ]
    },
    {
     "name": "stdout",
     "output_type": "stream",
     "text": [
      "# Evaluation:  81%|████████▏ | 420/516 [2:39:42<33:17, 20.81s/it]"
     ]
    },
    {
     "name": "stderr",
     "output_type": "stream",
     "text": [
      "## Warning: Hourly nldas_hourly NetCDF file not found. Falling back to slower csv files.\n"
     ]
    },
    {
     "name": "stdout",
     "output_type": "stream",
     "text": [
      "# Evaluation:  82%|████████▏ | 421/516 [2:40:00<31:50, 20.11s/it]"
     ]
    },
    {
     "name": "stderr",
     "output_type": "stream",
     "text": [
      "## Warning: Hourly nldas_hourly NetCDF file not found. Falling back to slower csv files.\n"
     ]
    },
    {
     "name": "stdout",
     "output_type": "stream",
     "text": [
      "# Evaluation:  82%|████████▏ | 422/516 [2:40:19<30:36, 19.54s/it]"
     ]
    },
    {
     "name": "stderr",
     "output_type": "stream",
     "text": [
      "## Warning: Hourly nldas_hourly NetCDF file not found. Falling back to slower csv files.\n"
     ]
    },
    {
     "name": "stdout",
     "output_type": "stream",
     "text": [
      "# Evaluation:  82%|████████▏ | 423/516 [2:40:36<29:32, 19.06s/it]"
     ]
    },
    {
     "name": "stderr",
     "output_type": "stream",
     "text": [
      "## Warning: Hourly nldas_hourly NetCDF file not found. Falling back to slower csv files.\n"
     ]
    },
    {
     "name": "stdout",
     "output_type": "stream",
     "text": [
      "# Evaluation:  82%|████████▏ | 424/516 [2:40:55<28:59, 18.91s/it]"
     ]
    },
    {
     "name": "stderr",
     "output_type": "stream",
     "text": [
      "## Warning: Hourly nldas_hourly NetCDF file not found. Falling back to slower csv files.\n"
     ]
    },
    {
     "name": "stdout",
     "output_type": "stream",
     "text": [
      "# Evaluation:  82%|████████▏ | 425/516 [2:41:14<28:48, 18.99s/it]"
     ]
    },
    {
     "name": "stderr",
     "output_type": "stream",
     "text": [
      "## Warning: Hourly nldas_hourly NetCDF file not found. Falling back to slower csv files.\n"
     ]
    },
    {
     "name": "stdout",
     "output_type": "stream",
     "text": [
      "# Evaluation:  83%|████████▎ | 426/516 [2:41:33<28:13, 18.82s/it]"
     ]
    },
    {
     "name": "stderr",
     "output_type": "stream",
     "text": [
      "## Warning: Hourly nldas_hourly NetCDF file not found. Falling back to slower csv files.\n"
     ]
    },
    {
     "name": "stdout",
     "output_type": "stream",
     "text": [
      "# Evaluation:  83%|████████▎ | 427/516 [2:41:51<27:35, 18.60s/it]"
     ]
    },
    {
     "name": "stderr",
     "output_type": "stream",
     "text": [
      "## Warning: Hourly nldas_hourly NetCDF file not found. Falling back to slower csv files.\n"
     ]
    },
    {
     "name": "stdout",
     "output_type": "stream",
     "text": [
      "# Evaluation:  83%|████████▎ | 428/516 [2:42:10<27:36, 18.83s/it]"
     ]
    },
    {
     "name": "stderr",
     "output_type": "stream",
     "text": [
      "## Warning: Hourly nldas_hourly NetCDF file not found. Falling back to slower csv files.\n"
     ]
    },
    {
     "name": "stdout",
     "output_type": "stream",
     "text": [
      "# Evaluation:  83%|████████▎ | 429/516 [2:42:28<26:57, 18.59s/it]"
     ]
    },
    {
     "name": "stderr",
     "output_type": "stream",
     "text": [
      "## Warning: Hourly nldas_hourly NetCDF file not found. Falling back to slower csv files.\n"
     ]
    },
    {
     "name": "stdout",
     "output_type": "stream",
     "text": [
      "# Evaluation:  83%|████████▎ | 430/516 [2:42:46<26:32, 18.52s/it]"
     ]
    },
    {
     "name": "stderr",
     "output_type": "stream",
     "text": [
      "## Warning: Hourly nldas_hourly NetCDF file not found. Falling back to slower csv files.\n"
     ]
    },
    {
     "name": "stdout",
     "output_type": "stream",
     "text": [
      "# Evaluation:  84%|████████▎ | 431/516 [2:43:04<25:59, 18.35s/it]"
     ]
    },
    {
     "name": "stderr",
     "output_type": "stream",
     "text": [
      "## Warning: Hourly nldas_hourly NetCDF file not found. Falling back to slower csv files.\n"
     ]
    },
    {
     "name": "stdout",
     "output_type": "stream",
     "text": [
      "# Evaluation:  84%|████████▎ | 432/516 [2:43:23<25:44, 18.39s/it]"
     ]
    },
    {
     "name": "stderr",
     "output_type": "stream",
     "text": [
      "## Warning: Hourly nldas_hourly NetCDF file not found. Falling back to slower csv files.\n"
     ]
    },
    {
     "name": "stdout",
     "output_type": "stream",
     "text": [
      "# Evaluation:  84%|████████▍ | 433/516 [2:43:41<25:29, 18.42s/it]"
     ]
    },
    {
     "name": "stderr",
     "output_type": "stream",
     "text": [
      "## Warning: Hourly nldas_hourly NetCDF file not found. Falling back to slower csv files.\n"
     ]
    },
    {
     "name": "stdout",
     "output_type": "stream",
     "text": [
      "# Evaluation:  84%|████████▍ | 434/516 [2:44:00<25:22, 18.57s/it]"
     ]
    },
    {
     "name": "stderr",
     "output_type": "stream",
     "text": [
      "## Warning: Hourly nldas_hourly NetCDF file not found. Falling back to slower csv files.\n"
     ]
    },
    {
     "name": "stdout",
     "output_type": "stream",
     "text": [
      "# Evaluation:  84%|████████▍ | 435/516 [2:44:19<24:55, 18.46s/it]"
     ]
    },
    {
     "name": "stderr",
     "output_type": "stream",
     "text": [
      "## Warning: Hourly nldas_hourly NetCDF file not found. Falling back to slower csv files.\n"
     ]
    },
    {
     "name": "stdout",
     "output_type": "stream",
     "text": [
      "# Evaluation:  84%|████████▍ | 436/516 [2:44:37<24:32, 18.41s/it]"
     ]
    },
    {
     "name": "stderr",
     "output_type": "stream",
     "text": [
      "## Warning: Hourly nldas_hourly NetCDF file not found. Falling back to slower csv files.\n"
     ]
    },
    {
     "name": "stdout",
     "output_type": "stream",
     "text": [
      "# Evaluation:  85%|████████▍ | 437/516 [2:44:55<24:15, 18.42s/it]"
     ]
    },
    {
     "name": "stderr",
     "output_type": "stream",
     "text": [
      "## Warning: Hourly nldas_hourly NetCDF file not found. Falling back to slower csv files.\n"
     ]
    },
    {
     "name": "stdout",
     "output_type": "stream",
     "text": [
      "# Evaluation:  85%|████████▍ | 438/516 [2:45:14<24:06, 18.55s/it]"
     ]
    },
    {
     "name": "stderr",
     "output_type": "stream",
     "text": [
      "## Warning: Hourly nldas_hourly NetCDF file not found. Falling back to slower csv files.\n"
     ]
    },
    {
     "name": "stdout",
     "output_type": "stream",
     "text": [
      "# Evaluation:  85%|████████▌ | 439/516 [2:45:48<29:33, 23.03s/it]"
     ]
    },
    {
     "name": "stderr",
     "output_type": "stream",
     "text": [
      "## Warning: Hourly nldas_hourly NetCDF file not found. Falling back to slower csv files.\n"
     ]
    },
    {
     "name": "stdout",
     "output_type": "stream",
     "text": [
      "# Evaluation:  85%|████████▌ | 440/516 [2:46:24<34:08, 26.95s/it]"
     ]
    },
    {
     "name": "stderr",
     "output_type": "stream",
     "text": [
      "## Warning: Hourly nldas_hourly NetCDF file not found. Falling back to slower csv files.\n"
     ]
    },
    {
     "name": "stdout",
     "output_type": "stream",
     "text": [
      "# Evaluation:  85%|████████▌ | 441/516 [2:46:42<30:28, 24.38s/it]"
     ]
    },
    {
     "name": "stderr",
     "output_type": "stream",
     "text": [
      "## Warning: Hourly nldas_hourly NetCDF file not found. Falling back to slower csv files.\n"
     ]
    },
    {
     "name": "stdout",
     "output_type": "stream",
     "text": [
      "# Evaluation:  86%|████████▌ | 442/516 [2:47:00<27:49, 22.57s/it]"
     ]
    },
    {
     "name": "stderr",
     "output_type": "stream",
     "text": [
      "## Warning: Hourly nldas_hourly NetCDF file not found. Falling back to slower csv files.\n"
     ]
    },
    {
     "name": "stdout",
     "output_type": "stream",
     "text": [
      "# Evaluation:  86%|████████▌ | 443/516 [2:47:19<25:49, 21.23s/it]"
     ]
    },
    {
     "name": "stderr",
     "output_type": "stream",
     "text": [
      "## Warning: Hourly nldas_hourly NetCDF file not found. Falling back to slower csv files.\n"
     ]
    },
    {
     "name": "stdout",
     "output_type": "stream",
     "text": [
      "# Evaluation:  86%|████████▌ | 444/516 [2:47:36<24:11, 20.16s/it]"
     ]
    },
    {
     "name": "stderr",
     "output_type": "stream",
     "text": [
      "## Warning: Hourly nldas_hourly NetCDF file not found. Falling back to slower csv files.\n"
     ]
    },
    {
     "name": "stdout",
     "output_type": "stream",
     "text": [
      "# Evaluation:  86%|████████▌ | 445/516 [2:47:54<23:06, 19.53s/it]"
     ]
    },
    {
     "name": "stderr",
     "output_type": "stream",
     "text": [
      "## Warning: Hourly nldas_hourly NetCDF file not found. Falling back to slower csv files.\n"
     ]
    },
    {
     "name": "stdout",
     "output_type": "stream",
     "text": [
      "# Evaluation:  86%|████████▋ | 446/516 [2:48:13<22:28, 19.26s/it]"
     ]
    },
    {
     "name": "stderr",
     "output_type": "stream",
     "text": [
      "## Warning: Hourly nldas_hourly NetCDF file not found. Falling back to slower csv files.\n"
     ]
    },
    {
     "name": "stdout",
     "output_type": "stream",
     "text": [
      "# Evaluation:  87%|████████▋ | 447/516 [2:48:31<21:43, 18.89s/it]"
     ]
    },
    {
     "name": "stderr",
     "output_type": "stream",
     "text": [
      "## Warning: Hourly nldas_hourly NetCDF file not found. Falling back to slower csv files.\n"
     ]
    },
    {
     "name": "stdout",
     "output_type": "stream",
     "text": [
      "# Evaluation:  87%|████████▋ | 448/516 [2:48:50<21:19, 18.82s/it]"
     ]
    },
    {
     "name": "stderr",
     "output_type": "stream",
     "text": [
      "## Warning: Hourly nldas_hourly NetCDF file not found. Falling back to slower csv files.\n"
     ]
    },
    {
     "name": "stdout",
     "output_type": "stream",
     "text": [
      "# Evaluation:  87%|████████▋ | 449/516 [2:49:08<20:51, 18.69s/it]"
     ]
    },
    {
     "name": "stderr",
     "output_type": "stream",
     "text": [
      "## Warning: Hourly nldas_hourly NetCDF file not found. Falling back to slower csv files.\n"
     ]
    },
    {
     "name": "stdout",
     "output_type": "stream",
     "text": [
      "# Evaluation:  87%|████████▋ | 450/516 [2:49:26<20:29, 18.63s/it]"
     ]
    },
    {
     "name": "stderr",
     "output_type": "stream",
     "text": [
      "## Warning: Hourly nldas_hourly NetCDF file not found. Falling back to slower csv files.\n"
     ]
    },
    {
     "name": "stdout",
     "output_type": "stream",
     "text": [
      "# Evaluation:  87%|████████▋ | 451/516 [2:49:45<20:01, 18.49s/it]"
     ]
    },
    {
     "name": "stderr",
     "output_type": "stream",
     "text": [
      "## Warning: Hourly nldas_hourly NetCDF file not found. Falling back to slower csv files.\n"
     ]
    },
    {
     "name": "stdout",
     "output_type": "stream",
     "text": [
      "# Evaluation:  88%|████████▊ | 452/516 [2:50:02<19:27, 18.24s/it]"
     ]
    },
    {
     "name": "stderr",
     "output_type": "stream",
     "text": [
      "## Warning: Hourly nldas_hourly NetCDF file not found. Falling back to slower csv files.\n"
     ]
    },
    {
     "name": "stdout",
     "output_type": "stream",
     "text": [
      "# Evaluation:  88%|████████▊ | 453/516 [2:50:20<19:04, 18.17s/it]"
     ]
    },
    {
     "name": "stderr",
     "output_type": "stream",
     "text": [
      "## Warning: Hourly nldas_hourly NetCDF file not found. Falling back to slower csv files.\n"
     ]
    },
    {
     "name": "stdout",
     "output_type": "stream",
     "text": [
      "# Evaluation:  88%|████████▊ | 454/516 [2:50:38<18:42, 18.11s/it]"
     ]
    },
    {
     "name": "stderr",
     "output_type": "stream",
     "text": [
      "## Warning: Hourly nldas_hourly NetCDF file not found. Falling back to slower csv files.\n"
     ]
    },
    {
     "name": "stdout",
     "output_type": "stream",
     "text": [
      "# Evaluation:  88%|████████▊ | 455/516 [2:50:57<18:40, 18.37s/it]"
     ]
    },
    {
     "name": "stderr",
     "output_type": "stream",
     "text": [
      "## Warning: Hourly nldas_hourly NetCDF file not found. Falling back to slower csv files.\n"
     ]
    },
    {
     "name": "stdout",
     "output_type": "stream",
     "text": [
      "# Evaluation:  88%|████████▊ | 456/516 [2:51:15<18:08, 18.14s/it]"
     ]
    },
    {
     "name": "stderr",
     "output_type": "stream",
     "text": [
      "## Warning: Hourly nldas_hourly NetCDF file not found. Falling back to slower csv files.\n"
     ]
    },
    {
     "name": "stdout",
     "output_type": "stream",
     "text": [
      "# Evaluation:  89%|████████▊ | 457/516 [2:51:33<17:47, 18.09s/it]"
     ]
    },
    {
     "name": "stderr",
     "output_type": "stream",
     "text": [
      "## Warning: Hourly nldas_hourly NetCDF file not found. Falling back to slower csv files.\n"
     ]
    },
    {
     "name": "stdout",
     "output_type": "stream",
     "text": [
      "# Evaluation:  89%|████████▉ | 458/516 [2:51:51<17:26, 18.05s/it]"
     ]
    },
    {
     "name": "stderr",
     "output_type": "stream",
     "text": [
      "## Warning: Hourly nldas_hourly NetCDF file not found. Falling back to slower csv files.\n"
     ]
    },
    {
     "name": "stdout",
     "output_type": "stream",
     "text": [
      "# Evaluation:  89%|████████▉ | 459/516 [2:52:10<17:22, 18.28s/it]"
     ]
    },
    {
     "name": "stderr",
     "output_type": "stream",
     "text": [
      "## Warning: Hourly nldas_hourly NetCDF file not found. Falling back to slower csv files.\n"
     ]
    },
    {
     "name": "stdout",
     "output_type": "stream",
     "text": [
      "# Evaluation:  89%|████████▉ | 460/516 [2:52:28<17:01, 18.25s/it]"
     ]
    },
    {
     "name": "stderr",
     "output_type": "stream",
     "text": [
      "## Warning: Hourly nldas_hourly NetCDF file not found. Falling back to slower csv files.\n"
     ]
    },
    {
     "name": "stdout",
     "output_type": "stream",
     "text": [
      "# Evaluation:  89%|████████▉ | 461/516 [2:52:46<16:43, 18.25s/it]"
     ]
    },
    {
     "name": "stderr",
     "output_type": "stream",
     "text": [
      "## Warning: Hourly nldas_hourly NetCDF file not found. Falling back to slower csv files.\n"
     ]
    },
    {
     "name": "stdout",
     "output_type": "stream",
     "text": [
      "# Evaluation:  90%|████████▉ | 462/516 [2:53:05<16:31, 18.37s/it]"
     ]
    },
    {
     "name": "stderr",
     "output_type": "stream",
     "text": [
      "## Warning: Hourly nldas_hourly NetCDF file not found. Falling back to slower csv files.\n"
     ]
    },
    {
     "name": "stdout",
     "output_type": "stream",
     "text": [
      "# Evaluation:  90%|████████▉ | 463/516 [2:53:23<16:07, 18.26s/it]"
     ]
    },
    {
     "name": "stderr",
     "output_type": "stream",
     "text": [
      "## Warning: Hourly nldas_hourly NetCDF file not found. Falling back to slower csv files.\n"
     ]
    },
    {
     "name": "stdout",
     "output_type": "stream",
     "text": [
      "# Evaluation:  90%|████████▉ | 464/516 [2:53:41<15:57, 18.42s/it]"
     ]
    },
    {
     "name": "stderr",
     "output_type": "stream",
     "text": [
      "## Warning: Hourly nldas_hourly NetCDF file not found. Falling back to slower csv files.\n"
     ]
    },
    {
     "name": "stdout",
     "output_type": "stream",
     "text": [
      "# Evaluation:  90%|█████████ | 465/516 [2:54:01<15:56, 18.76s/it]"
     ]
    },
    {
     "name": "stderr",
     "output_type": "stream",
     "text": [
      "## Warning: Hourly nldas_hourly NetCDF file not found. Falling back to slower csv files.\n"
     ]
    },
    {
     "name": "stdout",
     "output_type": "stream",
     "text": [
      "# Evaluation:  90%|█████████ | 466/516 [2:54:19<15:23, 18.47s/it]"
     ]
    },
    {
     "name": "stderr",
     "output_type": "stream",
     "text": [
      "## Warning: Hourly nldas_hourly NetCDF file not found. Falling back to slower csv files.\n"
     ]
    },
    {
     "name": "stdout",
     "output_type": "stream",
     "text": [
      "# Evaluation:  91%|█████████ | 467/516 [2:54:37<15:04, 18.46s/it]"
     ]
    },
    {
     "name": "stderr",
     "output_type": "stream",
     "text": [
      "## Warning: Hourly nldas_hourly NetCDF file not found. Falling back to slower csv files.\n"
     ]
    },
    {
     "name": "stdout",
     "output_type": "stream",
     "text": [
      "# Evaluation:  91%|█████████ | 468/516 [2:54:56<14:46, 18.46s/it]"
     ]
    },
    {
     "name": "stderr",
     "output_type": "stream",
     "text": [
      "## Warning: Hourly nldas_hourly NetCDF file not found. Falling back to slower csv files.\n"
     ]
    },
    {
     "name": "stdout",
     "output_type": "stream",
     "text": [
      "# Evaluation:  91%|█████████ | 469/516 [2:55:15<14:33, 18.58s/it]"
     ]
    },
    {
     "name": "stderr",
     "output_type": "stream",
     "text": [
      "## Warning: Hourly nldas_hourly NetCDF file not found. Falling back to slower csv files.\n"
     ]
    },
    {
     "name": "stdout",
     "output_type": "stream",
     "text": [
      "# Evaluation:  91%|█████████ | 470/516 [2:55:33<14:11, 18.51s/it]"
     ]
    },
    {
     "name": "stderr",
     "output_type": "stream",
     "text": [
      "## Warning: Hourly nldas_hourly NetCDF file not found. Falling back to slower csv files.\n"
     ]
    },
    {
     "name": "stdout",
     "output_type": "stream",
     "text": [
      "# Evaluation:  91%|█████████▏| 471/516 [2:55:53<14:21, 19.14s/it]"
     ]
    },
    {
     "name": "stderr",
     "output_type": "stream",
     "text": [
      "## Warning: Hourly nldas_hourly NetCDF file not found. Falling back to slower csv files.\n"
     ]
    },
    {
     "name": "stdout",
     "output_type": "stream",
     "text": [
      "# Evaluation:  91%|█████████▏| 472/516 [2:56:14<14:18, 19.51s/it]"
     ]
    },
    {
     "name": "stderr",
     "output_type": "stream",
     "text": [
      "## Warning: Hourly nldas_hourly NetCDF file not found. Falling back to slower csv files.\n"
     ]
    },
    {
     "name": "stdout",
     "output_type": "stream",
     "text": [
      "# Evaluation:  92%|█████████▏| 473/516 [2:56:35<14:21, 20.02s/it]"
     ]
    },
    {
     "name": "stderr",
     "output_type": "stream",
     "text": [
      "## Warning: Hourly nldas_hourly NetCDF file not found. Falling back to slower csv files.\n"
     ]
    },
    {
     "name": "stdout",
     "output_type": "stream",
     "text": [
      "# Evaluation:  92%|█████████▏| 474/516 [2:56:56<14:06, 20.16s/it]"
     ]
    },
    {
     "name": "stderr",
     "output_type": "stream",
     "text": [
      "## Warning: Hourly nldas_hourly NetCDF file not found. Falling back to slower csv files.\n"
     ]
    },
    {
     "name": "stdout",
     "output_type": "stream",
     "text": [
      "# Evaluation:  92%|█████████▏| 475/516 [2:57:13<13:16, 19.43s/it]"
     ]
    },
    {
     "name": "stderr",
     "output_type": "stream",
     "text": [
      "## Warning: Hourly nldas_hourly NetCDF file not found. Falling back to slower csv files.\n"
     ]
    },
    {
     "name": "stdout",
     "output_type": "stream",
     "text": [
      "# Evaluation:  92%|█████████▏| 476/516 [2:57:32<12:44, 19.11s/it]"
     ]
    },
    {
     "name": "stderr",
     "output_type": "stream",
     "text": [
      "## Warning: Hourly nldas_hourly NetCDF file not found. Falling back to slower csv files.\n"
     ]
    },
    {
     "name": "stdout",
     "output_type": "stream",
     "text": [
      "# Evaluation:  92%|█████████▏| 477/516 [2:57:50<12:13, 18.81s/it]"
     ]
    },
    {
     "name": "stderr",
     "output_type": "stream",
     "text": [
      "## Warning: Hourly nldas_hourly NetCDF file not found. Falling back to slower csv files.\n"
     ]
    },
    {
     "name": "stdout",
     "output_type": "stream",
     "text": [
      "# Evaluation:  93%|█████████▎| 478/516 [2:58:08<11:48, 18.65s/it]"
     ]
    },
    {
     "name": "stderr",
     "output_type": "stream",
     "text": [
      "## Warning: Hourly nldas_hourly NetCDF file not found. Falling back to slower csv files.\n"
     ]
    },
    {
     "name": "stdout",
     "output_type": "stream",
     "text": [
      "# Evaluation:  93%|█████████▎| 479/516 [2:58:26<11:21, 18.41s/it]"
     ]
    },
    {
     "name": "stderr",
     "output_type": "stream",
     "text": [
      "## Warning: Hourly nldas_hourly NetCDF file not found. Falling back to slower csv files.\n"
     ]
    },
    {
     "name": "stdout",
     "output_type": "stream",
     "text": [
      "# Evaluation:  93%|█████████▎| 480/516 [2:58:44<10:58, 18.31s/it]"
     ]
    },
    {
     "name": "stderr",
     "output_type": "stream",
     "text": [
      "## Warning: Hourly nldas_hourly NetCDF file not found. Falling back to slower csv files.\n"
     ]
    },
    {
     "name": "stdout",
     "output_type": "stream",
     "text": [
      "# Evaluation:  93%|█████████▎| 481/516 [2:59:09<11:47, 20.20s/it]"
     ]
    },
    {
     "name": "stderr",
     "output_type": "stream",
     "text": [
      "## Warning: Hourly nldas_hourly NetCDF file not found. Falling back to slower csv files.\n"
     ]
    },
    {
     "name": "stdout",
     "output_type": "stream",
     "text": [
      "# Evaluation:  93%|█████████▎| 482/516 [2:59:30<11:37, 20.50s/it]"
     ]
    },
    {
     "name": "stderr",
     "output_type": "stream",
     "text": [
      "## Warning: Hourly nldas_hourly NetCDF file not found. Falling back to slower csv files.\n"
     ]
    },
    {
     "name": "stdout",
     "output_type": "stream",
     "text": [
      "# Evaluation:  94%|█████████▎| 483/516 [2:59:50<11:17, 20.53s/it]"
     ]
    },
    {
     "name": "stderr",
     "output_type": "stream",
     "text": [
      "## Warning: Hourly nldas_hourly NetCDF file not found. Falling back to slower csv files.\n"
     ]
    },
    {
     "name": "stdout",
     "output_type": "stream",
     "text": [
      "# Evaluation:  94%|█████████▍| 484/516 [3:00:09<10:35, 19.87s/it]"
     ]
    },
    {
     "name": "stderr",
     "output_type": "stream",
     "text": [
      "## Warning: Hourly nldas_hourly NetCDF file not found. Falling back to slower csv files.\n"
     ]
    },
    {
     "name": "stdout",
     "output_type": "stream",
     "text": [
      "# Evaluation:  94%|█████████▍| 485/516 [3:00:27<10:01, 19.42s/it]"
     ]
    },
    {
     "name": "stderr",
     "output_type": "stream",
     "text": [
      "## Warning: Hourly nldas_hourly NetCDF file not found. Falling back to slower csv files.\n"
     ]
    },
    {
     "name": "stdout",
     "output_type": "stream",
     "text": [
      "# Evaluation:  94%|█████████▍| 486/516 [3:00:46<09:35, 19.19s/it]"
     ]
    },
    {
     "name": "stderr",
     "output_type": "stream",
     "text": [
      "## Warning: Hourly nldas_hourly NetCDF file not found. Falling back to slower csv files.\n"
     ]
    },
    {
     "name": "stdout",
     "output_type": "stream",
     "text": [
      "# Evaluation:  94%|█████████▍| 487/516 [3:01:04<09:05, 18.81s/it]"
     ]
    },
    {
     "name": "stderr",
     "output_type": "stream",
     "text": [
      "## Warning: Hourly nldas_hourly NetCDF file not found. Falling back to slower csv files.\n"
     ]
    },
    {
     "name": "stdout",
     "output_type": "stream",
     "text": [
      "# Evaluation:  95%|█████████▍| 488/516 [3:01:22<08:46, 18.81s/it]"
     ]
    },
    {
     "name": "stderr",
     "output_type": "stream",
     "text": [
      "## Warning: Hourly nldas_hourly NetCDF file not found. Falling back to slower csv files.\n"
     ]
    },
    {
     "name": "stdout",
     "output_type": "stream",
     "text": [
      "# Evaluation:  95%|█████████▍| 489/516 [3:01:41<08:24, 18.68s/it]"
     ]
    },
    {
     "name": "stderr",
     "output_type": "stream",
     "text": [
      "## Warning: Hourly nldas_hourly NetCDF file not found. Falling back to slower csv files.\n"
     ]
    },
    {
     "name": "stdout",
     "output_type": "stream",
     "text": [
      "# Evaluation:  95%|█████████▍| 490/516 [3:01:59<08:03, 18.59s/it]"
     ]
    },
    {
     "name": "stderr",
     "output_type": "stream",
     "text": [
      "## Warning: Hourly nldas_hourly NetCDF file not found. Falling back to slower csv files.\n"
     ]
    },
    {
     "name": "stdout",
     "output_type": "stream",
     "text": [
      "# Evaluation:  95%|█████████▌| 491/516 [3:02:17<07:41, 18.48s/it]"
     ]
    },
    {
     "name": "stderr",
     "output_type": "stream",
     "text": [
      "## Warning: Hourly nldas_hourly NetCDF file not found. Falling back to slower csv files.\n"
     ]
    },
    {
     "name": "stdout",
     "output_type": "stream",
     "text": [
      "# Evaluation:  95%|█████████▌| 492/516 [3:02:35<07:20, 18.34s/it]"
     ]
    },
    {
     "name": "stderr",
     "output_type": "stream",
     "text": [
      "## Warning: Hourly nldas_hourly NetCDF file not found. Falling back to slower csv files.\n"
     ]
    },
    {
     "name": "stdout",
     "output_type": "stream",
     "text": [
      "# Evaluation:  96%|█████████▌| 493/516 [3:02:54<07:02, 18.38s/it]"
     ]
    },
    {
     "name": "stderr",
     "output_type": "stream",
     "text": [
      "## Warning: Hourly nldas_hourly NetCDF file not found. Falling back to slower csv files.\n"
     ]
    },
    {
     "name": "stdout",
     "output_type": "stream",
     "text": [
      "# Evaluation:  96%|█████████▌| 494/516 [3:03:12<06:41, 18.25s/it]"
     ]
    },
    {
     "name": "stderr",
     "output_type": "stream",
     "text": [
      "## Warning: Hourly nldas_hourly NetCDF file not found. Falling back to slower csv files.\n"
     ]
    },
    {
     "name": "stdout",
     "output_type": "stream",
     "text": [
      "# Evaluation:  96%|█████████▌| 495/516 [3:03:30<06:21, 18.19s/it]"
     ]
    },
    {
     "name": "stderr",
     "output_type": "stream",
     "text": [
      "## Warning: Hourly nldas_hourly NetCDF file not found. Falling back to slower csv files.\n"
     ]
    },
    {
     "name": "stdout",
     "output_type": "stream",
     "text": [
      "# Evaluation:  96%|█████████▌| 496/516 [3:03:48<06:03, 18.17s/it]"
     ]
    },
    {
     "name": "stderr",
     "output_type": "stream",
     "text": [
      "## Warning: Hourly nldas_hourly NetCDF file not found. Falling back to slower csv files.\n"
     ]
    },
    {
     "name": "stdout",
     "output_type": "stream",
     "text": [
      "# Evaluation:  96%|█████████▋| 497/516 [3:04:06<05:46, 18.24s/it]"
     ]
    },
    {
     "name": "stderr",
     "output_type": "stream",
     "text": [
      "## Warning: Hourly nldas_hourly NetCDF file not found. Falling back to slower csv files.\n"
     ]
    },
    {
     "name": "stdout",
     "output_type": "stream",
     "text": [
      "# Evaluation:  97%|█████████▋| 498/516 [3:04:25<05:30, 18.37s/it]"
     ]
    },
    {
     "name": "stderr",
     "output_type": "stream",
     "text": [
      "## Warning: Hourly nldas_hourly NetCDF file not found. Falling back to slower csv files.\n"
     ]
    },
    {
     "name": "stdout",
     "output_type": "stream",
     "text": [
      "# Evaluation:  97%|█████████▋| 499/516 [3:04:43<05:11, 18.32s/it]"
     ]
    },
    {
     "name": "stderr",
     "output_type": "stream",
     "text": [
      "## Warning: Hourly nldas_hourly NetCDF file not found. Falling back to slower csv files.\n"
     ]
    },
    {
     "name": "stdout",
     "output_type": "stream",
     "text": [
      "# Evaluation:  97%|█████████▋| 500/516 [3:05:01<04:51, 18.24s/it]"
     ]
    },
    {
     "name": "stderr",
     "output_type": "stream",
     "text": [
      "## Warning: Hourly nldas_hourly NetCDF file not found. Falling back to slower csv files.\n"
     ]
    },
    {
     "name": "stdout",
     "output_type": "stream",
     "text": [
      "# Evaluation:  97%|█████████▋| 501/516 [3:05:19<04:30, 18.03s/it]"
     ]
    },
    {
     "name": "stderr",
     "output_type": "stream",
     "text": [
      "## Warning: Hourly nldas_hourly NetCDF file not found. Falling back to slower csv files.\n"
     ]
    },
    {
     "name": "stdout",
     "output_type": "stream",
     "text": [
      "# Evaluation:  97%|█████████▋| 502/516 [3:05:37<04:12, 18.06s/it]"
     ]
    },
    {
     "name": "stderr",
     "output_type": "stream",
     "text": [
      "## Warning: Hourly nldas_hourly NetCDF file not found. Falling back to slower csv files.\n"
     ]
    },
    {
     "name": "stdout",
     "output_type": "stream",
     "text": [
      "# Evaluation:  97%|█████████▋| 503/516 [3:06:03<04:26, 20.50s/it]"
     ]
    },
    {
     "name": "stderr",
     "output_type": "stream",
     "text": [
      "## Warning: Hourly nldas_hourly NetCDF file not found. Falling back to slower csv files.\n"
     ]
    },
    {
     "name": "stdout",
     "output_type": "stream",
     "text": [
      "# Evaluation:  98%|█████████▊| 504/516 [3:06:35<04:48, 24.02s/it]"
     ]
    },
    {
     "name": "stderr",
     "output_type": "stream",
     "text": [
      "## Warning: Hourly nldas_hourly NetCDF file not found. Falling back to slower csv files.\n",
      "c:\\project files\\alex\\neuralhydrology\\neuralhydrology\\datasetzoo\\hourlycamelsus.py:231: DtypeWarning: Columns (3) have mixed types. Specify dtype option on import or set low_memory=False.\n",
      "  return pd.read_csv(file_path, index_col=['date'], parse_dates=['date'])\n"
     ]
    },
    {
     "name": "stdout",
     "output_type": "stream",
     "text": [
      "# Evaluation:  98%|█████████▊| 505/516 [3:06:54<04:07, 22.47s/it]"
     ]
    },
    {
     "name": "stderr",
     "output_type": "stream",
     "text": [
      "## Warning: Hourly nldas_hourly NetCDF file not found. Falling back to slower csv files.\n"
     ]
    },
    {
     "name": "stdout",
     "output_type": "stream",
     "text": [
      "# Evaluation:  98%|█████████▊| 506/516 [3:07:13<03:32, 21.24s/it]"
     ]
    },
    {
     "name": "stderr",
     "output_type": "stream",
     "text": [
      "## Warning: Hourly nldas_hourly NetCDF file not found. Falling back to slower csv files.\n"
     ]
    },
    {
     "name": "stdout",
     "output_type": "stream",
     "text": [
      "# Evaluation:  98%|█████████▊| 507/516 [3:07:32<03:05, 20.56s/it]"
     ]
    },
    {
     "name": "stderr",
     "output_type": "stream",
     "text": [
      "## Warning: Hourly nldas_hourly NetCDF file not found. Falling back to slower csv files.\n"
     ]
    },
    {
     "name": "stdout",
     "output_type": "stream",
     "text": [
      "# Evaluation:  98%|█████████▊| 508/516 [3:07:51<02:41, 20.24s/it]"
     ]
    },
    {
     "name": "stderr",
     "output_type": "stream",
     "text": [
      "## Warning: Hourly nldas_hourly NetCDF file not found. Falling back to slower csv files.\n"
     ]
    },
    {
     "name": "stdout",
     "output_type": "stream",
     "text": [
      "# Evaluation:  99%|█████████▊| 509/516 [3:08:09<02:17, 19.63s/it]"
     ]
    },
    {
     "name": "stderr",
     "output_type": "stream",
     "text": [
      "## Warning: Hourly nldas_hourly NetCDF file not found. Falling back to slower csv files.\n"
     ]
    },
    {
     "name": "stdout",
     "output_type": "stream",
     "text": [
      "# Evaluation:  99%|█████████▉| 510/516 [3:08:28<01:55, 19.25s/it]"
     ]
    },
    {
     "name": "stderr",
     "output_type": "stream",
     "text": [
      "## Warning: Hourly nldas_hourly NetCDF file not found. Falling back to slower csv files.\n"
     ]
    },
    {
     "name": "stdout",
     "output_type": "stream",
     "text": [
      "# Evaluation:  99%|█████████▉| 511/516 [3:08:45<01:34, 18.81s/it]"
     ]
    },
    {
     "name": "stderr",
     "output_type": "stream",
     "text": [
      "## Warning: Hourly nldas_hourly NetCDF file not found. Falling back to slower csv files.\n"
     ]
    },
    {
     "name": "stdout",
     "output_type": "stream",
     "text": [
      "# Evaluation:  99%|█████████▉| 512/516 [3:09:04<01:14, 18.72s/it]"
     ]
    },
    {
     "name": "stderr",
     "output_type": "stream",
     "text": [
      "## Warning: Hourly nldas_hourly NetCDF file not found. Falling back to slower csv files.\n"
     ]
    },
    {
     "name": "stdout",
     "output_type": "stream",
     "text": [
      "# Evaluation:  99%|█████████▉| 513/516 [3:09:22<00:55, 18.63s/it]"
     ]
    },
    {
     "name": "stderr",
     "output_type": "stream",
     "text": [
      "## Warning: Hourly nldas_hourly NetCDF file not found. Falling back to slower csv files.\n"
     ]
    },
    {
     "name": "stdout",
     "output_type": "stream",
     "text": [
      "# Evaluation: 100%|█████████▉| 514/516 [3:09:41<00:37, 18.56s/it]"
     ]
    },
    {
     "name": "stderr",
     "output_type": "stream",
     "text": [
      "## Warning: Hourly nldas_hourly NetCDF file not found. Falling back to slower csv files.\n"
     ]
    },
    {
     "name": "stdout",
     "output_type": "stream",
     "text": [
      "# Evaluation: 100%|█████████▉| 515/516 [3:09:59<00:18, 18.39s/it]"
     ]
    },
    {
     "name": "stderr",
     "output_type": "stream",
     "text": [
      "## Warning: Hourly nldas_hourly NetCDF file not found. Falling back to slower csv files.\n"
     ]
    },
    {
     "name": "stdout",
     "output_type": "stream",
     "text": [
      "# Evaluation: 100%|██████████| 516/516 [3:10:17<00:00, 22.13s/it]\n"
     ]
    }
   ],
   "source": [
    "run_dir = Path(\"runs/test_run_0906_184435\")\n",
    "eval_run(run_dir=run_dir, period=\"test\")"
   ]
  },
  {
   "cell_type": "code",
   "execution_count": 7,
   "id": "9931e7c1",
   "metadata": {},
   "outputs": [
    {
     "data": {
      "text/plain": [
       "dict_keys(['01022500', '01031500', '01047000', '01052500', '01054200', '01055000', '01057000', '01073000', '01078000', '01123000', '01134500', '01137500', '01139000', '01139800', '01142500', '01144000', '01162500', '01169000', '01170100', '01181000', '01187300', '01195100', '01333000', '01350000', '01350080', '01350140', '01365000', '01411300', '01413500', '01414500', '01415000', '01423000', '01434025', '01435000', '01439500', '01440000', '01440400', '01451800', '01466500', '01484100', '01487000', '01491000', '01510000', '01516500', '01518862', '01532000', '01539000', '01542810', '01543000', '01543500', '01544500', '01545600', '01547700', '01548500', '01549500', '01550000', '01552000', '01552500', '01557500', '01567500', '01568000', '01580000', '01583500', '01586610', '01591400', '01594950', '01596500', '01605500', '01606500', '01632000', '01632900', '01634500', '01638480', '01639500', '01644000', '01664000', '01666500', '01667500', '01669000', '01669520', '02011400', '02013000', '02014000', '02015700', '02016000', '02017500', '02018000', '02027000', '02027500', '02028500', '02038850', '02046000', '02051500', '02053200', '02053800', '02055100', '02056900', '02059500', '02064000', '02065500', '02069700', '02070000', '02074500', '02077200', '02081500', '02082950', '02092500', '02096846', '02102908', '02108000', '02111180', '02111500', '02118500', '02128000', '02137727', '02140991', '02143000', '02143040', '02149000', '02152100', '02177000', '02178400', '02193340', '02196000', '02198100', '02202600', '02212600', '02215100', '02216180', '02221525', '02231000', '02245500', '02246000', '02296500', '02297155', '02297310', '02298123', '02298608', '02299950', '02300700', '02349900', '02350900', '02361000', '02363000', '02369800', '02371500', '02372250', '02374500', '02381600', '02384540', '02395120', '02415000', '02427250', '02430085', '02450250', '02464000', '02465493', '02469800', '02472000', '02472500', '02479155', '02479300', '02479560', '02481000', '02481510', '03010655', '03011800', '03015500', '03021350', '03026500', '03028000', '03049000', '03049800', '03050000', '03069500', '03070500', '03076600', '03078000', '03140000', '03144000', '03170000', '03173000', '03180500', '03182500', '03186500', '03237280', '03237500', '03241500', '03280700', '03281500', '03285000', '03291780', '03338780', '03340800', '03346000', '03364500', '03366500', '03368000', '03384450', '03439000', '03455500', '03456500', '03460000', '03463300', '03471500', '03473000', '03479000', '03488000', '03498500', '03500000', '03504000', '03574500', '03592718', '03604000', '04015330', '04024430', '04027000', '04040500', '04043050', '04045500', '04057510', '04057800', '04059500', '04063700', '04074950', '04105700', '04115265', '04122200', '04122500', '04127997', '04185000', '04196800', '04197100', '04197170', '04213000', '04213075', '04216418', '04221000', '04224775', '04256000', '04296000', '05057200', '05120500', '05291000', '05362000', '05393500', '05399500', '05408000', '05413500', '05414000', '05444000', '05454000', '05458000', '05466500', '05487980', '05488200', '05489000', '05495000', '05495500', '05501000', '05503800', '05507600', '05508805', '05525500', '05556500', '05584500', '05591550', '05592050', '05592575', '05593575', '05593900', '05595730', '06221400', '06224000', '06278300', '06280300', '06289000', '06311000', '06332515', '06339100', '06344600', '06350000', '06352000', '06404000', '06406000', '06409000', '06431500', '06440200', '06447500', '06470800', '06477500', '06479215', '06601000', '06614800', '06622700', '06623800', '06632400', '06746095', '06803510', '06803530', '06814000', '06847900', '06853800', '06876700', '06878000', '06879650', '06885500', '06888500', '06889200', '06889500', '06892000', '06903400', '06906800', '06910800', '06911900', '06917000', '06918460', '06919500', '06921070', '06921200', '07057500', '07060710', '07066000', '07083000', '07142300', '07145700', '07167500', '07180500', '07184000', '07195800', '07196900', '07197000', '07208500', '07261000', '07263295', '07291000', '07299670', '07301410', '07315200', '07315700', '07335700', '07340300', '07346045', '07359610', '07362100', '07362587', '07375000', '08013000', '08014500', '08023080', '08050800', '08066200', '08066300', '08070000', '08070200', '08082700', '08086212', '08086290', '08101000', '08103900', '08104900', '08109700', '08150800', '08158700', '08158810', '08164300', '08164600', '08165300', '08171300', '08175000', '08176900', '08178880', '08189500', '08190000', '08190500', '08194200', '08195000', '08196000', '08198500', '08200000', '08202700', '08267500', '08269000', '08271000', '08324000', '08377900', '08378500', '08380500', '09035900', '09047700', '09065500', '09066000', '09066200', '09066300', '09081600', '09107000', '09210500', '09223000', '09306242', '09312600', '09352900', '09378170', '09386900', '09404450', '09430600', '09447800', '09484600', '09492400', '09494000', '09497980', '09505350', '09505800', '09508300', '09510200', '09512280', '09513780', '10234500', '10244950', '10259000', '10336645', '10336660', '10343500', '11124500', '11141280', '11143000', '11148900', '11151300', '11176400', '11264500', '11266500', '11284400', '11381500', '11451100', '11468500', '11473900', '11475560', '11476600', '11478500', '11480390', '11481200', '11482500', '11522500', '11523200', '11528700', '11532500', '12010000', '12013500', '12020000', '12025700', '12035000', '12040500', '12041200', '12048000', '12054000', '12056500', '12073500', '12082500', '12092000', '12114500', '12115000', '12117000', '12143600', '12144000', '12145500', '12147500', '12167000', '12175500', '12178100', '12186000', '12189500', '12375900', '12377150', '12381400', '12390700', '12411000', '12447390', '12451000', '12488500', '13011500', '13011900', '13018300', '13023000', '13161500', '13235000', '13240000', '13313000', '13331500', '14020000', '14096850', '14137000', '14138800', '14138870', '14138900', '14139800', '14141500', '14154500', '14158790', '14166500', '14182500', '14185000', '14185900', '14187000', '14216500', '14222500', '14236200', '14301000', '14303200', '14305500', '14306340', '14306500', '14308990', '14309500', '14316700', '14325000', '14362250', '14400000'])"
      ]
     },
     "execution_count": 7,
     "metadata": {},
     "output_type": "execute_result"
    }
   ],
   "source": [
    "run_dir = Path(\"runs/test_run_0906_184435\")\n",
    "with open(run_dir / \"test\" / \"model_epoch050\" / \"test_results.p\", \"rb\") as fp:\n",
    "    results = pickle.load(fp)\n",
    "    \n",
    "results.keys()"
   ]
  },
  {
   "cell_type": "code",
   "execution_count": 10,
   "id": "20917ec9",
   "metadata": {},
   "outputs": [
    {
     "name": "stdout",
     "output_type": "stream",
     "text": [
      "Median NSE of the validation period 0.332\n"
     ]
    }
   ],
   "source": [
    "# Load validation results from the last epoch\n",
    "df = pd.read_csv(run_dir / \"validation\" / \"model_epoch005\" / \"validation_metrics.csv\", dtype={'basin': str})\n",
    "df = df.set_index('basin')\n",
    "\n",
    "# Compute the median NSE from all basins, where discharge observations are available for that period\n",
    "print(f\"Median NSE of the validation period {df['NSE_1h'].median():.3f}\")"
   ]
  },
  {
   "cell_type": "code",
   "execution_count": 5,
   "id": "6920cc68",
   "metadata": {},
   "outputs": [
    {
     "data": {
      "image/png": "[encoded data removed]",
      "text/plain": [
       "<Figure size 1600x1000 with 1 Axes>"
      ]
     },
     "metadata": {},
     "output_type": "display_data"
    }
   ],
   "source": [
    "basin_id = '01031500' # Your basin ID\n",
    "freq = '1D'           # Your frequency key\n",
    "target_variable = 'QObs(mm/h)' # Your target variable name\n",
    "\n",
    "# --- 1. Extract Observations ---\n",
    "# Get the original xarray DataArray for observations. Its shape is (2557, 24)\n",
    "qobs_original_xr = results[basin_id][freq]['xr'][f'{target_variable}_obs']\n",
    "\n",
    "# --- 2. Extract Simulated Output with Samples ---\n",
    "# Get the original xarray DataArray for simulated data.\n",
    "qsim_with_samples_original_xr = results[basin_id][freq]['xr'][f'{target_variable}_sim']\n",
    "\n",
    "# --- Prepare data for plotting (flattening to single 1D series) ---\n",
    "\n",
    "# Get the daily dates coordinate from the original observation DataArray.\n",
    "# Assuming 'date' is the dimension name for days, and the other for hours (e.g., 'time_step').\n",
    "# You might need to adjust 'date' and 'time_step' to your actual dimension names.\n",
    "daily_dates_coord = qobs_original_xr['date'].values\n",
    "num_hours_per_day = qobs_original_xr.sizes[qobs_original_xr.dims[1]] # Assuming the second dim is hourly\n",
    "\n",
    "# Construct the full hourly datetime index for the X-axis for plotting\n",
    "full_hourly_dates = []\n",
    "for d in daily_dates_coord:\n",
    "    for h in range(num_hours_per_day):\n",
    "        full_hourly_dates.append(pd.to_datetime(d) + pd.Timedelta(hours=h))\n",
    "full_hourly_dates = np.array(full_hourly_dates) # This will be (2557 * 24,) = (61368,)\n",
    "\n",
    "# Flatten the observed discharge data into a single 1D NumPy array\n",
    "qobs_flat_np = qobs_original_xr.values.flatten() # (2557, 24) -> (61368,)\n",
    "\n",
    "# --- 3. Calculate Quantiles from Samples and flatten ---\n",
    "# Convert the xarray DataArray to a NumPy array\n",
    "qsim_data_np = qsim_with_samples_original_xr.values # e.g., (2557, 24, 100)\n",
    "\n",
    "# Calculate percentiles and mean across the 'samples' dimension (axis=-1)\n",
    "# Then, flatten each result to a single 1D NumPy array for plotting\n",
    "median_sim_flat_np = np.nanpercentile(qsim_data_np, 50, axis=-1).flatten() # (2557, 24) -> (61368,)\n",
    "q25_flat_np = np.nanpercentile(qsim_data_np, 25, axis=-1).flatten()\n",
    "q75_flat_np = np.nanpercentile(qsim_data_np, 75, axis=-1).flatten()\n",
    "lower_bound_90ci_flat_np = np.nanpercentile(qsim_data_np, 5, axis=-1).flatten()\n",
    "upper_bound_90ci_flat_np = np.nanpercentile(qsim_data_np, 95, axis=-1).flatten()\n",
    "mean_sim_flat_np = np.nanmean(qsim_data_np, axis=-1).flatten()\n",
    "\n",
    "# --- Create new 1D xarray DataArrays for consistent plotting ---\n",
    "# These DataArrays will now all be 1D, with 'date' as their single dimension.\n",
    "# This ensures compatibility for plotting with Matplotlib.\n",
    "qobs = xr.DataArray(qobs_flat_np, coords={'date': full_hourly_dates}, dims=['date'])\n",
    "median_sim = xr.DataArray(median_sim_flat_np, coords={'date': full_hourly_dates}, dims=['date'])\n",
    "q25 = xr.DataArray(q25_flat_np, coords={'date': full_hourly_dates}, dims=['date'])\n",
    "q75 = xr.DataArray(q75_flat_np, coords={'date': full_hourly_dates}, dims=['date'])\n",
    "lower_bound_90ci = xr.DataArray(lower_bound_90ci_flat_np, coords={'date': full_hourly_dates}, dims=['date'])\n",
    "upper_bound_90ci = xr.DataArray(upper_bound_90ci_flat_np, coords={'date': full_hourly_dates}, dims=['date'])\n",
    "mean_sim = xr.DataArray(mean_sim_flat_np, coords={'date': full_hourly_dates}, dims=['date'])\n",
    "\n",
    "# --- 4. Plotting with Matplotlib for Uncertainty ---\n",
    "fig, ax = plt.subplots(figsize=(16, 10))\n",
    "\n",
    "# Plot observations (using the new 1D qobs DataArray)\n",
    "ax.plot(qobs['date'].values, qobs.values, color='black', label='Observations', linewidth=1)\n",
    "\n",
    "# Plot median prediction\n",
    "ax.plot(median_sim['date'].values, median_sim.values, color='red', linestyle='--', label='CMAL Median Prediction', linewidth=1)\n",
    "ax.plot(mean_sim['date'].values, mean_sim.values, color='blue', linestyle=':', label='CMAL Mean Prediction', linewidth=1)\n",
    "\n",
    "# Plot uncertainty bands using fill_between\n",
    "# 90% Confidence Interval (between 5th and 95th percentiles)\n",
    "ax.fill_between(\n",
    "    lower_bound_90ci['date'].values, # X-axis values (full hourly dates)\n",
    "    lower_bound_90ci.values,         # Y1 values (flattened to 1D)\n",
    "    upper_bound_90ci.values,         # Y2 values (flattened to 1D)\n",
    "    color='red',\n",
    "    alpha=0.2, # Lighter transparency for the wider band\n",
    "    label='CMAL 90% Uncertainty Interval'\n",
    ")\n",
    "\n",
    "# 50% Confidence Interval (between 25th and 75th percentiles)\n",
    "ax.fill_between(\n",
    "    q25['date'].values,\n",
    "    q25.values,\n",
    "    q75.values,\n",
    "    color='red',\n",
    "    alpha=0.4, # Darker transparency for the narrower band\n",
    "    label='CMAL 50% Uncertainty Interval'\n",
    ")\n",
    "\n",
    "ax.set_ylabel(f\"{target_variable} (mm/d)\")\n",
    "ax.set_xlabel(\"Date\")\n",
    "ax.set_title(f\"Test period - CMAL Prediction with Uncertainty for Basin {basin_id}\")\n",
    "ax.legend()\n",
    "plt.grid(True, linestyle=':', alpha=0.7)\n",
    "plt.tight_layout()\n",
    "plt.show()"
   ]
  },
  {
   "cell_type": "code",
   "execution_count": 6,
   "id": "82b57775",
   "metadata": {},
   "outputs": [
    {
     "name": "stdout",
     "output_type": "stream",
     "text": [
      "\n",
      "Metrics for CMAL Median Prediction:\n",
      "NSE: 0.388\n",
      "MSE: 0.014\n",
      "RMSE: 0.119\n",
      "KGE: 0.292\n",
      "Alpha-NSE: 0.387\n",
      "Beta-KGE: 0.775\n",
      "Beta-NSE: -0.154\n",
      "Pearson-r: 0.726\n",
      "FHV: -70.681\n",
      "FMS: -31.792\n",
      "FLV: 56.239\n",
      "Peak-Timing: 0.000\n",
      "Peak-MAPE: 66.402\n"
     ]
    }
   ],
   "source": [
    "# Calculate all metrics for the median prediction\n",
    "values = metrics.calculate_all_metrics(qobs, mean_sim)\n",
    "\n",
    "# Print the calculated metrics\n",
    "print(\"\\nMetrics for CMAL Median Prediction:\")\n",
    "for key, val in values.items():\n",
    "    print(f\"{key}: {val:.3f}\")"
   ]
  },
  {
   "cell_type": "code",
   "execution_count": 12,
   "id": "a8f995fc",
   "metadata": {},
   "outputs": [
    {
     "name": "stdout",
     "output_type": "stream",
     "text": [
      "Selected basin: 12048000 with an NSE of -0.633\n"
     ]
    }
   ],
   "source": [
    "# Select a random basins from the lower 50% of the NSE distribution\n",
    "basin = df.loc[df[\"NSE_1h\"] < df[\"NSE_1h\"].median()].sample(n=1).index[0]\n",
    "\n",
    "print(f\"Selected basin: {basin} with an NSE of {df.loc[df.index == basin, 'NSE_1h'].values[0]:.3f}\")"
   ]
  },
  {
   "cell_type": "code",
   "execution_count": 13,
   "id": "dc4fa9e2",
   "metadata": {},
   "outputs": [],
   "source": [
    "# Add the path to the pre-trained model to the finetune config\n",
    "with open(\"finetune.yml\", \"a\") as fp:\n",
    "    fp.write(f\"\\nbase_run_dir: {run_dir.absolute()}\")\n",
    "    \n",
    "# Create a basin file with the basin we selected above\n",
    "with open(\"finetune_basin.txt\", \"w\") as fp:\n",
    "    fp.write(basin)"
   ]
  },
  {
   "cell_type": "code",
   "execution_count": 15,
   "id": "d0e6aa2a",
   "metadata": {},
   "outputs": [
    {
     "name": "stdout",
     "output_type": "stream",
     "text": [
      "2025-06-12 14:56:38,259: Logging to c:\\Project Files\\Alex\\neuralhydrology\\own\\MtslstmCMAL\\runs\\mtslstmcmal_basins_finetuned_1206_145638\\output.log initialized.\n",
      "2025-06-12 14:56:38,262: ### Folder structure created at c:\\Project Files\\Alex\\neuralhydrology\\own\\MtslstmCMAL\\runs\\mtslstmcmal_basins_finetuned_1206_145638\n",
      "2025-06-12 14:56:38,264: ### Start finetuning with pretrained model stored in c:\\Project Files\\Alex\\neuralhydrology\\own\\MtslstmCMAL\\runs\\test_run_0906_184435\n",
      "2025-06-12 14:56:38,265: ### Run configurations for mtslstmcmal_basins_finetuned\n",
      "2025-06-12 14:56:38,268: batch_size: 256\n",
      "2025-06-12 14:56:38,269: clip_gradient_norm: 1\n",
      "2025-06-12 14:56:38,270: clip_targets_to_zero: ['QObs(mm/h)']\n",
      "2025-06-12 14:56:38,272: commit_hash: 65ef8e4\n",
      "2025-06-12 14:56:38,274: data_dir: ..\\..\\data\\CAMELS_US\n",
      "2025-06-12 14:56:38,275: dataset: hourly_camels_us\n",
      "2025-06-12 14:56:38,278: device: cuda:0\n",
      "2025-06-12 14:56:38,279: dynamic_inputs: {'1D': ['prcp(mm/day)_daymet', 'srad(W/m2)_daymet', 'tmax(C)_daymet', 'tmin(C)_daymet', 'vp(Pa)_daymet'], '1h': ['convective_fraction_nldas_hourly', 'longwave_radiation_nldas_hourly', 'potential_energy_nldas_hourly', 'potential_evaporation_nldas_hourly', 'pressure_nldas_hourly', 'shortwave_radiation_nldas_hourly', 'specific_humidity_nldas_hourly', 'temperature_nldas_hourly', 'total_precipitation_nldas_hourly', 'wind_u_nldas_hourly', 'wind_v_nldas_hourly', 'prcp(mm/day)_daymet', 'srad(W/m2)_daymet', 'tmax(C)_daymet', 'tmin(C)_daymet', 'vp(Pa)_daymet']}\n",
      "2025-06-12 14:56:38,281: epochs: 50\n",
      "2025-06-12 14:56:38,282: experiment_name: mtslstmcmal_basins_finetuned\n",
      "2025-06-12 14:56:38,283: forcings: ['nldas_hourly', 'daymet']\n",
      "2025-06-12 14:56:38,284: head: cmal\n",
      "2025-06-12 14:56:38,285: hidden_size: 20\n",
      "2025-06-12 14:56:38,287: img_log_dir: c:\\Project Files\\Alex\\neuralhydrology\\own\\MtslstmCMAL\\runs\\mtslstmcmal_basins_finetuned_1206_145638\\img_log\n",
      "2025-06-12 14:56:38,288: initial_forget_bias: 3\n",
      "2025-06-12 14:56:38,290: learning_rate: {0: 5e-05}\n",
      "2025-06-12 14:56:38,292: log_interval: 5\n",
      "2025-06-12 14:56:38,293: log_n_figures: 0\n",
      "2025-06-12 14:56:38,296: log_tensorboard: False\n",
      "2025-06-12 14:56:38,297: loss: CMALLoss\n",
      "2025-06-12 14:56:38,298: mc_dropout: False\n",
      "2025-06-12 14:56:38,300: metrics: ['NSE']\n",
      "2025-06-12 14:56:38,302: model: mtslstmcmal\n",
      "2025-06-12 14:56:38,303: n_distributions: 5\n",
      "2025-06-12 14:56:38,303: n_samples: 100\n",
      "2025-06-12 14:56:38,305: negative_sample_handling: clip\n",
      "2025-06-12 14:56:38,307: num_workers: 8\n",
      "2025-06-12 14:56:38,307: number_of_basins: 1\n",
      "2025-06-12 14:56:38,309: optimizer: Adam\n",
      "2025-06-12 14:56:38,311: output_activation: linear\n",
      "2025-06-12 14:56:38,313: output_dropout: 0.4\n",
      "2025-06-12 14:56:38,314: package_version: 1.12.0\n",
      "2025-06-12 14:56:38,315: predict_last_n: {'1D': 1, '1h': 24}\n",
      "2025-06-12 14:56:38,317: regularization: ['tie_frequencies_cmal']\n",
      "2025-06-12 14:56:38,318: run_dir: c:\\Project Files\\Alex\\neuralhydrology\\own\\MtslstmCMAL\\runs\\mtslstmcmal_basins_finetuned_1206_145638\n",
      "2025-06-12 14:56:38,319: save_validation_results: True\n",
      "2025-06-12 14:56:38,320: save_weights_every: 1\n",
      "2025-06-12 14:56:38,321: seed: 103065\n",
      "2025-06-12 14:56:38,323: seq_length: {'1D': 365, '1h': 336}\n",
      "2025-06-12 14:56:38,324: shared_mtslstm: False\n",
      "2025-06-12 14:56:38,325: static_attributes: ['elev_mean', 'slope_mean', 'area_gages2', 'frac_forest', 'lai_max', 'lai_diff', 'gvf_max', 'gvf_diff', 'soil_depth_pelletier', 'soil_depth_statsgo', 'soil_porosity', 'soil_conductivity', 'max_water_content', 'sand_frac', 'silt_frac', 'clay_frac', 'carbonate_rocks_frac', 'geol_permeability', 'p_mean', 'pet_mean', 'aridity', 'frac_snow', 'high_prec_freq', 'high_prec_dur', 'low_prec_freq', 'low_prec_dur']\n",
      "2025-06-12 14:56:38,326: target_variables: ['QObs(mm/h)']\n",
      "2025-06-12 14:56:38,328: test_basin_file: finetune_basin.txt\n",
      "2025-06-12 14:56:38,329: test_end_date: 1996-09-30 00:00:00\n",
      "2025-06-12 14:56:38,330: test_start_date: 1989-10-01 00:00:00\n",
      "2025-06-12 14:56:38,332: train_basin_file: finetune_basin.txt\n",
      "2025-06-12 14:56:38,334: train_dir: c:\\Project Files\\Alex\\neuralhydrology\\own\\MtslstmCMAL\\runs\\mtslstmcmal_basins_finetuned_1206_145638\\train_data\n",
      "2025-06-12 14:56:38,335: train_end_date: 2008-09-30 00:00:00\n",
      "2025-06-12 14:56:38,337: train_start_date: 1999-10-01 00:00:00\n",
      "2025-06-12 14:56:38,337: transfer_mtslstm_states: {'h': 'linear', 'c': 'linear'}\n",
      "2025-06-12 14:56:38,339: use_frequencies: ['1h', '1D']\n",
      "2025-06-12 14:56:38,340: validate_every: 5\n",
      "2025-06-12 14:56:38,341: validate_n_random_basins: 516\n",
      "2025-06-12 14:56:38,342: validation_basin_file: finetune_basin.txt\n",
      "2025-06-12 14:56:38,344: validation_end_date: 1999-09-30 00:00:00\n",
      "2025-06-12 14:56:38,346: validation_start_date: 1996-10-01 00:00:00\n",
      "2025-06-12 14:56:38,347: finetune_modules: ['heads', 'lstm']\n",
      "2025-06-12 14:56:38,348: base_run_dir: c:\\Project Files\\Alex\\neuralhydrology\\own\\MtslstmCMAL\\runs\\test_run_0906_184435\n",
      "2025-06-12 14:56:38,349: is_finetuning: True\n",
      "2025-06-12 14:56:38,350: is_continue_training: False\n",
      "2025-06-12 14:56:38,388: ### Device cuda:0 will be used for training\n",
      "2025-06-12 14:56:38,515: Loading basin data into xarray data set.\n",
      "  0%|          | 0/1 [00:00<?, ?it/s]2025-06-12 14:56:38,521: ## Warning: Hourly nldas_hourly NetCDF file not found. Falling back to slower csv files.\n",
      "100%|██████████| 1/1 [00:01<00:00,  1.40s/it]\n",
      "2025-06-12 14:56:39,935: Create lookup table and convert to pytorch tensor\n",
      "100%|██████████| 1/1 [00:00<00:00,  9.04it/s]\n",
      "2025-06-12 14:56:40,084: No specific hidden size for frequencies are specified. Same hidden size is used for all.\n",
      "2025-06-12 14:56:40,101: Starting training from checkpoint c:\\Project Files\\Alex\\neuralhydrology\\own\\MtslstmCMAL\\runs\\test_run_0906_184435\\model_epoch050.pt\n",
      "2025-06-12 14:56:40,130: Could not resolve the following module parts for finetuning: ['lstm']\n",
      "2025-06-12 14:56:40,132: --- Scheduler Initialized ---\n",
      "2025-06-12 14:56:40,132: Scheduler patience: 2\n",
      "2025-06-12 14:56:40,134: Scheduler mode: min\n",
      "2025-06-12 14:56:40,136: Scheduler factor: 0.5\n",
      "2025-06-12 14:56:40,137: Scheduler min_lr: [1e-07]\n",
      "2025-06-12 14:56:40,138: Scheduler threshold_mode: rel\n",
      "2025-06-12 14:56:40,139: Scheduler threshold: 0.0001\n",
      "2025-06-12 14:56:40,140: Scheduler cooldown: 0\n",
      "2025-06-12 14:56:40,142: -----------------------------\n"
     ]
    },
    {
     "name": "stderr",
     "output_type": "stream",
     "text": [
      "c:\\project files\\alex\\neuralhydrology\\neuralhydrology\\training\\basetrainer.py:161: FutureWarning: You are using `torch.load` with `weights_only=False` (the current default value), which uses the default pickle module implicitly. It is possible to construct malicious pickle data which will execute arbitrary code during unpickling (See https://github.com/pytorch/pytorch/blob/main/SECURITY.md#untrusted-models for more details). In a future release, the default value for `weights_only` will be flipped to `True`. This limits the functions that could be executed during unpickling. Arbitrary objects will no longer be allowed to be loaded via this mode unless they are explicitly allowlisted by the user via `torch.serialization.add_safe_globals`. We recommend you start setting `weights_only=True` for any use case where you don't have full control of the loaded file. Please open an issue on GitHub for any issues related to this experimental feature.\n",
      "  self.model.load_state_dict(torch.load(str(checkpoint_path), map_location=self.device))\n"
     ]
    },
    {
     "name": "stdout",
     "output_type": "stream",
     "text": [
      "# Epoch 1: 100%|██████████| 13/13 [00:28<00:00,  2.20s/it, Loss: -6.5830]\n",
      "2025-06-12 14:57:08,950: Epoch 1 average loss: avg_loss: -7.59256, avg_tie_frequencies_cmal: 0.16409, avg_total_loss: -7.42847\n",
      "# Epoch 2: 100%|██████████| 13/13 [00:26<00:00,  2.07s/it, Loss: -10.2589]\n",
      "2025-06-12 14:57:35,883: Epoch 2 average loss: avg_loss: -8.43669, avg_tie_frequencies_cmal: 0.14561, avg_total_loss: -8.29108\n",
      "# Epoch 3: 100%|██████████| 13/13 [00:26<00:00,  2.03s/it, Loss: -9.4156]\n",
      "2025-06-12 14:58:02,304: Epoch 3 average loss: avg_loss: -8.81441, avg_tie_frequencies_cmal: 0.12890, avg_total_loss: -8.68552\n",
      "# Epoch 4: 100%|██████████| 13/13 [00:25<00:00,  1.98s/it, Loss: -10.2672]\n",
      "2025-06-12 14:58:28,088: Epoch 4 average loss: avg_loss: -9.15312, avg_tie_frequencies_cmal: 0.11532, avg_total_loss: -9.03780\n",
      "# Epoch 5: 100%|██████████| 13/13 [00:26<00:00,  2.05s/it, Loss: -8.7059]\n",
      "2025-06-12 14:58:54,784: Epoch 5 average loss: avg_loss: -9.27004, avg_tie_frequencies_cmal: 0.10601, avg_total_loss: -9.16403\n",
      "# Validation:   0%|          | 0/1 [00:00<?, ?it/s]2025-06-12 14:58:54,826: ## Warning: Hourly nldas_hourly NetCDF file not found. Falling back to slower csv files.\n",
      "# Validation: 100%|██████████| 1/1 [00:08<00:00,  8.71s/it]\n",
      "2025-06-12 14:59:03,513: Stored metrics at c:\\Project Files\\Alex\\neuralhydrology\\own\\MtslstmCMAL\\runs\\mtslstmcmal_basins_finetuned_1206_145638\\validation\\model_epoch005\\validation_metrics.csv\n",
      "2025-06-12 14:59:03,522: Stored results at c:\\Project Files\\Alex\\neuralhydrology\\own\\MtslstmCMAL\\runs\\mtslstmcmal_basins_finetuned_1206_145638\\validation\\model_epoch005\\validation_results.p\n",
      "2025-06-12 14:59:03,524: Current Learning Rate: 5e-05\n",
      "2025-06-12 14:59:03,525: Scheduler state after step - best: 30.441566\n",
      "2025-06-12 14:59:03,525: Scheduler state after step - num_bad_epochs: 0\n",
      "2025-06-12 14:59:03,527: Scheduler state after step - last_epoch: 1\n",
      "2025-06-12 14:59:03,528: \n",
      "2025-06-12 14:59:03,528: Epoch 5 average validation loss: 30.44157 -- Median validation metrics: avg_loss: 30.32691, avg_tie_frequencies_cmal: 0.11465, NSE_1h: 0.21582, NSE_1D: -0.04049\n",
      "# Epoch 6: 100%|██████████| 13/13 [00:25<00:00,  1.98s/it, Loss: -6.4322]\n",
      "2025-06-12 14:59:29,235: Epoch 6 average loss: avg_loss: -9.47713, avg_tie_frequencies_cmal: 0.09811, avg_total_loss: -9.37901\n",
      "# Epoch 7: 100%|██████████| 13/13 [00:25<00:00,  1.96s/it, Loss: -6.2541]\n",
      "2025-06-12 14:59:54,669: Epoch 7 average loss: avg_loss: -9.67182, avg_tie_frequencies_cmal: 0.09336, avg_total_loss: -9.57846\n",
      "# Epoch 8: 100%|██████████| 13/13 [00:25<00:00,  1.94s/it, Loss: -11.7272]\n",
      "2025-06-12 15:00:19,893: Epoch 8 average loss: avg_loss: -9.81335, avg_tie_frequencies_cmal: 0.08996, avg_total_loss: -9.72339\n",
      "# Epoch 9: 100%|██████████| 13/13 [00:25<00:00,  1.95s/it, Loss: -9.1526] \n",
      "2025-06-12 15:00:45,263: Epoch 9 average loss: avg_loss: -9.85157, avg_tie_frequencies_cmal: 0.08495, avg_total_loss: -9.76662\n",
      "# Epoch 10: 100%|██████████| 13/13 [00:25<00:00,  2.00s/it, Loss: -11.4989]\n",
      "2025-06-12 15:01:11,223: Epoch 10 average loss: avg_loss: -10.04626, avg_tie_frequencies_cmal: 0.08505, avg_total_loss: -9.96121\n",
      "# Validation: 100%|██████████| 1/1 [00:06<00:00,  6.92s/it]\n",
      "2025-06-12 15:01:18,159: Stored metrics at c:\\Project Files\\Alex\\neuralhydrology\\own\\MtslstmCMAL\\runs\\mtslstmcmal_basins_finetuned_1206_145638\\validation\\model_epoch010\\validation_metrics.csv\n",
      "2025-06-12 15:01:18,168: Stored results at c:\\Project Files\\Alex\\neuralhydrology\\own\\MtslstmCMAL\\runs\\mtslstmcmal_basins_finetuned_1206_145638\\validation\\model_epoch010\\validation_results.p\n",
      "2025-06-12 15:01:18,170: Current Learning Rate: 5e-05\n",
      "2025-06-12 15:01:18,172: Scheduler state after step - best: 30.441566\n",
      "2025-06-12 15:01:18,173: Scheduler state after step - num_bad_epochs: 1\n",
      "2025-06-12 15:01:18,174: Scheduler state after step - last_epoch: 2\n",
      "2025-06-12 15:01:18,174: \n",
      "2025-06-12 15:01:18,175: Epoch 10 average validation loss: 31.43765 -- Median validation metrics: avg_loss: 31.33253, avg_tie_frequencies_cmal: 0.10512, NSE_1h: 0.18725, NSE_1D: -0.07120\n",
      "# Epoch 11: 100%|██████████| 13/13 [00:26<00:00,  2.00s/it, Loss: -8.3487] \n",
      "2025-06-12 15:01:44,230: Epoch 11 average loss: avg_loss: -10.11884, avg_tie_frequencies_cmal: 0.08501, avg_total_loss: -10.03382\n",
      "# Epoch 12: 100%|██████████| 13/13 [00:25<00:00,  1.98s/it, Loss: -8.1059] \n",
      "2025-06-12 15:02:09,992: Epoch 12 average loss: avg_loss: -10.19660, avg_tie_frequencies_cmal: 0.08234, avg_total_loss: -10.11426\n",
      "# Epoch 13: 100%|██████████| 13/13 [00:25<00:00,  1.94s/it, Loss: -11.5107]\n",
      "2025-06-12 15:02:35,213: Epoch 13 average loss: avg_loss: -10.34005, avg_tie_frequencies_cmal: 0.08298, avg_total_loss: -10.25707\n",
      "# Epoch 14: 100%|██████████| 13/13 [00:25<00:00,  1.98s/it, Loss: -8.0021] \n",
      "2025-06-12 15:03:01,024: Epoch 14 average loss: avg_loss: -10.36606, avg_tie_frequencies_cmal: 0.08244, avg_total_loss: -10.28362\n",
      "# Epoch 15: 100%|██████████| 13/13 [00:25<00:00,  1.95s/it, Loss: -10.8394]\n",
      "2025-06-12 15:03:26,451: Epoch 15 average loss: avg_loss: -10.43171, avg_tie_frequencies_cmal: 0.08232, avg_total_loss: -10.34939\n",
      "# Validation: 100%|██████████| 1/1 [00:07<00:00,  7.07s/it]\n",
      "2025-06-12 15:03:33,544: Stored metrics at c:\\Project Files\\Alex\\neuralhydrology\\own\\MtslstmCMAL\\runs\\mtslstmcmal_basins_finetuned_1206_145638\\validation\\model_epoch015\\validation_metrics.csv\n",
      "2025-06-12 15:03:33,553: Stored results at c:\\Project Files\\Alex\\neuralhydrology\\own\\MtslstmCMAL\\runs\\mtslstmcmal_basins_finetuned_1206_145638\\validation\\model_epoch015\\validation_results.p\n",
      "2025-06-12 15:03:33,555: Current Learning Rate: 5e-05\n",
      "2025-06-12 15:03:33,556: Scheduler state after step - best: 30.441566\n",
      "2025-06-12 15:03:33,556: Scheduler state after step - num_bad_epochs: 2\n",
      "2025-06-12 15:03:33,558: Scheduler state after step - last_epoch: 3\n",
      "2025-06-12 15:03:33,559: \n",
      "2025-06-12 15:03:33,560: Epoch 15 average validation loss: 32.66282 -- Median validation metrics: avg_loss: 32.55512, avg_tie_frequencies_cmal: 0.10770, NSE_1h: 0.17293, NSE_1D: -0.05015\n",
      "# Epoch 16: 100%|██████████| 13/13 [00:25<00:00,  2.00s/it, Loss: -12.2478]\n",
      "2025-06-12 15:03:59,563: Epoch 16 average loss: avg_loss: -10.60263, avg_tie_frequencies_cmal: 0.08213, avg_total_loss: -10.52050\n",
      "# Epoch 17: 100%|██████████| 13/13 [00:25<00:00,  1.98s/it, Loss: -9.4048] \n",
      "2025-06-12 15:04:25,359: Epoch 17 average loss: avg_loss: -10.60418, avg_tie_frequencies_cmal: 0.08136, avg_total_loss: -10.52283\n",
      "# Epoch 18: 100%|██████████| 13/13 [00:25<00:00,  1.97s/it, Loss: -9.1499] \n",
      "2025-06-12 15:04:50,938: Epoch 18 average loss: avg_loss: -10.67773, avg_tie_frequencies_cmal: 0.08011, avg_total_loss: -10.59762\n",
      "# Epoch 19: 100%|██████████| 13/13 [00:25<00:00,  1.99s/it, Loss: -11.0958]\n",
      "2025-06-12 15:05:16,806: Epoch 19 average loss: avg_loss: -10.73445, avg_tie_frequencies_cmal: 0.07758, avg_total_loss: -10.65687\n",
      "# Epoch 20: 100%|██████████| 13/13 [00:27<00:00,  2.10s/it, Loss: -11.4427]\n",
      "2025-06-12 15:05:44,123: Epoch 20 average loss: avg_loss: -10.73704, avg_tie_frequencies_cmal: 0.07939, avg_total_loss: -10.65765\n",
      "# Validation: 100%|██████████| 1/1 [00:06<00:00,  6.71s/it]\n",
      "2025-06-12 15:05:50,837: Stored metrics at c:\\Project Files\\Alex\\neuralhydrology\\own\\MtslstmCMAL\\runs\\mtslstmcmal_basins_finetuned_1206_145638\\validation\\model_epoch020\\validation_metrics.csv\n",
      "2025-06-12 15:05:50,849: Stored results at c:\\Project Files\\Alex\\neuralhydrology\\own\\MtslstmCMAL\\runs\\mtslstmcmal_basins_finetuned_1206_145638\\validation\\model_epoch020\\validation_results.p\n",
      "2025-06-12 15:05:50,852: Current Learning Rate: 2.5e-05\n",
      "2025-06-12 15:05:50,852: Scheduler state after step - best: 30.441566\n",
      "2025-06-12 15:05:50,852: Scheduler state after step - num_bad_epochs: 0\n",
      "2025-06-12 15:05:50,854: Scheduler state after step - last_epoch: 4\n",
      "2025-06-12 15:05:50,854: \n",
      "2025-06-12 15:05:50,855: Epoch 20 average validation loss: 32.55585 -- Median validation metrics: avg_loss: 32.44823, avg_tie_frequencies_cmal: 0.10762, NSE_1h: 0.16589, NSE_1D: -0.05642\n",
      "# Epoch 21: 100%|██████████| 13/13 [00:27<00:00,  2.08s/it, Loss: -9.0956] \n",
      "2025-06-12 15:06:17,883: Epoch 21 average loss: avg_loss: -10.79822, avg_tie_frequencies_cmal: 0.07879, avg_total_loss: -10.71943\n",
      "# Epoch 22: 100%|██████████| 13/13 [00:26<00:00,  2.03s/it, Loss: -9.6740]\n",
      "2025-06-12 15:06:44,273: Epoch 22 average loss: avg_loss: -10.77105, avg_tie_frequencies_cmal: 0.07771, avg_total_loss: -10.69334\n",
      "# Epoch 23: 100%|██████████| 13/13 [00:26<00:00,  2.07s/it, Loss: -9.0411] \n",
      "2025-06-12 15:07:11,179: Epoch 23 average loss: avg_loss: -10.84199, avg_tie_frequencies_cmal: 0.07765, avg_total_loss: -10.76434\n",
      "# Epoch 24: 100%|██████████| 13/13 [00:27<00:00,  2.08s/it, Loss: -9.7509] \n",
      "2025-06-12 15:07:38,270: Epoch 24 average loss: avg_loss: -10.83439, avg_tie_frequencies_cmal: 0.07656, avg_total_loss: -10.75783\n",
      "# Epoch 25: 100%|██████████| 13/13 [00:27<00:00,  2.09s/it, Loss: -10.0948]\n",
      "2025-06-12 15:08:05,481: Epoch 25 average loss: avg_loss: -10.86805, avg_tie_frequencies_cmal: 0.07757, avg_total_loss: -10.79048\n",
      "# Validation: 100%|██████████| 1/1 [00:07<00:00,  7.19s/it]\n",
      "2025-06-12 15:08:12,700: Stored metrics at c:\\Project Files\\Alex\\neuralhydrology\\own\\MtslstmCMAL\\runs\\mtslstmcmal_basins_finetuned_1206_145638\\validation\\model_epoch025\\validation_metrics.csv\n",
      "2025-06-12 15:08:12,710: Stored results at c:\\Project Files\\Alex\\neuralhydrology\\own\\MtslstmCMAL\\runs\\mtslstmcmal_basins_finetuned_1206_145638\\validation\\model_epoch025\\validation_results.p\n",
      "2025-06-12 15:08:12,712: Current Learning Rate: 2.5e-05\n",
      "2025-06-12 15:08:12,714: Scheduler state after step - best: 30.441566\n",
      "2025-06-12 15:08:12,714: Scheduler state after step - num_bad_epochs: 1\n",
      "2025-06-12 15:08:12,715: Scheduler state after step - last_epoch: 5\n",
      "2025-06-12 15:08:12,716: \n",
      "2025-06-12 15:08:12,716: Epoch 25 average validation loss: 32.45217 -- Median validation metrics: avg_loss: 32.34555, avg_tie_frequencies_cmal: 0.10661, NSE_1h: 0.17077, NSE_1D: -0.06103\n",
      "# Epoch 26: 100%|██████████| 13/13 [00:32<00:00,  2.53s/it, Loss: -11.0970]\n",
      "2025-06-12 15:08:45,562: Epoch 26 average loss: avg_loss: -10.89643, avg_tie_frequencies_cmal: 0.07738, avg_total_loss: -10.81905\n",
      "# Epoch 27: 100%|██████████| 13/13 [00:30<00:00,  2.32s/it, Loss: -12.2284]\n",
      "2025-06-12 15:09:15,741: Epoch 27 average loss: avg_loss: -10.95176, avg_tie_frequencies_cmal: 0.07772, avg_total_loss: -10.87404\n",
      "# Epoch 28: 100%|██████████| 13/13 [00:27<00:00,  2.09s/it, Loss: -11.4252]\n",
      "2025-06-12 15:09:42,861: Epoch 28 average loss: avg_loss: -10.95019, avg_tie_frequencies_cmal: 0.07785, avg_total_loss: -10.87234\n",
      "# Epoch 29: 100%|██████████| 13/13 [00:28<00:00,  2.18s/it, Loss: -8.8208]\n",
      "2025-06-12 15:10:11,247: Epoch 29 average loss: avg_loss: -10.92279, avg_tie_frequencies_cmal: 0.07766, avg_total_loss: -10.84513\n",
      "# Epoch 30: 100%|██████████| 13/13 [00:27<00:00,  2.09s/it, Loss: -11.6921]\n",
      "2025-06-12 15:10:38,396: Epoch 30 average loss: avg_loss: -10.99566, avg_tie_frequencies_cmal: 0.07878, avg_total_loss: -10.91688\n",
      "# Validation: 100%|██████████| 1/1 [00:07<00:00,  7.18s/it]\n",
      "2025-06-12 15:10:45,589: Stored metrics at c:\\Project Files\\Alex\\neuralhydrology\\own\\MtslstmCMAL\\runs\\mtslstmcmal_basins_finetuned_1206_145638\\validation\\model_epoch030\\validation_metrics.csv\n",
      "2025-06-12 15:10:45,595: Stored results at c:\\Project Files\\Alex\\neuralhydrology\\own\\MtslstmCMAL\\runs\\mtslstmcmal_basins_finetuned_1206_145638\\validation\\model_epoch030\\validation_results.p\n",
      "2025-06-12 15:10:45,599: Current Learning Rate: 2.5e-05\n",
      "2025-06-12 15:10:45,599: Scheduler state after step - best: 30.441566\n",
      "2025-06-12 15:10:45,601: Scheduler state after step - num_bad_epochs: 2\n",
      "2025-06-12 15:10:45,602: Scheduler state after step - last_epoch: 6\n",
      "2025-06-12 15:10:45,602: \n",
      "2025-06-12 15:10:45,603: Epoch 30 average validation loss: 32.65731 -- Median validation metrics: avg_loss: 32.54853, avg_tie_frequencies_cmal: 0.10878, NSE_1h: 0.16640, NSE_1D: -0.04889\n",
      "# Epoch 31: 100%|██████████| 13/13 [00:26<00:00,  2.08s/it, Loss: -10.7231]\n",
      "2025-06-12 15:11:12,583: Epoch 31 average loss: avg_loss: -10.96206, avg_tie_frequencies_cmal: 0.07856, avg_total_loss: -10.88350\n",
      "# Epoch 32: 100%|██████████| 13/13 [00:25<00:00,  1.96s/it, Loss: -12.8059]\n",
      "2025-06-12 15:11:38,056: Epoch 32 average loss: avg_loss: -11.03120, avg_tie_frequencies_cmal: 0.07825, avg_total_loss: -10.95295\n",
      "# Epoch 33: 100%|██████████| 13/13 [00:26<00:00,  2.03s/it, Loss: -11.9691]\n",
      "2025-06-12 15:12:04,472: Epoch 33 average loss: avg_loss: -11.05263, avg_tie_frequencies_cmal: 0.07762, avg_total_loss: -10.97501\n",
      "# Epoch 34: 100%|██████████| 13/13 [00:25<00:00,  1.98s/it, Loss: -13.4922]\n",
      "2025-06-12 15:12:30,212: Epoch 34 average loss: avg_loss: -11.02740, avg_tie_frequencies_cmal: 0.07676, avg_total_loss: -10.95064\n",
      "# Epoch 35: 100%|██████████| 13/13 [00:25<00:00,  1.97s/it, Loss: -11.4740]\n",
      "2025-06-12 15:12:55,818: Epoch 35 average loss: avg_loss: -11.01153, avg_tie_frequencies_cmal: 0.07642, avg_total_loss: -10.93511\n",
      "# Validation: 100%|██████████| 1/1 [00:06<00:00,  6.92s/it]\n",
      "2025-06-12 15:13:02,747: Stored metrics at c:\\Project Files\\Alex\\neuralhydrology\\own\\MtslstmCMAL\\runs\\mtslstmcmal_basins_finetuned_1206_145638\\validation\\model_epoch035\\validation_metrics.csv\n",
      "2025-06-12 15:13:02,759: Stored results at c:\\Project Files\\Alex\\neuralhydrology\\own\\MtslstmCMAL\\runs\\mtslstmcmal_basins_finetuned_1206_145638\\validation\\model_epoch035\\validation_results.p\n",
      "2025-06-12 15:13:02,760: Current Learning Rate: 1.25e-05\n",
      "2025-06-12 15:13:02,761: Scheduler state after step - best: 30.441566\n",
      "2025-06-12 15:13:02,762: Scheduler state after step - num_bad_epochs: 0\n",
      "2025-06-12 15:13:02,764: Scheduler state after step - last_epoch: 7\n",
      "2025-06-12 15:13:02,765: \n",
      "2025-06-12 15:13:02,766: Epoch 35 average validation loss: 32.40794 -- Median validation metrics: avg_loss: 32.30120, avg_tie_frequencies_cmal: 0.10675, NSE_1h: 0.17293, NSE_1D: -0.05193\n",
      "# Epoch 36: 100%|██████████| 13/13 [00:26<00:00,  2.02s/it, Loss: -14.7189]\n",
      "2025-06-12 15:13:29,004: Epoch 36 average loss: avg_loss: -11.05134, avg_tie_frequencies_cmal: 0.07671, avg_total_loss: -10.97463\n",
      "# Epoch 37: 100%|██████████| 13/13 [00:26<00:00,  2.00s/it, Loss: -10.1076]\n",
      "2025-06-12 15:13:55,081: Epoch 37 average loss: avg_loss: -11.06116, avg_tie_frequencies_cmal: 0.07581, avg_total_loss: -10.98535\n",
      "# Epoch 38: 100%|██████████| 13/13 [00:26<00:00,  2.04s/it, Loss: -11.5723]\n",
      "2025-06-12 15:14:21,571: Epoch 38 average loss: avg_loss: -11.13371, avg_tie_frequencies_cmal: 0.07662, avg_total_loss: -11.05710\n",
      "# Epoch 39: 100%|██████████| 13/13 [00:25<00:00,  2.00s/it, Loss: -14.0436]\n",
      "2025-06-12 15:14:47,578: Epoch 39 average loss: avg_loss: -11.12439, avg_tie_frequencies_cmal: 0.07648, avg_total_loss: -11.04791\n",
      "# Epoch 40: 100%|██████████| 13/13 [00:25<00:00,  1.97s/it, Loss: -9.9115] \n",
      "2025-06-12 15:15:13,179: Epoch 40 average loss: avg_loss: -11.05553, avg_tie_frequencies_cmal: 0.07657, avg_total_loss: -10.97897\n",
      "# Validation: 100%|██████████| 1/1 [00:07<00:00,  7.61s/it]\n",
      "2025-06-12 15:15:20,814: Stored metrics at c:\\Project Files\\Alex\\neuralhydrology\\own\\MtslstmCMAL\\runs\\mtslstmcmal_basins_finetuned_1206_145638\\validation\\model_epoch040\\validation_metrics.csv\n",
      "2025-06-12 15:15:20,823: Stored results at c:\\Project Files\\Alex\\neuralhydrology\\own\\MtslstmCMAL\\runs\\mtslstmcmal_basins_finetuned_1206_145638\\validation\\model_epoch040\\validation_results.p\n",
      "2025-06-12 15:15:20,825: Current Learning Rate: 1.25e-05\n",
      "2025-06-12 15:15:20,826: Scheduler state after step - best: 30.441566\n",
      "2025-06-12 15:15:20,827: Scheduler state after step - num_bad_epochs: 1\n",
      "2025-06-12 15:15:20,828: Scheduler state after step - last_epoch: 8\n",
      "2025-06-12 15:15:20,829: \n",
      "2025-06-12 15:15:20,829: Epoch 40 average validation loss: 32.58556 -- Median validation metrics: avg_loss: 32.47882, avg_tie_frequencies_cmal: 0.10674, NSE_1h: 0.16659, NSE_1D: -0.05003\n",
      "# Epoch 41: 100%|██████████| 13/13 [00:26<00:00,  2.04s/it, Loss: -9.1192] \n",
      "2025-06-12 15:15:47,390: Epoch 41 average loss: avg_loss: -11.04580, avg_tie_frequencies_cmal: 0.07687, avg_total_loss: -10.96893\n",
      "# Epoch 42: 100%|██████████| 13/13 [00:26<00:00,  2.01s/it, Loss: -11.7929]\n",
      "2025-06-12 15:16:13,508: Epoch 42 average loss: avg_loss: -11.21939, avg_tie_frequencies_cmal: 0.07694, avg_total_loss: -11.14245\n",
      "# Epoch 43: 100%|██████████| 13/13 [00:25<00:00,  1.96s/it, Loss: -10.5032]\n",
      "2025-06-12 15:16:38,942: Epoch 43 average loss: avg_loss: -11.04985, avg_tie_frequencies_cmal: 0.07608, avg_total_loss: -10.97377\n",
      "# Epoch 44: 100%|██████████| 13/13 [00:25<00:00,  1.97s/it, Loss: -14.2159]\n",
      "2025-06-12 15:17:04,535: Epoch 44 average loss: avg_loss: -11.16668, avg_tie_frequencies_cmal: 0.07643, avg_total_loss: -11.09025\n",
      "# Epoch 45: 100%|██████████| 13/13 [00:25<00:00,  1.98s/it, Loss: -13.1801]\n",
      "2025-06-12 15:17:30,346: Epoch 45 average loss: avg_loss: -11.11568, avg_tie_frequencies_cmal: 0.07638, avg_total_loss: -11.03930\n",
      "# Validation: 100%|██████████| 1/1 [00:06<00:00,  6.95s/it]\n",
      "2025-06-12 15:17:37,305: Stored metrics at c:\\Project Files\\Alex\\neuralhydrology\\own\\MtslstmCMAL\\runs\\mtslstmcmal_basins_finetuned_1206_145638\\validation\\model_epoch045\\validation_metrics.csv\n",
      "2025-06-12 15:17:37,320: Stored results at c:\\Project Files\\Alex\\neuralhydrology\\own\\MtslstmCMAL\\runs\\mtslstmcmal_basins_finetuned_1206_145638\\validation\\model_epoch045\\validation_results.p\n",
      "2025-06-12 15:17:37,322: Current Learning Rate: 1.25e-05\n",
      "2025-06-12 15:17:37,323: Scheduler state after step - best: 30.441566\n",
      "2025-06-12 15:17:37,324: Scheduler state after step - num_bad_epochs: 2\n",
      "2025-06-12 15:17:37,325: Scheduler state after step - last_epoch: 9\n",
      "2025-06-12 15:17:37,326: \n",
      "2025-06-12 15:17:37,327: Epoch 45 average validation loss: 32.55247 -- Median validation metrics: avg_loss: 32.44518, avg_tie_frequencies_cmal: 0.10729, NSE_1h: 0.16617, NSE_1D: -0.04692\n",
      "# Epoch 46: 100%|██████████| 13/13 [00:27<00:00,  2.15s/it, Loss: -11.2028]\n",
      "2025-06-12 15:18:05,268: Epoch 46 average loss: avg_loss: -11.14109, avg_tie_frequencies_cmal: 0.07700, avg_total_loss: -11.06408\n",
      "# Epoch 47: 100%|██████████| 13/13 [00:27<00:00,  2.09s/it, Loss: -9.7160] \n",
      "2025-06-12 15:18:32,461: Epoch 47 average loss: avg_loss: -11.14555, avg_tie_frequencies_cmal: 0.07604, avg_total_loss: -11.06952\n",
      "# Epoch 48: 100%|██████████| 13/13 [00:26<00:00,  2.06s/it, Loss: -11.3634]\n",
      "2025-06-12 15:18:59,251: Epoch 48 average loss: avg_loss: -11.19007, avg_tie_frequencies_cmal: 0.07546, avg_total_loss: -11.11460\n",
      "# Epoch 49: 100%|██████████| 13/13 [00:27<00:00,  2.08s/it, Loss: -7.2738]\n",
      "2025-06-12 15:19:26,282: Epoch 49 average loss: avg_loss: -11.06628, avg_tie_frequencies_cmal: 0.07561, avg_total_loss: -10.99066\n",
      "# Epoch 50: 100%|██████████| 13/13 [00:27<00:00,  2.12s/it, Loss: -8.8396]\n",
      "2025-06-12 15:19:53,845: Epoch 50 average loss: avg_loss: -11.07653, avg_tie_frequencies_cmal: 0.07629, avg_total_loss: -11.00024\n",
      "# Validation: 100%|██████████| 1/1 [00:07<00:00,  7.48s/it]\n",
      "2025-06-12 15:20:01,334: Stored metrics at c:\\Project Files\\Alex\\neuralhydrology\\own\\MtslstmCMAL\\runs\\mtslstmcmal_basins_finetuned_1206_145638\\validation\\model_epoch050\\validation_metrics.csv\n",
      "2025-06-12 15:20:01,343: Stored results at c:\\Project Files\\Alex\\neuralhydrology\\own\\MtslstmCMAL\\runs\\mtslstmcmal_basins_finetuned_1206_145638\\validation\\model_epoch050\\validation_results.p\n",
      "2025-06-12 15:20:01,345: Current Learning Rate: 6.25e-06\n",
      "2025-06-12 15:20:01,345: Scheduler state after step - best: 30.441566\n",
      "2025-06-12 15:20:01,345: Scheduler state after step - num_bad_epochs: 0\n",
      "2025-06-12 15:20:01,347: Scheduler state after step - last_epoch: 10\n",
      "2025-06-12 15:20:01,348: \n",
      "2025-06-12 15:20:01,349: Epoch 50 average validation loss: 32.56281 -- Median validation metrics: avg_loss: 32.45681, avg_tie_frequencies_cmal: 0.10600, NSE_1h: 0.16923, NSE_1D: -0.05443\n"
     ]
    }
   ],
   "source": [
    "finetune(Path(\"finetune.yml\"))"
   ]
  },
  {
   "cell_type": "code",
   "execution_count": 16,
   "id": "24812d4d",
   "metadata": {},
   "outputs": [
    {
     "name": "stdout",
     "output_type": "stream",
     "text": [
      "2025-06-12 15:22:12,197: No specific hidden size for frequencies are specified. Same hidden size is used for all.\n",
      "2025-06-12 15:22:12,237: Using the model weights from runs\\mtslstmcmal_basins_finetuned_1206_145638\\model_epoch050.pt\n"
     ]
    },
    {
     "name": "stderr",
     "output_type": "stream",
     "text": [
      "c:\\project files\\alex\\neuralhydrology\\neuralhydrology\\evaluation\\tester.py:143: FutureWarning: You are using `torch.load` with `weights_only=False` (the current default value), which uses the default pickle module implicitly. It is possible to construct malicious pickle data which will execute arbitrary code during unpickling (See https://github.com/pytorch/pytorch/blob/main/SECURITY.md#untrusted-models for more details). In a future release, the default value for `weights_only` will be flipped to `True`. This limits the functions that could be executed during unpickling. Arbitrary objects will no longer be allowed to be loaded via this mode unless they are explicitly allowlisted by the user via `torch.serialization.add_safe_globals`. We recommend you start setting `weights_only=True` for any use case where you don't have full control of the loaded file. Please open an issue on GitHub for any issues related to this experimental feature.\n",
      "  self.model.load_state_dict(torch.load(weight_file, map_location=self.device))\n"
     ]
    },
    {
     "name": "stdout",
     "output_type": "stream",
     "text": [
      "# Evaluation:   0%|          | 0/1 [00:00<?, ?it/s]2025-06-12 15:22:12,385: ## Warning: Hourly nldas_hourly NetCDF file not found. Falling back to slower csv files.\n",
      "# Evaluation: 100%|██████████| 1/1 [00:21<00:00, 21.83s/it]\n",
      "2025-06-12 15:22:34,093: Stored metrics at runs\\mtslstmcmal_basins_finetuned_1206_145638\\test\\model_epoch050\\test_metrics.csv\n",
      "2025-06-12 15:22:34,112: Stored results at runs\\mtslstmcmal_basins_finetuned_1206_145638\\test\\model_epoch050\\test_results.p\n"
     ]
    }
   ],
   "source": [
    "finetune_dir = Path(\"runs/mtslstmcmal_basins_finetuned_1206_145638\")\n",
    "eval_run(finetune_dir, period=\"test\")"
   ]
  },
  {
   "cell_type": "code",
   "execution_count": 19,
   "id": "9e58d63a",
   "metadata": {},
   "outputs": [
    {
     "name": "stdout",
     "output_type": "stream",
     "text": [
      "Basin 12048000 base model performance: 0.281\n",
      "Performance after finetuning: 0.189\n"
     ]
    }
   ],
   "source": [
    "# load test results of the base run\n",
    "df_pretrained = pd.read_csv(run_dir / \"test/model_epoch050/test_metrics.csv\", dtype={'basin': str})\n",
    "df_pretrained = df_pretrained.set_index(\"basin\")\n",
    "    \n",
    "# load test results of the finetuned model\n",
    "df_finetuned = pd.read_csv(finetune_dir / \"test/model_epoch050/test_metrics.csv\", dtype={'basin': str})\n",
    "df_finetuned = df_finetuned.set_index(\"basin\")\n",
    "    \n",
    "# extract basin performance\n",
    "base_model_nse = df_pretrained.loc[df_pretrained.index == basin, \"NSE_1D\"].values[0]\n",
    "finetune_nse = df_finetuned.loc[df_finetuned.index == basin, \"NSE_1D\"].values[0]\n",
    "print(f\"Basin {basin} base model performance: {base_model_nse:.3f}\")\n",
    "print(f\"Performance after finetuning: {finetune_nse:.3f}\")"
   ]
  }
 ],
 "metadata": {
  "kernelspec": {
   "display_name": "neuralhydrology",
   "language": "python",
   "name": "python3"
  },
  "language_info": {
   "codemirror_mode": {
    "name": "ipython",
    "version": 3
   },
   "file_extension": ".py",
   "mimetype": "text/x-python",
   "name": "python",
   "nbconvert_exporter": "python",
   "pygments_lexer": "ipython3",
   "version": "3.10.16"
  }
 },
 "nbformat": 4,
 "nbformat_minor": 5
}
